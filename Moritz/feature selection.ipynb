{
 "cells": [
  {
   "cell_type": "code",
   "execution_count": 52,
   "id": "2d37a17a",
   "metadata": {},
   "outputs": [],
   "source": [
    "import numpy as np\n",
    "import pandas as pd\n",
    "from scipy import stats\n",
    "from sklearn.linear_model import Ridge, Lasso, ElasticNet, LinearRegression\n",
    "import plotly.express as px\n",
    "import matplotlib.pyplot as plt\n",
    "import plotly.graph_objects as go\n",
    "from sklearn.model_selection import train_test_split\n",
    "from sklearn.model_selection import GridSearchCV\n",
    "from sklearn.model_selection import KFold, StratifiedKFold\n",
    "from sklearn.model_selection import cross_val_score\n",
    "\n",
    "from sklearn import ensemble\n",
    "from sklearn.model_selection import train_test_split\n",
    "from sklearn.model_selection import GridSearchCV\n",
    "import time\n",
    "\n",
    "from catboost import CatBoostRegressor\n",
    "\n",
    "import re\n",
    "\n",
    "from statsmodels.stats.outliers_influence import variance_inflation_factor\n"
   ]
  },
  {
   "cell_type": "code",
   "execution_count": 53,
   "id": "aa9e0c43",
   "metadata": {},
   "outputs": [],
   "source": [
    "pd.set_option('display.max_rows', 500)"
   ]
  },
  {
   "cell_type": "code",
   "execution_count": 54,
   "id": "02612635",
   "metadata": {},
   "outputs": [],
   "source": [
    "df = pd.read_csv('./../data/ames_housing_price_data_v4.csv')"
   ]
  },
  {
   "cell_type": "code",
   "execution_count": 55,
   "id": "51aa6f13",
   "metadata": {},
   "outputs": [],
   "source": [
    "def seasonal_adjust(df, mo_avg):\n",
    "    df['SalePrice_adj'] = 0 * len(df)\n",
    "    for i in range(len(df)):\n",
    "        price_norm = mo_avg\n",
    "        df.loc[i, 'SalePrice_adj'] = (df.loc[i, 'SalePrice']) / mo_avg.loc[df.loc[i, 'MoSold'], 'monthly_avg_ratio']\n",
    "    return df"
   ]
  },
  {
   "cell_type": "code",
   "execution_count": 56,
   "id": "4d78cb8b",
   "metadata": {},
   "outputs": [],
   "source": [
    "mo_avg = df.groupby('MoSold').agg(monthly_avg = ('SalePrice', 'mean'), monthly_sd = ('SalePrice', 'std'))"
   ]
  },
  {
   "cell_type": "code",
   "execution_count": 57,
   "id": "b48ff468",
   "metadata": {},
   "outputs": [],
   "source": [
    "mo_avg['monthly_avg_ratio'] = mo_avg['monthly_avg'] / np.mean(df['SalePrice'])"
   ]
  },
  {
   "cell_type": "code",
   "execution_count": 58,
   "id": "703b90a6",
   "metadata": {},
   "outputs": [],
   "source": [
    "df = seasonal_adjust(df, mo_avg)"
   ]
  },
  {
   "cell_type": "code",
   "execution_count": 59,
   "id": "af93c323",
   "metadata": {},
   "outputs": [],
   "source": [
    "df['SalePrice_adj_log'] = np.log10(df['SalePrice_adj'])"
   ]
  },
  {
   "cell_type": "code",
   "execution_count": 60,
   "id": "de5d5f7e",
   "metadata": {},
   "outputs": [],
   "source": [
    "#exclude weird sale types"
   ]
  },
  {
   "cell_type": "code",
   "execution_count": 61,
   "id": "df9d0c8b",
   "metadata": {},
   "outputs": [
    {
     "data": {
      "text/plain": [
       "Normal     2413\n",
       "Partial      82\n",
       "Abnorml      61\n",
       "Family       17\n",
       "Alloca        4\n",
       "AdjLand       2\n",
       "Name: SaleCondition, dtype: int64"
      ]
     },
     "execution_count": 61,
     "metadata": {},
     "output_type": "execute_result"
    }
   ],
   "source": [
    "df['SaleCondition'].value_counts()"
   ]
  },
  {
   "cell_type": "code",
   "execution_count": 62,
   "id": "a06e602b",
   "metadata": {},
   "outputs": [],
   "source": [
    "df=df[(df['SaleCondition']=='Normal') | (df['SaleCondition']=='Partial')]"
   ]
  },
  {
   "cell_type": "code",
   "execution_count": 63,
   "id": "f2dd85ba",
   "metadata": {},
   "outputs": [],
   "source": [
    "price = df['SalePrice']\n",
    "price_log = df['SalePrice_log']\n",
    "price_adj = df['SalePrice_adj']\n",
    "price_adj_log = df['SalePrice_adj_log']"
   ]
  },
  {
   "cell_type": "code",
   "execution_count": 64,
   "id": "476ed23b",
   "metadata": {},
   "outputs": [
    {
     "data": {
      "text/plain": [
       "['SalePrice_log',\n",
       " 'LotFrontage_log',\n",
       " 'LotArea_log',\n",
       " '1stFlrSF_log',\n",
       " '2ndFlrSF_log',\n",
       " 'GrLivArea_log',\n",
       " 'SalePrice_adj_log']"
      ]
     },
     "execution_count": 64,
     "metadata": {},
     "output_type": "execute_result"
    }
   ],
   "source": [
    "log_cols = []\n",
    "for col in df.columns:\n",
    "    if '_log' in col:\n",
    "        log_cols.append(col)\n",
    "log_cols"
   ]
  },
  {
   "cell_type": "code",
   "execution_count": 65,
   "id": "e8bc0772",
   "metadata": {},
   "outputs": [],
   "source": [
    "to_dummify = [\n",
    "    'Street_paved',\n",
    "    'Alley',\n",
    "    'LandContour',\n",
    "    'Utilities',\n",
    "    'LandSlope',\n",
    "    'Neighborhood',\n",
    "    'BldgType',\n",
    "    #'OverallQual',\n",
    "    #'OverallCond',\n",
    "    'RoofStyle',\n",
    "    'RoofMatl',\n",
    "    'MasVnrType',\n",
    "    #'ExterQual',\n",
    "    #'ExterCond',\n",
    "    'Foundation',\n",
    "    'CentralAir',\n",
    "    #'KitchenQual',\n",
    "    #'FireplaceQu',\n",
    "    'GarageFinish',\n",
    "    #'GarageQual',\n",
    "    #'GarageCond',\n",
    "    'PavedDrive',\n",
    "    #'PoolQC',\n",
    "    'Fence',\n",
    "    'MiscFeature',\n",
    "    #'MoSold',#\n",
    "    #'HeatingQC_ord',\n",
    "    'LotShape_com',\n",
    "    'MSZoning_com',\n",
    "    'Heating_com',\n",
    "    'Electrical_com',\n",
    "    'LotConfig_com',\n",
    "    #'BsmtCond_ord',\n",
    "    #'BsmtQual_ord',\n",
    "    'BsmtExposure_ord',\n",
    "    'GarageType_com',\n",
    "    #'number_floors',\n",
    "    'attic',\n",
    "    'PUD',\n",
    "    #'Functional_ord',\n",
    "    'Garage_age_bin',\n",
    "    'Remod_age_bin',\n",
    "    'SaleType',#\n",
    "    'SaleCondition' #\n",
    "]"
   ]
  },
  {
   "cell_type": "code",
   "execution_count": 66,
   "id": "bd8b677c",
   "metadata": {},
   "outputs": [],
   "source": [
    "df = pd.get_dummies(df, columns = to_dummify, drop_first = True)"
   ]
  },
  {
   "cell_type": "code",
   "execution_count": 67,
   "id": "cfc18b1d",
   "metadata": {},
   "outputs": [],
   "source": [
    "avg_price_df=pd.read_csv('../data/house_surrounding_avg_prices.csv')\n",
    "avg_price_df2=avg_price_df[['PID','AvgPrice-0.5']].drop_duplicates() #,'AvgPrice-0.25'\n",
    "\n",
    "feature_df=pd.read_csv('../data/house_coordinates_1.0.csv')\n",
    "feature_df=feature_df.drop(['Address','Coords4','latitude','longitude'],axis=1)\n",
    "\n",
    "df3=df.merge(avg_price_df2,how='left')\n",
    "df3=df3.merge(feature_df, how='left')"
   ]
  },
  {
   "cell_type": "code",
   "execution_count": 68,
   "id": "82556fde",
   "metadata": {},
   "outputs": [
    {
     "data": {
      "text/plain": [
       "(2495, 327)"
      ]
     },
     "execution_count": 68,
     "metadata": {},
     "output_type": "execute_result"
    }
   ],
   "source": [
    "df3.shape"
   ]
  },
  {
   "cell_type": "code",
   "execution_count": 69,
   "id": "5f8c096c",
   "metadata": {},
   "outputs": [],
   "source": [
    "model = ensemble.RandomForestRegressor()\n",
    "\n",
    "droplist = ['SaleType', 'SaleCondition', 'Garage_age_years', 'Remod_age_years', 'MoSold']\n",
    "alwaysdrop = ['PID', 'SalePrice', 'SalePrice_log', 'SalePrice_adj', 'SalePrice_adj_log', 'sold_datetime']\n",
    "price = df['SalePrice']\n",
    "df3 = df3.drop((alwaysdrop), axis = 1) #+ droplist\n",
    "df3=df3.fillna(0)\n",
    "x_train, x_test, y_train, y_test = train_test_split(df3, price, test_size=0.3)"
   ]
  },
  {
   "cell_type": "code",
   "execution_count": 35,
   "id": "0ed9029c",
   "metadata": {},
   "outputs": [
    {
     "name": "stdout",
     "output_type": "stream",
     "text": [
      "CPU times: user 21.4 s, sys: 133 ms, total: 21.5 s\n",
      "Wall time: 21.5 s\n",
      "0.980326766068441\n",
      "0.8801611752741914\n"
     ]
    }
   ],
   "source": [
    "model.set_params(min_samples_leaf=2,min_samples_split=2,max_features=50,n_estimators=3000)\n",
    "%time model.fit(x_train,y_train)\n",
    "print(model.score(x_train, y_train))\n",
    "print(model.score(x_test, y_test))\n",
    "features_importance=pd.DataFrame({'Features':x_train.columns,'Score':model.feature_importances_}).sort_values('Score')"
   ]
  },
  {
   "cell_type": "code",
   "execution_count": 36,
   "id": "c2e94dee",
   "metadata": {},
   "outputs": [
    {
     "data": {
      "text/plain": [
       "(2495, 134)"
      ]
     },
     "execution_count": 36,
     "metadata": {},
     "output_type": "execute_result"
    }
   ],
   "source": [
    "features_filtered=features_importance[features_importance['Score']<0.0003]\n",
    "\n",
    "droplist = list(features_filtered['Features'])\n",
    "\n",
    "df4 = df3.drop(droplist, axis = 1) #+ droplist\n",
    "\n",
    "df4.shape"
   ]
  },
  {
   "cell_type": "code",
   "execution_count": 197,
   "id": "4fa8f1a7",
   "metadata": {},
   "outputs": [
    {
     "data": {
      "text/plain": [
       "GridSearchCV(cv=5,\n",
       "             estimator=<catboost.core.CatBoostRegressor object at 0x7fb859de46d0>,\n",
       "             n_jobs=-1, param_grid={'n_estimators': [4000]})"
      ]
     },
     "execution_count": 197,
     "metadata": {},
     "output_type": "execute_result"
    }
   ],
   "source": [
    "clf = CatBoostRegressor(learning_rate=0.05, subsample=0.9, logging_level='Silent',max_depth=4, random_state=0)\n",
    "\n",
    "params = ({'n_estimators':[4000]})\n",
    "\n",
    "grid_search_cat = GridSearchCV(clf, param_grid=params, cv=5, n_jobs=-1)\n",
    "grid_search_cat.fit(x_train, y_train)\n",
    "\n",
    "#'LotArea', 'OverallQual', 'OverallCond', 'ExterQual', 'BsmtUnfSF','TotalBsmtSF', 'GrLivArea_log', 'house_age_years', '7228_farmyard','8200_water'"
   ]
  },
  {
   "cell_type": "code",
   "execution_count": 198,
   "id": "4ffb3192",
   "metadata": {},
   "outputs": [
    {
     "data": {
      "text/plain": [
       "0.9218493879696348"
      ]
     },
     "execution_count": 198,
     "metadata": {},
     "output_type": "execute_result"
    }
   ],
   "source": [
    "grid_search_cat.score(x_test, y_test)"
   ]
  },
  {
   "cell_type": "code",
   "execution_count": 155,
   "id": "1ee2f97a",
   "metadata": {},
   "outputs": [
    {
     "data": {
      "text/plain": [
       "0.9495040832990003"
      ]
     },
     "execution_count": 155,
     "metadata": {},
     "output_type": "execute_result"
    }
   ],
   "source": [
    "0.9495040832990003"
   ]
  },
  {
   "cell_type": "code",
   "execution_count": null,
   "id": "020bfe45",
   "metadata": {},
   "outputs": [
    {
     "name": "stdout",
     "output_type": "stream",
     "text": [
      "1 columns removed: BSMT_GLQ, best score is 0.9119593122710785; time is 2021-08-31 11:31:15.026707\n",
      "2 columns removed: GrLivArea, best score is 0.9405882494199279; time is 2021-08-31 11:38:01.048564\n",
      "3 columns removed: GarageType_com_Detached, best score is 0.9426470864440233; time is 2021-08-31 11:44:41.890901\n",
      "4 columns removed: GarageQual, best score is 0.9345638149037638; time is 2021-08-31 11:51:35.279496\n",
      "5 columns removed: ScreenPorch, best score is 0.942938230782678; time is 2021-08-31 11:58:39.386850\n",
      "6 columns removed: 7218_grass, best score is 0.9070830732291352; time is 2021-08-31 12:05:06.015257\n",
      "7 columns removed: GarageCars, best score is 0.9337313825563965; time is 2021-08-31 12:11:06.847216\n",
      "8 columns removed: 2421_shelter, best score is 0.8847652110576989; time is 2021-08-31 12:17:49.559041\n",
      "9 columns removed: LotFrontage, best score is 0.9033638824830923; time is 2021-08-31 12:24:30.991323\n",
      "10 columns removed: GarageType_com_Attached, best score is 0.8889018275358712; time is 2021-08-31 12:30:31.988161\n",
      "11 columns removed: 2303_cafe, best score is 0.937281950432396; time is 2021-08-31 12:36:10.755107\n",
      "12 columns removed: WoodDeckSF, best score is 0.936010634477451; time is 2021-08-31 12:41:59.680995\n",
      "13 columns removed: ExterQual, best score is 0.9437811644299942; time is 2021-08-31 12:47:19.597402\n",
      "14 columns removed: 2952_water_tower, best score is 0.9357787851786528; time is 2021-08-31 12:52:59.088622\n",
      "15 columns removed: BsmtUnfSF, best score is 0.9372373428637297; time is 2021-08-31 12:58:31.062823\n",
      "16 columns removed: 1stFlrSF_log, best score is 0.9313911942122121; time is 2021-08-31 13:03:23.343721\n",
      "17 columns removed: HeatingQC_ord, best score is 0.889761763825868; time is 2021-08-31 13:08:07.028180\n",
      "18 columns removed: 2724_memorial, best score is 0.9524387868743288; time is 2021-08-31 13:13:03.356189\n",
      "19 columns removed: BedroomAbvGr, best score is 0.9398457305683284; time is 2021-08-31 13:17:58.264150\n",
      "20 columns removed: RoofStyle_Hip, best score is 0.9051911471616443; time is 2021-08-31 13:23:08.055462\n",
      "21 columns removed: 2258_track, best score is 0.9436708414608669; time is 2021-08-31 13:28:14.597844\n",
      "22 columns removed: 7209_commercial, best score is 0.9273215193503239; time is 2021-08-31 13:33:01.030217\n",
      "23 columns removed: TotalBsmtSF, best score is 0.930064593738047; time is 2021-08-31 13:37:18.470367\n",
      "24 columns removed: 1stFlrSF, best score is 0.9286290048420909; time is 2021-08-31 13:41:37.524870\n",
      "25 columns removed: AvgPrice-0.5, best score is 0.9260576504281128; time is 2021-08-31 13:45:57.320377\n",
      "26 columns removed: OpenPorchSF, best score is 0.9367834795986039; time is 2021-08-31 13:50:07.918017\n",
      "27 columns removed: 2ndFlrSF, best score is 0.9246927095780617; time is 2021-08-31 13:54:06.001410\n",
      "28 columns removed: KitchenQual, best score is 0.919943029273224; time is 2021-08-31 13:57:51.881831\n",
      "29 columns removed: BSMT_ALQ, best score is 0.9039428356930795; time is 2021-08-31 14:01:40.286394\n",
      "30 columns removed: 2ndFlrSF_log, best score is 0.9325711597156328; time is 2021-08-31 14:05:32.085843\n",
      "31 columns removed: 2902_bench, best score is 0.9203789961978652; time is 2021-08-31 14:08:49.098000\n",
      "32 columns removed: CentralAir_Y, best score is 0.90481538068344; time is 2021-08-31 14:12:03.470929\n",
      "33 columns removed: Fireplaces, best score is 0.9186670548088147; time is 2021-08-31 14:15:37.224988\n",
      "34 columns removed: 2120_doctors, best score is 0.9028948192948199; time is 2021-08-31 14:19:18.051306\n",
      "35 columns removed: LotArea_log, best score is 0.8977807419917465; time is 2021-08-31 14:22:35.869164\n",
      "36 columns removed: 5206_motorway_junction, best score is 0.9269797508785783; time is 2021-08-31 14:25:46.274005\n",
      "37 columns removed: YrSold, best score is 0.9139455525548613; time is 2021-08-31 14:28:54.376635\n",
      "38 columns removed: BsmtCond_ord, best score is 0.8970451165421468; time is 2021-08-31 14:32:02.680830\n",
      "39 columns removed: GarageFinish_Unf, best score is 0.9186431728648541; time is 2021-08-31 14:35:08.193441\n",
      "40 columns removed: LotArea, best score is 0.8970093195394749; time is 2021-08-31 14:38:16.655188\n",
      "41 columns removed: 5250_fuel, best score is 0.9218695061127898; time is 2021-08-31 14:41:05.869375\n",
      "42 columns removed: 8221_wetland, best score is 0.8891991759505418; time is 2021-08-31 14:44:02.772588\n",
      "43 columns removed: 2001_police, best score is 0.8807894255681338; time is 2021-08-31 14:46:47.173622\n",
      "44 columns removed: LotFrontage_log, best score is 0.9289451399763373; time is 2021-08-31 14:49:27.316390\n",
      "45 columns removed: MasVnrArea, best score is 0.9219109395979359; time is 2021-08-31 14:52:02.439699\n",
      "46 columns removed: 2204_park, best score is 0.920553066344877; time is 2021-08-31 14:54:32.588675\n",
      "47 columns removed: 2907_camera_surveillance, best score is 0.8853534258920704; time is 2021-08-31 14:57:01.363438\n",
      "48 columns removed: 2602_atm, best score is 0.917691074281832; time is 2021-08-31 14:59:28.866119\n",
      "49 columns removed: 2253_swimming_pool, best score is 0.9059739521591604; time is 2021-08-31 15:01:53.977253\n",
      "50 columns removed: 2601_bank, best score is 0.892147067136148; time is 2021-08-31 15:04:15.081621\n",
      "51 columns removed: Neighborhood_StoneBr, best score is 0.9187224636464943; time is 2021-08-31 15:06:37.597991\n",
      "52 columns removed: 5204_crossing, best score is 0.9146047325467321; time is 2021-08-31 15:09:00.813746\n",
      "53 columns removed: Foundation_PConc, best score is 0.8944702717721926; time is 2021-08-31 15:11:13.754205\n",
      "54 columns removed: TotRmsAbvGrd, best score is 0.9247449624036616; time is 2021-08-31 15:13:20.961494\n",
      "55 columns removed: 5207_turning_circle, best score is 0.8983048356829829; time is 2021-08-31 15:15:25.313125\n",
      "56 columns removed: 7201_forest, best score is 0.8949128107296447; time is 2021-08-31 15:17:26.292427\n",
      "57 columns removed: Remod_age_years, best score is 0.9281548897240514; time is 2021-08-31 15:19:22.143775\n",
      "58 columns removed: 5621_bus_stop, best score is 0.8943600574179249; time is 2021-08-31 15:21:16.363430\n",
      "59 columns removed: MoSold, best score is 0.9337136148211151; time is 2021-08-31 15:23:13.447193\n",
      "60 columns removed: 5260_parking, best score is 0.9181986046310004; time is 2021-08-31 15:25:07.036691\n",
      "61 columns removed: FireplaceQu, best score is 0.8787552305509548; time is 2021-08-31 15:26:57.785723\n",
      "62 columns removed: MasVnrType_Stone, best score is 0.9263062921854656; time is 2021-08-31 15:28:49.890709\n",
      "63 columns removed: 2904_fountain, best score is 0.929971829224072; time is 2021-08-31 15:30:33.874666\n",
      "64 columns removed: 7229_farmland, best score is 0.9234071901826392; time is 2021-08-31 15:32:06.631360\n",
      "65 columns removed: GarageArea, best score is 0.9298406686577425; time is 2021-08-31 15:33:38.193293\n",
      "66 columns removed: 8200_water, best score is 0.8829273897144332; time is 2021-08-31 15:35:05.438262\n",
      "67 columns removed: 4121_tree, best score is 0.8887505729434606; time is 2021-08-31 15:36:30.196816\n",
      "68 columns removed: 2903_drinking_water, best score is 0.9357121126145024; time is 2021-08-31 15:37:51.918335\n",
      "69 columns removed: LandContour_Level, best score is 0.8806188919046113; time is 2021-08-31 15:39:14.960547\n",
      "70 columns removed: 5201_traffic_signals, best score is 0.9209717747266698; time is 2021-08-31 15:40:31.325829\n",
      "71 columns removed: BsmtExposure_ord_4, best score is 0.9192846819310042; time is 2021-08-31 15:41:46.321182\n",
      "72 columns removed: BsmtQual_ord, best score is 0.8949408717271653; time is 2021-08-31 15:42:59.205676\n",
      "73 columns removed: Remod_age_bin_No remodel, best score is 0.9156913457590006; time is 2021-08-31 15:44:09.243276\n",
      "74 columns removed: 3100_christian, best score is 0.8939496925352447; time is 2021-08-31 15:45:18.904780\n",
      "75 columns removed: ext_Vinyl_Siding, best score is 0.922759944439236; time is 2021-08-31 15:46:28.962160\n",
      "76 columns removed: GarageCond, best score is 0.8860321831545925; time is 2021-08-31 15:47:35.813775\n",
      "77 columns removed: 2511_convenience, best score is 0.9100172223304759; time is 2021-08-31 15:48:42.887462\n",
      "78 columns removed: Foundation_CBlock, best score is 0.9046580833295759; time is 2021-08-31 15:49:46.905467\n",
      "79 columns removed: 2101_pharmacy, best score is 0.9346996410249507; time is 2021-08-31 15:50:45.304370\n",
      "80 columns removed: MSZoning_com_Residential, low-density, best score is 0.9256877863692367; time is 2021-08-31 15:51:42.623653\n"
     ]
    },
    {
     "name": "stdout",
     "output_type": "stream",
     "text": [
      "81 columns removed: 7203_residential, best score is 0.9221183984489617; time is 2021-08-31 15:52:41.416799\n",
      "82 columns removed: LotShape_com_Slightly irregular, best score is 0.9196873574102451; time is 2021-08-31 15:53:39.039604\n",
      "83 columns removed: 2519_optician, best score is 0.9261928269296251; time is 2021-08-31 15:54:36.363030\n",
      "84 columns removed: 5270_parking_bicycle, best score is 0.8911982988125631; time is 2021-08-31 15:55:30.824611\n",
      "85 columns removed: 2302_fast_food, best score is 0.933786498575874; time is 2021-08-31 15:56:19.612292\n",
      "86 columns removed: RoofStyle_Gable, best score is 0.9028093151100088; time is 2021-08-31 15:57:08.089665\n",
      "87 columns removed: 2082_school, best score is 0.905289937312848; time is 2021-08-31 15:57:50.665685\n",
      "88 columns removed: Remod_age_bin_45+, best score is 0.9173871556306391; time is 2021-08-31 15:58:31.385490\n",
      "89 columns removed: 2002_fire_station, best score is 0.9130378530408659; time is 2021-08-31 15:59:15.575695\n",
      "90 columns removed: LotShape_com_Regular, best score is 0.9205315610299335; time is 2021-08-31 15:59:56.274821\n",
      "91 columns removed: Neighborhood_NridgHt, best score is 0.871211374648441; time is 2021-08-31 16:00:34.264045\n",
      "92 columns removed: 7217_scrub, best score is 0.9350766646585975; time is 2021-08-31 16:01:09.352882\n",
      "93 columns removed: 2015_graveyard, best score is 0.8974200167257694; time is 2021-08-31 16:01:44.264194\n",
      "94 columns removed: KitchenAbvGr, best score is 0.8825939092108528; time is 2021-08-31 16:02:17.344062\n",
      "95 columns removed: FullBath, best score is 0.8898870719446289; time is 2021-08-31 16:02:49.618580\n",
      "96 columns removed: 2252_pitch, best score is 0.9144310398475962; time is 2021-08-31 16:03:21.296181\n",
      "97 columns removed: 2742_viewpoint, best score is 0.9260630270334402; time is 2021-08-31 16:03:49.672705\n",
      "98 columns removed: 7206_cemetery, best score is 0.9157251932837742; time is 2021-08-31 16:04:18.661974\n"
     ]
    }
   ],
   "source": [
    "df5=df4.copy()\n",
    "from datetime import datetime\n",
    "\n",
    "\n",
    "clf = CatBoostRegressor(learning_rate=0.05, subsample=0.9, logging_level='Silent',max_depth=4)\n",
    "params = ({'n_estimators':[500]})\n",
    "\n",
    "score_dict_total2={}\n",
    "col_dict_total2={}\n",
    "j=1\n",
    "\n",
    "\n",
    "\n",
    "while len(df5.columns)>10:\n",
    "    score_dict={}\n",
    "    x_train2, x_test2, y_train2, y_test2 = train_test_split(df5, price, test_size=0.3, random_state=j)\n",
    "    for i in x_train2.columns:\n",
    "        x_train_red=x_train2.drop(i,axis=1)\n",
    "        x_test_red=x_test2.drop(i,axis=1)\n",
    "        grid_search_cat = GridSearchCV(clf, param_grid=params, cv=5, n_jobs=-1)\n",
    "        grid_search_cat.fit(x_train_red, y_train2)\n",
    "        score=grid_search_cat.score(x_test_red, y_test2)\n",
    "        score_dict[i]=score\n",
    "\n",
    "    min_col=max(score_dict.items(), key=lambda x: x[1])[0]\n",
    "    score_dict_total2[j]=max(score_dict.items(), key=lambda x: x[1])[1]\n",
    "    col_dict_total2[j]=min_col\n",
    "    df5=df5.drop(min_col,axis=1)\n",
    "    \n",
    "    print(f'{j} columns removed: {min_col}, best score is {score_dict_total2[j]}; time is {datetime.now()}')\n",
    "    j+=1"
   ]
  },
  {
   "cell_type": "code",
   "execution_count": 14,
   "id": "931afaf0",
   "metadata": {},
   "outputs": [],
   "source": [
    "xyz=pd.read_csv('../../tmp.csv')"
   ]
  },
  {
   "cell_type": "code",
   "execution_count": 41,
   "id": "28c2d839",
   "metadata": {},
   "outputs": [],
   "source": [
    "l_fe=list(xyz['colname'])\n",
    "\n",
    "for x in ['5206_motorway_junction', 'Neighborhood_StoneBr', 'MasVnrType_Stone', 'MSZoning_com_Residential']:\n",
    "    l_fe.remove(x)\n"
   ]
  },
  {
   "cell_type": "code",
   "execution_count": 85,
   "id": "3ee70ce4",
   "metadata": {},
   "outputs": [],
   "source": [
    "def cat_b(x_train,x_test,y_train,y_test):\n",
    "    clf = CatBoostRegressor(learning_rate=0.05, subsample=0.9, logging_level='Silent',max_depth=4, random_state=0)\n",
    "\n",
    "    params = ({'n_estimators':[4000]})\n",
    "\n",
    "    grid_search_cat = GridSearchCV(clf, param_grid=params, cv=5, n_jobs=-1)\n",
    "    grid_search_cat.fit(x_train, y_train)\n",
    "\n",
    "    return grid_search_cat.score(x_test, y_test)"
   ]
  },
  {
   "cell_type": "code",
   "execution_count": 52,
   "id": "744f514b",
   "metadata": {},
   "outputs": [],
   "source": [
    "df5=df4.drop(l_fe,axis=1)\n",
    "score_list=[]\n",
    "for i in range(0,20):\n",
    "    x_train2, x_test2, y_train2, y_test2 = train_test_split(df5, price, test_size=0.3, random_state=i)\n",
    "\n",
    "    score_list.append(cat_b(x_train2, x_test2, y_train2, y_test2))"
   ]
  },
  {
   "cell_type": "code",
   "execution_count": 57,
   "id": "f4264390",
   "metadata": {},
   "outputs": [
    {
     "data": {
      "text/plain": [
       "0.9101403192748195"
      ]
     },
     "execution_count": 57,
     "metadata": {},
     "output_type": "execute_result"
    }
   ],
   "source": [
    "sum(score_list)/len(score_list)"
   ]
  },
  {
   "cell_type": "code",
   "execution_count": 58,
   "id": "0ade21c7",
   "metadata": {},
   "outputs": [],
   "source": [
    "df5=df4[['LotArea', 'OverallQual', 'OverallCond', 'ExterQual', 'BsmtUnfSF',\n",
    "    'TotalBsmtSF', 'GrLivArea_log', 'house_age_years', '7228_farmyard',\n",
    "    '8200_water']]\n",
    "score_list=[]\n",
    "for i in range(0,20):\n",
    "    x_train2, x_test2, y_train2, y_test2 = train_test_split(df5, price, test_size=0.3, random_state=i)\n",
    "\n",
    "    score_list.append(cat_b(x_train2, x_test2, y_train2, y_test2))"
   ]
  },
  {
   "cell_type": "code",
   "execution_count": 59,
   "id": "326f08cc",
   "metadata": {},
   "outputs": [
    {
     "data": {
      "text/plain": [
       "0.9088720001871934"
      ]
     },
     "execution_count": 59,
     "metadata": {},
     "output_type": "execute_result"
    }
   ],
   "source": [
    "sum(score_list)/len(score_list)"
   ]
  },
  {
   "cell_type": "code",
   "execution_count": 66,
   "id": "f6ab6256",
   "metadata": {},
   "outputs": [
    {
     "data": {
      "text/plain": [
       "0.9367478649819595"
      ]
     },
     "execution_count": 66,
     "metadata": {},
     "output_type": "execute_result"
    }
   ],
   "source": [
    "df5=df4[['LotArea', 'OverallQual', 'OverallCond', 'ExterQual', 'BsmtUnfSF',\n",
    "    'TotalBsmtSF', 'GrLivArea_log', 'house_age_years', '7228_farmyard',\n",
    "    '8200_water']]\n",
    "x_train2, x_test2, y_train2, y_test2 = train_test_split(df5, price, test_size=0.3, random_state=i)\n",
    "clf = CatBoostRegressor(learning_rate=0.05, subsample=0.9, logging_level='Silent',max_depth=4, random_state=0)\n",
    "\n",
    "params = ({'n_estimators':[4000]})\n",
    "\n",
    "grid_search_cat = GridSearchCV(clf, param_grid=params, cv=5, n_jobs=-1)\n",
    "grid_search_cat.fit(x_train2, y_train2)\n",
    "\n",
    "grid_search_cat.score(x_test2, y_test2)\n"
   ]
  },
  {
   "cell_type": "code",
   "execution_count": 70,
   "id": "56dc19f4",
   "metadata": {},
   "outputs": [
    {
     "data": {
      "text/html": [
       "<div>\n",
       "<style scoped>\n",
       "    .dataframe tbody tr th:only-of-type {\n",
       "        vertical-align: middle;\n",
       "    }\n",
       "\n",
       "    .dataframe tbody tr th {\n",
       "        vertical-align: top;\n",
       "    }\n",
       "\n",
       "    .dataframe thead th {\n",
       "        text-align: right;\n",
       "    }\n",
       "</style>\n",
       "<table border=\"1\" class=\"dataframe\">\n",
       "  <thead>\n",
       "    <tr style=\"text-align: right;\">\n",
       "      <th></th>\n",
       "      <th>Name</th>\n",
       "      <th>Importances</th>\n",
       "    </tr>\n",
       "  </thead>\n",
       "  <tbody>\n",
       "    <tr>\n",
       "      <th>0</th>\n",
       "      <td>LotArea</td>\n",
       "      <td>9.761092</td>\n",
       "    </tr>\n",
       "    <tr>\n",
       "      <th>1</th>\n",
       "      <td>OverallQual</td>\n",
       "      <td>23.659372</td>\n",
       "    </tr>\n",
       "    <tr>\n",
       "      <th>2</th>\n",
       "      <td>OverallCond</td>\n",
       "      <td>2.314539</td>\n",
       "    </tr>\n",
       "    <tr>\n",
       "      <th>3</th>\n",
       "      <td>ExterQual</td>\n",
       "      <td>5.099373</td>\n",
       "    </tr>\n",
       "    <tr>\n",
       "      <th>4</th>\n",
       "      <td>BsmtUnfSF</td>\n",
       "      <td>4.945722</td>\n",
       "    </tr>\n",
       "    <tr>\n",
       "      <th>5</th>\n",
       "      <td>TotalBsmtSF</td>\n",
       "      <td>15.845732</td>\n",
       "    </tr>\n",
       "    <tr>\n",
       "      <th>6</th>\n",
       "      <td>GrLivArea_log</td>\n",
       "      <td>24.599487</td>\n",
       "    </tr>\n",
       "    <tr>\n",
       "      <th>7</th>\n",
       "      <td>house_age_years</td>\n",
       "      <td>10.079956</td>\n",
       "    </tr>\n",
       "    <tr>\n",
       "      <th>8</th>\n",
       "      <td>7228_farmyard</td>\n",
       "      <td>1.550433</td>\n",
       "    </tr>\n",
       "    <tr>\n",
       "      <th>9</th>\n",
       "      <td>8200_water</td>\n",
       "      <td>2.144294</td>\n",
       "    </tr>\n",
       "  </tbody>\n",
       "</table>\n",
       "</div>"
      ],
      "text/plain": [
       "              Name  Importances\n",
       "0          LotArea     9.761092\n",
       "1      OverallQual    23.659372\n",
       "2      OverallCond     2.314539\n",
       "3        ExterQual     5.099373\n",
       "4        BsmtUnfSF     4.945722\n",
       "5      TotalBsmtSF    15.845732\n",
       "6    GrLivArea_log    24.599487\n",
       "7  house_age_years    10.079956\n",
       "8    7228_farmyard     1.550433\n",
       "9       8200_water     2.144294"
      ]
     },
     "execution_count": 70,
     "metadata": {},
     "output_type": "execute_result"
    }
   ],
   "source": [
    "pd.DataFrame({'Name':x_train2.columns,'Importances':grid_search_cat.best_estimator_.feature_importances_})"
   ]
  },
  {
   "cell_type": "code",
   "execution_count": 70,
   "id": "826d3d8b",
   "metadata": {},
   "outputs": [],
   "source": [
    "testdf=df3.drop(['AvgPrice-0.5'],axis=1)\n",
    "#testdf=testdf.drop(alwaysdrop,axis=1)"
   ]
  },
  {
   "cell_type": "code",
   "execution_count": 72,
   "id": "1b787479",
   "metadata": {},
   "outputs": [
    {
     "name": "stderr",
     "output_type": "stream",
     "text": [
      "/Users/moritz/opt/anaconda3/lib/python3.8/site-packages/statsmodels/stats/outliers_influence.py:193: RuntimeWarning: divide by zero encountered in double_scalars\n",
      "  vif = 1. / (1. - r_squared_i)\n",
      "/Users/moritz/opt/anaconda3/lib/python3.8/site-packages/statsmodels/regression/linear_model.py:1717: RuntimeWarning: invalid value encountered in double_scalars\n",
      "  return 1 - self.ssr/self.uncentered_tss\n"
     ]
    }
   ],
   "source": [
    "viflist=[variance_inflation_factor(testdf.values, i) for i in range(len(testdf.columns))]\n",
    "list_of_tuples = list(zip(list(testdf.columns), viflist))\n",
    "df=pd.DataFrame(list_of_tuples,columns=['a','b'])\n",
    "df=df.sort_values('b',ascending=False)\n"
   ]
  },
  {
   "cell_type": "code",
   "execution_count": 74,
   "id": "c02670c5",
   "metadata": {},
   "outputs": [],
   "source": [
    "low_corr_features=list(df[df['b']<5]['a'])"
   ]
  },
  {
   "cell_type": "code",
   "execution_count": 86,
   "id": "fa9ca069",
   "metadata": {},
   "outputs": [],
   "source": [
    "df5=df3[low_corr_features]\n",
    "\n",
    "score_list=[]\n",
    "for i in range(0,20):\n",
    "    x_train2, x_test2, y_train2, y_test2 = train_test_split(df5, price, test_size=0.3, random_state=i)\n",
    "\n",
    "    score_list.append(cat_b(x_train2, x_test2, y_train2, y_test2))"
   ]
  },
  {
   "cell_type": "code",
   "execution_count": 87,
   "id": "325cc487",
   "metadata": {},
   "outputs": [
    {
     "data": {
      "text/plain": [
       "0.5527467173066151"
      ]
     },
     "execution_count": 87,
     "metadata": {},
     "output_type": "execute_result"
    }
   ],
   "source": [
    "sum(score_list)/len(score_list)"
   ]
  },
  {
   "cell_type": "code",
   "execution_count": 88,
   "id": "40eaafda",
   "metadata": {},
   "outputs": [
    {
     "data": {
      "text/plain": [
       "['ext_Wood_Siding',\n",
       " '2964_water_works',\n",
       " 'HalfBath',\n",
       " 'BsmtFullBath',\n",
       " 'Fence_Minimum Privacy',\n",
       " 'BldgType_Duplex',\n",
       " 'PoolArea',\n",
       " 'MiscVal',\n",
       " '5651_airport',\n",
       " 'MasVnrArea',\n",
       " '2523_stationery',\n",
       " 'LotConfig_com_Cul-de-sac lot',\n",
       " 'PoolQC',\n",
       " 'RoofStyle_Mansard',\n",
       " 'Neighborhood_Greens',\n",
       " 'ext_Common_Brick',\n",
       " 'Remod_age_bin_30-45',\n",
       " 'Foundation_Slab',\n",
       " 'Remod_age_bin_15-30',\n",
       " 'ext_Cement_Board',\n",
       " 'GarageFinish_RFn',\n",
       " 'GarageType_com_Basement',\n",
       " 'ext_Plywood',\n",
       " 'LandContour_Hillside (downward slope on both sides)',\n",
       " 'RoofMatl_Wood Shakes',\n",
       " 'Alley_Paved',\n",
       " 'RoofMatl_Wood Shingles',\n",
       " 'MiscFeature_Other',\n",
       " 'RoofStyle_Shed',\n",
       " 'LandContour_Depression (upward slope on both sides)',\n",
       " '5311_dam',\n",
       " 'WoodDeckSF',\n",
       " 'Fence_Good Wood',\n",
       " 'OpenPorchSF',\n",
       " 'LandSlope_Moderate-severe',\n",
       " 'attic_Unfinished',\n",
       " 'MiscFeature_Tennis Court',\n",
       " 'SaleType_ConLD',\n",
       " 'BldgType_2fmCon',\n",
       " 'ext_Face_Brick',\n",
       " 'LF_Adjacent_Feeder_St',\n",
       " 'Neighborhood_GrnHill',\n",
       " 'PavedDrive_Partial Pavement',\n",
       " 'EnclosedPorch',\n",
       " 'LF_Near_EW_RR',\n",
       " 'ext_Stucco',\n",
       " 'LF_Adjacent_Arterial_St',\n",
       " 'ext_Asbestos_Shingles',\n",
       " 'ext_Wood_Shingles',\n",
       " 'BsmtHalfBath',\n",
       " 'Heating_com_Gas-powered water/steam heating',\n",
       " 'RoofMatl_Roll',\n",
       " 'LF_Near_NS_RR',\n",
       " 'Neighborhood_Landmrk',\n",
       " 'ScreenPorch',\n",
       " 'Heating_com_Other',\n",
       " 'SaleType_CWD',\n",
       " 'RoofMatl_Membrane',\n",
       " 'ext_Other',\n",
       " 'LF_Near_Positive_Feature',\n",
       " 'SaleType_ConLw',\n",
       " 'SaleType_Con',\n",
       " 'Foundation_Stone',\n",
       " 'Foundation_Wood',\n",
       " 'Fence_Minimum Wood/Wire',\n",
       " 'SaleType_ConLI',\n",
       " 'RoofMatl_Metal',\n",
       " 'SaleType_VWD',\n",
       " '3SsnPorch',\n",
       " 'ext_Imitation_Stucco',\n",
       " 'SaleType_Oth']"
      ]
     },
     "execution_count": 88,
     "metadata": {},
     "output_type": "execute_result"
    }
   ],
   "source": [
    "low_corr_features"
   ]
  },
  {
   "cell_type": "code",
   "execution_count": null,
   "id": "5810a671",
   "metadata": {},
   "outputs": [],
   "source": []
  },
  {
   "cell_type": "code",
   "execution_count": null,
   "id": "b373b2b2",
   "metadata": {},
   "outputs": [],
   "source": []
  },
  {
   "cell_type": "code",
   "execution_count": null,
   "id": "bfae30f8",
   "metadata": {},
   "outputs": [],
   "source": [
    "df5=df4.copy()\n",
    "from datetime import datetime\n",
    "\n",
    "\n",
    "clf = CatBoostRegressor(learning_rate=0.05, subsample=0.9, logging_level='Silent',max_depth=4)\n",
    "params = ({'n_estimators':[500]})\n",
    "\n",
    "score_dict_total2={}\n",
    "col_dict_total2={}\n",
    "j=1\n",
    "\n",
    "\n",
    "\n",
    "while len(df5.columns)>10:\n",
    "    score_dict={}\n",
    "    x_train2, x_test2, y_train2, y_test2 = train_test_split(df5, price, test_size=0.3, random_state=j)\n",
    "    for i in x_train2.columns:\n",
    "        x_train_red=x_train2.drop(i,axis=1)\n",
    "        x_test_red=x_test2.drop(i,axis=1)\n",
    "        grid_search_cat = GridSearchCV(clf, param_grid=params, cv=5, n_jobs=-1)\n",
    "        grid_search_cat.fit(x_train_red, y_train2)\n",
    "        score=grid_search_cat.score(x_test_red, y_test2)\n",
    "        score_dict[i]=score\n",
    "\n",
    "    min_col=max(score_dict.items(), key=lambda x: x[1])[0]\n",
    "    score_dict_total2[j]=max(score_dict.items(), key=lambda x: x[1])[1]\n",
    "    col_dict_total2[j]=min_col\n",
    "    df5=df5.drop(min_col,axis=1)\n",
    "    \n",
    "    print(f'{j} columns removed: {min_col}, best score is {score_dict_total2[j]}; time is {datetime.now()}')\n",
    "    j+=1"
   ]
  },
  {
   "cell_type": "code",
   "execution_count": null,
   "id": "3c2f4757",
   "metadata": {},
   "outputs": [],
   "source": []
  },
  {
   "cell_type": "code",
   "execution_count": null,
   "id": "093c6d03",
   "metadata": {},
   "outputs": [],
   "source": []
  },
  {
   "cell_type": "code",
   "execution_count": null,
   "id": "813c126d",
   "metadata": {},
   "outputs": [],
   "source": []
  },
  {
   "cell_type": "code",
   "execution_count": null,
   "id": "9bb78b61",
   "metadata": {},
   "outputs": [],
   "source": []
  },
  {
   "cell_type": "code",
   "execution_count": null,
   "id": "cfa7c747",
   "metadata": {},
   "outputs": [],
   "source": []
  },
  {
   "cell_type": "code",
   "execution_count": null,
   "id": "443495e1",
   "metadata": {},
   "outputs": [],
   "source": []
  },
  {
   "cell_type": "code",
   "execution_count": null,
   "id": "59dbf40b",
   "metadata": {},
   "outputs": [],
   "source": []
  },
  {
   "cell_type": "code",
   "execution_count": null,
   "id": "66850f76",
   "metadata": {},
   "outputs": [],
   "source": []
  },
  {
   "cell_type": "code",
   "execution_count": null,
   "id": "c532b13a",
   "metadata": {},
   "outputs": [],
   "source": [
    "\n",
    "    "
   ]
  },
  {
   "cell_type": "code",
   "execution_count": null,
   "id": "e47c2eaf",
   "metadata": {},
   "outputs": [],
   "source": [
    "\n",
    "\n",
    "\n"
   ]
  }
 ],
 "metadata": {
  "kernelspec": {
   "display_name": "Python 3",
   "language": "python",
   "name": "python3"
  },
  "language_info": {
   "codemirror_mode": {
    "name": "ipython",
    "version": 3
   },
   "file_extension": ".py",
   "mimetype": "text/x-python",
   "name": "python",
   "nbconvert_exporter": "python",
   "pygments_lexer": "ipython3",
   "version": "3.8.8"
  }
 },
 "nbformat": 4,
 "nbformat_minor": 5
}
