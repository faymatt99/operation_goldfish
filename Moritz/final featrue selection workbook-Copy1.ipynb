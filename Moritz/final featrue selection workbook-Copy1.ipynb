{
 "cells": [
  {
   "cell_type": "code",
   "execution_count": 42,
   "id": "2d37a17a",
   "metadata": {},
   "outputs": [],
   "source": [
    "import numpy as np\n",
    "import pandas as pd\n",
    "from scipy import stats\n",
    "from sklearn.linear_model import Ridge, Lasso, ElasticNet, LinearRegression\n",
    "import plotly.express as px\n",
    "import matplotlib.pyplot as plt\n",
    "import plotly.graph_objects as go\n",
    "from sklearn.model_selection import train_test_split\n",
    "from sklearn.model_selection import GridSearchCV\n",
    "from sklearn.model_selection import KFold, StratifiedKFold\n",
    "from sklearn.model_selection import cross_val_score\n",
    "\n",
    "from sklearn import ensemble\n",
    "from sklearn.model_selection import train_test_split\n",
    "from sklearn.model_selection import GridSearchCV\n",
    "import time\n",
    "\n",
    "from catboost import CatBoostRegressor\n",
    "\n",
    "import re\n",
    "\n",
    "from statsmodels.stats.outliers_influence import variance_inflation_factor\n",
    "from xgboost import XGBRegressor"
   ]
  },
  {
   "cell_type": "code",
   "execution_count": 43,
   "id": "aa9e0c43",
   "metadata": {},
   "outputs": [],
   "source": [
    "pd.set_option('display.max_rows', 500)"
   ]
  },
  {
   "cell_type": "code",
   "execution_count": 44,
   "id": "02612635",
   "metadata": {},
   "outputs": [],
   "source": [
    "df = pd.read_csv('./../data/ames_housing_price_data_v5.csv')"
   ]
  },
  {
   "cell_type": "code",
   "execution_count": 45,
   "id": "07693d0e",
   "metadata": {},
   "outputs": [],
   "source": [
    "to_dummify = [\n",
    "    'Street_paved',\n",
    "    'Alley',\n",
    "    'LandContour',\n",
    "    'Utilities',\n",
    "    'LandSlope',\n",
    "    'Neighborhood',\n",
    "    'BldgType',\n",
    "    #'OverallQual',\n",
    "    #'OverallCond',\n",
    "    'RoofStyle',\n",
    "    'RoofMatl',\n",
    "    'MasVnrType',\n",
    "    #'ExterQual',\n",
    "    #'ExterCond',\n",
    "    'Foundation',\n",
    "    'CentralAir',\n",
    "    #'KitchenQual',\n",
    "    #'FireplaceQu',\n",
    "    'PavedDrive',\n",
    "    #'PoolQC',\n",
    "    'Fence',\n",
    "    'MiscFeature',\n",
    "    #'MoSold',\n",
    "    #'HeatingQC_ord',\n",
    "    'LotShape_com',\n",
    "    'MSZoning_com',\n",
    "    'Heating_com',\n",
    "    'Electrical_com',\n",
    "    'LotConfig_com',\n",
    "    #'number_floors',\n",
    "    'attic',\n",
    "    'PUD',\n",
    "    #'Functional_ord',\n",
    "    'Remod_age_bin',\n",
    "    'SaleType',\n",
    "    #'SaleCondition'\n",
    "]"
   ]
  },
  {
   "cell_type": "code",
   "execution_count": 46,
   "id": "3efc5625",
   "metadata": {},
   "outputs": [],
   "source": [
    "#drop outlier rows\n",
    "df = df[(df['PID'] != 902207130) & (df['PID'] != 908154205)]\n",
    "df = df[(df['SaleCondition'] == 'Normal') | (df['SaleCondition'] == 'Partial')]\n",
    "df = df[df['BedroomAbvGr'] != 0]\n",
    "df = df[df['MSZoning_com'] != 'Nonresidential']\n",
    "df.reset_index(drop=True, inplace = True)"
   ]
  },
  {
   "cell_type": "code",
   "execution_count": 47,
   "id": "61cf3df6",
   "metadata": {},
   "outputs": [],
   "source": [
    "#separate price from table\n",
    "price=df['SalePrice']\n",
    "df=df.drop(['SalePrice_log'],axis=1) #'SalePrice',"
   ]
  },
  {
   "cell_type": "code",
   "execution_count": 48,
   "id": "c7c71278",
   "metadata": {},
   "outputs": [],
   "source": [
    "#add radial average price feature\n",
    "avg_price_df=pd.read_csv('../data/house_surrounding_avg_prices.csv')\n",
    "avg_price_df2=avg_price_df[['PID','AvgPrice-0.5']].drop_duplicates() #,'AvgPrice-0.25'\n",
    "\n",
    "df2=df.merge(avg_price_df2,how='left')\n"
   ]
  },
  {
   "cell_type": "code",
   "execution_count": 49,
   "id": "2aff96aa",
   "metadata": {},
   "outputs": [],
   "source": [
    "#add geographical features\n",
    "radial = pd.read_csv('./../data/house_coordinates_1.0.csv')\n",
    "radial.drop(columns = ('2204_park'), inplace = True)\n",
    "for col in radial.columns:\n",
    "    prefix = str(col)[0:4]\n",
    "    if re.search('^\\d\\d\\d\\d_', str(col)):\n",
    "        radial.rename(columns = {col: col[5:]}, inplace = True)\n",
    "rad_drops = [\n",
    "    'Address',\n",
    "    'Coords4',\n",
    "    'latitude',\n",
    "    'longitude',\n",
    "    'town_hall',\n",
    "    'cemetery',\n",
    "    'motel',\n",
    "    'camp_site',\n",
    "    'general',\n",
    "    'picnic_site',\n",
    "    'wastewater_plant',\n",
    "    'spring',\n",
    "    'beach',\n",
    "    'street_lamp',\n",
    "    'helipad',\n",
    "    'vineyard',\n",
    "    'crossing',\n",
    "    'tree',\n",
    "    'grass',\n",
    "    'christian',\n",
    "    'bus_stop',\n",
    "    'parking',\n",
    "    'toilet',\n",
    "    'bench',\n",
    "    'commercial',\n",
    "    'waste_basket',\n",
    "    'drinking_water',\n",
    "    'convenience',\n",
    "    'camera_surveillance',\n",
    "    'comms_tower',\n",
    "    'residential',\n",
    "    'gift_shop',\n",
    "    'jeweller',\n",
    "    'hairdresser',\n",
    "    'bookshop',\n",
    "    'clothes',\n",
    "    'retail',\n",
    "    'food_court',\n",
    "    'artwork',\n",
    "    'cafe',\n",
    "    'traffic_signals',\n",
    "    'beauty_shop',\n",
    "    'sports_shop',\n",
    "    'weir',\n",
    "    'track',\n",
    "    'turning_circle',\n",
    "    'computer_shop',\n",
    "    'bicycle_shop',\n",
    "    'department_store',\n",
    "    'parking_bicycle',\n",
    "    'golf_course',\n",
    "    'tower',\n",
    "    'beverages',\n",
    "    'university'\n",
    "]\n",
    "radial.drop(columns = rad_drops, inplace = True)\n",
    "\n",
    "df2=df2.merge(radial, how='left')\n",
    "\n",
    "\n"
   ]
  },
  {
   "cell_type": "code",
   "execution_count": 50,
   "id": "7c399e88",
   "metadata": {},
   "outputs": [],
   "source": [
    "#other rows to drop:\n",
    "droplist=['PID','GarageFinish','SaleCondition','GarageType_com','Garage_age_bin','sold_datetime']\n",
    "df2=df2.drop(droplist,axis=1)"
   ]
  },
  {
   "cell_type": "code",
   "execution_count": 51,
   "id": "b49feb78",
   "metadata": {},
   "outputs": [],
   "source": [
    "#fillnas\n",
    "df2=df2.fillna(0)"
   ]
  },
  {
   "cell_type": "markdown",
   "id": "d1542ca5",
   "metadata": {},
   "source": [
    "<H1>ML function section"
   ]
  },
  {
   "cell_type": "code",
   "execution_count": 52,
   "id": "79d5a747",
   "metadata": {},
   "outputs": [],
   "source": [
    "def corr_list(name, df_corr):\n",
    "    '''\n",
    "    Takes columname from dataframe and dataframe as inputs\n",
    "    '''\n",
    "    tester_corr=df_corr[features_to_use]\n",
    "    to_dummify2=filtering(to_dummify)\n",
    "    tester_corr = pd.get_dummies(tester_corr, columns = to_dummify2, drop_first = True)\n",
    "\n",
    "    x=tester_corr[f'{name}']\n",
    "    corr_lst=[]\n",
    "    for y in tester_corr.columns:\n",
    "        cor=x.corr(tester_corr[y])\n",
    "        corr_lst.append(cor)\n",
    "    df_corr_res=pd.DataFrame({'Col':list(tester_corr.columns),'Corr':corr_lst})\n",
    "    return df_corr_res.sort_values('Corr',ascending=False)\n",
    "        "
   ]
  },
  {
   "cell_type": "code",
   "execution_count": 53,
   "id": "3ee70ce4",
   "metadata": {},
   "outputs": [],
   "source": [
    "def cat_b(x_train,x_test,y_train,y_test, i):\n",
    "    clf = CatBoostRegressor(logging_level='Silent', random_state=0)\n",
    "    #clf=XGBRegressor(random_state=0, scoring='neg_mean_squared_error')\n",
    "    \n",
    "    params = ({'n_estimators':[4000],\n",
    "              'learning_rate':[0.04], \n",
    "               'subsample':[0.9], \n",
    "               'max_depth':[2,3],\n",
    "              })\n",
    "\n",
    "    grid_search_cat = GridSearchCV(clf, param_grid=params, cv=5, n_jobs=-1)\n",
    "    grid_search_cat.fit(x_train, y_train)\n",
    "    \n",
    "    if i==0:\n",
    "        feature_imp=pd.DataFrame({'Col':list(x_train.columns),'Importance':grid_search_cat.best_estimator_.feature_importances_})\n",
    "        print(feature_imp.sort_values('Importance',ascending=False).iloc[:100,:])\n",
    "        print('-'*50)\n",
    "        print(grid_search_cat.best_params_)\n",
    "        print('-'*50)\n",
    "    return grid_search_cat.score(x_test, y_test)\n",
    "    "
   ]
  },
  {
   "cell_type": "code",
   "execution_count": 54,
   "id": "078f9618",
   "metadata": {},
   "outputs": [],
   "source": [
    "def vif_calc(df_VIF):\n",
    "    viflist=[variance_inflation_factor(df_VIF.values, i) for i in range(len(df_VIF.columns))]\n",
    "    list_of_tuples = list(zip(list(df_VIF.columns), viflist))\n",
    "    df=pd.DataFrame(list_of_tuples,columns=['Feature','VIF'])\n",
    "    df=df.sort_values('VIF',ascending=False)\n",
    "    return df"
   ]
  },
  {
   "cell_type": "code",
   "execution_count": 55,
   "id": "744f514b",
   "metadata": {},
   "outputs": [],
   "source": [
    "def cross_val_VIF_score(df_val):\n",
    "    score_list=[]\n",
    "    for i in range(0,5):\n",
    "        x_train2, x_test2, y_train2, y_test2 = train_test_split(df_val, price, test_size=0.3, random_state=i)\n",
    "\n",
    "        score_list.append(cat_b(x_train2, x_test2, y_train2, y_test2, i))\n",
    "\n",
    "    print(sum(score_list)/len(score_list))\n",
    "    print('-'*50)    \n",
    "    vif_df=vif_calc(df_val)        \n",
    "    print(vif_df[:20])\n"
   ]
  },
  {
   "cell_type": "code",
   "execution_count": 56,
   "id": "2427bb98",
   "metadata": {},
   "outputs": [],
   "source": [
    "def fun(variable):\n",
    "    if (variable in features_to_use):\n",
    "        return True\n",
    "    else:\n",
    "        return False\n",
    "\n",
    "def filtering(listing):  \n",
    "# using filter function\n",
    "    filtered = filter(fun, listing)\n",
    "    return list(filtered)\n",
    "\n",
    "def fun2(variable):\n",
    "    if (variable in features_to_use):\n",
    "        return False\n",
    "    else:\n",
    "        return True\n",
    "\n",
    "def filtering2(listing):  \n",
    "# using filter function\n",
    "    filtered = filter(fun2, listing)\n",
    "    return list(filtered)"
   ]
  },
  {
   "cell_type": "markdown",
   "id": "a2fd9ed0",
   "metadata": {},
   "source": [
    "<H1> Feature selection"
   ]
  },
  {
   "cell_type": "code",
   "execution_count": 58,
   "id": "0de92acd",
   "metadata": {},
   "outputs": [
    {
     "ename": "IndentationError",
     "evalue": "unindent does not match any outer indentation level (<tokenize>, line 6)",
     "output_type": "error",
     "traceback": [
      "\u001b[0;36m  File \u001b[0;32m\"<tokenize>\"\u001b[0;36m, line \u001b[0;32m6\u001b[0m\n\u001b[0;31m    'ext_Cement_Board', 'ext_Brick', 'ext_Asbestos_Shingles', 'ext_Other',\u001b[0m\n\u001b[0m    ^\u001b[0m\n\u001b[0;31mIndentationError\u001b[0m\u001b[0;31m:\u001b[0m unindent does not match any outer indentation level\n"
     ]
    }
   ],
   "source": [
    "Not\n",
    "'PUD', 'BldgType', 'RoofStyle', 'RoofMatl'\n",
    "'Utilities', 'Heating_com'\n",
    "\n",
    "                 'ext_Wood', 'ext_Metal_Siding', 'ext_Vinyl_Siding', 'ext_Stucco',\n",
    "                'ext_Cement_Board', 'ext_Brick', 'ext_Asbestos_Shingles', 'ext_Other',\n",
    "'TotRmsAbvGrd','FireplaceQu'\n",
    "?\n",
    "'LandSlope'\n",
    "\n",
    "maybe: \n",
    "    'Electrical_com',\n",
    "'Foundation'\n",
    ",'MasVnrArea'\n",
    ",'AvgPrice-0.5',\n",
    "'MSZoning_com',\n",
    "\n",
    "'1stFloorArea%','2ndFloorArea%',\n",
    "\n",
    "further review:\n",
    "    'number_floors'\n",
    "    \n",
    "    ,'7203_residential'\n",
    ",'2301_restaurant'\n",
    "'2101_pharmacy',\n",
    "'7228_farmyard',"
   ]
  },
  {
   "cell_type": "code",
   "execution_count": 59,
   "id": "fcc258eb",
   "metadata": {},
   "outputs": [],
   "source": [
    "from sklearn.preprocessing import MinMaxScaler\n",
    "scaler = MinMaxScaler()\n",
    "\n",
    "def fit_scale(col):\n",
    "    scaler.fit(df2[[col]])\n",
    "    df2[[col]]=scaler.transform(df2[[col]])\n",
    "\n",
    "fit_scale('OverallQual')\n",
    "fit_scale('ExterQual')\n",
    "fit_scale('OverallCond')\n",
    "fit_scale('KitchenQual')\n",
    "\n",
    "#df2['Porch']=((df2['OpenPorchSF']>0) | (df2['EnclosedPorch']>0) | (df2['3SsnPorch']>0) | (df2['ScreenPorch']>0))\n",
    "df2['PorchSF']=df2['OpenPorchSF']+df2['EnclosedPorch']+df2['3SsnPorch']+df2['ScreenPorch']\n",
    "#df2['1stFloorArea%']=df2['1stFlrSF']/df2['GrLivArea']\n",
    "#df2['2ndFloorArea%']=df2['2ndFlrSF']/df2['GrLivArea']\n",
    "df2['ExterQualDisc']=df2['OverallQual']-df2['ExterQual']\n",
    "df2['OverallCondDisc']=df2['OverallQual']-df2['OverallCond']\n",
    "df2['KitchenQualDisc']=df2['OverallQual']-df2['KitchenQual']\n",
    "\n",
    "df2['SaleTypeNew']=(df2['SaleType']=='New')\n",
    "df2['SaleTypeNew']=df2['SaleTypeNew'].apply(lambda x: 1 if x==True else 0)\n",
    "#df2['BSMT_GLQ%']=df2['BSMT_GLQ']/df2['TotalBsmtSF']\n",
    "#df2['BSMT_ALQ%']=df2['BSMT_ALQ']/df2['TotalBsmtSF']\n",
    "#df2['BSMT_GLQ%']=df2['BSMT_GLQ%'].fillna(0)\n",
    "#df2['BSMT_ALQ%']=df2['BSMT_ALQ%'].fillna(0)\n",
    "\n",
    "df2['BSMT_LowQual']=df2['TotalBsmtSF']-df2['BSMT_GLQ']-df2['BSMT_ALQ']\n",
    "df2['BSMT_HighQual']=df2['BSMT_GLQ']+df2['BSMT_ALQ']"
   ]
  },
  {
   "cell_type": "code",
   "execution_count": 60,
   "id": "79060aec",
   "metadata": {},
   "outputs": [
    {
     "data": {
      "text/plain": [
       "Index(['PID', 'police', 'fire_station', 'post_box', 'post_office', 'library',\n",
       "       'nursing_home', 'graveyard', 'school', 'pharmacy', 'hospital',\n",
       "       'doctors', 'dentist', 'veterinary', 'theatre', 'cinema', 'playground',\n",
       "       'dog_park', 'sports_centre', 'pitch', 'swimming_pool', 'stadium',\n",
       "       'restaurant', 'fast_food', 'pub', 'bar', 'hotel', 'guesthouse',\n",
       "       'shelter', 'supermarket', 'bakery', 'mall', 'florist', 'shoe_shop',\n",
       "       'optician', 'stationery', 'outdoor_shop', 'mobile_phone_shop',\n",
       "       'car_dealership', 'doityourself', 'furniture_shop', 'garden_centre',\n",
       "       'car_wash', 'laundry', 'bank', 'atm', 'tourist_info', 'attraction',\n",
       "       'museum', 'memorial', 'viewpoint', 'fountain', 'water_tower',\n",
       "       'water_works', 'christian_catholic', 'christian_evangelical',\n",
       "       'christian_lutheran', 'christian_methodist', 'jewish', 'muslim', 'stop',\n",
       "       'motorway_junction', 'fuel', 'parking_multistorey', 'slipway', 'pier',\n",
       "       'dam', 'airport', 'apron', 'forest', 'park', 'industrial', 'meadow',\n",
       "       'nature_reserve', 'recreation_ground', 'orchard', 'scrub', 'farmyard',\n",
       "       'farmland', 'water', 'reservoir', 'wetland'],\n",
       "      dtype='object')"
      ]
     },
     "execution_count": 60,
     "metadata": {},
     "output_type": "execute_result"
    }
   ],
   "source": [
    "radial.columns"
   ]
  },
  {
   "cell_type": "code",
   "execution_count": 78,
   "id": "ab37123a",
   "metadata": {},
   "outputs": [],
   "source": [
    "features_to_use=['SalePrice','GrLivArea', 'LotArea', 'OverallQual',\n",
    "    'BSMT_LowQual', 'house_age_years', 'GarageCars','MasVnrType',\n",
    "                 'FullBath','HalfBath',\n",
    "                'BsmtExposure_ord','SaleTypeNew',\n",
    "                 'Neighborhood',\n",
    "                 'BldgType','PorchSF',\n",
    "                 'ExterQualDisc','OverallCondDisc','BSMT_HighQual',\n",
    "                 'KitchenQualDisc',\n",
    "                'Fireplaces','Pool','BedroomAbvGr',\n",
    "                  'water_tower', 'graveyard', 'police', \n",
    "                 'optician', 'slipway',  'bar', 'farmyard', 'cinema', 'supermarket' ,'hotel'\n",
    "                ] #'water','bank','forest',  'fast_food','car_wash',\n",
    "\n",
    "tester=df2[features_to_use]\n",
    "to_dummify2=filtering(to_dummify)\n",
    "tester2 = pd.get_dummies(tester, columns = to_dummify2, drop_first = True)\n"
   ]
  },
  {
   "cell_type": "code",
   "execution_count": 80,
   "id": "34f1fdab",
   "metadata": {},
   "outputs": [],
   "source": [
    "train_x,test_x=train_test_split(tester2, test_size=0.3, random_state=0)"
   ]
  },
  {
   "cell_type": "code",
   "execution_count": 83,
   "id": "6064aed6",
   "metadata": {},
   "outputs": [],
   "source": [
    "train_x.to_csv('train_x.csv')\n",
    "test_x.to_csv('test_x.csv')"
   ]
  },
  {
   "cell_type": "code",
   "execution_count": 103,
   "id": "32492e85",
   "metadata": {},
   "outputs": [],
   "source": [
    "import gbdtpl"
   ]
  },
  {
   "cell_type": "code",
   "execution_count": 100,
   "id": "c77cb9b2",
   "metadata": {},
   "outputs": [],
   "source": [
    "params={\n",
    "    'num_trees':500,\n",
    "    'objective':'l2'\n",
    "}"
   ]
  },
  {
   "cell_type": "code",
   "execution_count": 101,
   "id": "400330c2",
   "metadata": {},
   "outputs": [
    {
     "data": {
      "text/plain": [
       "'/Users/moritz/Desktop/private_repository/operation_goldfish/Moritz'"
      ]
     },
     "execution_count": 101,
     "metadata": {},
     "output_type": "execute_result"
    }
   ],
   "source": [
    "import os\n",
    "os.getcwd()"
   ]
  },
  {
   "cell_type": "code",
   "execution_count": 104,
   "id": "bf3495e5",
   "metadata": {},
   "outputs": [
    {
     "ename": "OSError",
     "evalue": "dlopen(/Users/moritz/.local/lib/python3.8/site-packages/gbdtpl/liblineargbm.py, 6): no suitable image found.  Did find:\n\t/Users/moritz/.local/lib/python3.8/site-packages/gbdtpl/liblineargbm.py: unknown file type, first eight bytes: 0x7F 0x45 0x4C 0x46 0x02 0x01 0x01 0x03\n\t/Users/moritz/.local/lib/python3.8/site-packages/gbdtpl/liblineargbm.py: unknown file type, first eight bytes: 0x7F 0x45 0x4C 0x46 0x02 0x01 0x01 0x03",
     "output_type": "error",
     "traceback": [
      "\u001b[0;31m---------------------------------------------------------------------------\u001b[0m",
      "\u001b[0;31mOSError\u001b[0m                                   Traceback (most recent call last)",
      "\u001b[0;32m<ipython-input-104-3d8292c69f2b>\u001b[0m in \u001b[0;36m<module>\u001b[0;34m\u001b[0m\n\u001b[0;32m----> 1\u001b[0;31m \u001b[0mgbdtpl\u001b[0m\u001b[0;34m.\u001b[0m\u001b[0mDataMat\u001b[0m\u001b[0;34m(\u001b[0m\u001b[0mfile_path\u001b[0m\u001b[0;34m=\u001b[0m\u001b[0;34m'/Users/moritz/Desktop/private_repository/operation_goldfish/Moritz/train_x.csv'\u001b[0m\u001b[0;34m,\u001b[0m\u001b[0mparams\u001b[0m\u001b[0;34m=\u001b[0m\u001b[0mparams\u001b[0m\u001b[0;34m,\u001b[0m \u001b[0mlabel_index\u001b[0m\u001b[0;34m=\u001b[0m\u001b[0;36m0\u001b[0m\u001b[0;34m,\u001b[0m \u001b[0mquery_index\u001b[0m\u001b[0;34m=\u001b[0m\u001b[0;32mNone\u001b[0m\u001b[0;34m,\u001b[0m \u001b[0mname\u001b[0m\u001b[0;34m=\u001b[0m\u001b[0;34m'training'\u001b[0m\u001b[0;34m)\u001b[0m\u001b[0;34m\u001b[0m\u001b[0;34m\u001b[0m\u001b[0m\n\u001b[0m\u001b[1;32m      2\u001b[0m \u001b[0;34m\u001b[0m\u001b[0m\n\u001b[1;32m      3\u001b[0m \u001b[0;34m\u001b[0m\u001b[0m\n",
      "\u001b[0;32m~/.local/lib/python3.8/site-packages/gbdtpl/DataMat.py\u001b[0m in \u001b[0;36m__init__\u001b[0;34m(self, name, params, label_index, query_index, file_path, reference)\u001b[0m\n\u001b[1;32m      5\u001b[0m     \u001b[0;32mdef\u001b[0m \u001b[0m__init__\u001b[0m\u001b[0;34m(\u001b[0m\u001b[0mself\u001b[0m\u001b[0;34m,\u001b[0m \u001b[0mname\u001b[0m\u001b[0;34m,\u001b[0m \u001b[0mparams\u001b[0m\u001b[0;34m,\u001b[0m \u001b[0mlabel_index\u001b[0m\u001b[0;34m,\u001b[0m \u001b[0mquery_index\u001b[0m\u001b[0;34m,\u001b[0m \u001b[0mfile_path\u001b[0m\u001b[0;34m,\u001b[0m \u001b[0mreference\u001b[0m\u001b[0;34m=\u001b[0m\u001b[0;32mNone\u001b[0m\u001b[0;34m)\u001b[0m\u001b[0;34m:\u001b[0m\u001b[0;34m\u001b[0m\u001b[0;34m\u001b[0m\u001b[0m\n\u001b[1;32m      6\u001b[0m         \u001b[0mcwd\u001b[0m \u001b[0;34m=\u001b[0m \u001b[0mos\u001b[0m\u001b[0;34m.\u001b[0m\u001b[0mpath\u001b[0m\u001b[0;34m.\u001b[0m\u001b[0mdirname\u001b[0m\u001b[0;34m(\u001b[0m\u001b[0mos\u001b[0m\u001b[0;34m.\u001b[0m\u001b[0mpath\u001b[0m\u001b[0;34m.\u001b[0m\u001b[0mabspath\u001b[0m\u001b[0;34m(\u001b[0m\u001b[0m__file__\u001b[0m\u001b[0;34m)\u001b[0m\u001b[0;34m)\u001b[0m\u001b[0;34m\u001b[0m\u001b[0;34m\u001b[0m\u001b[0m\n\u001b[0;32m----> 7\u001b[0;31m         \u001b[0mself\u001b[0m\u001b[0;34m.\u001b[0m\u001b[0mLinearGBMLib\u001b[0m \u001b[0;34m=\u001b[0m \u001b[0mcdll\u001b[0m\u001b[0;34m.\u001b[0m\u001b[0mLoadLibrary\u001b[0m\u001b[0;34m(\u001b[0m\u001b[0mcwd\u001b[0m \u001b[0;34m+\u001b[0m \u001b[0;34m\"/liblineargbm.py\"\u001b[0m\u001b[0;34m)\u001b[0m\u001b[0;34m\u001b[0m\u001b[0;34m\u001b[0m\u001b[0m\n\u001b[0m\u001b[1;32m      8\u001b[0m         \u001b[0mself\u001b[0m\u001b[0;34m.\u001b[0m\u001b[0mbooster_config\u001b[0m \u001b[0;34m=\u001b[0m \u001b[0mc_void_p\u001b[0m\u001b[0;34m(\u001b[0m\u001b[0;34m)\u001b[0m\u001b[0;34m\u001b[0m\u001b[0;34m\u001b[0m\u001b[0m\n\u001b[1;32m      9\u001b[0m         \u001b[0mself\u001b[0m\u001b[0;34m.\u001b[0m\u001b[0mLinearGBMLib\u001b[0m\u001b[0;34m.\u001b[0m\u001b[0mCreateLinearGBMBoosterConfig\u001b[0m\u001b[0;34m(\u001b[0m\u001b[0mbyref\u001b[0m\u001b[0;34m(\u001b[0m\u001b[0mself\u001b[0m\u001b[0;34m.\u001b[0m\u001b[0mbooster_config\u001b[0m\u001b[0;34m)\u001b[0m\u001b[0;34m)\u001b[0m\u001b[0;34m\u001b[0m\u001b[0;34m\u001b[0m\u001b[0m\n",
      "\u001b[0;32m~/opt/anaconda3/lib/python3.8/ctypes/__init__.py\u001b[0m in \u001b[0;36mLoadLibrary\u001b[0;34m(self, name)\u001b[0m\n\u001b[1;32m    457\u001b[0m \u001b[0;34m\u001b[0m\u001b[0m\n\u001b[1;32m    458\u001b[0m     \u001b[0;32mdef\u001b[0m \u001b[0mLoadLibrary\u001b[0m\u001b[0;34m(\u001b[0m\u001b[0mself\u001b[0m\u001b[0;34m,\u001b[0m \u001b[0mname\u001b[0m\u001b[0;34m)\u001b[0m\u001b[0;34m:\u001b[0m\u001b[0;34m\u001b[0m\u001b[0;34m\u001b[0m\u001b[0m\n\u001b[0;32m--> 459\u001b[0;31m         \u001b[0;32mreturn\u001b[0m \u001b[0mself\u001b[0m\u001b[0;34m.\u001b[0m\u001b[0m_dlltype\u001b[0m\u001b[0;34m(\u001b[0m\u001b[0mname\u001b[0m\u001b[0;34m)\u001b[0m\u001b[0;34m\u001b[0m\u001b[0;34m\u001b[0m\u001b[0m\n\u001b[0m\u001b[1;32m    460\u001b[0m \u001b[0;34m\u001b[0m\u001b[0m\n\u001b[1;32m    461\u001b[0m \u001b[0mcdll\u001b[0m \u001b[0;34m=\u001b[0m \u001b[0mLibraryLoader\u001b[0m\u001b[0;34m(\u001b[0m\u001b[0mCDLL\u001b[0m\u001b[0;34m)\u001b[0m\u001b[0;34m\u001b[0m\u001b[0;34m\u001b[0m\u001b[0m\n",
      "\u001b[0;32m~/opt/anaconda3/lib/python3.8/ctypes/__init__.py\u001b[0m in \u001b[0;36m__init__\u001b[0;34m(self, name, mode, handle, use_errno, use_last_error, winmode)\u001b[0m\n\u001b[1;32m    379\u001b[0m \u001b[0;34m\u001b[0m\u001b[0m\n\u001b[1;32m    380\u001b[0m         \u001b[0;32mif\u001b[0m \u001b[0mhandle\u001b[0m \u001b[0;32mis\u001b[0m \u001b[0;32mNone\u001b[0m\u001b[0;34m:\u001b[0m\u001b[0;34m\u001b[0m\u001b[0;34m\u001b[0m\u001b[0m\n\u001b[0;32m--> 381\u001b[0;31m             \u001b[0mself\u001b[0m\u001b[0;34m.\u001b[0m\u001b[0m_handle\u001b[0m \u001b[0;34m=\u001b[0m \u001b[0m_dlopen\u001b[0m\u001b[0;34m(\u001b[0m\u001b[0mself\u001b[0m\u001b[0;34m.\u001b[0m\u001b[0m_name\u001b[0m\u001b[0;34m,\u001b[0m \u001b[0mmode\u001b[0m\u001b[0;34m)\u001b[0m\u001b[0;34m\u001b[0m\u001b[0;34m\u001b[0m\u001b[0m\n\u001b[0m\u001b[1;32m    382\u001b[0m         \u001b[0;32melse\u001b[0m\u001b[0;34m:\u001b[0m\u001b[0;34m\u001b[0m\u001b[0;34m\u001b[0m\u001b[0m\n\u001b[1;32m    383\u001b[0m             \u001b[0mself\u001b[0m\u001b[0;34m.\u001b[0m\u001b[0m_handle\u001b[0m \u001b[0;34m=\u001b[0m \u001b[0mhandle\u001b[0m\u001b[0;34m\u001b[0m\u001b[0;34m\u001b[0m\u001b[0m\n",
      "\u001b[0;31mOSError\u001b[0m: dlopen(/Users/moritz/.local/lib/python3.8/site-packages/gbdtpl/liblineargbm.py, 6): no suitable image found.  Did find:\n\t/Users/moritz/.local/lib/python3.8/site-packages/gbdtpl/liblineargbm.py: unknown file type, first eight bytes: 0x7F 0x45 0x4C 0x46 0x02 0x01 0x01 0x03\n\t/Users/moritz/.local/lib/python3.8/site-packages/gbdtpl/liblineargbm.py: unknown file type, first eight bytes: 0x7F 0x45 0x4C 0x46 0x02 0x01 0x01 0x03"
     ]
    }
   ],
   "source": [
    "gbdtpl.DataMat(file_path='/Users/moritz/Desktop/private_repository/operation_goldfish/Moritz/train_x.csv',params=params, label_index=0, query_index=None, name='training')\n",
    "\n",
    "\n"
   ]
  },
  {
   "cell_type": "code",
   "execution_count": 88,
   "id": "115e7896",
   "metadata": {},
   "outputs": [
    {
     "ename": "TypeError",
     "evalue": "__init__() got an unexpected keyword argument 'group_id_index'",
     "output_type": "error",
     "traceback": [
      "\u001b[0;31m---------------------------------------------------------------------------\u001b[0m",
      "\u001b[0;31mTypeError\u001b[0m                                 Traceback (most recent call last)",
      "\u001b[0;32m<ipython-input-88-e8210a6514a8>\u001b[0m in \u001b[0;36m<module>\u001b[0;34m\u001b[0m\n\u001b[0;32m----> 1\u001b[0;31m \u001b[0mgbdtpl\u001b[0m\u001b[0;34m.\u001b[0m\u001b[0mDataMat\u001b[0m\u001b[0;34m(\u001b[0m\u001b[0mname\u001b[0m\u001b[0;34m=\u001b[0m\u001b[0;34m'first'\u001b[0m\u001b[0;34m,\u001b[0m \u001b[0mparams\u001b[0m\u001b[0;34m=\u001b[0m\u001b[0mparams\u001b[0m\u001b[0;34m,\u001b[0m \u001b[0mlabel_index\u001b[0m\u001b[0;34m=\u001b[0m\u001b[0;36m0\u001b[0m\u001b[0;34m,\u001b[0m \u001b[0mgroup_id_index\u001b[0m\u001b[0;34m=\u001b[0m\u001b[0;34m-\u001b[0m\u001b[0;36m1\u001b[0m\u001b[0;34m,\u001b[0m \u001b[0mpath_to_csv_file\u001b[0m\u001b[0;34m=\u001b[0m\u001b[0;34m'...csv'\u001b[0m\u001b[0;34m,\u001b[0m \u001b[0mtrain_dataset\u001b[0m\u001b[0;34m=\u001b[0m\u001b[0;32mNone\u001b[0m\u001b[0;34m)\u001b[0m\u001b[0;34m\u001b[0m\u001b[0;34m\u001b[0m\u001b[0m\n\u001b[0m\u001b[1;32m      2\u001b[0m \u001b[0;34m\u001b[0m\u001b[0m\n",
      "\u001b[0;31mTypeError\u001b[0m: __init__() got an unexpected keyword argument 'group_id_index'"
     ]
    }
   ],
   "source": [
    "gbdtpl.DataMat(name='first', params=params, label_index=0, group_id_index=-1, path_to_csv_file='...csv', train_dataset=None)\n",
    "\n"
   ]
  },
  {
   "cell_type": "code",
   "execution_count": null,
   "id": "3659ea59",
   "metadata": {},
   "outputs": [],
   "source": []
  },
  {
   "cell_type": "code",
   "execution_count": null,
   "id": "c2e1a3fa",
   "metadata": {},
   "outputs": [],
   "source": []
  },
  {
   "cell_type": "code",
   "execution_count": null,
   "id": "f4264390",
   "metadata": {
    "scrolled": false
   },
   "outputs": [],
   "source": [
    "cross_val_VIF_score(tester2)"
   ]
  },
  {
   "cell_type": "code",
   "execution_count": 1,
   "id": "e35473cc",
   "metadata": {
    "scrolled": true
   },
   "outputs": [
    {
     "ename": "NameError",
     "evalue": "name 'corr_list' is not defined",
     "output_type": "error",
     "traceback": [
      "\u001b[0;31m---------------------------------------------------------------------------\u001b[0m",
      "\u001b[0;31mNameError\u001b[0m                                 Traceback (most recent call last)",
      "\u001b[0;32m<ipython-input-1-1f0a9cad91fb>\u001b[0m in \u001b[0;36m<module>\u001b[0;34m\u001b[0m\n\u001b[0;32m----> 1\u001b[0;31m \u001b[0mcorr_list\u001b[0m\u001b[0;34m(\u001b[0m\u001b[0;34m'GrLivArea'\u001b[0m\u001b[0;34m,\u001b[0m \u001b[0mdf2\u001b[0m\u001b[0;34m[\u001b[0m\u001b[0mfeatures_to_use\u001b[0m\u001b[0;34m]\u001b[0m\u001b[0;34m)\u001b[0m\u001b[0;34m\u001b[0m\u001b[0;34m\u001b[0m\u001b[0m\n\u001b[0m",
      "\u001b[0;31mNameError\u001b[0m: name 'corr_list' is not defined"
     ]
    }
   ],
   "source": [
    "corr_list('GrLivArea', df2[features_to_use])"
   ]
  },
  {
   "cell_type": "code",
   "execution_count": null,
   "id": "3250322a",
   "metadata": {
    "scrolled": false
   },
   "outputs": [],
   "source": [
    "tester=df2\n",
    "tester = pd.get_dummies(tester, columns = to_dummify, drop_first = True)\n"
   ]
  },
  {
   "cell_type": "code",
   "execution_count": null,
   "id": "813c126d",
   "metadata": {},
   "outputs": [],
   "source": [
    "cross_val_VIF_score(tester)"
   ]
  },
  {
   "cell_type": "code",
   "execution_count": null,
   "id": "0409bca1",
   "metadata": {},
   "outputs": [],
   "source": []
  },
  {
   "cell_type": "code",
   "execution_count": null,
   "id": "9bb78b61",
   "metadata": {},
   "outputs": [],
   "source": [
    "from sklearn.decomposition import PCA\n",
    "from sklearn.preprocessing import StandardScaler\n",
    "\n",
    "from sklearn.pipeline import Pipeline\n",
    "pca=PCA()"
   ]
  },
  {
   "cell_type": "code",
   "execution_count": null,
   "id": "443495e1",
   "metadata": {},
   "outputs": [],
   "source": [
    "len(pca.explained_variance_ratio_)"
   ]
  },
  {
   "cell_type": "code",
   "execution_count": null,
   "id": "f5c99f82",
   "metadata": {},
   "outputs": [],
   "source": [
    "pca.set_params(n_components=62)"
   ]
  },
  {
   "cell_type": "code",
   "execution_count": null,
   "id": "59dbf40b",
   "metadata": {},
   "outputs": [],
   "source": [
    "pc_tester = pca.fit_transform(tester2)"
   ]
  },
  {
   "cell_type": "code",
   "execution_count": null,
   "id": "66850f76",
   "metadata": {},
   "outputs": [],
   "source": [
    "pc_tester=pd.DataFrame(pc_tester)"
   ]
  },
  {
   "cell_type": "code",
   "execution_count": null,
   "id": "e47c2eaf",
   "metadata": {},
   "outputs": [],
   "source": [
    "cross_val_VIF_score(pc_tester)\n",
    "\n",
    "\n"
   ]
  },
  {
   "cell_type": "code",
   "execution_count": null,
   "id": "9f0a95fc",
   "metadata": {},
   "outputs": [],
   "source": []
  }
 ],
 "metadata": {
  "kernelspec": {
   "display_name": "Python 3",
   "language": "python",
   "name": "python3"
  },
  "language_info": {
   "codemirror_mode": {
    "name": "ipython",
    "version": 3
   },
   "file_extension": ".py",
   "mimetype": "text/x-python",
   "name": "python",
   "nbconvert_exporter": "python",
   "pygments_lexer": "ipython3",
   "version": "3.8.8"
  }
 },
 "nbformat": 4,
 "nbformat_minor": 5
}
