{
 "cells": [
  {
   "cell_type": "code",
   "execution_count": 23,
   "id": "ad9970ce",
   "metadata": {
    "scrolled": false
   },
   "outputs": [
    {
     "data": {
      "text/plain": [
       "Index(['PID', 'GrLivArea', 'SalePrice', 'MSSubClass', 'MSZoning',\n",
       "       'LotFrontage', 'LotArea', 'Street', 'Alley', 'LotShape', 'LandContour',\n",
       "       'Utilities', 'LotConfig', 'LandSlope', 'Neighborhood', 'Condition1',\n",
       "       'Condition2', 'BldgType', 'HouseStyle', 'OverallQual', 'OverallCond',\n",
       "       'YearBuilt', 'YearRemodAdd', 'RoofStyle', 'RoofMatl', 'Exterior1st',\n",
       "       'Exterior2nd', 'MasVnrType', 'MasVnrArea', 'ExterQual', 'ExterCond',\n",
       "       'Foundation', 'BsmtQual', 'BsmtCond', 'BsmtExposure', 'BsmtFinType1',\n",
       "       'BsmtFinSF1', 'BsmtFinType2', 'BsmtFinSF2', 'BsmtUnfSF', 'TotalBsmtSF',\n",
       "       'Heating', 'HeatingQC', 'CentralAir', 'Electrical', '1stFlrSF',\n",
       "       '2ndFlrSF', 'LowQualFinSF', 'BsmtFullBath', 'BsmtHalfBath', 'FullBath',\n",
       "       'HalfBath', 'BedroomAbvGr', 'KitchenAbvGr', 'KitchenQual',\n",
       "       'TotRmsAbvGrd', 'Functional', 'Fireplaces', 'FireplaceQu', 'GarageType',\n",
       "       'GarageYrBlt', 'GarageFinish', 'GarageCars', 'GarageArea', 'GarageQual',\n",
       "       'GarageCond', 'PavedDrive', 'WoodDeckSF', 'OpenPorchSF',\n",
       "       'EnclosedPorch', '3SsnPorch', 'ScreenPorch', 'PoolArea', 'PoolQC',\n",
       "       'Fence', 'MiscFeature', 'MiscVal', 'MoSold', 'YrSold', 'SaleType',\n",
       "       'SaleCondition'],\n",
       "      dtype='object')"
      ]
     },
     "execution_count": 23,
     "metadata": {},
     "output_type": "execute_result"
    }
   ],
   "source": [
    "import numpy as np\n",
    "import pandas as pd\n",
    "%matplotlib inline \n",
    "\n",
    "pd.set_option('display.max_rows', 200)\n",
    "\n",
    "housing = pd.read_csv('../Ames_Housing_Price_Data_raw.csv', index_col=0)\n",
    "housing.head(5).T\n",
    "list(housing.columns)\n",
    "housing.columns"
   ]
  },
  {
   "cell_type": "code",
   "execution_count": 58,
   "id": "272a0c21",
   "metadata": {},
   "outputs": [],
   "source": [
    "allclass=general + lot_aspects + building_size + location + location_aspects + amenities + garage + decks + basement + utilities + quality_ratings + sales_aspect\n",
    "\n"
   ]
  },
  {
   "cell_type": "code",
   "execution_count": 52,
   "id": "86fbf970",
   "metadata": {},
   "outputs": [],
   "source": [
    "general=['PID','SalePrice']\n",
    "lot_aspects=['LotFrontage','LotArea','LotShape','LandSlope','LandContour']\n",
    "building_size=['MSSubClass','BldgType','HouseStyle','1stFlrSF','2ndFlrSF','LowQualFinSF','GrLivArea','BsmtFullBath','BsmtHalfBath','FullBath','HalfBath','BedroomAbvGr','KitchenAbvGr','TotRmsAbvGrd']\n",
    "location=['MSZoning','Street','Alley','Neighborhood']\n",
    "location_aspects=['LotConfig','Condition1','Condition2']\n",
    "amenities=['MiscFeature','Fireplaces','FireplaceQu','PoolQC','PoolArea','PavedDrive']\n",
    "garage=['GarageFinish','GarageType','GarageYrBlt','GarageFinish','GarageCars','GarageArea','GarageQual','GarageCond']\n",
    "decks=['WoodDeckSF','OpenPorchSF','EnclosedPorch','3SsnPorch','ScreenPorch']\n",
    "basement=['BsmtQual','BsmtCond','BsmtExposure','BsmtFinType1','BsmtFinSF1','BsmtFinType2','BsmtFinSF2','BsmtUnfSF','TotalBsmtSF']\n",
    "utilities=['Foundation','Utilities','Heating','HeatingQC','CentralAir','Electrical']\n",
    "quality_ratings=['ExterQual','OverallQual','OverallCond','MiscVal','YearBuilt','YearRemodAdd','KitchenQual','Fence','RoofStyle','RoofMatl','Exterior1st','Exterior2nd','ExterCond','MasVnrType','MasVnrArea']\n",
    "sales_aspect=['Functional','SaleCondition','SaleType','MoSold','YrSold']\n"
   ]
  },
  {
   "cell_type": "code",
   "execution_count": 63,
   "id": "78e4a519",
   "metadata": {},
   "outputs": [],
   "source": [
    "\n",
    "person1 = lot_aspects + location + location_aspects + utilities #18\n",
    "person2 = building_size + sales_aspect #19\n",
    "person3 = amenities + quality_ratings  #21\n",
    "person4 = basement + decks + garage #21\n",
    "\n",
    "person1data=housing[general + person1]\n",
    "person2data=housing[general + person2]\n",
    "person3data=housing[general + person3]\n",
    "person4data=housing[general + person4]\n",
    "\n"
   ]
  },
  {
   "cell_type": "code",
   "execution_count": 70,
   "id": "e24e9161",
   "metadata": {},
   "outputs": [],
   "source": [
    "person1data.to_csv('person1data.csv')\n",
    "person2data.to_csv('person2data.csv')\n",
    "person3data.to_csv('person3data.csv')\n",
    "person4data.to_csv('person4data.csv')"
   ]
  },
  {
   "cell_type": "code",
   "execution_count": null,
   "id": "9ed93fa3",
   "metadata": {},
   "outputs": [],
   "source": []
  }
 ],
 "metadata": {
  "kernelspec": {
   "display_name": "Python 3",
   "language": "python",
   "name": "python3"
  },
  "language_info": {
   "codemirror_mode": {
    "name": "ipython",
    "version": 3
   },
   "file_extension": ".py",
   "mimetype": "text/x-python",
   "name": "python",
   "nbconvert_exporter": "python",
   "pygments_lexer": "ipython3",
   "version": "3.8.8"
  }
 },
 "nbformat": 4,
 "nbformat_minor": 5
}
