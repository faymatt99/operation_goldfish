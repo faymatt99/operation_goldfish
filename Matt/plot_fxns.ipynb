{
 "cells": [
  {
   "cell_type": "code",
   "execution_count": null,
   "id": "1e5ea569",
   "metadata": {},
   "outputs": [],
   "source": [
    "import numpy as np\n",
    "import pandas as pd\n",
    "import plotly.express as px\n",
    "from scipy import stats\n",
    "\n",
    "def EDA_plots(df):\n",
    "    for feature in df.columns:\n",
    "        if feature != 'SalePrice':\n",
    "            print(feature)\n",
    "            scatter = px.scatter(x = df[f'{feature}'], y = df['SalePrice'])\n",
    "            scatter.update_layout(\n",
    "                title={\n",
    "                    'text': f'Scatterplot, {feature} vs SalePrice',\n",
    "                    'y':0.95,\n",
    "                    'x':0.5,\n",
    "                    'xanchor': 'center',\n",
    "                    'yanchor': 'top'},\n",
    "                xaxis_title = f'{feature}',\n",
    "                yaxis_title = 'SalePrice'\n",
    "            )\n",
    "            scatter.show()\n",
    "            hist = px.histogram(x = df[f'{feature}'])\n",
    "            hist.update_layout(\n",
    "                title={\n",
    "                    'text': f'Distribution of {feature}',\n",
    "                    'y':0.95,\n",
    "                    'x':0.5,\n",
    "                    'xanchor': 'center',\n",
    "                    'yanchor': 'top'},\n",
    "                xaxis_title = f'{feature}',\n",
    "                yaxis_title = 'Frequency'\n",
    "            )\n",
    "            hist.show()\n",
    "            box = px.box(x = df[f'{feature}'], y = df['SalePrice'])\n",
    "            box.update_layout(\n",
    "                title={\n",
    "                    'text': f'Boxplot, {feature} vs SalePrice',\n",
    "                    'y':0.95,\n",
    "                    'x':0.5,\n",
    "                    'xanchor': 'center',\n",
    "                    'yanchor': 'top'},\n",
    "                xaxis_title = f'{feature}',\n",
    "                yaxis_title = 'Frequency'\n",
    "            )\n",
    "            box.show()\n",
    "            if type(df.loc[0, f'{feature}']) != str:\n",
    "                price_corr = df[f'{feature}'].corr(df['SalePrice'])\n",
    "                print(f'Correlation between {feature} and sale price is {price_corr}')\n",
    "                temp = df[df[f'{feature}'].isna() == False]\n",
    "                linreg = stats.linregress(temp[f'{feature}'], temp['SalePrice'] )\n",
    "                print(linreg)\n",
    "                linreg.rvalue**2"
   ]
  }
 ],
 "metadata": {
  "kernelspec": {
   "display_name": "Python 3",
   "language": "python",
   "name": "python3"
  },
  "language_info": {
   "codemirror_mode": {
    "name": "ipython",
    "version": 3
   },
   "file_extension": ".py",
   "mimetype": "text/x-python",
   "name": "python",
   "nbconvert_exporter": "python",
   "pygments_lexer": "ipython3",
   "version": "3.8.8"
  }
 },
 "nbformat": 4,
 "nbformat_minor": 5
}
