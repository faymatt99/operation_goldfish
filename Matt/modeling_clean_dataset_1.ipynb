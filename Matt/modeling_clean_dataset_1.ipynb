{
 "cells": [
  {
   "cell_type": "code",
   "execution_count": 1,
   "id": "ca5a36aa",
   "metadata": {},
   "outputs": [],
   "source": [
    "import numpy as np\n",
    "import pandas as pd\n",
    "from scipy import stats\n",
    "from sklearn.linear_model import Ridge, Lasso, ElasticNet, LinearRegression\n",
    "import plotly.express as px\n",
    "import matplotlib.pyplot as plt\n",
    "import plotly.graph_objects as go\n",
    "from sklearn.model_selection import train_test_split\n",
    "from sklearn.model_selection import GridSearchCV\n",
    "from sklearn.model_selection import KFold, StratifiedKFold\n",
    "from sklearn.model_selection import cross_val_score"
   ]
  },
  {
   "cell_type": "code",
   "execution_count": 2,
   "id": "28c4ef93",
   "metadata": {},
   "outputs": [],
   "source": [
    "df = pd.read_csv('./../data/ames_housing_price_data_v3.csv', index_col = 0)"
   ]
  },
  {
   "cell_type": "code",
   "execution_count": 3,
   "id": "32e0c3a2",
   "metadata": {},
   "outputs": [],
   "source": [
    "price = df['SalePrice']\n",
    "price_log = df['SalePrice_log']"
   ]
  },
  {
   "cell_type": "code",
   "execution_count": 12,
   "id": "1ed1baf5",
   "metadata": {},
   "outputs": [],
   "source": [
    "df2 = df.drop(['SalePrice', 'Heating', 'MS_coded', 'SalePrice_log', 'sold_datetime'], axis = 1)"
   ]
  },
  {
   "cell_type": "code",
   "execution_count": 6,
   "id": "005a4f93",
   "metadata": {},
   "outputs": [],
   "source": [
    "df3 = pd.get_dummies(df2, drop_first = True)"
   ]
  },
  {
   "cell_type": "code",
   "execution_count": 14,
   "id": "d428b12c",
   "metadata": {},
   "outputs": [
    {
     "data": {
      "text/plain": [
       "PID\n",
       "909176150    Gas-powered forced-air heating\n",
       "905476230    Gas-powered forced-air heating\n",
       "911128020    Gas-powered forced-air heating\n",
       "535377150    Gas-powered forced-air heating\n",
       "534177230    Gas-powered forced-air heating\n",
       "                          ...              \n",
       "903205040                             Other\n",
       "905402060    Gas-powered forced-air heating\n",
       "909275030    Gas-powered forced-air heating\n",
       "907192040    Gas-powered forced-air heating\n",
       "906223180    Gas-powered forced-air heating\n",
       "Name: Heating_com, Length: 2579, dtype: object"
      ]
     },
     "execution_count": 14,
     "metadata": {},
     "output_type": "execute_result"
    }
   ],
   "source": [
    "df2['Heating_com']"
   ]
  },
  {
   "cell_type": "code",
   "execution_count": null,
   "id": "ca3a908e",
   "metadata": {},
   "outputs": [],
   "source": [
    "to_dummify = [\n",
    " 'Street_paved',\n",
    " 'Alley',\n",
    " 'LandContour',\n",
    " 'Utilities',\n",
    " 'LandSlope',\n",
    " 'Neighborhood',\n",
    " 'BldgType',\n",
    " 'OverallQual',\n",
    " 'OverallCond',\n",
    " 'RoofStyle',\n",
    " 'RoofMatl',\n",
    " 'MasVnrType',\n",
    " 'MasVnrArea',\n",
    " 'ExterQual',\n",
    " 'ExterCond',\n",
    " 'Foundation',\n",
    " 'Heating',\n",
    " 'CentralAir',\n",
    " 'KitchenQual',\n",
    " 'FireplaceQu',\n",
    " 'GarageFinish',\n",
    " 'GarageQual',\n",
    " 'GarageCond',\n",
    " 'PavedDrive',\n",
    " 'WoodDeckSF',\n",
    " 'OpenPorchSF',\n",
    " 'EnclosedPorch',\n",
    " '3SsnPorch',\n",
    " 'ScreenPorch',\n",
    " 'PoolQC',\n",
    " 'Fence',\n",
    " 'MiscFeature',\n",
    " 'MiscVal',\n",
    " 'MoSold',\n",
    " 'SaleType',\n",
    " 'SaleCondition',\n",
    " 'HeatingQC_ord',\n",
    " 'LotShape_com',\n",
    " 'MSZoning_com',\n",
    " 'LF_Near_NS_RR',\n",
    " 'LF_Near_Positive_Feature',\n",
    " 'LF_Adjacent_Arterial_St',\n",
    " 'LF_Near_EW_RR',\n",
    " 'LF_Adjacent_Feeder_St',\n",
    " 'LF_Near_Postive_Feature',\n",
    " 'Heating_com',\n",
    " 'Electrical_com',\n",
    " 'LotConfig_com',\n",
    " 'LotFrontage_log',\n",
    " 'LotArea_log',\n",
    " 'ext_Wood_Siding',\n",
    " 'ext_Hard_Board',\n",
    " 'ext_Metal_Siding',\n",
    " 'ext_Vinyl_Siding',\n",
    " 'ext_Wood_Shingles',\n",
    " 'ext_Plywood',\n",
    " 'ext_Stucco',\n",
    " 'ext_Cement_Board',\n",
    " 'ext_Face_Brick',\n",
    " 'ext_Asbestos_Shingles',\n",
    " 'ext_Common_Brick',\n",
    " 'ext_Imitation_Stucco',\n",
    " 'ext_Other',\n",
    " 'BsmtCond_ord',\n",
    " 'BsmtQual_ord',\n",
    " 'BsmtExposure_ord',\n",
    " 'BSMT_GLQ',\n",
    " 'BSMT_ALQ',\n",
    " 'BSMT_BLQ',\n",
    " 'BSMT_LwQ',\n",
    " 'BSMT_Rec',\n",
    " 'GarageType_com',\n",
    " 'number_floors',\n",
    " 'attic',\n",
    " 'PUD',\n",
    " 'Functional_ord',\n",
    "]"
   ]
  },
  {
   "cell_type": "code",
   "execution_count": 11,
   "id": "fcd61dbc",
   "metadata": {
    "scrolled": false
   },
   "outputs": [
    {
     "data": {
      "text/plain": [
       "['GrLivArea',\n",
       " 'LotFrontage',\n",
       " 'LotArea',\n",
       " 'Street_paved',\n",
       " 'Alley',\n",
       " 'LandContour',\n",
       " 'Utilities',\n",
       " 'LandSlope',\n",
       " 'Neighborhood',\n",
       " 'BldgType',\n",
       " 'OverallQual',\n",
       " 'OverallCond',\n",
       " 'YearBuilt',\n",
       " 'YearRemodAdd',\n",
       " 'RoofStyle',\n",
       " 'RoofMatl',\n",
       " 'MasVnrType',\n",
       " 'MasVnrArea',\n",
       " 'ExterQual',\n",
       " 'ExterCond',\n",
       " 'Foundation',\n",
       " 'BsmtUnfSF',\n",
       " 'TotalBsmtSF',\n",
       " 'Heating',\n",
       " 'CentralAir',\n",
       " '1stFlrSF',\n",
       " '2ndFlrSF',\n",
       " 'LowQualFinSF',\n",
       " 'BsmtFullBath',\n",
       " 'BsmtHalfBath',\n",
       " 'FullBath',\n",
       " 'HalfBath',\n",
       " 'BedroomAbvGr',\n",
       " 'KitchenAbvGr',\n",
       " 'KitchenQual',\n",
       " 'TotRmsAbvGrd',\n",
       " 'Fireplaces',\n",
       " 'FireplaceQu',\n",
       " 'GarageYrBlt',\n",
       " 'GarageFinish',\n",
       " 'GarageCars',\n",
       " 'GarageArea',\n",
       " 'GarageQual',\n",
       " 'GarageCond',\n",
       " 'PavedDrive',\n",
       " 'WoodDeckSF',\n",
       " 'OpenPorchSF',\n",
       " 'EnclosedPorch',\n",
       " '3SsnPorch',\n",
       " 'ScreenPorch',\n",
       " 'PoolArea',\n",
       " 'PoolQC',\n",
       " 'Fence',\n",
       " 'MiscFeature',\n",
       " 'MiscVal',\n",
       " 'MoSold',\n",
       " 'YrSold',\n",
       " 'SaleType',\n",
       " 'SaleCondition',\n",
       " 'HeatingQC_ord',\n",
       " 'LotShape_com',\n",
       " 'MSZoning_com',\n",
       " 'LF_Near_NS_RR',\n",
       " 'LF_Near_Positive_Feature',\n",
       " 'LF_Adjacent_Arterial_St',\n",
       " 'LF_Near_EW_RR',\n",
       " 'LF_Adjacent_Feeder_St',\n",
       " 'LF_Near_Postive_Feature',\n",
       " 'Heating_com',\n",
       " 'Electrical_com',\n",
       " 'LotConfig_com',\n",
       " 'LotFrontage_log',\n",
       " 'LotArea_log',\n",
       " 'ext_Wood_Siding',\n",
       " 'ext_Hard_Board',\n",
       " 'ext_Metal_Siding',\n",
       " 'ext_Vinyl_Siding',\n",
       " 'ext_Wood_Shingles',\n",
       " 'ext_Plywood',\n",
       " 'ext_Stucco',\n",
       " 'ext_Cement_Board',\n",
       " 'ext_Face_Brick',\n",
       " 'ext_Asbestos_Shingles',\n",
       " 'ext_Common_Brick',\n",
       " 'ext_Imitation_Stucco',\n",
       " 'ext_Other',\n",
       " 'BsmtCond_ord',\n",
       " 'BsmtQual_ord',\n",
       " 'BsmtExposure_ord',\n",
       " 'BSMT_GLQ',\n",
       " 'BSMT_ALQ',\n",
       " 'BSMT_BLQ',\n",
       " 'BSMT_LwQ',\n",
       " 'BSMT_Rec',\n",
       " 'GarageType_com',\n",
       " 'MS_coded',\n",
       " 'number_floors',\n",
       " 'attic',\n",
       " 'PUD',\n",
       " 'Functional_ord',\n",
       " '1stFlrSF_log',\n",
       " '2ndFlrSF_log',\n",
       " 'GrLivArea_log',\n",
       " 'sold_age_years']"
      ]
     },
     "execution_count": 11,
     "metadata": {},
     "output_type": "execute_result"
    }
   ],
   "source": [
    "list(df2.columns)"
   ]
  },
  {
   "cell_type": "code",
   "execution_count": null,
   "id": "6b06d9db",
   "metadata": {},
   "outputs": [],
   "source": [
    "pd.get_dummies()"
   ]
  },
  {
   "cell_type": "code",
   "execution_count": 7,
   "id": "e6c85a97",
   "metadata": {},
   "outputs": [],
   "source": [
    "lasso = Lasso(normalize = True)"
   ]
  },
  {
   "cell_type": "code",
   "execution_count": 8,
   "id": "4203f8c7",
   "metadata": {},
   "outputs": [],
   "source": [
    "params = {'alpha' : [1e-8, 1e-7, 1e-6, 1e-5, 1e-4, 1e-3, 1e-2, 1e-1, 1, 10, 100]\n",
    "         }"
   ]
  },
  {
   "cell_type": "code",
   "execution_count": null,
   "id": "7cf15b8f",
   "metadata": {},
   "outputs": [],
   "source": [
    "skfold = StratifiedKFold(n_splits=5, shuffle = True, random_state = 1)"
   ]
  }
 ],
 "metadata": {
  "kernelspec": {
   "display_name": "Python 3",
   "language": "python",
   "name": "python3"
  },
  "language_info": {
   "codemirror_mode": {
    "name": "ipython",
    "version": 3
   },
   "file_extension": ".py",
   "mimetype": "text/x-python",
   "name": "python",
   "nbconvert_exporter": "python",
   "pygments_lexer": "ipython3",
   "version": "3.8.8"
  }
 },
 "nbformat": 4,
 "nbformat_minor": 5
}
