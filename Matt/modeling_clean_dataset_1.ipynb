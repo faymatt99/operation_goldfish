{
 "cells": [
  {
   "cell_type": "code",
   "execution_count": 1,
   "id": "2f32e344",
   "metadata": {},
   "outputs": [],
   "source": [
    "import numpy as np\n",
    "import pandas as pd\n",
    "from scipy import stats\n",
    "from sklearn.linear_model import Ridge, Lasso, ElasticNet, LinearRegression\n",
    "import plotly.express as px\n",
    "import matplotlib.pyplot as plt\n",
    "import plotly.graph_objects as go\n",
    "from sklearn.model_selection import train_test_split\n",
    "from sklearn.model_selection import GridSearchCV\n",
    "from sklearn.model_selection import KFold, StratifiedKFold\n",
    "from sklearn.model_selection import cross_val_score\n",
    "import time"
   ]
  },
  {
   "cell_type": "code",
   "execution_count": 2,
   "id": "eebb3ac4",
   "metadata": {},
   "outputs": [],
   "source": [
    "pd.set_option('display.max_rows', 500)"
   ]
  },
  {
   "cell_type": "code",
   "execution_count": 3,
   "id": "7c0c4a52",
   "metadata": {},
   "outputs": [],
   "source": [
    "df = pd.read_csv('./../data/ames_housing_price_data_v4.csv')"
   ]
  },
  {
   "cell_type": "code",
   "execution_count": 4,
   "id": "c2c7a19f",
   "metadata": {},
   "outputs": [],
   "source": [
    "def seasonal_adjust(df, mo_avg):\n",
    "    df['SalePrice_adj'] = 0 * len(df)\n",
    "    for i in range(len(df)):\n",
    "        df.loc[i, 'SalePrice_adj'] = df.loc[i, 'SalePrice'] / mo_avg[(df.loc[i, 'MoSold'])]\n",
    "    return df"
   ]
  },
  {
   "cell_type": "code",
   "execution_count": 5,
   "id": "a547ab63",
   "metadata": {},
   "outputs": [],
   "source": [
    "mo_avg = df.groupby('MoSold').agg(monthly_avg = ('SalePrice', 'mean'))['monthly_avg']"
   ]
  },
  {
   "cell_type": "code",
   "execution_count": 7,
   "id": "85e625ae",
   "metadata": {},
   "outputs": [],
   "source": [
    "df = seasonal_adjust(df, mo_avg)"
   ]
  },
  {
   "cell_type": "code",
   "execution_count": 8,
   "id": "2c9bcb57",
   "metadata": {},
   "outputs": [],
   "source": [
    "df['SalePrice_adj_log'] = np.log10(df['SalePrice_adj'])"
   ]
  },
  {
   "cell_type": "code",
   "execution_count": 9,
   "id": "8eebefd4",
   "metadata": {},
   "outputs": [],
   "source": [
    "price = df['SalePrice']\n",
    "price_log = df['SalePrice_log']\n",
    "price_adj = df['SalePrice_adj']\n",
    "price_adj_log = df['SalePrice_adj_log']"
   ]
  },
  {
   "cell_type": "code",
   "execution_count": 10,
   "id": "dae671f2",
   "metadata": {},
   "outputs": [
    {
     "data": {
      "text/plain": [
       "['SalePrice_log',\n",
       " 'LotFrontage_log',\n",
       " 'LotArea_log',\n",
       " '1stFlrSF_log',\n",
       " '2ndFlrSF_log',\n",
       " 'GrLivArea_log',\n",
       " 'SalePrice_adj_log']"
      ]
     },
     "execution_count": 10,
     "metadata": {},
     "output_type": "execute_result"
    }
   ],
   "source": [
    "log_cols = []\n",
    "for col in df.columns:\n",
    "    if '_log' in col:\n",
    "        log_cols.append(col)\n",
    "log_cols"
   ]
  },
  {
   "cell_type": "code",
   "execution_count": 11,
   "id": "3768b3c7",
   "metadata": {},
   "outputs": [],
   "source": [
    "droplist = ['SaleType', 'SaleCondition', 'Garage_age_years', 'Remod_age_years', 'MoSold']\n",
    "alwaysdrop = ['PID', 'SalePrice', 'SalePrice_log', 'SalePrice_adj', 'SalePrice_adj_log', 'sold_datetime']\n",
    "df2 = df.drop((alwaysdrop + droplist), axis = 1)"
   ]
  },
  {
   "cell_type": "code",
   "execution_count": 12,
   "id": "4e0722d7",
   "metadata": {},
   "outputs": [],
   "source": [
    "to_dummify = [\n",
    "    'Street_paved',\n",
    "    'Alley',\n",
    "    'LandContour',\n",
    "    'Utilities',\n",
    "    'LandSlope',\n",
    "    'Neighborhood',\n",
    "    'BldgType',\n",
    "    'OverallQual',\n",
    "    'OverallCond',\n",
    "    'RoofStyle',\n",
    "    'RoofMatl',\n",
    "    'MasVnrType',\n",
    "    'ExterQual',\n",
    "    'ExterCond',\n",
    "    'Foundation',\n",
    "    'CentralAir',\n",
    "    'KitchenQual',\n",
    "    'FireplaceQu',\n",
    "    'GarageFinish',\n",
    "    'GarageQual',\n",
    "    'GarageCond',\n",
    "    'PavedDrive',\n",
    "    'PoolQC',\n",
    "    'Fence',\n",
    "    'MiscFeature',\n",
    "    #'MoSold',\n",
    "    'HeatingQC_ord',\n",
    "    'LotShape_com',\n",
    "    'MSZoning_com',\n",
    "    'Heating_com',\n",
    "    'Electrical_com',\n",
    "    'LotConfig_com',\n",
    "    'BsmtCond_ord',\n",
    "    'BsmtQual_ord',\n",
    "    'BsmtExposure_ord',\n",
    "    'GarageType_com',\n",
    "    'number_floors',\n",
    "    'attic',\n",
    "    'PUD',\n",
    "    'Functional_ord',\n",
    "    'Garage_age_bin',\n",
    "    'Remod_age_bin',\n",
    "    #'SaleType',\n",
    "    #'SaleCondition' \n",
    "]"
   ]
  },
  {
   "cell_type": "code",
   "execution_count": 13,
   "id": "baac740d",
   "metadata": {},
   "outputs": [],
   "source": [
    "df3 = pd.get_dummies(df2, columns = to_dummify, drop_first = True)"
   ]
  },
  {
   "cell_type": "code",
   "execution_count": 14,
   "id": "de70f18d",
   "metadata": {},
   "outputs": [],
   "source": [
    "lasso = Lasso(normalize = True, max_iter = 5000)"
   ]
  },
  {
   "cell_type": "code",
   "execution_count": 15,
   "id": "7c02cc93",
   "metadata": {},
   "outputs": [],
   "source": [
    "params = {'alpha' : [1e-2, 1e-1, 1, 10, 100]\n",
    "         }"
   ]
  },
  {
   "cell_type": "code",
   "execution_count": 16,
   "id": "1ad68b90",
   "metadata": {},
   "outputs": [],
   "source": [
    "kfold = KFold(n_splits=10, shuffle = True, random_state = 1)\n",
    "\n",
    "lasso_tuner = GridSearchCV(lasso, params, cv=kfold, return_train_score = True)"
   ]
  },
  {
   "cell_type": "code",
   "execution_count": null,
   "id": "e5a5dcb0",
   "metadata": {},
   "outputs": [],
   "source": [
    "#sample_indices = np.random.choice(df3.index, size = len(df3.index)//100, replace = False)"
   ]
  },
  {
   "cell_type": "code",
   "execution_count": null,
   "id": "3e690d65",
   "metadata": {},
   "outputs": [],
   "source": [
    "#sample_df = df3.loc[sample_indices,:]"
   ]
  },
  {
   "cell_type": "code",
   "execution_count": null,
   "id": "0139a5b7",
   "metadata": {},
   "outputs": [],
   "source": [
    "#sample_price = price[sample_indices]"
   ]
  },
  {
   "cell_type": "code",
   "execution_count": null,
   "id": "bd344139",
   "metadata": {},
   "outputs": [],
   "source": [
    "#start = time.time()\n",
    "#lasso_tuner.fit(sample_df, sample_price)\n",
    "#end = time.time()"
   ]
  },
  {
   "cell_type": "code",
   "execution_count": null,
   "id": "60bff3f8",
   "metadata": {},
   "outputs": [],
   "source": [
    "#end-start # for 1% of dataset"
   ]
  },
  {
   "cell_type": "code",
   "execution_count": 24,
   "id": "31fbe23b",
   "metadata": {},
   "outputs": [
    {
     "name": "stderr",
     "output_type": "stream",
     "text": [
      "C:\\Users\\fayma\\anaconda3\\lib\\site-packages\\sklearn\\linear_model\\_coordinate_descent.py:530: ConvergenceWarning: Objective did not converge. You might want to increase the number of iterations. Duality gap: 11762035777.876709, tolerance: 1286852617.5163164\n",
      "  model = cd_fast.enet_coordinate_descent(\n",
      "C:\\Users\\fayma\\anaconda3\\lib\\site-packages\\sklearn\\linear_model\\_coordinate_descent.py:530: ConvergenceWarning: Objective did not converge. You might want to increase the number of iterations. Duality gap: 222362057700.46912, tolerance: 1298035783.485195\n",
      "  model = cd_fast.enet_coordinate_descent(\n",
      "C:\\Users\\fayma\\anaconda3\\lib\\site-packages\\sklearn\\linear_model\\_coordinate_descent.py:530: ConvergenceWarning: Objective did not converge. You might want to increase the number of iterations. Duality gap: 26723920291.854004, tolerance: 1318286473.5296564\n",
      "  model = cd_fast.enet_coordinate_descent(\n",
      "C:\\Users\\fayma\\anaconda3\\lib\\site-packages\\sklearn\\linear_model\\_coordinate_descent.py:530: ConvergenceWarning: Objective did not converge. You might want to increase the number of iterations. Duality gap: 206860120100.63153, tolerance: 1332182030.291898\n",
      "  model = cd_fast.enet_coordinate_descent(\n",
      "C:\\Users\\fayma\\anaconda3\\lib\\site-packages\\sklearn\\linear_model\\_coordinate_descent.py:530: ConvergenceWarning: Objective did not converge. You might want to increase the number of iterations. Duality gap: 25973615671.96106, tolerance: 1307131349.2539086\n",
      "  model = cd_fast.enet_coordinate_descent(\n",
      "C:\\Users\\fayma\\anaconda3\\lib\\site-packages\\sklearn\\linear_model\\_coordinate_descent.py:530: ConvergenceWarning: Objective did not converge. You might want to increase the number of iterations. Duality gap: 34138780300.57141, tolerance: 1292722467.7722883\n",
      "  model = cd_fast.enet_coordinate_descent(\n",
      "C:\\Users\\fayma\\anaconda3\\lib\\site-packages\\sklearn\\linear_model\\_coordinate_descent.py:530: ConvergenceWarning: Objective did not converge. You might want to increase the number of iterations. Duality gap: 22274361604.330322, tolerance: 1336329976.6944695\n",
      "  model = cd_fast.enet_coordinate_descent(\n",
      "C:\\Users\\fayma\\anaconda3\\lib\\site-packages\\sklearn\\linear_model\\_coordinate_descent.py:530: ConvergenceWarning: Objective did not converge. You might want to increase the number of iterations. Duality gap: 24745516119.33142, tolerance: 1297856208.5991142\n",
      "  model = cd_fast.enet_coordinate_descent(\n",
      "C:\\Users\\fayma\\anaconda3\\lib\\site-packages\\sklearn\\linear_model\\_coordinate_descent.py:530: ConvergenceWarning: Objective did not converge. You might want to increase the number of iterations. Duality gap: 42461674041.12402, tolerance: 1285170716.5492177\n",
      "  model = cd_fast.enet_coordinate_descent(\n",
      "C:\\Users\\fayma\\anaconda3\\lib\\site-packages\\sklearn\\linear_model\\_coordinate_descent.py:530: ConvergenceWarning: Objective did not converge. You might want to increase the number of iterations. Duality gap: 22066335465.4729, tolerance: 1311834378.1516051\n",
      "  model = cd_fast.enet_coordinate_descent(\n"
     ]
    },
    {
     "data": {
      "text/plain": [
       "GridSearchCV(cv=KFold(n_splits=10, random_state=1, shuffle=True),\n",
       "             estimator=Lasso(max_iter=5000, normalize=True),\n",
       "             param_grid={'alpha': [0.01, 0.1, 1, 10, 100]},\n",
       "             return_train_score=True)"
      ]
     },
     "execution_count": 24,
     "metadata": {},
     "output_type": "execute_result"
    }
   ],
   "source": [
    "lasso_tuner.fit(df3, price)"
   ]
  },
  {
   "cell_type": "code",
   "execution_count": 25,
   "id": "905cdd6a",
   "metadata": {},
   "outputs": [
    {
     "data": {
      "text/plain": [
       "array([0.90741343, 0.90811607, 0.90938874, 0.91068931, 0.85936976])"
      ]
     },
     "execution_count": 25,
     "metadata": {},
     "output_type": "execute_result"
    }
   ],
   "source": [
    "lasso_tuner.cv_results_['mean_test_score']"
   ]
  },
  {
   "cell_type": "code",
   "execution_count": 27,
   "id": "75e8dfc6",
   "metadata": {},
   "outputs": [
    {
     "data": {
      "text/plain": [
       "array([0.93768857, 0.93758827, 0.93664347, 0.92987576, 0.86943186])"
      ]
     },
     "execution_count": 27,
     "metadata": {},
     "output_type": "execute_result"
    }
   ],
   "source": [
    "lasso_tuner.cv_results_['mean_train_score']"
   ]
  },
  {
   "cell_type": "code",
   "execution_count": 31,
   "id": "1449faa6",
   "metadata": {},
   "outputs": [
    {
     "name": "stdout",
     "output_type": "stream",
     "text": [
      "{'alpha': 10}\n",
      "0.9106893120910808\n"
     ]
    }
   ],
   "source": [
    "print(lasso_tuner.best_params_)\n",
    "print(max(lasso_tuner.cv_results_['mean_test_score']))"
   ]
  },
  {
   "cell_type": "code",
   "execution_count": 29,
   "id": "d95199c2",
   "metadata": {
    "scrolled": false
   },
   "outputs": [
    {
     "name": "stdout",
     "output_type": "stream",
     "text": [
      "230\n",
      "104\n"
     ]
    },
    {
     "data": {
      "text/plain": [
       "Neighborhood_GrnHill                                   92227.067392\n",
       "OverallQual_10                                         73840.140935\n",
       "PoolQC_5                                               62681.682766\n",
       "OverallQual_9                                          46923.536937\n",
       "RoofMatl_Wood Shingles                                 40755.943631\n",
       "Neighborhood_StoneBr                                   33985.595592\n",
       "Neighborhood_NoRidge                                   25542.115240\n",
       "OverallQual_8                                          21124.832990\n",
       "ExterQual_5                                            19501.079137\n",
       "Neighborhood_NridgHt                                   18691.303847\n",
       "LotArea_log                                            18043.001358\n",
       "Neighborhood_Crawfor                                   16906.751343\n",
       "Neighborhood_Somerst                                   16475.982515\n",
       "GarageQual_5                                           16255.331491\n",
       "BsmtQual_ord_5                                         14280.373742\n",
       "OverallCond_9                                          12728.819762\n",
       "BsmtExposure_ord_4                                     11893.320148\n",
       "ext_Face_Brick                                         11422.710179\n",
       "KitchenQual_5                                           9965.936663\n",
       "OverallCond_8                                           9230.541438\n",
       "Functional_ord_7                                        8876.174930\n",
       "OverallCond_7                                           7454.913754\n",
       "Neighborhood_NPkVill                                    7058.401222\n",
       "Fireplaces                                              6076.497798\n",
       "OverallQual_7                                           5944.445791\n",
       "FireplaceQu_5                                           5831.728789\n",
       "ext_Stucco                                              5519.433869\n",
       "LF_Near_Postive_Feature                                 3908.468225\n",
       "Street_paved_Pave                                       3800.673834\n",
       "GarageCars                                              3153.045698\n",
       "GarageQual_4                                            3124.367455\n",
       "LotConfig_com_Cul-de-sac lot                            3122.901011\n",
       "Neighborhood_ClearCr                                    2640.560203\n",
       "Neighborhood_BrkSide                                    2558.335904\n",
       "ext_Vinyl_Siding                                        2340.548923\n",
       "BsmtExposure_ord_3                                      2224.849496\n",
       "LandContour_Hillside (downward slope on both sides)     1953.715358\n",
       "HeatingQC_ord_5                                         1780.203517\n",
       "Foundation_PConc                                        1042.853202\n",
       "ext_Common_Brick                                        1036.115473\n",
       "MSZoning_com_Residential, low-density                    844.820199\n",
       "BsmtFullBath                                             751.293190\n",
       "HalfBath                                                 706.640981\n",
       "FullBath                                                 538.840419\n",
       "FireplaceQu_4                                            365.587446\n",
       "Neighborhood_BrDale                                      318.022832\n",
       "Neighborhood_Blueste                                      58.691666\n",
       "GrLivArea                                                 50.344834\n",
       "Foundation_Stone                                          44.058606\n",
       "ScreenPorch                                               33.149934\n",
       "BSMT_GLQ                                                  22.431287\n",
       "TotalBsmtSF                                               17.731504\n",
       "MasVnrArea                                                14.482519\n",
       "GarageArea                                                12.334255\n",
       "BSMT_ALQ                                                   9.894535\n",
       "WoodDeckSF                                                 5.156043\n",
       "3SsnPorch                                                  4.477210\n",
       "EnclosedPorch                                              2.552367\n",
       "BSMT_BLQ                                                   2.453318\n",
       "LotArea                                                    0.213577\n",
       "LotFrontage                                              -12.178992\n",
       "LowQualFinSF                                             -17.832759\n",
       "GarageFinish_RFn                                        -222.904053\n",
       "house_age_years                                         -317.500680\n",
       "BsmtExposure_ord_1                                      -484.503540\n",
       "Garage_age_bin_40-60                                    -537.844419\n",
       "Neighborhood_NAmes                                      -860.921420\n",
       "LF_Near_NS_RR                                           -965.015698\n",
       "HeatingQC_ord_2                                        -1048.628112\n",
       "BedroomAbvGr                                           -1127.807510\n",
       "FireplaceQu_2                                          -1267.108137\n",
       "KitchenQual_2                                          -1296.372933\n",
       "GarageType_com_Basement                                -1319.267110\n",
       "Garage_age_bin_20-40                                   -1351.782584\n",
       "OverallQual_5                                          -1356.502588\n",
       "Neighborhood_NWAmes                                    -1370.380796\n",
       "HeatingQC_ord_3                                        -1486.048737\n",
       "Neighborhood_Mitchel                                   -1530.996887\n",
       "Neighborhood_IDOTRR                                    -2022.935439\n",
       "Remod_age_bin_45+                                      -2252.934570\n",
       "ExterQual_3                                            -2355.312716\n",
       "LF_Near_Positive_Feature                               -2457.325729\n",
       "Remod_age_bin_30-45                                    -2721.852440\n",
       "Functional_ord_2                                       -2807.797465\n",
       "Neighborhood_OldTown                                   -2889.942486\n",
       "ext_Asbestos_Shingles                                  -3217.104473\n",
       "OverallQual_4                                          -3324.992423\n",
       "BldgType_2fmCon                                        -3439.738614\n",
       "GarageCond_2                                           -3522.976781\n",
       "OverallCond_5                                          -3787.297313\n",
       "KitchenQual_3                                          -4004.727744\n",
       "Neighborhood_Edwards                                   -4339.503483\n",
       "ExterCond_2                                            -4954.753008\n",
       "RoofStyle_Mansard                                      -5377.339378\n",
       "LF_Adjacent_Feeder_St                                  -5648.167540\n",
       "LF_Near_EW_RR                                          -6689.662632\n",
       "LF_Adjacent_Arterial_St                                -8285.506065\n",
       "KitchenAbvGr                                           -9222.566839\n",
       "PUD_1                                                 -11007.210027\n",
       "OverallCond_4                                         -11336.801660\n",
       "Functional_ord_3                                      -11680.458857\n",
       "BldgType_Duplex                                       -13396.228243\n",
       "OverallCond_3                                         -22571.737308\n",
       "OverallCond_2                                         -23833.652827\n",
       "dtype: float64"
      ]
     },
     "execution_count": 29,
     "metadata": {},
     "output_type": "execute_result"
    }
   ],
   "source": [
    "feat_imp = pd.Series(data = lasso_tuner.best_estimator_.coef_, index = df3.columns)\n",
    "feat_imp = feat_imp.sort_values(ascending = False)\n",
    "print(df3.shape[1]) # number of features after dummification\n",
    "print(len(feat_imp[feat_imp != 0])) # number of features with nonzero coef\n",
    "feat_imp[feat_imp != 0]"
   ]
  },
  {
   "cell_type": "code",
   "execution_count": 17,
   "id": "6fb05022",
   "metadata": {},
   "outputs": [],
   "source": [
    "params_log = {'alpha' : [1e-8, 1e-7, 1e-6, 1e-5, 1e-4]\n",
    "         }"
   ]
  },
  {
   "cell_type": "code",
   "execution_count": 18,
   "id": "833c61a9",
   "metadata": {},
   "outputs": [
    {
     "name": "stderr",
     "output_type": "stream",
     "text": [
      "C:\\Users\\fayma\\anaconda3\\lib\\site-packages\\sklearn\\linear_model\\_coordinate_descent.py:530: ConvergenceWarning: Objective did not converge. You might want to increase the number of iterations. Duality gap: 0.7859992858989944, tolerance: 0.006502271145956962\n",
      "  model = cd_fast.enet_coordinate_descent(\n",
      "C:\\Users\\fayma\\anaconda3\\lib\\site-packages\\sklearn\\linear_model\\_coordinate_descent.py:530: ConvergenceWarning: Objective did not converge. You might want to increase the number of iterations. Duality gap: 0.6370638991054469, tolerance: 0.006424468048556121\n",
      "  model = cd_fast.enet_coordinate_descent(\n",
      "C:\\Users\\fayma\\anaconda3\\lib\\site-packages\\sklearn\\linear_model\\_coordinate_descent.py:530: ConvergenceWarning: Objective did not converge. You might want to increase the number of iterations. Duality gap: 0.7577381035837887, tolerance: 0.006565132316624673\n",
      "  model = cd_fast.enet_coordinate_descent(\n",
      "C:\\Users\\fayma\\anaconda3\\lib\\site-packages\\sklearn\\linear_model\\_coordinate_descent.py:530: ConvergenceWarning: Objective did not converge. You might want to increase the number of iterations. Duality gap: 1.4640589380093256, tolerance: 0.0065817032018018595\n",
      "  model = cd_fast.enet_coordinate_descent(\n",
      "C:\\Users\\fayma\\anaconda3\\lib\\site-packages\\sklearn\\linear_model\\_coordinate_descent.py:530: ConvergenceWarning: Objective did not converge. You might want to increase the number of iterations. Duality gap: 0.7884422028658735, tolerance: 0.006592730153056032\n",
      "  model = cd_fast.enet_coordinate_descent(\n",
      "C:\\Users\\fayma\\anaconda3\\lib\\site-packages\\sklearn\\linear_model\\_coordinate_descent.py:530: ConvergenceWarning: Objective did not converge. You might want to increase the number of iterations. Duality gap: 0.6744364762219204, tolerance: 0.006414781633298455\n",
      "  model = cd_fast.enet_coordinate_descent(\n",
      "C:\\Users\\fayma\\anaconda3\\lib\\site-packages\\sklearn\\linear_model\\_coordinate_descent.py:530: ConvergenceWarning: Objective did not converge. You might want to increase the number of iterations. Duality gap: 0.7806428828050729, tolerance: 0.00663777395114631\n",
      "  model = cd_fast.enet_coordinate_descent(\n",
      "C:\\Users\\fayma\\anaconda3\\lib\\site-packages\\sklearn\\linear_model\\_coordinate_descent.py:530: ConvergenceWarning: Objective did not converge. You might want to increase the number of iterations. Duality gap: 0.6108922710140385, tolerance: 0.006572083116355515\n",
      "  model = cd_fast.enet_coordinate_descent(\n",
      "C:\\Users\\fayma\\anaconda3\\lib\\site-packages\\sklearn\\linear_model\\_coordinate_descent.py:530: ConvergenceWarning: Objective did not converge. You might want to increase the number of iterations. Duality gap: 0.7760963228778814, tolerance: 0.006556386460408905\n",
      "  model = cd_fast.enet_coordinate_descent(\n",
      "C:\\Users\\fayma\\anaconda3\\lib\\site-packages\\sklearn\\linear_model\\_coordinate_descent.py:530: ConvergenceWarning: Objective did not converge. You might want to increase the number of iterations. Duality gap: 0.7262924817669041, tolerance: 0.006574513608849103\n",
      "  model = cd_fast.enet_coordinate_descent(\n",
      "C:\\Users\\fayma\\anaconda3\\lib\\site-packages\\sklearn\\linear_model\\_coordinate_descent.py:530: ConvergenceWarning: Objective did not converge. You might want to increase the number of iterations. Duality gap: 0.20905159964369213, tolerance: 0.0065817032018018595\n",
      "  model = cd_fast.enet_coordinate_descent(\n"
     ]
    },
    {
     "data": {
      "text/plain": [
       "GridSearchCV(cv=KFold(n_splits=10, random_state=1, shuffle=True),\n",
       "             estimator=Lasso(max_iter=5000, normalize=True),\n",
       "             param_grid={'alpha': [1e-08, 1e-07, 1e-06, 1e-05, 0.0001]},\n",
       "             return_train_score=True)"
      ]
     },
     "execution_count": 18,
     "metadata": {},
     "output_type": "execute_result"
    }
   ],
   "source": [
    "lasso_tuner2 = GridSearchCV(lasso, params_log, cv=kfold, return_train_score = True)\n",
    "lasso_tuner2.fit(df3, price_adj_log)"
   ]
  },
  {
   "cell_type": "code",
   "execution_count": 19,
   "id": "7c6bfbda",
   "metadata": {},
   "outputs": [
    {
     "data": {
      "text/plain": [
       "array([0.91314271, 0.91357669, 0.91476895, 0.91559885, 0.8924171 ])"
      ]
     },
     "execution_count": 19,
     "metadata": {},
     "output_type": "execute_result"
    }
   ],
   "source": [
    "lasso_tuner2.cv_results_['mean_test_score']"
   ]
  },
  {
   "cell_type": "code",
   "execution_count": 20,
   "id": "65f4aba8",
   "metadata": {},
   "outputs": [
    {
     "data": {
      "text/plain": [
       "array([0.93895376, 0.93891587, 0.93822477, 0.93324938, 0.90387358])"
      ]
     },
     "execution_count": 20,
     "metadata": {},
     "output_type": "execute_result"
    }
   ],
   "source": [
    "lasso_tuner2.cv_results_['mean_train_score']"
   ]
  },
  {
   "cell_type": "code",
   "execution_count": 21,
   "id": "c9e015eb",
   "metadata": {},
   "outputs": [
    {
     "name": "stdout",
     "output_type": "stream",
     "text": [
      "{'alpha': 1e-05}\n",
      "0.9155988497416165\n"
     ]
    }
   ],
   "source": [
    "print(lasso_tuner2.best_params_)\n",
    "print(max(lasso_tuner2.cv_results_['mean_test_score']))"
   ]
  },
  {
   "cell_type": "code",
   "execution_count": 22,
   "id": "94581c13",
   "metadata": {},
   "outputs": [
    {
     "name": "stdout",
     "output_type": "stream",
     "text": [
      "230\n",
      "151\n"
     ]
    },
    {
     "data": {
      "text/plain": [
       "GrLivArea_log                                          0.340130\n",
       "Neighborhood_GrnHill                                   0.180405\n",
       "GarageQual_5                                           0.088723\n",
       "1stFlrSF_log                                           0.081828\n",
       "OverallQual_9                                          0.069794\n",
       "LotArea_log                                            0.063894\n",
       "OverallQual_10                                         0.059417\n",
       "OverallCond_9                                          0.056423\n",
       "Neighborhood_Crawfor                                   0.047520\n",
       "PoolQC_5                                               0.046853\n",
       "OverallCond_8                                          0.046055\n",
       "Neighborhood_StoneBr                                   0.042516\n",
       "OverallQual_8                                          0.038422\n",
       "OverallCond_7                                          0.035943\n",
       "Neighborhood_Somerst                                   0.035238\n",
       "Neighborhood_NoRidge                                   0.024872\n",
       "ext_Face_Brick                                         0.024838\n",
       "Functional_ord_7                                       0.024366\n",
       "Neighborhood_NridgHt                                   0.023926\n",
       "Neighborhood_ClearCr                                   0.023111\n",
       "ExterQual_5                                            0.021391\n",
       "Neighborhood_Greens                                    0.021243\n",
       "ext_Stucco                                             0.020565\n",
       "Foundation_Stone                                       0.020248\n",
       "BsmtExposure_ord_4                                     0.019548\n",
       "Neighborhood_Blueste                                   0.019487\n",
       "RoofMatl_Membrane                                      0.017146\n",
       "Neighborhood_BrkSide                                   0.016199\n",
       "OverallQual_7                                          0.016089\n",
       "Heating_com_Gas-powered water/steam heating            0.015063\n",
       "MSZoning_com_Residential, low-density                  0.014480\n",
       "KitchenQual_5                                          0.013470\n",
       "ext_Common_Brick                                       0.013386\n",
       "GarageCars                                             0.013071\n",
       "CentralAir_Y                                           0.012926\n",
       "OverallCond_6                                          0.012868\n",
       "BsmtQual_ord_5                                         0.012515\n",
       "MSZoning_com_Residential, village                      0.012470\n",
       "Fireplaces                                             0.011664\n",
       "RoofMatl_Roll                                          0.011539\n",
       "ExterCond_5                                            0.010272\n",
       "RoofMatl_Wood Shingles                                 0.009550\n",
       "BsmtFullBath                                           0.009427\n",
       "BsmtExposure_ord_3                                     0.009262\n",
       "PavedDrive_Paved                                       0.008758\n",
       "FireplaceQu_5                                          0.008052\n",
       "attic_Unfinished                                       0.007257\n",
       "FullBath                                               0.005367\n",
       "LandContour_Level                                      0.005292\n",
       "LF_Near_Postive_Feature                                0.005215\n",
       "GarageQual_4                                           0.004963\n",
       "BsmtCond_ord_4                                         0.004503\n",
       "HeatingQC_ord_5                                        0.004380\n",
       "ext_Vinyl_Siding                                       0.004253\n",
       "ext_Other                                              0.003829\n",
       "Foundation_PConc                                       0.003647\n",
       "Neighborhood_SWISU                                     0.003573\n",
       "Neighborhood_Sawyer                                    0.003321\n",
       "Neighborhood_Timber                                    0.003243\n",
       "LandContour_Hillside (downward slope on both sides)    0.002984\n",
       "GarageType_com_Attached                                0.002825\n",
       "TotRmsAbvGrd                                           0.001378\n",
       "FireplaceQu_4                                          0.001225\n",
       "Alley_Paved                                            0.001115\n",
       "LandSlope_Moderate-severe                              0.000826\n",
       "Street_paved_Pave                                      0.000737\n",
       "FireplaceQu_1                                          0.000666\n",
       "YrSold                                                 0.000615\n",
       "BsmtCond_ord_3                                         0.000517\n",
       "RoofStyle_Gable                                        0.000161\n",
       "ext_Metal_Siding                                       0.000111\n",
       "BsmtHalfBath                                           0.000095\n",
       "ScreenPorch                                            0.000073\n",
       "GarageCond_3                                           0.000068\n",
       "EnclosedPorch                                          0.000046\n",
       "TotalBsmtSF                                            0.000035\n",
       "BSMT_GLQ                                               0.000031\n",
       "2ndFlrSF                                               0.000025\n",
       "3SsnPorch                                              0.000023\n",
       "GarageArea                                             0.000019\n",
       "BSMT_ALQ                                               0.000019\n",
       "WoodDeckSF                                             0.000017\n",
       "BSMT_BLQ                                               0.000010\n",
       "LotConfig_com_Inside lot (1 side frontage)             0.000003\n",
       "MasVnrArea                                             0.000002\n",
       "MiscVal                                                0.000001\n",
       "BsmtUnfSF                                             -0.000003\n",
       "LowQualFinSF                                          -0.000012\n",
       "LotFrontage                                           -0.000032\n",
       "GarageType_com_BuiltIn                                -0.000319\n",
       "GarageFinish_RFn                                      -0.000476\n",
       "BsmtExposure_ord_2                                    -0.000593\n",
       "LotShape_com_Slightly irregular                       -0.000610\n",
       "Garage_age_bin_60+                                    -0.000719\n",
       "house_age_years                                       -0.000929\n",
       "ExterQual_3                                           -0.000996\n",
       "Electrical_com_>60 Amp fuse box, all Romex wiring     -0.001034\n",
       "GarageQual_2                                          -0.001164\n",
       "ext_Plywood                                           -0.001373\n",
       "BsmtCond_ord_2                                        -0.001417\n",
       "Utilities_EGWS                                        -0.001949\n",
       "Fence_Good Wood                                       -0.002018\n",
       "PUD_1                                                 -0.002651\n",
       "BsmtQual_ord_2                                        -0.002705\n",
       "MiscFeature_Shed                                      -0.003011\n",
       "Neighborhood_NAmes                                    -0.003272\n",
       "GarageType_com_Basement                               -0.003869\n",
       "BedroomAbvGr                                          -0.004076\n",
       "Foundation_Slab                                       -0.004516\n",
       "Neighborhood_OldTown                                  -0.004742\n",
       "Neighborhood_SawyerW                                  -0.004752\n",
       "ext_Imitation_Stucco                                  -0.006027\n",
       "HeatingQC_ord_2                                       -0.006920\n",
       "KitchenQual_2                                         -0.007486\n",
       "KitchenQual_3                                         -0.007608\n",
       "Neighborhood_NWAmes                                   -0.007986\n",
       "HeatingQC_ord_3                                       -0.008905\n",
       "LF_Near_Positive_Feature                              -0.009094\n",
       "RoofStyle_Gabrel Barn                                 -0.010748\n",
       "LF_Near_NS_RR                                         -0.010968\n",
       "RoofStyle_Mansard                                     -0.011266\n",
       "OverallQual_5                                         -0.012004\n",
       "Neighborhood_IDOTRR                                   -0.012109\n",
       "Remod_age_bin_30-45                                   -0.013364\n",
       "Remod_age_bin_45+                                     -0.013564\n",
       "BldgType_Twnhs                                        -0.014101\n",
       "BsmtCond_ord_1                                        -0.014584\n",
       "Neighborhood_Edwards                                  -0.014778\n",
       "GarageQual_1                                          -0.014835\n",
       "GarageCond_5                                          -0.015902\n",
       "MiscFeature_Other                                     -0.016195\n",
       "LF_Adjacent_Feeder_St                                 -0.016508\n",
       "RoofMatl_Standard (Composite) Shingle                 -0.016514\n",
       "GarageCond_2                                          -0.018428\n",
       "MiscFeature_Tennis Court                              -0.018696\n",
       "RoofMatl_Wood Shakes                                  -0.018783\n",
       "LF_Near_EW_RR                                         -0.023686\n",
       "KitchenAbvGr                                          -0.024255\n",
       "Functional_ord_3                                      -0.025857\n",
       "ExterCond_2                                           -0.025931\n",
       "ext_Asbestos_Shingles                                 -0.026236\n",
       "OverallCond_4                                         -0.027362\n",
       "LF_Adjacent_Arterial_St                               -0.028494\n",
       "BldgType_Duplex                                       -0.029356\n",
       "Neighborhood_MeadowV                                  -0.030070\n",
       "OverallQual_4                                         -0.036188\n",
       "OverallQual_3                                         -0.044987\n",
       "Functional_ord_2                                      -0.048931\n",
       "OverallCond_3                                         -0.080647\n",
       "OverallCond_2                                         -0.128086\n",
       "OverallQual_2                                         -0.131810\n",
       "dtype: float64"
      ]
     },
     "execution_count": 22,
     "metadata": {},
     "output_type": "execute_result"
    }
   ],
   "source": [
    "feat_imp_log = pd.Series(data = lasso_tuner2.best_estimator_.coef_, index = df3.columns)\n",
    "feat_imp_log = feat_imp_log.sort_values(ascending = False)\n",
    "print(df3.shape[1]) # number of features after dummification\n",
    "print(len(feat_imp_log[feat_imp_log != 0])) # number of features with nonzero coef\n",
    "feat_imp_log[feat_imp_log != 0]"
   ]
  },
  {
   "cell_type": "code",
   "execution_count": 23,
   "id": "6b8dd372",
   "metadata": {},
   "outputs": [
    {
     "name": "stdout",
     "output_type": "stream",
     "text": [
      "['SaleType', 'SaleCondition', 'Garage_age_years', 'Remod_age_years', 'MoSold']\n"
     ]
    }
   ],
   "source": [
    "print(droplist)"
   ]
  },
  {
   "cell_type": "markdown",
   "id": "5336c674",
   "metadata": {},
   "source": [
    "droplists vs highest test score:\n",
    "\n",
    "5 splits, kfold\n",
    "\n",
    "['SaleType', 'SaleCondition', 'Garage_age_years', 'Remod_age_years']: 1e-5, 0.9209204142043642\n",
    "\n",
    "10 splits, kfold, saleprice_log\n",
    "\n",
    "['SaleType', 'SaleCondition', 'Garage_age_years', 'Remod_age_years']: 1e-5, 0.9226880202484138\n",
    "\n",
    "['SaleType', 'SaleCondition', 'Garage_age_years', 'Remod_age_years', 'MoSold']: 1e-05, 0.9224768464834445\n",
    "\n",
    "10 splits, kfold, saleprice_adj\n",
    "\n",
    "['SaleType', 'SaleCondition', 'Garage_age_years', 'Remod_age_years', 'MoSold']: 10, 0.9106893120910808\n",
    "\n",
    "10 splits, kfold, saleprice_adj_log\n",
    "\n",
    "['SaleType', 'SaleCondition', 'Garage_age_years', 'Remod_age_years', 'MoSold']: 1e-05, 0.9155988497416165"
   ]
  }
 ],
 "metadata": {
  "kernelspec": {
   "display_name": "Python 3",
   "language": "python",
   "name": "python3"
  },
  "language_info": {
   "codemirror_mode": {
    "name": "ipython",
    "version": 3
   },
   "file_extension": ".py",
   "mimetype": "text/x-python",
   "name": "python",
   "nbconvert_exporter": "python",
   "pygments_lexer": "ipython3",
   "version": "3.8.8"
  }
 },
 "nbformat": 4,
 "nbformat_minor": 5
}
