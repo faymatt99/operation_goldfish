{
 "cells": [
  {
   "cell_type": "code",
   "execution_count": 1,
   "id": "2d37a17a",
   "metadata": {},
   "outputs": [],
   "source": [
    "import numpy as np\n",
    "import pandas as pd\n",
    "from scipy import stats\n",
    "from sklearn.linear_model import Ridge, Lasso, ElasticNet, LinearRegression\n",
    "import plotly.express as px\n",
    "import matplotlib.pyplot as plt\n",
    "import plotly.graph_objects as go\n",
    "from sklearn.model_selection import train_test_split\n",
    "from sklearn.model_selection import GridSearchCV\n",
    "from sklearn.model_selection import KFold, StratifiedKFold\n",
    "from sklearn.model_selection import cross_val_score\n",
    "\n",
    "from sklearn import ensemble\n",
    "from sklearn.model_selection import train_test_split\n",
    "from sklearn.model_selection import GridSearchCV\n",
    "import time\n",
    "\n",
    "from catboost import CatBoostRegressor\n",
    "\n",
    "import re\n",
    "\n",
    "from statsmodels.stats.outliers_influence import variance_inflation_factor\n",
    "from xgboost import XGBRegressor\n",
    "from sklearn.preprocessing import MinMaxScaler, StandardScaler\n",
    "from sklearn.svm import SVR\n",
    "\n",
    "import pickle"
   ]
  },
  {
   "cell_type": "code",
   "execution_count": 2,
   "id": "a26213ad",
   "metadata": {},
   "outputs": [],
   "source": [
    "def dummify(df, non_dummies, dummies):\n",
    "    for dummified in dummies:\n",
    "        for original in non_dummies:\n",
    "            if original in dummified:\n",
    "                orig_name = f'{original}_'\n",
    "                value = dummified.replace(orig_name, '')\n",
    "                df[dummified] = df[original].map(lambda x: 1 if x == value else 0)\n",
    "    df=df.drop(non_dummies,axis=1)\n",
    "    return df"
   ]
  },
  {
   "cell_type": "code",
   "execution_count": 3,
   "id": "aa9e0c43",
   "metadata": {},
   "outputs": [],
   "source": [
    "pd.set_option('display.max_rows', 500)"
   ]
  },
  {
   "cell_type": "code",
   "execution_count": 4,
   "id": "02612635",
   "metadata": {},
   "outputs": [],
   "source": [
    "df = pd.read_csv('./../data/ames_housing_price_data_v5.csv')"
   ]
  },
  {
   "cell_type": "code",
   "execution_count": 5,
   "id": "9dab3652",
   "metadata": {},
   "outputs": [],
   "source": [
    "#drop outlier rows\n",
    "df = df[(df['PID'] != 902207130) & (df['PID'] != 908154205)]\n",
    "df = df[(df['SaleCondition'] == 'Normal') | (df['SaleCondition'] == 'Partial')]\n",
    "df = df[df['BedroomAbvGr'] != 0]\n",
    "df = df[df['MSZoning_com'] != 'Nonresidential']\n",
    "df.reset_index(drop=True, inplace = True)"
   ]
  },
  {
   "cell_type": "code",
   "execution_count": 6,
   "id": "80eec7d4",
   "metadata": {},
   "outputs": [],
   "source": [
    "#separate price from table\n",
    "price=df['SalePrice']\n",
    "price_log = np.log10(price)\n",
    "df=df.drop(['SalePrice_log'],axis=1) #'SalePrice',"
   ]
  },
  {
   "cell_type": "code",
   "execution_count": 7,
   "id": "309eac48",
   "metadata": {},
   "outputs": [],
   "source": [
    "#add radial average price feature\n",
    "avg_price_df=pd.read_csv('./../data/house_surrounding_avg_prices.csv')\n",
    "avg_price_df2=avg_price_df[['PID','AvgPrice-0.5']].drop_duplicates() #,'AvgPrice-0.25'\n",
    "\n",
    "df2=df.merge(avg_price_df2,how='left')"
   ]
  },
  {
   "cell_type": "code",
   "execution_count": 8,
   "id": "2783df6a",
   "metadata": {},
   "outputs": [],
   "source": [
    "#add geographical features\n",
    "radial = pd.read_csv('./../data/house_coordinates_1.0.csv')\n",
    "radial.drop(columns = ('2204_park'), inplace = True)\n",
    "for col in radial.columns:\n",
    "    prefix = str(col)[0:4]\n",
    "    if re.search('^\\d\\d\\d\\d_', str(col)):\n",
    "        radial.rename(columns = {col: col[5:]}, inplace = True)\n",
    "rad_drops = [\n",
    "    'Address',\n",
    "    'Coords4',\n",
    "    'latitude',\n",
    "    'longitude',\n",
    "    'town_hall',\n",
    "    'cemetery',\n",
    "    'motel',\n",
    "    'camp_site',\n",
    "    'general',\n",
    "    'picnic_site',\n",
    "    'wastewater_plant',\n",
    "    'spring',\n",
    "    'beach',\n",
    "    'street_lamp',\n",
    "    'helipad',\n",
    "    'vineyard',\n",
    "    'crossing',\n",
    "    'tree',\n",
    "    'grass',\n",
    "    'christian',\n",
    "    'bus_stop',\n",
    "    'parking',\n",
    "    'toilet',\n",
    "    'bench',\n",
    "    'commercial',\n",
    "    'waste_basket',\n",
    "    'drinking_water',\n",
    "    'convenience',\n",
    "    'camera_surveillance',\n",
    "    'comms_tower',\n",
    "    'residential',\n",
    "    'gift_shop',\n",
    "    'jeweller',\n",
    "    'hairdresser',\n",
    "    'bookshop',\n",
    "    'clothes',\n",
    "    'retail',\n",
    "    'food_court',\n",
    "    'artwork',\n",
    "    'cafe',\n",
    "    'traffic_signals',\n",
    "    'beauty_shop',\n",
    "    'sports_shop',\n",
    "    'weir',\n",
    "    'track',\n",
    "    'turning_circle',\n",
    "    'computer_shop',\n",
    "    'bicycle_shop',\n",
    "    'department_store',\n",
    "    'parking_bicycle',\n",
    "    'golf_course',\n",
    "    'tower',\n",
    "    'beverages',\n",
    "    'university'\n",
    "]\n",
    "radial.drop(columns = rad_drops, inplace = True)\n",
    "\n",
    "df2=df2.merge(radial, how='left')"
   ]
  },
  {
   "cell_type": "code",
   "execution_count": 9,
   "id": "4803a146",
   "metadata": {},
   "outputs": [],
   "source": [
    "#other rows to drop:\n",
    "droplist=['PID','GarageFinish','SaleCondition','GarageType_com','Garage_age_bin','sold_datetime']\n",
    "df2=df2.drop(droplist,axis=1)"
   ]
  },
  {
   "cell_type": "code",
   "execution_count": 10,
   "id": "9711ab86",
   "metadata": {},
   "outputs": [],
   "source": [
    "#fillnas\n",
    "df2=df2.fillna(0)"
   ]
  },
  {
   "cell_type": "code",
   "execution_count": 11,
   "id": "dc5abee9",
   "metadata": {},
   "outputs": [],
   "source": [
    "scaler = MinMaxScaler()\n",
    "\n",
    "def fit_scale(col):\n",
    "    scaler.fit(df2[[col]])\n",
    "    df2[[col]]=scaler.transform(df2[[col]])\n",
    "\n",
    "fit_scale('OverallQual')\n",
    "fit_scale('ExterQual')\n",
    "fit_scale('OverallCond')\n",
    "fit_scale('KitchenQual')\n",
    "\n",
    "df2['PorchSF']=df2['OpenPorchSF']+df2['EnclosedPorch']+df2['3SsnPorch']+df2['ScreenPorch']\n",
    "\n",
    "\n",
    "df2['SaleTypeNew']=(df2['SaleType']=='New')\n",
    "df2['SaleTypeNew']=df2['SaleTypeNew'].apply(lambda x: 1 if x == True else 0)\n",
    "\n",
    "\n",
    "df2['BSMT_LowQual']=df2['TotalBsmtSF']-df2['BSMT_GLQ']-df2['BSMT_ALQ']\n",
    "df2['BSMT_HighQual']=df2['BSMT_GLQ']+df2['BSMT_ALQ']"
   ]
  },
  {
   "cell_type": "code",
   "execution_count": 12,
   "id": "7d458e29",
   "metadata": {},
   "outputs": [],
   "source": [
    "features_to_use=[\n",
    "    ### from original dataset\n",
    "    'GrLivArea', \n",
    "    'LotArea', \n",
    "    'OverallQual',\n",
    "    'BSMT_LowQual', \n",
    "    'house_age_years', \n",
    "    'GarageCars',\n",
    "    'MasVnrType',\n",
    "    'FullBath',\n",
    "    'HalfBath',\n",
    "    'BsmtExposure_ord',\n",
    "    'SaleTypeNew',\n",
    "    'Neighborhood',\n",
    "    'BldgType',\n",
    "    'PorchSF',\n",
    "    'BSMT_HighQual',\n",
    "    'Fireplaces',\n",
    "    'Pool',\n",
    "    'BedroomAbvGr',\n",
    "    'ExterQual',\n",
    "    'OverallCond',\n",
    "    'KitchenQual',\n",
    "    \n",
    "    ### from radial location data for catboost\n",
    "    'water_tower',\n",
    "    'graveyard',\n",
    "    'police', \n",
    "    'optician',\n",
    "    'slipway',\n",
    "    'bar',\n",
    "    'cinema',\n",
    "    'supermarket',\n",
    "    'hotel',\n",
    "    'stop',\n",
    "    'farmyard',\n",
    "    'christian_catholic', \n",
    "    'jewish',\n",
    "    'muslim',\n",
    "    'garden_centre',\n",
    "    'christian_lutheran'                 \n",
    "]"
   ]
  },
  {
   "cell_type": "code",
   "execution_count": 13,
   "id": "dd7c8f22",
   "metadata": {},
   "outputs": [],
   "source": [
    "front_end=df2[features_to_use]\n",
    "\n",
    "# front_end.to_csv('data/ames_housing_price_data_v6.csv')"
   ]
  },
  {
   "cell_type": "code",
   "execution_count": 14,
   "id": "a9421dba",
   "metadata": {},
   "outputs": [],
   "source": [
    "#function and dictionaries required to transform front-end to back-end\n",
    "dummies = [   \n",
    "    'Neighborhood_Blueste',\n",
    "    'Neighborhood_BrDale',\n",
    "    'Neighborhood_BrkSide',\n",
    "    'Neighborhood_ClearCr',\n",
    "    'Neighborhood_CollgCr',\n",
    "    'Neighborhood_Crawfor',\n",
    "    'Neighborhood_Edwards',\n",
    "    'Neighborhood_Gilbert', \n",
    "    'Neighborhood_Greens', \n",
    "    'Neighborhood_GrnHill',\n",
    "    'Neighborhood_IDOTRR',\n",
    "    'Neighborhood_Landmrk',\n",
    "    'Neighborhood_MeadowV',\n",
    "    'Neighborhood_Mitchel',\n",
    "    'Neighborhood_NAmes',\n",
    "    'Neighborhood_NPkVill',\n",
    "    'Neighborhood_NWAmes',\n",
    "    'Neighborhood_NoRidge',\n",
    "    'Neighborhood_NridgHt',\n",
    "    'Neighborhood_OldTown',\n",
    "    'Neighborhood_SWISU',\n",
    "    'Neighborhood_Sawyer',\n",
    "    'Neighborhood_SawyerW',\n",
    "    'Neighborhood_Somerst',\n",
    "    'Neighborhood_StoneBr',\n",
    "    'Neighborhood_Timber',\n",
    "    'Neighborhood_Veenker',\n",
    "    'BldgType_2fmCon',\n",
    "    'BldgType_Duplex',\n",
    "    'BldgType_Twnhs',\n",
    "    'BldgType_TwnhsE',\n",
    "    'MasVnrType_None',\n",
    "    'MasVnrType_Stone'\n",
    "    ]\n",
    "\n",
    "non_dummies=['Neighborhood', 'BldgType', 'MasVnrType']"
   ]
  },
  {
   "cell_type": "code",
   "execution_count": 15,
   "id": "aa28a1c4",
   "metadata": {},
   "outputs": [],
   "source": [
    "#transformation of front-end to back-end, and catboost application\n",
    "back_end = front_end.copy()\n",
    "back_end['ExterQualDisc']=back_end['ExterQual']-back_end['OverallQual']\n",
    "back_end['OverallCondDisc']=back_end['OverallCond']-back_end['OverallQual']\n",
    "back_end['KitchenQualDisc']=back_end['KitchenQual']-back_end['OverallQual']\n",
    "back_end=back_end.drop(['ExterQual','OverallCond','KitchenQual'],axis=1)\n",
    "\n",
    "back_end = dummify(back_end, non_dummies, dummies)\n",
    "\n",
    "cbl = CatBoostRegressor();\n",
    "cbl.load_model(\"./../Moritz/HousePriceCatBoost\", \"cbm\")\n",
    "cbl_pred = cbl.predict(back_end)"
   ]
  },
  {
   "cell_type": "code",
   "execution_count": 16,
   "id": "ecded8b9",
   "metadata": {},
   "outputs": [],
   "source": [
    "dummies_linear = [   \n",
    "    'Neighborhood_Blueste',\n",
    "    'Neighborhood_BrDale',\n",
    "    'Neighborhood_BrkSide',\n",
    "    'Neighborhood_ClearCr',\n",
    "    'Neighborhood_CollgCr',\n",
    "    'Neighborhood_Crawfor',\n",
    "    'Neighborhood_Edwards',\n",
    "    'Neighborhood_Gilbert', \n",
    "    'Neighborhood_Greens', \n",
    "    'Neighborhood_GrnHill',\n",
    "    'Neighborhood_IDOTRR',\n",
    "    'Neighborhood_Landmrk',\n",
    "    'Neighborhood_MeadowV',\n",
    "    'Neighborhood_Mitchel',\n",
    "    'Neighborhood_NAmes',\n",
    "    'Neighborhood_NPkVill',\n",
    "    'Neighborhood_NWAmes',\n",
    "    'Neighborhood_NoRidge',\n",
    "    'Neighborhood_NridgHt',\n",
    "    'Neighborhood_OldTown',\n",
    "    'Neighborhood_SWISU',\n",
    "    'Neighborhood_Sawyer',\n",
    "    'Neighborhood_SawyerW',\n",
    "    'Neighborhood_Somerst',\n",
    "    'Neighborhood_StoneBr',\n",
    "    'Neighborhood_Timber',\n",
    "    'Neighborhood_Veenker',\n",
    "    'BldgType_2fmCon',\n",
    "    'BldgType_Duplex',\n",
    "    'BldgType_Twnhs',\n",
    "    'BldgType_TwnhsE',\n",
    "    'MasVnrType_None',\n",
    "    'MasVnrType_Stone',\n",
    "    'BSMT_HighQual_bin_500-1000',\n",
    "    'BSMT_HighQual_bin_0-500',\n",
    "    'BSMT_HighQual_bin_1000-1500',\n",
    "    'BSMT_HighQual_bin_1500+',\n",
    "    'BSMT_LowQual_bin_0-500',\n",
    "    'BSMT_LowQual_bin_500-1000',\n",
    "    'BSMT_LowQual_bin_1000-1500',\n",
    "    'BSMT_LowQual_bin_1500+'\n",
    "    ]\n",
    "\n",
    "non_dummies_linear = ['Neighborhood', 'BldgType', 'MasVnrType', 'BSMT_HighQual_bin', 'BSMT_LowQual_bin']"
   ]
  },
  {
   "cell_type": "code",
   "execution_count": 17,
   "id": "e09c28a9",
   "metadata": {},
   "outputs": [],
   "source": [
    "back_end_linear = front_end.copy()\n",
    "back_end_linear['GrLivArea_log'] = np.log10(back_end_linear['GrLivArea'])\n",
    "back_end_linear['LotArea_log'] = np.log10(back_end_linear['LotArea'])\n",
    "back_end_linear['ExterQualDisc'] = back_end_linear['ExterQual'] - back_end_linear['OverallQual']\n",
    "back_end_linear['OverallCondDisc'] = back_end_linear['OverallCond'] - back_end_linear['OverallQual']\n",
    "back_end_linear['KitchenQualDisc'] = back_end_linear['KitchenQual'] - back_end_linear['OverallQual']\n",
    "back_end_linear = back_end_linear.drop(['ExterQual','OverallCond','KitchenQual'], axis=1)\n",
    "\n",
    "back_end_linear['BSMT_LowQual_bin'] = pd.cut(back_end_linear['BSMT_LowQual'], [-1, 1, 500, 1000, 1500, 2500], labels = ['No basement', '0-500', '500-1000', '1000-1500', '1500+']) \n",
    "back_end_linear['BSMT_HighQual_bin'] = pd.cut(back_end_linear['BSMT_HighQual'], [-1, 1, 500, 1000, 1500, 2500], labels = ['No basement', '0-500', '500-1000', '1000-1500', '1500+']) \n",
    "back_end_linear.drop(['BSMT_HighQual', 'BSMT_LowQual', 'GrLivArea', 'LotArea'], axis = 1, inplace = True)\n",
    "\n",
    "back_end_linear = dummify(back_end_linear, non_dummies_linear, dummies_linear)"
   ]
  },
  {
   "cell_type": "code",
   "execution_count": 18,
   "id": "78083438",
   "metadata": {},
   "outputs": [],
   "source": [
    "# # code used to generate model\n",
    "\n",
    "# kfold = KFold(n_splits=5, shuffle = True, random_state = 1)\n",
    "# params_log = {'alpha' : [1e-7, 1e-6, 1e-5, 1e-4]\n",
    "#           }\n",
    "# lasso = Lasso(normalize = True, max_iter = 1000, tol = 0.001)\n",
    "# lasso_tuner = GridSearchCV(lasso, params_log, cv=kfold, return_train_score = True)\n",
    "# lasso_tuner.fit(back_end_linear, np.log10(price))\n",
    "# with open('./Matt/linearmodel.pickle', mode = 'wb') as file:\n",
    "#     pickle.dump(lasso_tuner.best_estimator_, file)"
   ]
  },
  {
   "cell_type": "code",
   "execution_count": 19,
   "id": "3ed3461a",
   "metadata": {},
   "outputs": [],
   "source": [
    "with open('./../Matt/linearmodel.pickle', mode = 'rb') as file:\n",
    "    lm = pickle.load(file)\n",
    "\n",
    "lm_pred = 10**lm.predict(back_end_linear)"
   ]
  },
  {
   "cell_type": "code",
   "execution_count": 20,
   "id": "77dd4279",
   "metadata": {},
   "outputs": [],
   "source": [
    "svr = SVR(kernel = 'linear')"
   ]
  },
  {
   "cell_type": "code",
   "execution_count": 21,
   "id": "51253242",
   "metadata": {},
   "outputs": [],
   "source": [
    "kfold = KFold(n_splits=5, shuffle = True, random_state = 0)"
   ]
  },
  {
   "cell_type": "code",
   "execution_count": 41,
   "id": "da548d69",
   "metadata": {},
   "outputs": [],
   "source": [
    "params = {\n",
    "    'C' : [1, 10, 100],\n",
    "    'epsilon' : [1e-7, 1e-6, 1e-5]    \n",
    "}"
   ]
  },
  {
   "cell_type": "code",
   "execution_count": 23,
   "id": "ae746799",
   "metadata": {},
   "outputs": [],
   "source": [
    "ss_X = StandardScaler()\n",
    "ss_y = StandardScaler()"
   ]
  },
  {
   "cell_type": "code",
   "execution_count": 37,
   "id": "a9d6358f",
   "metadata": {},
   "outputs": [],
   "source": [
    "X_trans = pd.DataFrame(ss_X.fit_transform(back_end_linear))\n",
    "y_trans = pd.DataFrame(ss_y.fit_transform(np.array(price_log).reshape(-1,1)))"
   ]
  },
  {
   "cell_type": "code",
   "execution_count": 38,
   "id": "de29fdb9",
   "metadata": {},
   "outputs": [],
   "source": [
    "subsample = X_trans.loc[0:25,:]"
   ]
  },
  {
   "cell_type": "code",
   "execution_count": 39,
   "id": "98347539",
   "metadata": {},
   "outputs": [],
   "source": [
    "subprice = y_trans.loc[0:25]"
   ]
  },
  {
   "cell_type": "code",
   "execution_count": 47,
   "id": "21af1a08",
   "metadata": {},
   "outputs": [],
   "source": [
    "subprice = subprice[0]"
   ]
  },
  {
   "cell_type": "code",
   "execution_count": 53,
   "id": "7f0b8635",
   "metadata": {},
   "outputs": [],
   "source": [
    "y_trans = y_trans[0]"
   ]
  },
  {
   "cell_type": "code",
   "execution_count": 54,
   "id": "a4b8dee5",
   "metadata": {},
   "outputs": [],
   "source": [
    "svr_tuner = GridSearchCV(svr, params, cv = kfold, return_train_score = True)"
   ]
  },
  {
   "cell_type": "code",
   "execution_count": 55,
   "id": "ed236f18",
   "metadata": {},
   "outputs": [
    {
     "data": {
      "text/plain": [
       "GridSearchCV(cv=KFold(n_splits=5, random_state=0, shuffle=True),\n",
       "             estimator=SVR(kernel='linear'),\n",
       "             param_grid={'C': [1, 10, 100], 'epsilon': [1e-07, 1e-06, 1e-05]},\n",
       "             return_train_score=True)"
      ]
     },
     "execution_count": 55,
     "metadata": {},
     "output_type": "execute_result"
    }
   ],
   "source": [
    "svr_tuner.fit(X_trans, y_trans)"
   ]
  },
  {
   "cell_type": "code",
   "execution_count": 56,
   "id": "cb6be450",
   "metadata": {},
   "outputs": [
    {
     "data": {
      "text/plain": [
       "0.932199436563035"
      ]
     },
     "execution_count": 56,
     "metadata": {},
     "output_type": "execute_result"
    }
   ],
   "source": [
    "svr_tuner.best_score_"
   ]
  },
  {
   "cell_type": "code",
   "execution_count": 57,
   "id": "9357cc3c",
   "metadata": {},
   "outputs": [
    {
     "data": {
      "text/plain": [
       "{'C': 10, 'epsilon': 1e-05}"
      ]
     },
     "execution_count": 57,
     "metadata": {},
     "output_type": "execute_result"
    }
   ],
   "source": [
    "svr_tuner.best_params_"
   ]
  },
  {
   "cell_type": "code",
   "execution_count": 68,
   "id": "1917f1d3",
   "metadata": {},
   "outputs": [],
   "source": [
    "svr_model = svr_tuner.best_estimator_"
   ]
  },
  {
   "cell_type": "code",
   "execution_count": 70,
   "id": "87cd3dd2",
   "metadata": {},
   "outputs": [
    {
     "data": {
      "text/plain": [
       "array([2471])"
      ]
     },
     "execution_count": 70,
     "metadata": {},
     "output_type": "execute_result"
    }
   ],
   "source": [
    "svr_tuner.best_estimator_.n_support_"
   ]
  },
  {
   "cell_type": "code",
   "execution_count": 67,
   "id": "3f8708c9",
   "metadata": {},
   "outputs": [
    {
     "name": "stdout",
     "output_type": "stream",
     "text": [
      "73\n",
      "OverallQual                    0.373164\n",
      "GrLivArea_log                  0.355332\n",
      "OverallCondDisc                0.205682\n",
      "BSMT_HighQual_bin_1000-1500    0.151763\n",
      "LotArea_log                    0.147699\n",
      "BSMT_HighQual_bin_500-1000     0.133188\n",
      "BSMT_LowQual_bin_1000-1500     0.128874\n",
      "BSMT_LowQual_bin_500-1000      0.107150\n",
      "BSMT_HighQual_bin_1500+        0.099126\n",
      "GarageCars                     0.081549\n",
      "BSMT_LowQual_bin_0-500         0.068544\n",
      "BSMT_LowQual_bin_1500+         0.066955\n",
      "Neighborhood_Crawfor           0.066203\n",
      "BSMT_HighQual_bin_0-500        0.048786\n",
      "Fireplaces                     0.041137\n",
      "Neighborhood_StoneBr           0.035711\n",
      "PorchSF                        0.035509\n",
      "BsmtExposure_ord               0.034860\n",
      "KitchenQualDisc                0.034602\n",
      "Neighborhood_GrnHill           0.033683\n",
      "Neighborhood_NridgHt           0.033647\n",
      "Neighborhood_Somerst           0.031348\n",
      "Neighborhood_NoRidge           0.024612\n",
      "garden_centre                  0.023470\n",
      "bar                            0.022325\n",
      "ExterQualDisc                  0.018251\n",
      "SaleTypeNew                    0.014825\n",
      "Neighborhood_Timber            0.014299\n",
      "optician                       0.013693\n",
      "Neighborhood_Greens            0.012591\n",
      "Neighborhood_NPkVill           0.010022\n",
      "Neighborhood_CollgCr           0.009048\n",
      "slipway                        0.007929\n",
      "FullBath                       0.007112\n",
      "Neighborhood_ClearCr           0.006649\n",
      "jewish                         0.006502\n",
      "Neighborhood_Blueste           0.006101\n",
      "HalfBath                       0.004746\n",
      "Pool                           0.003388\n",
      "Neighborhood_Landmrk           0.000347\n",
      "Neighborhood_BrDale            0.000006\n",
      "Neighborhood_IDOTRR           -0.001206\n",
      "stop                          -0.002311\n",
      "muslim                        -0.004209\n",
      "Neighborhood_BrkSide          -0.004895\n",
      "MasVnrType_Stone              -0.005731\n",
      "supermarket                   -0.005922\n",
      "graveyard                     -0.007880\n",
      "Neighborhood_SWISU            -0.009016\n",
      "Neighborhood_Veenker          -0.009094\n",
      "police                        -0.010036\n",
      "BldgType_TwnhsE               -0.010386\n",
      "Neighborhood_NAmes            -0.010484\n",
      "Neighborhood_Sawyer           -0.013541\n",
      "BedroomAbvGr                  -0.014137\n",
      "MasVnrType_None               -0.015243\n",
      "Neighborhood_Mitchel          -0.017587\n",
      "christian_catholic            -0.018174\n",
      "farmyard                      -0.018714\n",
      "BldgType_2fmCon               -0.020534\n",
      "christian_lutheran            -0.020627\n",
      "BldgType_Twnhs                -0.023252\n",
      "water_tower                   -0.024229\n",
      "Neighborhood_MeadowV          -0.027469\n",
      "Neighborhood_NWAmes           -0.029285\n",
      "cinema                        -0.031239\n",
      "Neighborhood_Gilbert          -0.034586\n",
      "Neighborhood_OldTown          -0.036983\n",
      "Neighborhood_Edwards          -0.038474\n",
      "BldgType_Duplex               -0.042093\n",
      "Neighborhood_SawyerW          -0.051568\n",
      "hotel                         -0.057073\n",
      "house_age_years               -0.250543\n",
      "dtype: float64\n",
      "0\n",
      "Series([], dtype: float64)\n"
     ]
    }
   ],
   "source": [
    "feat_imp_svr = pd.Series(data = svr_tuner.best_estimator_.coef_[0], index = back_end_linear.columns)\n",
    "feat_imp_svr = feat_imp_svr.sort_values(ascending = False)\n",
    "ignored_svr = feat_imp_svr[feat_imp_svr == 0]\n",
    "feat_imp_svr = feat_imp_svr[feat_imp_svr != 0]\n",
    "print(len(feat_imp_svr))\n",
    "print(feat_imp_svr)\n",
    "print(len(ignored_svr))\n",
    "print(ignored_svr)"
   ]
  }
 ],
 "metadata": {
  "kernelspec": {
   "display_name": "Python 3",
   "language": "python",
   "name": "python3"
  },
  "language_info": {
   "codemirror_mode": {
    "name": "ipython",
    "version": 3
   },
   "file_extension": ".py",
   "mimetype": "text/x-python",
   "name": "python",
   "nbconvert_exporter": "python",
   "pygments_lexer": "ipython3",
   "version": "3.8.8"
  }
 },
 "nbformat": 4,
 "nbformat_minor": 5
}
