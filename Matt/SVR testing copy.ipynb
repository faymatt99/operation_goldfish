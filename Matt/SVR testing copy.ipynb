{
 "cells": [
  {
   "cell_type": "code",
   "execution_count": 1,
   "id": "2d37a17a",
   "metadata": {},
   "outputs": [],
   "source": [
    "import numpy as np\n",
    "import pandas as pd\n",
    "from scipy import stats\n",
    "from sklearn.linear_model import Ridge, Lasso, ElasticNet, LinearRegression\n",
    "import plotly.express as px\n",
    "import matplotlib.pyplot as plt\n",
    "import plotly.graph_objects as go\n",
    "from sklearn.model_selection import train_test_split\n",
    "from sklearn.model_selection import GridSearchCV\n",
    "from sklearn.model_selection import KFold, StratifiedKFold\n",
    "from sklearn.model_selection import cross_val_score\n",
    "\n",
    "from sklearn import ensemble\n",
    "from sklearn.model_selection import train_test_split\n",
    "from sklearn.model_selection import GridSearchCV\n",
    "import time\n",
    "\n",
    "from catboost import CatBoostRegressor\n",
    "\n",
    "import re\n",
    "\n",
    "from statsmodels.stats.outliers_influence import variance_inflation_factor\n",
    "from xgboost import XGBRegressor\n",
    "from sklearn.preprocessing import MinMaxScaler, StandardScaler\n",
    "from sklearn.svm import SVR\n",
    "\n",
    "import pickle"
   ]
  },
  {
   "cell_type": "code",
   "execution_count": 2,
   "id": "a26213ad",
   "metadata": {},
   "outputs": [],
   "source": [
    "def dummify(df, non_dummies, dummies):\n",
    "    for dummified in dummies:\n",
    "        for original in non_dummies:\n",
    "            if original in dummified:\n",
    "                orig_name = f'{original}_'\n",
    "                value = dummified.replace(orig_name, '')\n",
    "                df[dummified] = df[original].map(lambda x: 1 if x == value else 0)\n",
    "    df=df.drop(non_dummies,axis=1)\n",
    "    return df"
   ]
  },
  {
   "cell_type": "code",
   "execution_count": 3,
   "id": "aa9e0c43",
   "metadata": {},
   "outputs": [],
   "source": [
    "pd.set_option('display.max_rows', 500)"
   ]
  },
  {
   "cell_type": "code",
   "execution_count": 4,
   "id": "02612635",
   "metadata": {},
   "outputs": [],
   "source": [
    "df = pd.read_csv('./../data/ames_housing_price_data_v5.csv')"
   ]
  },
  {
   "cell_type": "code",
   "execution_count": 5,
   "id": "9dab3652",
   "metadata": {},
   "outputs": [],
   "source": [
    "df = df[(df['PID'] != 902207130) & (df['PID'] != 908154205)]\n",
    "pid_drop_list = [\n",
    "    905450020,\n",
    "    902477120,\n",
    "    531477050,\n",
    "    916403040,\n",
    "    916252170,\n",
    "    916253320,\n",
    "    902401130,\n",
    "    902205020,\n",
    "    907230240,\n",
    "    916477060,\n",
    "    912251110,\n",
    "    902103150,\n",
    "    911175360,\n",
    "    908154040,\n",
    "    909129100,\n",
    "    904101170,\n",
    "    923125030,\n",
    "    902205010,\n",
    "    902401120,\n",
    "    535300120,\n",
    "    535426150\n",
    "]\n",
    "\n",
    "mask = df['PID'].map(lambda x: False if x in pid_drop_list else True)\n",
    "df = df[mask]\n",
    "\n",
    "df = df[(df['SaleCondition'] == 'Normal') | (df['SaleCondition'] == 'Partial')]\n",
    "df = df[df['BedroomAbvGr'] != 0]\n",
    "df = df[df['MSZoning_com'] != 'Nonresidential']\n",
    "df.reset_index(drop=True, inplace = True)"
   ]
  },
  {
   "cell_type": "code",
   "execution_count": 6,
   "id": "80eec7d4",
   "metadata": {},
   "outputs": [],
   "source": [
    "#separate price from table\n",
    "price=df['SalePrice']\n",
    "price_log = np.log10(price)\n",
    "df=df.drop(['SalePrice_log'],axis=1)"
   ]
  },
  {
   "cell_type": "code",
   "execution_count": 7,
   "id": "309eac48",
   "metadata": {},
   "outputs": [],
   "source": [
    "#add radial average price feature\n",
    "avg_price_df=pd.read_csv('./../data/house_surrounding_avg_prices.csv')\n",
    "avg_price_df2=avg_price_df[['PID','AvgPrice-0.5']].drop_duplicates() #,'AvgPrice-0.25'\n",
    "\n",
    "df2=df.merge(avg_price_df2,how='left')"
   ]
  },
  {
   "cell_type": "code",
   "execution_count": 8,
   "id": "2783df6a",
   "metadata": {},
   "outputs": [],
   "source": [
    "#add geographical features\n",
    "radial = pd.read_csv('./../data/house_coordinates_1.0.csv')\n",
    "radial.drop(columns = ('2204_park'), inplace = True)\n",
    "for col in radial.columns:\n",
    "    prefix = str(col)[0:4]\n",
    "    if re.search('^\\d\\d\\d\\d_', str(col)):\n",
    "        radial.rename(columns = {col: col[5:]}, inplace = True)\n",
    "rad_drops = [\n",
    "    'Address',\n",
    "    'Coords4',\n",
    "    'latitude',\n",
    "    'longitude',\n",
    "    'town_hall',\n",
    "    'cemetery',\n",
    "    'motel',\n",
    "    'camp_site',\n",
    "    'general',\n",
    "    'picnic_site',\n",
    "    'wastewater_plant',\n",
    "    'spring',\n",
    "    'beach',\n",
    "    'street_lamp',\n",
    "    'helipad',\n",
    "    'vineyard',\n",
    "    'crossing',\n",
    "    'tree',\n",
    "    'grass',\n",
    "    'christian',\n",
    "    'bus_stop',\n",
    "    'parking',\n",
    "    'toilet',\n",
    "    'bench',\n",
    "    'commercial',\n",
    "    'waste_basket',\n",
    "    'drinking_water',\n",
    "    'convenience',\n",
    "    'camera_surveillance',\n",
    "    'comms_tower',\n",
    "    'residential',\n",
    "    'gift_shop',\n",
    "    'jeweller',\n",
    "    'hairdresser',\n",
    "    'bookshop',\n",
    "    'clothes',\n",
    "    'retail',\n",
    "    'food_court',\n",
    "    'artwork',\n",
    "    'cafe',\n",
    "    'traffic_signals',\n",
    "    'beauty_shop',\n",
    "    'sports_shop',\n",
    "    'weir',\n",
    "    'track',\n",
    "    'turning_circle',\n",
    "    'computer_shop',\n",
    "    'bicycle_shop',\n",
    "    'department_store',\n",
    "    'parking_bicycle',\n",
    "    'golf_course',\n",
    "    'tower',\n",
    "    'beverages',\n",
    "    'university'\n",
    "]\n",
    "radial.drop(columns = rad_drops, inplace = True)\n",
    "\n",
    "df2=df2.merge(radial, how='left')"
   ]
  },
  {
   "cell_type": "code",
   "execution_count": 9,
   "id": "4803a146",
   "metadata": {},
   "outputs": [],
   "source": [
    "#other rows to drop:\n",
    "droplist=['GarageFinish','SaleCondition','GarageType_com','Garage_age_bin','sold_datetime']\n",
    "df2=df2.drop(droplist,axis=1)"
   ]
  },
  {
   "cell_type": "code",
   "execution_count": 10,
   "id": "9711ab86",
   "metadata": {},
   "outputs": [],
   "source": [
    "#fillnas\n",
    "df2=df2.fillna(0)"
   ]
  },
  {
   "cell_type": "code",
   "execution_count": 11,
   "id": "dc5abee9",
   "metadata": {},
   "outputs": [],
   "source": [
    "scaler = MinMaxScaler()\n",
    "\n",
    "def fit_scale(col):\n",
    "    scaler.fit(df2[[col]])\n",
    "    df2[[col]]=scaler.transform(df2[[col]])\n",
    "\n",
    "fit_scale('OverallQual')\n",
    "fit_scale('ExterQual')\n",
    "fit_scale('OverallCond')\n",
    "fit_scale('KitchenQual')\n",
    "\n",
    "df2['PorchSF']=df2['OpenPorchSF']+df2['EnclosedPorch']+df2['3SsnPorch']+df2['ScreenPorch']\n",
    "\n",
    "\n",
    "df2['SaleTypeNew']=(df2['SaleType']=='New')\n",
    "df2['SaleTypeNew']=df2['SaleTypeNew'].apply(lambda x: 1 if x == True else 0)\n",
    "\n",
    "\n",
    "df2['BSMT_LowQual']=df2['TotalBsmtSF']-df2['BSMT_GLQ']-df2['BSMT_ALQ']\n",
    "df2['BSMT_HighQual']=df2['BSMT_GLQ']+df2['BSMT_ALQ']"
   ]
  },
  {
   "cell_type": "code",
   "execution_count": 12,
   "id": "7d458e29",
   "metadata": {},
   "outputs": [],
   "source": [
    "features_to_use=[\n",
    "    ### placeholders\n",
    "    'PID',\n",
    "    'SalePrice',\n",
    "    \n",
    "    ### from original dataset\n",
    "    'GrLivArea', \n",
    "    'LotArea', \n",
    "    'OverallQual',\n",
    "    'BSMT_LowQual', \n",
    "    'house_age_years', \n",
    "    'GarageCars',\n",
    "    'MasVnrType',\n",
    "    'FullBath',\n",
    "    'HalfBath',\n",
    "    'BsmtExposure_ord',\n",
    "    'SaleTypeNew',\n",
    "    'Neighborhood',\n",
    "    'BldgType',\n",
    "    'PorchSF',\n",
    "    'BSMT_HighQual',\n",
    "    'Fireplaces',\n",
    "    'Pool',\n",
    "    'BedroomAbvGr',\n",
    "    'ExterQual',\n",
    "    'OverallCond',\n",
    "    'KitchenQual',\n",
    "    \n",
    "    ### from radial location data for catboost\n",
    "    'water_tower',\n",
    "    'graveyard',\n",
    "    'police', \n",
    "    'optician',\n",
    "    'slipway',\n",
    "    'bar',\n",
    "    'cinema',\n",
    "    'supermarket',\n",
    "    'hotel',\n",
    "    'stop',\n",
    "    'farmyard',\n",
    "    'christian_catholic', \n",
    "    'jewish',\n",
    "    'muslim',\n",
    "    'garden_centre',\n",
    "    'christian_lutheran'                 \n",
    "]"
   ]
  },
  {
   "cell_type": "code",
   "execution_count": 13,
   "id": "dd7c8f22",
   "metadata": {},
   "outputs": [],
   "source": [
    "front_end=df2[features_to_use]\n",
    "\n",
    "# front_end.to_csv('./../data/ames_housing_price_data_v6.csv')"
   ]
  },
  {
   "cell_type": "code",
   "execution_count": 14,
   "id": "a9421dba",
   "metadata": {},
   "outputs": [],
   "source": [
    "#function and dictionaries required to transform front-end to back-end\n",
    "dummies = [   \n",
    "    'Neighborhood_Blueste',\n",
    "    'Neighborhood_BrDale',\n",
    "    'Neighborhood_BrkSide',\n",
    "    'Neighborhood_ClearCr',\n",
    "    'Neighborhood_CollgCr',\n",
    "    'Neighborhood_Crawfor',\n",
    "    'Neighborhood_Edwards',\n",
    "    'Neighborhood_Gilbert', \n",
    "    'Neighborhood_Greens', \n",
    "    'Neighborhood_GrnHill',\n",
    "    'Neighborhood_IDOTRR',\n",
    "    'Neighborhood_Landmrk',\n",
    "    'Neighborhood_MeadowV',\n",
    "    'Neighborhood_Mitchel',\n",
    "    'Neighborhood_NAmes',\n",
    "    'Neighborhood_NPkVill',\n",
    "    'Neighborhood_NWAmes',\n",
    "    'Neighborhood_NoRidge',\n",
    "    'Neighborhood_NridgHt',\n",
    "    'Neighborhood_OldTown',\n",
    "    'Neighborhood_SWISU',\n",
    "    'Neighborhood_Sawyer',\n",
    "    'Neighborhood_SawyerW',\n",
    "    'Neighborhood_Somerst',\n",
    "    'Neighborhood_StoneBr',\n",
    "    'Neighborhood_Timber',\n",
    "    'Neighborhood_Veenker',\n",
    "    'BldgType_2fmCon',\n",
    "    'BldgType_Duplex',\n",
    "    'BldgType_Twnhs',\n",
    "    'BldgType_TwnhsE',\n",
    "    'MasVnrType_None',\n",
    "    'MasVnrType_Stone'\n",
    "    ]\n",
    "\n",
    "non_dummies=['Neighborhood', 'BldgType', 'MasVnrType']"
   ]
  },
  {
   "cell_type": "code",
   "execution_count": 15,
   "id": "aa28a1c4",
   "metadata": {},
   "outputs": [],
   "source": [
    "#transformation of front-end to back-end, and catboost application\n",
    "back_end = front_end.copy()\n",
    "back_end.drop(columns = ['PID', 'SalePrice'], axis = 1, inplace = True)\n",
    "back_end['ExterQualDisc']=back_end['ExterQual']-back_end['OverallQual']\n",
    "back_end['OverallCondDisc']=back_end['OverallCond']-back_end['OverallQual']\n",
    "back_end['KitchenQualDisc']=back_end['KitchenQual']-back_end['OverallQual']\n",
    "back_end=back_end.drop(['ExterQual','OverallCond','KitchenQual'],axis=1)\n",
    "\n",
    "back_end = dummify(back_end, non_dummies, dummies)\n",
    "\n",
    "cbl = CatBoostRegressor();\n",
    "cbl.load_model(\"./../Moritz/HousePriceCatBoost\", \"cbm\")\n",
    "cbl_pred = cbl.predict(back_end)"
   ]
  },
  {
   "cell_type": "code",
   "execution_count": 16,
   "id": "ecded8b9",
   "metadata": {},
   "outputs": [],
   "source": [
    "dummies_linear = [   \n",
    "    'Neighborhood_Blueste',\n",
    "    'Neighborhood_BrDale',\n",
    "    'Neighborhood_BrkSide',\n",
    "    'Neighborhood_ClearCr',\n",
    "    'Neighborhood_CollgCr',\n",
    "    'Neighborhood_Crawfor',\n",
    "    'Neighborhood_Edwards',\n",
    "    'Neighborhood_Gilbert', \n",
    "    'Neighborhood_Greens', \n",
    "    'Neighborhood_GrnHill',\n",
    "    'Neighborhood_IDOTRR',\n",
    "    'Neighborhood_Landmrk',\n",
    "    'Neighborhood_MeadowV',\n",
    "    'Neighborhood_Mitchel',\n",
    "    'Neighborhood_NAmes',\n",
    "    'Neighborhood_NPkVill',\n",
    "    'Neighborhood_NWAmes',\n",
    "    'Neighborhood_NoRidge',\n",
    "    'Neighborhood_NridgHt',\n",
    "    'Neighborhood_OldTown',\n",
    "    'Neighborhood_SWISU',\n",
    "    'Neighborhood_Sawyer',\n",
    "    'Neighborhood_SawyerW',\n",
    "    'Neighborhood_Somerst',\n",
    "    'Neighborhood_StoneBr',\n",
    "    'Neighborhood_Timber',\n",
    "    'Neighborhood_Veenker',\n",
    "    'BldgType_2fmCon',\n",
    "    'BldgType_Duplex',\n",
    "    'BldgType_Twnhs',\n",
    "    'BldgType_TwnhsE',\n",
    "    'MasVnrType_None',\n",
    "    'MasVnrType_Stone',\n",
    "    'BSMT_HighQual_bin_500-1000',\n",
    "    'BSMT_HighQual_bin_0-500',\n",
    "    'BSMT_HighQual_bin_1000-1500',\n",
    "    'BSMT_HighQual_bin_1500+',\n",
    "    'BSMT_LowQual_bin_0-500',\n",
    "    'BSMT_LowQual_bin_500-1000',\n",
    "    'BSMT_LowQual_bin_1000-1500',\n",
    "    'BSMT_LowQual_bin_1500+'\n",
    "    ]\n",
    "\n",
    "non_dummies_linear = ['Neighborhood', 'BldgType', 'MasVnrType', 'BSMT_HighQual_bin', 'BSMT_LowQual_bin']"
   ]
  },
  {
   "cell_type": "code",
   "execution_count": 17,
   "id": "e09c28a9",
   "metadata": {},
   "outputs": [],
   "source": [
    "back_end_linear = front_end.copy()\n",
    "back_end_linear.drop(columns = ['PID', 'SalePrice'], axis = 1, inplace = True)\n",
    "back_end_linear['GrLivArea_log'] = np.log10(back_end_linear['GrLivArea'])\n",
    "back_end_linear['LotArea_log'] = np.log10(back_end_linear['LotArea'])\n",
    "back_end_linear['ExterQualDisc'] = back_end_linear['ExterQual'] - back_end_linear['OverallQual']\n",
    "back_end_linear['OverallCondDisc'] = back_end_linear['OverallCond'] - back_end_linear['OverallQual']\n",
    "back_end_linear['KitchenQualDisc'] = back_end_linear['KitchenQual'] - back_end_linear['OverallQual']\n",
    "back_end_linear = back_end_linear.drop(['ExterQual','OverallCond','KitchenQual'], axis=1)\n",
    "\n",
    "back_end_linear['BSMT_LowQual_bin'] = pd.cut(back_end_linear['BSMT_LowQual'], [-1, 1, 500, 1000, 1500, 2500], labels = ['No basement', '0-500', '500-1000', '1000-1500', '1500+']) \n",
    "back_end_linear['BSMT_HighQual_bin'] = pd.cut(back_end_linear['BSMT_HighQual'], [-1, 1, 500, 1000, 1500, 2500], labels = ['No basement', '0-500', '500-1000', '1000-1500', '1500+']) \n",
    "back_end_linear.drop(['BSMT_HighQual', 'BSMT_LowQual', 'GrLivArea', 'LotArea'], axis = 1, inplace = True)\n",
    "\n",
    "back_end_linear = dummify(back_end_linear, non_dummies_linear, dummies_linear)"
   ]
  },
  {
   "cell_type": "code",
   "execution_count": 18,
   "id": "78083438",
   "metadata": {},
   "outputs": [],
   "source": [
    "# # code used to generate model\n",
    "\n",
    "# kfold = KFold(n_splits=5, shuffle = True, random_state = 1)\n",
    "# params_log = {'alpha' : [1e-7, 1e-6, 1e-5, 1e-4]\n",
    "#           }\n",
    "# lasso = Lasso(normalize = True, max_iter = 1000, tol = 0.001)\n",
    "# lasso_tuner = GridSearchCV(lasso, params_log, cv=kfold, return_train_score = True)\n",
    "# lasso_tuner.fit(back_end_linear, np.log10(price))\n",
    "# with open('linearmodel.pickle', mode = 'wb') as file:\n",
    "#     pickle.dump(lasso_tuner.best_estimator_, file)"
   ]
  },
  {
   "cell_type": "code",
   "execution_count": 19,
   "id": "3ed3461a",
   "metadata": {},
   "outputs": [],
   "source": [
    "with open('linearmodel.pickle', mode = 'rb') as file:\n",
    "    lm = pickle.load(file)\n",
    "\n",
    "lm_pred = 10**lm.predict(back_end_linear)"
   ]
  },
  {
   "cell_type": "code",
   "execution_count": 20,
   "id": "014fbbbd",
   "metadata": {},
   "outputs": [
    {
     "data": {
      "text/plain": [
       "0.9397351388453661"
      ]
     },
     "execution_count": 20,
     "metadata": {},
     "output_type": "execute_result"
    }
   ],
   "source": [
    "lm.score(back_end_linear, price_log)"
   ]
  },
  {
   "cell_type": "code",
   "execution_count": 25,
   "id": "ab5b93e3",
   "metadata": {},
   "outputs": [],
   "source": [
    "svr_backend_scaler = StandardScaler()\n",
    "svr_price_scaler = StandardScaler()"
   ]
  },
  {
   "cell_type": "code",
   "execution_count": 26,
   "id": "7992b229",
   "metadata": {},
   "outputs": [],
   "source": [
    "back_end_svr = pd.DataFrame(svr_backend_scaler.fit_transform(back_end_linear), columns = back_end_linear.columns)\n",
    "price_std = pd.DataFrame(svr_price_scaler.fit_transform(np.array(price_log).reshape(-1,1)))"
   ]
  },
  {
   "cell_type": "code",
   "execution_count": 27,
   "id": "83e22f0c",
   "metadata": {},
   "outputs": [],
   "source": [
    "price_log_std = price_std[0]"
   ]
  },
  {
   "cell_type": "code",
   "execution_count": 28,
   "id": "12d82b28",
   "metadata": {},
   "outputs": [],
   "source": [
    "with open('SVR_model.pickle', mode = 'rb') as file:\n",
    "    svr = pickle.load(file)"
   ]
  },
  {
   "cell_type": "code",
   "execution_count": 29,
   "id": "ed286d20",
   "metadata": {},
   "outputs": [],
   "source": [
    "# svr_tuner = GridSearchCV(svr, params, cv = kfold, return_train_score = True)"
   ]
  },
  {
   "cell_type": "code",
   "execution_count": 30,
   "id": "b3038e9a",
   "metadata": {},
   "outputs": [],
   "source": [
    "# svr_tuner.fit(back_end_svr, price_log_std)"
   ]
  },
  {
   "cell_type": "code",
   "execution_count": 31,
   "id": "2b66533c",
   "metadata": {},
   "outputs": [],
   "source": [
    "# svr_tuner.best_score_ #new"
   ]
  },
  {
   "cell_type": "code",
   "execution_count": 32,
   "id": "2c07b162",
   "metadata": {},
   "outputs": [],
   "source": [
    "# svr_tuner.best_score_ #old"
   ]
  },
  {
   "cell_type": "code",
   "execution_count": 33,
   "id": "59795387",
   "metadata": {},
   "outputs": [],
   "source": [
    "# svr_tuner.best_params_"
   ]
  },
  {
   "cell_type": "code",
   "execution_count": 34,
   "id": "39bd93a5",
   "metadata": {},
   "outputs": [],
   "source": [
    "# svr_model = svr_tuner.best_estimator_"
   ]
  },
  {
   "cell_type": "code",
   "execution_count": 35,
   "id": "c41c1654",
   "metadata": {},
   "outputs": [],
   "source": [
    "# with open('SVR_model2.pickle', mode = 'wb') as file:\n",
    "#      pickle.dump(svr_tuner.best_estimator_, file)"
   ]
  },
  {
   "cell_type": "code",
   "execution_count": 36,
   "id": "29c7caf1",
   "metadata": {},
   "outputs": [],
   "source": [
    "# svr_tuner.best_estimator_.n_support_"
   ]
  },
  {
   "cell_type": "code",
   "execution_count": 37,
   "id": "fb9fd0d1",
   "metadata": {},
   "outputs": [],
   "source": [
    "# feat_imp_svr = pd.Series(data = svr_tuner.best_estimator_.coef_[0], index = back_end_linear.columns)\n",
    "# feat_imp_svr = feat_imp_svr.sort_values(ascending = False)\n",
    "# print(feat_imp_svr)"
   ]
  },
  {
   "cell_type": "code",
   "execution_count": 39,
   "id": "c57c1a68",
   "metadata": {},
   "outputs": [
    {
     "data": {
      "text/plain": [
       "array([113273.1398456 , 128231.62333129, 102100.87349911, ...,\n",
       "       171525.73933701, 219198.06521317, 209780.68279428])"
      ]
     },
     "execution_count": 39,
     "metadata": {},
     "output_type": "execute_result"
    }
   ],
   "source": [
    "10**(svr_price_scaler.inverse_transform(svr.predict(back_end_svr)))"
   ]
  }
 ],
 "metadata": {
  "kernelspec": {
   "display_name": "Python 3",
   "language": "python",
   "name": "python3"
  },
  "language_info": {
   "codemirror_mode": {
    "name": "ipython",
    "version": 3
   },
   "file_extension": ".py",
   "mimetype": "text/x-python",
   "name": "python",
   "nbconvert_exporter": "python",
   "pygments_lexer": "ipython3",
   "version": "3.8.8"
  }
 },
 "nbformat": 4,
 "nbformat_minor": 5
}
