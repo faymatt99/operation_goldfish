{
 "cells": [
  {
   "cell_type": "code",
   "execution_count": 1,
   "id": "2d37a17a",
   "metadata": {},
   "outputs": [],
   "source": [
    "import numpy as np\n",
    "import pandas as pd\n",
    "from scipy import stats\n",
    "from sklearn.linear_model import Ridge, Lasso, ElasticNet, LinearRegression\n",
    "import plotly.express as px\n",
    "import matplotlib.pyplot as plt\n",
    "import plotly.graph_objects as go\n",
    "from sklearn.model_selection import train_test_split\n",
    "from sklearn.model_selection import GridSearchCV\n",
    "from sklearn.model_selection import KFold, StratifiedKFold\n",
    "from sklearn.model_selection import cross_val_score\n",
    "\n",
    "from sklearn import ensemble\n",
    "from sklearn.model_selection import train_test_split\n",
    "from sklearn.model_selection import GridSearchCV\n",
    "import time\n",
    "\n",
    "from catboost import CatBoostRegressor\n",
    "\n",
    "import re\n",
    "\n",
    "from statsmodels.stats.outliers_influence import variance_inflation_factor\n",
    "from xgboost import XGBRegressor\n",
    "from sklearn.preprocessing import MinMaxScaler, StandardScaler\n",
    "from sklearn.svm import SVR\n",
    "\n",
    "import pickle"
   ]
  },
  {
   "cell_type": "code",
   "execution_count": 2,
   "id": "a26213ad",
   "metadata": {},
   "outputs": [],
   "source": [
    "def dummify(df, non_dummies, dummies):\n",
    "    for dummified in dummies:\n",
    "        for original in non_dummies:\n",
    "            if original in dummified:\n",
    "                orig_name = f'{original}_'\n",
    "                value = dummified.replace(orig_name, '')\n",
    "                df[dummified] = df[original].map(lambda x: 1 if x == value else 0)\n",
    "    df=df.drop(non_dummies,axis=1)\n",
    "    return df"
   ]
  },
  {
   "cell_type": "code",
   "execution_count": 3,
   "id": "aa9e0c43",
   "metadata": {},
   "outputs": [],
   "source": [
    "pd.set_option('display.max_rows', 500)"
   ]
  },
  {
   "cell_type": "code",
   "execution_count": 4,
   "id": "02612635",
   "metadata": {},
   "outputs": [],
   "source": [
    "df = pd.read_csv('./../data/ames_housing_price_data_v5.csv')"
   ]
  },
  {
   "cell_type": "code",
   "execution_count": 5,
   "id": "9dab3652",
   "metadata": {},
   "outputs": [],
   "source": [
    "df = df[(df['PID'] != 902207130) & (df['PID'] != 908154205)]\n",
    "pid_drop_list = [\n",
    "    905450020,\n",
    "    902477120,\n",
    "    531477050,\n",
    "    916403040,\n",
    "    916252170,\n",
    "    916253320,\n",
    "    902401130,\n",
    "    902205020,\n",
    "    907230240,\n",
    "    916477060,\n",
    "    912251110,\n",
    "    902103150,\n",
    "    911175360,\n",
    "    908154040,\n",
    "    909129100,\n",
    "    904101170,\n",
    "    923125030,\n",
    "    902205010,\n",
    "    902401120,\n",
    "    535300120,\n",
    "    535426150\n",
    "]\n",
    "\n",
    "mask = df['PID'].map(lambda x: False if x in pid_drop_list else True)\n",
    "df = df[mask]\n",
    "\n",
    "df = df[(df['SaleCondition'] == 'Normal') | (df['SaleCondition'] == 'Partial')]\n",
    "df = df[df['BedroomAbvGr'] != 0]\n",
    "df = df[df['MSZoning_com'] != 'Nonresidential']\n",
    "df.reset_index(drop=True, inplace = True)"
   ]
  },
  {
   "cell_type": "code",
   "execution_count": 6,
   "id": "80eec7d4",
   "metadata": {},
   "outputs": [],
   "source": [
    "#separate price from table\n",
    "price=df['SalePrice']\n",
    "price_log = np.log10(price)\n",
    "df=df.drop(['SalePrice_log'],axis=1)"
   ]
  },
  {
   "cell_type": "code",
   "execution_count": 7,
   "id": "309eac48",
   "metadata": {},
   "outputs": [],
   "source": [
    "#add radial average price feature\n",
    "avg_price_df=pd.read_csv('./../data/house_surrounding_avg_prices.csv')\n",
    "avg_price_df2=avg_price_df[['PID','AvgPrice-0.5']].drop_duplicates() #,'AvgPrice-0.25'\n",
    "\n",
    "df2=df.merge(avg_price_df2,how='left')"
   ]
  },
  {
   "cell_type": "code",
   "execution_count": 8,
   "id": "2783df6a",
   "metadata": {},
   "outputs": [],
   "source": [
    "#add geographical features\n",
    "radial = pd.read_csv('./../data/house_coordinates_1.0.csv')\n",
    "radial.drop(columns = ('2204_park'), inplace = True)\n",
    "for col in radial.columns:\n",
    "    prefix = str(col)[0:4]\n",
    "    if re.search('^\\d\\d\\d\\d_', str(col)):\n",
    "        radial.rename(columns = {col: col[5:]}, inplace = True)\n",
    "rad_drops = [\n",
    "    'Address',\n",
    "    'Coords4',\n",
    "    'latitude',\n",
    "    'longitude',\n",
    "    'town_hall',\n",
    "    'cemetery',\n",
    "    'motel',\n",
    "    'camp_site',\n",
    "    'general',\n",
    "    'picnic_site',\n",
    "    'wastewater_plant',\n",
    "    'spring',\n",
    "    'beach',\n",
    "    'street_lamp',\n",
    "    'helipad',\n",
    "    'vineyard',\n",
    "    'crossing',\n",
    "    'tree',\n",
    "    'grass',\n",
    "    'christian',\n",
    "    'bus_stop',\n",
    "    'parking',\n",
    "    'toilet',\n",
    "    'bench',\n",
    "    'commercial',\n",
    "    'waste_basket',\n",
    "    'drinking_water',\n",
    "    'convenience',\n",
    "    'camera_surveillance',\n",
    "    'comms_tower',\n",
    "    'residential',\n",
    "    'gift_shop',\n",
    "    'jeweller',\n",
    "    'hairdresser',\n",
    "    'bookshop',\n",
    "    'clothes',\n",
    "    'retail',\n",
    "    'food_court',\n",
    "    'artwork',\n",
    "    'cafe',\n",
    "    'traffic_signals',\n",
    "    'beauty_shop',\n",
    "    'sports_shop',\n",
    "    'weir',\n",
    "    'track',\n",
    "    'turning_circle',\n",
    "    'computer_shop',\n",
    "    'bicycle_shop',\n",
    "    'department_store',\n",
    "    'parking_bicycle',\n",
    "    'golf_course',\n",
    "    'tower',\n",
    "    'beverages',\n",
    "    'university'\n",
    "]\n",
    "radial.drop(columns = rad_drops, inplace = True)\n",
    "\n",
    "df2=df2.merge(radial, how='left')"
   ]
  },
  {
   "cell_type": "code",
   "execution_count": 9,
   "id": "4803a146",
   "metadata": {},
   "outputs": [],
   "source": [
    "#other rows to drop:\n",
    "droplist=['GarageFinish','SaleCondition','GarageType_com','Garage_age_bin','sold_datetime']\n",
    "df2=df2.drop(droplist,axis=1)"
   ]
  },
  {
   "cell_type": "code",
   "execution_count": 10,
   "id": "9711ab86",
   "metadata": {},
   "outputs": [],
   "source": [
    "#fillnas\n",
    "df2=df2.fillna(0)"
   ]
  },
  {
   "cell_type": "code",
   "execution_count": 11,
   "id": "dc5abee9",
   "metadata": {},
   "outputs": [],
   "source": [
    "scaler = MinMaxScaler()\n",
    "\n",
    "def fit_scale(col):\n",
    "    scaler.fit(df2[[col]])\n",
    "    df2[[col]]=scaler.transform(df2[[col]])\n",
    "\n",
    "fit_scale('OverallQual')\n",
    "fit_scale('ExterQual')\n",
    "fit_scale('OverallCond')\n",
    "fit_scale('KitchenQual')\n",
    "\n",
    "df2['PorchSF']=df2['OpenPorchSF']+df2['EnclosedPorch']+df2['3SsnPorch']+df2['ScreenPorch']\n",
    "\n",
    "\n",
    "df2['SaleTypeNew']=(df2['SaleType']=='New')\n",
    "df2['SaleTypeNew']=df2['SaleTypeNew'].apply(lambda x: 1 if x == True else 0)\n",
    "\n",
    "\n",
    "df2['BSMT_LowQual']=df2['TotalBsmtSF']-df2['BSMT_GLQ']-df2['BSMT_ALQ']\n",
    "df2['BSMT_HighQual']=df2['BSMT_GLQ']+df2['BSMT_ALQ']"
   ]
  },
  {
   "cell_type": "code",
   "execution_count": 12,
   "id": "7d458e29",
   "metadata": {},
   "outputs": [],
   "source": [
    "features_to_use=[\n",
    "    ### placeholders\n",
    "    'PID',\n",
    "    'SalePrice',\n",
    "    \n",
    "    ### from original dataset\n",
    "    'GrLivArea', \n",
    "    'LotArea', \n",
    "    'OverallQual',\n",
    "    'BSMT_LowQual', \n",
    "    'house_age_years', \n",
    "    'GarageCars',\n",
    "    'MasVnrType',\n",
    "    'FullBath',\n",
    "    'HalfBath',\n",
    "    'BsmtExposure_ord',\n",
    "    'SaleTypeNew',\n",
    "    'Neighborhood',\n",
    "    'BldgType',\n",
    "    'PorchSF',\n",
    "    'BSMT_HighQual',\n",
    "    'Fireplaces',\n",
    "    'Pool',\n",
    "    'BedroomAbvGr',\n",
    "    'ExterQual',\n",
    "    'OverallCond',\n",
    "    'KitchenQual',\n",
    "    \n",
    "    ### from radial location data for catboost\n",
    "    'water_tower',\n",
    "    'graveyard',\n",
    "    'police', \n",
    "    'optician',\n",
    "    'slipway',\n",
    "    'bar',\n",
    "    'cinema',\n",
    "    'supermarket',\n",
    "    'hotel',\n",
    "    'stop',\n",
    "    'farmyard',\n",
    "    'christian_catholic', \n",
    "    'jewish',\n",
    "    'muslim',\n",
    "    'garden_centre',\n",
    "    'christian_lutheran'                 \n",
    "]"
   ]
  },
  {
   "cell_type": "code",
   "execution_count": 13,
   "id": "dd7c8f22",
   "metadata": {},
   "outputs": [],
   "source": [
    "front_end=df2[features_to_use]\n",
    "\n",
    "# front_end.to_csv('./../data/ames_housing_price_data_v6.csv')"
   ]
  },
  {
   "cell_type": "code",
   "execution_count": 14,
   "id": "a9421dba",
   "metadata": {},
   "outputs": [],
   "source": [
    "#function and dictionaries required to transform front-end to back-end\n",
    "dummies = [   \n",
    "    'Neighborhood_Blueste',\n",
    "    'Neighborhood_BrDale',\n",
    "    'Neighborhood_BrkSide',\n",
    "    'Neighborhood_ClearCr',\n",
    "    'Neighborhood_CollgCr',\n",
    "    'Neighborhood_Crawfor',\n",
    "    'Neighborhood_Edwards',\n",
    "    'Neighborhood_Gilbert', \n",
    "    'Neighborhood_Greens', \n",
    "    'Neighborhood_GrnHill',\n",
    "    'Neighborhood_IDOTRR',\n",
    "    'Neighborhood_Landmrk',\n",
    "    'Neighborhood_MeadowV',\n",
    "    'Neighborhood_Mitchel',\n",
    "    'Neighborhood_NAmes',\n",
    "    'Neighborhood_NPkVill',\n",
    "    'Neighborhood_NWAmes',\n",
    "    'Neighborhood_NoRidge',\n",
    "    'Neighborhood_NridgHt',\n",
    "    'Neighborhood_OldTown',\n",
    "    'Neighborhood_SWISU',\n",
    "    'Neighborhood_Sawyer',\n",
    "    'Neighborhood_SawyerW',\n",
    "    'Neighborhood_Somerst',\n",
    "    'Neighborhood_StoneBr',\n",
    "    'Neighborhood_Timber',\n",
    "    'Neighborhood_Veenker',\n",
    "    'BldgType_2fmCon',\n",
    "    'BldgType_Duplex',\n",
    "    'BldgType_Twnhs',\n",
    "    'BldgType_TwnhsE',\n",
    "    'MasVnrType_None',\n",
    "    'MasVnrType_Stone'\n",
    "    ]\n",
    "\n",
    "non_dummies=['Neighborhood', 'BldgType', 'MasVnrType']"
   ]
  },
  {
   "cell_type": "code",
   "execution_count": 15,
   "id": "aa28a1c4",
   "metadata": {},
   "outputs": [],
   "source": [
    "#transformation of front-end to back-end, and catboost application\n",
    "back_end = front_end.copy()\n",
    "back_end.drop(columns = ['PID', 'SalePrice'], axis = 1, inplace = True)\n",
    "back_end['ExterQualDisc']=back_end['ExterQual']-back_end['OverallQual']\n",
    "back_end['OverallCondDisc']=back_end['OverallCond']-back_end['OverallQual']\n",
    "back_end['KitchenQualDisc']=back_end['KitchenQual']-back_end['OverallQual']\n",
    "back_end=back_end.drop(['ExterQual','OverallCond','KitchenQual'],axis=1)\n",
    "\n",
    "back_end = dummify(back_end, non_dummies, dummies)\n",
    "\n",
    "cbl = CatBoostRegressor();\n",
    "cbl.load_model(\"./../Moritz/HousePriceCatBoost\", \"cbm\")\n",
    "cbl_pred = cbl.predict(back_end)"
   ]
  },
  {
   "cell_type": "code",
   "execution_count": 16,
   "id": "ecded8b9",
   "metadata": {},
   "outputs": [],
   "source": [
    "dummies_linear = [   \n",
    "    'Neighborhood_Blueste',\n",
    "    'Neighborhood_BrDale',\n",
    "    'Neighborhood_BrkSide',\n",
    "    'Neighborhood_ClearCr',\n",
    "    'Neighborhood_CollgCr',\n",
    "    'Neighborhood_Crawfor',\n",
    "    'Neighborhood_Edwards',\n",
    "    'Neighborhood_Gilbert', \n",
    "    'Neighborhood_Greens', \n",
    "    'Neighborhood_GrnHill',\n",
    "    'Neighborhood_IDOTRR',\n",
    "    'Neighborhood_Landmrk',\n",
    "    'Neighborhood_MeadowV',\n",
    "    'Neighborhood_Mitchel',\n",
    "    'Neighborhood_NAmes',\n",
    "    'Neighborhood_NPkVill',\n",
    "    'Neighborhood_NWAmes',\n",
    "    'Neighborhood_NoRidge',\n",
    "    'Neighborhood_NridgHt',\n",
    "    'Neighborhood_OldTown',\n",
    "    'Neighborhood_SWISU',\n",
    "    'Neighborhood_Sawyer',\n",
    "    'Neighborhood_SawyerW',\n",
    "    'Neighborhood_Somerst',\n",
    "    'Neighborhood_StoneBr',\n",
    "    'Neighborhood_Timber',\n",
    "    'Neighborhood_Veenker',\n",
    "    'BldgType_2fmCon',\n",
    "    'BldgType_Duplex',\n",
    "    'BldgType_Twnhs',\n",
    "    'BldgType_TwnhsE',\n",
    "    'MasVnrType_None',\n",
    "    'MasVnrType_Stone',\n",
    "    'BSMT_HighQual_bin_500-1000',\n",
    "    'BSMT_HighQual_bin_0-500',\n",
    "    'BSMT_HighQual_bin_1000-1500',\n",
    "    'BSMT_HighQual_bin_1500+',\n",
    "    'BSMT_LowQual_bin_0-500',\n",
    "    'BSMT_LowQual_bin_500-1000',\n",
    "    'BSMT_LowQual_bin_1000-1500',\n",
    "    'BSMT_LowQual_bin_1500+'\n",
    "    ]\n",
    "\n",
    "non_dummies_linear = ['Neighborhood', 'BldgType', 'MasVnrType', 'BSMT_HighQual_bin', 'BSMT_LowQual_bin']"
   ]
  },
  {
   "cell_type": "code",
   "execution_count": 17,
   "id": "e09c28a9",
   "metadata": {},
   "outputs": [],
   "source": [
    "back_end_linear = front_end.copy()\n",
    "back_end_linear.drop(columns = ['PID', 'SalePrice'], axis = 1, inplace = True)\n",
    "back_end_linear['GrLivArea_log'] = np.log10(back_end_linear['GrLivArea'])\n",
    "back_end_linear['LotArea_log'] = np.log10(back_end_linear['LotArea'])\n",
    "back_end_linear['ExterQualDisc'] = back_end_linear['ExterQual'] - back_end_linear['OverallQual']\n",
    "back_end_linear['OverallCondDisc'] = back_end_linear['OverallCond'] - back_end_linear['OverallQual']\n",
    "back_end_linear['KitchenQualDisc'] = back_end_linear['KitchenQual'] - back_end_linear['OverallQual']\n",
    "back_end_linear = back_end_linear.drop(['ExterQual','OverallCond','KitchenQual'], axis=1)\n",
    "\n",
    "back_end_linear['BSMT_LowQual_bin'] = pd.cut(back_end_linear['BSMT_LowQual'], [-1, 1, 500, 1000, 1500, 2500], labels = ['No basement', '0-500', '500-1000', '1000-1500', '1500+']) \n",
    "back_end_linear['BSMT_HighQual_bin'] = pd.cut(back_end_linear['BSMT_HighQual'], [-1, 1, 500, 1000, 1500, 2500], labels = ['No basement', '0-500', '500-1000', '1000-1500', '1500+']) \n",
    "back_end_linear.drop(['BSMT_HighQual', 'BSMT_LowQual', 'GrLivArea', 'LotArea'], axis = 1, inplace = True)\n",
    "\n",
    "back_end_linear = dummify(back_end_linear, non_dummies_linear, dummies_linear)"
   ]
  },
  {
   "cell_type": "code",
   "execution_count": 18,
   "id": "78083438",
   "metadata": {},
   "outputs": [],
   "source": [
    "# # code used to generate model\n",
    "\n",
    "# kfold = KFold(n_splits=5, shuffle = True, random_state = 1)\n",
    "# params_log = {'alpha' : [1e-7, 1e-6, 1e-5, 1e-4]\n",
    "#           }\n",
    "# lasso = Lasso(normalize = True, max_iter = 1000, tol = 0.001)\n",
    "# lasso_tuner = GridSearchCV(lasso, params_log, cv=kfold, return_train_score = True)\n",
    "# lasso_tuner.fit(back_end_linear, np.log10(price))\n",
    "# with open('linearmodel.pickle', mode = 'wb') as file:\n",
    "#     pickle.dump(lasso_tuner.best_estimator_, file)"
   ]
  },
  {
   "cell_type": "code",
   "execution_count": 19,
   "id": "3ed3461a",
   "metadata": {},
   "outputs": [],
   "source": [
    "with open('linearmodel.pickle', mode = 'rb') as file:\n",
    "    lm = pickle.load(file)\n",
    "\n",
    "lm_pred = 10**lm.predict(back_end_linear)"
   ]
  },
  {
   "cell_type": "code",
   "execution_count": 20,
   "id": "848a1631",
   "metadata": {},
   "outputs": [
    {
     "data": {
      "text/plain": [
       "0.9397351388453661"
      ]
     },
     "execution_count": 20,
     "metadata": {},
     "output_type": "execute_result"
    }
   ],
   "source": [
    "lm.score(back_end_linear, price_log)"
   ]
  },
  {
   "cell_type": "code",
   "execution_count": 21,
   "id": "526aa03d",
   "metadata": {},
   "outputs": [
    {
     "name": "stdout",
     "output_type": "stream",
     "text": [
      "69\n",
      "GrLivArea_log                  0.429077\n",
      "OverallQual                    0.347738\n",
      "OverallCondDisc                0.132957\n",
      "BSMT_HighQual_bin_1500+        0.122300\n",
      "LotArea_log                    0.102171\n",
      "BSMT_HighQual_bin_1000-1500    0.083511\n",
      "Neighborhood_Crawfor           0.053938\n",
      "Neighborhood_StoneBr           0.050696\n",
      "BSMT_LowQual_bin_1500+         0.049974\n",
      "BSMT_HighQual_bin_500-1000     0.047652\n",
      "BSMT_LowQual_bin_1000-1500     0.046351\n",
      "garden_centre                  0.038379\n",
      "KitchenQualDisc                0.034571\n",
      "BSMT_LowQual_bin_500-1000      0.029659\n",
      "Neighborhood_NridgHt           0.028675\n",
      "ExterQualDisc                  0.027102\n",
      "Neighborhood_Blueste           0.025467\n",
      "Neighborhood_Greens            0.024994\n",
      "Neighborhood_NPkVill           0.023628\n",
      "Neighborhood_NoRidge           0.022447\n",
      "Neighborhood_Timber            0.021883\n",
      "Neighborhood_Somerst           0.021333\n",
      "BSMT_HighQual_bin_0-500        0.020100\n",
      "SaleTypeNew                    0.019075\n",
      "BSMT_LowQual_bin_0-500         0.018351\n",
      "GarageCars                     0.016957\n",
      "Fireplaces                     0.012003\n",
      "optician                       0.007935\n",
      "Neighborhood_CollgCr           0.007672\n",
      "BsmtExposure_ord               0.007262\n",
      "Neighborhood_ClearCr           0.005229\n",
      "police                         0.003003\n",
      "muslim                         0.002885\n",
      "Neighborhood_BrDale            0.002444\n",
      "Neighborhood_BrkSide           0.001806\n",
      "Pool                           0.001732\n",
      "FullBath                       0.000824\n",
      "HalfBath                       0.000796\n",
      "jewish                         0.000779\n",
      "stop                           0.000314\n",
      "PorchSF                        0.000053\n",
      "slipway                       -0.001030\n",
      "water_tower                   -0.001107\n",
      "house_age_years               -0.001403\n",
      "farmyard                      -0.001415\n",
      "supermarket                   -0.001441\n",
      "MasVnrType_None               -0.001936\n",
      "MasVnrType_Stone              -0.002252\n",
      "Neighborhood_SWISU            -0.002310\n",
      "christian_lutheran            -0.002502\n",
      "BedroomAbvGr                  -0.002576\n",
      "Neighborhood_Mitchel          -0.002601\n",
      "christian_catholic            -0.004358\n",
      "hotel                         -0.006263\n",
      "BldgType_TwnhsE               -0.006392\n",
      "graveyard                     -0.006805\n",
      "cinema                        -0.010247\n",
      "Neighborhood_IDOTRR           -0.010868\n",
      "Neighborhood_Sawyer           -0.012220\n",
      "Neighborhood_NWAmes           -0.013503\n",
      "Neighborhood_OldTown          -0.015756\n",
      "Neighborhood_Gilbert          -0.019467\n",
      "Neighborhood_Veenker          -0.020484\n",
      "BldgType_Twnhs                -0.020846\n",
      "Neighborhood_Edwards          -0.022575\n",
      "BldgType_2fmCon               -0.024061\n",
      "Neighborhood_MeadowV          -0.025388\n",
      "Neighborhood_SawyerW          -0.028489\n",
      "BldgType_Duplex               -0.040579\n",
      "dtype: float64\n",
      "4\n",
      "Neighborhood_GrnHill    0.0\n",
      "bar                    -0.0\n",
      "Neighborhood_Landmrk    0.0\n",
      "Neighborhood_NAmes      0.0\n",
      "dtype: float64\n"
     ]
    }
   ],
   "source": [
    "feat_imp_lin = pd.Series(data = lm.coef_, index = back_end_linear.columns)\n",
    "feat_imp_lin = feat_imp_lin.sort_values(ascending = False)\n",
    "ignored_lin = feat_imp_lin[feat_imp_lin == 0]\n",
    "feat_imp_lin = feat_imp_lin[feat_imp_lin != 0]\n",
    "print(len(feat_imp_lin))\n",
    "print(feat_imp_lin)\n",
    "print(len(ignored_lin))\n",
    "print(ignored_lin)"
   ]
  },
  {
   "cell_type": "code",
   "execution_count": 22,
   "id": "35f1184e",
   "metadata": {},
   "outputs": [],
   "source": [
    "svr = SVR(kernel = 'linear')"
   ]
  },
  {
   "cell_type": "code",
   "execution_count": 23,
   "id": "89dc5023",
   "metadata": {},
   "outputs": [],
   "source": [
    "kfold = KFold(n_splits=5, shuffle = True, random_state = 0)"
   ]
  },
  {
   "cell_type": "code",
   "execution_count": 24,
   "id": "0a0a2091",
   "metadata": {},
   "outputs": [],
   "source": [
    "params = {\n",
    "    'C' : [1, 10, 100],\n",
    "    'epsilon' : [1e-3, 1e-2, 0.1, 1, 10]  \n",
    "}"
   ]
  },
  {
   "cell_type": "code",
   "execution_count": 25,
   "id": "ff75b971",
   "metadata": {},
   "outputs": [],
   "source": [
    "ss_X = StandardScaler()\n",
    "ss_y = StandardScaler()"
   ]
  },
  {
   "cell_type": "code",
   "execution_count": 27,
   "id": "77273b81",
   "metadata": {},
   "outputs": [],
   "source": [
    "back_end_svr = pd.DataFrame(ss_X.fit_transform(back_end_linear), columns = back)\n",
    "price_std = pd.DataFrame(ss_y.fit_transform(np.array(price_log).reshape(-1,1)))"
   ]
  },
  {
   "cell_type": "code",
   "execution_count": 28,
   "id": "cde777cf",
   "metadata": {},
   "outputs": [],
   "source": [
    "price_log_std = price_std[0]"
   ]
  },
  {
   "cell_type": "code",
   "execution_count": 29,
   "id": "5e2739d5",
   "metadata": {},
   "outputs": [],
   "source": [
    "svr_tuner = GridSearchCV(svr, params, cv = kfold, return_train_score = True)"
   ]
  },
  {
   "cell_type": "code",
   "execution_count": 30,
   "id": "4223d30a",
   "metadata": {},
   "outputs": [
    {
     "data": {
      "text/plain": [
       "GridSearchCV(cv=KFold(n_splits=5, random_state=0, shuffle=True),\n",
       "             estimator=SVR(kernel='linear'),\n",
       "             param_grid={'C': [1, 10, 100],\n",
       "                         'epsilon': [1e-06, 1e-05, 0.0001, 0.001]},\n",
       "             return_train_score=True)"
      ]
     },
     "execution_count": 30,
     "metadata": {},
     "output_type": "execute_result"
    }
   ],
   "source": [
    "svr_tuner.fit(back_end_svr, price_log_std)"
   ]
  },
  {
   "cell_type": "code",
   "execution_count": 31,
   "id": "cf6bc636",
   "metadata": {},
   "outputs": [
    {
     "data": {
      "text/plain": [
       "0.9345492013989455"
      ]
     },
     "execution_count": 31,
     "metadata": {},
     "output_type": "execute_result"
    }
   ],
   "source": [
    "svr_tuner.best_score_"
   ]
  },
  {
   "cell_type": "code",
   "execution_count": 32,
   "id": "4486f1c1",
   "metadata": {},
   "outputs": [
    {
     "data": {
      "text/plain": [
       "{'C': 10, 'epsilon': 0.001}"
      ]
     },
     "execution_count": 32,
     "metadata": {},
     "output_type": "execute_result"
    }
   ],
   "source": [
    "svr_tuner.best_params_"
   ]
  },
  {
   "cell_type": "code",
   "execution_count": 37,
   "id": "1a591ee6",
   "metadata": {},
   "outputs": [],
   "source": [
    "svr_model = svr_tuner.best_estimator_"
   ]
  },
  {
   "cell_type": "code",
   "execution_count": 38,
   "id": "eea10f67",
   "metadata": {},
   "outputs": [],
   "source": [
    "with open('SVR_model.pickle', mode = 'wb') as file:\n",
    "     pickle.dump(svr_tuner.best_estimator_, file)"
   ]
  },
  {
   "cell_type": "code",
   "execution_count": 36,
   "id": "99627d30",
   "metadata": {},
   "outputs": [
    {
     "data": {
      "text/plain": [
       "array([2450])"
      ]
     },
     "execution_count": 36,
     "metadata": {},
     "output_type": "execute_result"
    }
   ],
   "source": [
    "svr_tuner.best_estimator_.n_support_"
   ]
  },
  {
   "cell_type": "code",
   "execution_count": 40,
   "id": "0a7cfd97",
   "metadata": {},
   "outputs": [
    {
     "name": "stdout",
     "output_type": "stream",
     "text": [
      "OverallQual                    3.729683e-01\n",
      "GrLivArea_log                  3.543131e-01\n",
      "OverallCondDisc                2.083269e-01\n",
      "BSMT_HighQual_bin_1000-1500    1.551231e-01\n",
      "LotArea_log                    1.460210e-01\n",
      "BSMT_HighQual_bin_500-1000     1.357218e-01\n",
      "BSMT_LowQual_bin_1000-1500     1.357205e-01\n",
      "BSMT_LowQual_bin_500-1000      1.145212e-01\n",
      "BSMT_HighQual_bin_1500+        1.027753e-01\n",
      "GarageCars                     7.988928e-02\n",
      "BSMT_LowQual_bin_0-500         7.278365e-02\n",
      "BSMT_LowQual_bin_1500+         7.092643e-02\n",
      "Neighborhood_Crawfor           5.752327e-02\n",
      "BSMT_HighQual_bin_0-500        5.188483e-02\n",
      "Fireplaces                     4.178480e-02\n",
      "Neighborhood_NridgHt           3.734002e-02\n",
      "PorchSF                        3.578887e-02\n",
      "Neighborhood_StoneBr           3.536472e-02\n",
      "BsmtExposure_ord               3.476480e-02\n",
      "KitchenQualDisc                3.421301e-02\n",
      "Neighborhood_Somerst           3.322257e-02\n",
      "Neighborhood_NoRidge           2.675106e-02\n",
      "garden_centre                  2.353467e-02\n",
      "ExterQualDisc                  1.826719e-02\n",
      "SaleTypeNew                    1.568198e-02\n",
      "bar                            1.556432e-02\n",
      "Neighborhood_Timber            1.489132e-02\n",
      "Neighborhood_Greens            1.274919e-02\n",
      "optician                       1.257925e-02\n",
      "Neighborhood_CollgCr           1.202328e-02\n",
      "police                         1.073460e-02\n",
      "Neighborhood_NPkVill           9.143919e-03\n",
      "slipway                        8.960003e-03\n",
      "jewish                         7.734552e-03\n",
      "FullBath                       7.055745e-03\n",
      "HalfBath                       6.699659e-03\n",
      "Neighborhood_ClearCr           5.965857e-03\n",
      "Neighborhood_Blueste           4.947219e-03\n",
      "Pool                           2.963115e-03\n",
      "Neighborhood_BrDale            3.428369e-13\n",
      "Neighborhood_Landmrk           0.000000e+00\n",
      "Neighborhood_GrnHill           0.000000e+00\n",
      "stop                          -2.231003e-03\n",
      "supermarket                   -3.259832e-03\n",
      "christian_catholic            -4.359319e-03\n",
      "MasVnrType_Stone              -6.235167e-03\n",
      "Neighborhood_BrkSide          -6.631149e-03\n",
      "muslim                        -7.019418e-03\n",
      "Neighborhood_Veenker          -9.355598e-03\n",
      "Neighborhood_Mitchel          -9.385015e-03\n",
      "BldgType_TwnhsE               -1.094642e-02\n",
      "Neighborhood_Sawyer           -1.162274e-02\n",
      "Neighborhood_IDOTRR           -1.261297e-02\n",
      "Neighborhood_SWISU            -1.271964e-02\n",
      "Neighborhood_NAmes            -1.342753e-02\n",
      "BedroomAbvGr                  -1.432493e-02\n",
      "MasVnrType_None               -1.702168e-02\n",
      "BldgType_2fmCon               -1.999137e-02\n",
      "Neighborhood_MeadowV          -2.057221e-02\n",
      "graveyard                     -2.073104e-02\n",
      "christian_lutheran            -2.251536e-02\n",
      "farmyard                      -2.498802e-02\n",
      "BldgType_Twnhs                -2.542576e-02\n",
      "cinema                        -2.757618e-02\n",
      "water_tower                   -2.896677e-02\n",
      "Neighborhood_NWAmes           -2.939667e-02\n",
      "Neighborhood_Gilbert          -3.381241e-02\n",
      "Neighborhood_OldTown          -3.696496e-02\n",
      "Neighborhood_Edwards          -3.897272e-02\n",
      "BldgType_Duplex               -3.957818e-02\n",
      "Neighborhood_SawyerW          -4.974217e-02\n",
      "hotel                         -5.284778e-02\n",
      "house_age_years               -2.543711e-01\n",
      "dtype: float64\n"
     ]
    }
   ],
   "source": [
    "feat_imp_svr = pd.Series(data = svr_tuner.best_estimator_.coef_[0], index = back_end_linear.columns)\n",
    "feat_imp_svr = feat_imp_svr.sort_values(ascending = False)\n",
    "print(feat_imp_svr)"
   ]
  }
 ],
 "metadata": {
  "kernelspec": {
   "display_name": "Python 3",
   "language": "python",
   "name": "python3"
  },
  "language_info": {
   "codemirror_mode": {
    "name": "ipython",
    "version": 3
   },
   "file_extension": ".py",
   "mimetype": "text/x-python",
   "name": "python",
   "nbconvert_exporter": "python",
   "pygments_lexer": "ipython3",
   "version": "3.8.8"
  }
 },
 "nbformat": 4,
 "nbformat_minor": 5
}
