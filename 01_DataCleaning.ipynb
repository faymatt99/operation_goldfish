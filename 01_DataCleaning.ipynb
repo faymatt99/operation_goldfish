{
 "cells": [
  {
   "cell_type": "code",
   "execution_count": null,
   "id": "02c9c375-b9a7-45ed-bf0c-9f16c4a27c34",
   "metadata": {},
   "outputs": [],
   "source": [
    "import pandas as pd"
   ]
  },
  {
   "cell_type": "code",
   "execution_count": null,
   "id": "7c41151e-86ee-455f-85fb-cf6499bc418f",
   "metadata": {},
   "outputs": [],
   "source": [
    "df = pd.read_csv(\"/data/Ames_Housing_Price_Data_raw.csv\")"
   ]
  },
  {
   "cell_type": "code",
   "execution_count": null,
   "id": "f5724018-a759-4e1a-b8da-7429dc6da5e9",
   "metadata": {},
   "outputs": [],
   "source": [
    "type_dict={\n",
    "    'MiscFeature': 'Nominal',\n",
    "    'Fireplaces': 'Discrete',\n",
    "    'FireplaceQu': 'Ordinal',\n",
    "    'PoolQC': 'Ordinal',\n",
    "    'PoolArea': 'Continuous',\n",
    "    'PavedDrive': 'Nominal',\n",
    "    'ExterQual': 'Ordinal',\n",
    "    'OverallQual': 'Ordinal',\n",
    "    'OverallCond': 'Ordinal',\n",
    "    'MiscVal': 'Continuous',\n",
    "    'YearBuilt': 'Discrete',\n",
    "    'YearRemodAdd': 'Discrete',\n",
    "    'KitchenQual': 'Ordinal',\n",
    "    'Fence': 'Ordinal',\n",
    "    'RoofStyle': 'Nominal',\n",
    "    'RoofMatl': 'Nominal',\n",
    "    'Exterior1st': 'Nominal',\n",
    "    'Exterior2nd': 'Nominal',\n",
    "    'ExterCond': 'Ordinal',\n",
    "    'MasVnrType': 'Nominal',\n",
    "    'MasVnrArea': 'Continuous'\n",
    "}"
   ]
  },
  {
   "cell_type": "code",
   "execution_count": null,
   "id": "899cd380-7a9b-47f2-8b77-b4e937d54e84",
   "metadata": {},
   "outputs": [],
   "source": [
    "Cond_dict={\n",
    "       'Ex':5,\n",
    "       'Gd':4,\n",
    "       'TA':3,\n",
    "       'Fa':2,\n",
    "       'Po':1,\n",
    "       'NA':0,\n",
    "        '0':0\n",
    "}"
   ]
  },
  {
   "cell_type": "code",
   "execution_count": null,
   "id": "c34f4818-3b13-4675-bc6d-b1b6e829ed19",
   "metadata": {},
   "outputs": [],
   "source": [
    "df.loc[df['ExterQual'].isna(),'ExterQual']='0'\n",
    "df['ExterQual']=df['ExterQual'].map(lambda x: Cond_dict[x])\n",
    "\n",
    "df.loc[df['ExterCond'].isna(),'ExterCond']='0'\n",
    "df['ExterCond']=df['ExterCond'].map(lambda x: Cond_dict[x])\n",
    "\n",
    "df.loc[df['KitchenQual'].isna(),'KitchenQual']='0'\n",
    "df['KitchenQual']=df['KitchenQual'].map(lambda x: Cond_dict[x])\n",
    "\n",
    "df.loc[df['FireplaceQu'].isna(),'FireplaceQu']='0'\n",
    "df['FireplaceQu']=df['FireplaceQu'].map(lambda x: Cond_dict[x])"
   ]
  }
 ],
 "metadata": {
  "kernelspec": {
   "display_name": "Python 3",
   "language": "python",
   "name": "python3"
  },
  "language_info": {
   "codemirror_mode": {
    "name": "ipython",
    "version": 3
   },
   "file_extension": ".py",
   "mimetype": "text/x-python",
   "name": "python",
   "nbconvert_exporter": "python",
   "pygments_lexer": "ipython3",
   "version": "3.8.8"
  }
 },
 "nbformat": 4,
 "nbformat_minor": 5
}
