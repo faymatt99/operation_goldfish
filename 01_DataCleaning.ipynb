{
 "cells": [
  {
   "cell_type": "code",
   "execution_count": null,
   "id": "02c9c375-b9a7-45ed-bf0c-9f16c4a27c34",
   "metadata": {},
   "outputs": [],
   "source": [
    "import numpy as np\n",
    "import pandas as pd"
   ]
  },
  {
   "cell_type": "code",
   "execution_count": null,
   "id": "7c41151e-86ee-455f-85fb-cf6499bc418f",
   "metadata": {},
   "outputs": [],
   "source": [
    "df = pd.read_csv(\"/data/Ames_Housing_Price_Data_raw.csv\")"
   ]
  },
  {
   "cell_type": "code",
   "execution_count": null,
   "id": "b410ac5d",
   "metadata": {},
   "outputs": [],
   "source": [
    "# reset index bc data has rows with same indices, i.e. indices start over at 1 at certain points\n",
    "df = df.reset_index(drop = True)"
   ]
  },
  {
   "cell_type": "markdown",
   "id": "c6cb069f",
   "metadata": {},
   "source": [
    "# Type dictionaries"
   ]
  },
  {
   "cell_type": "code",
   "execution_count": null,
   "id": "20a481d0",
   "metadata": {},
   "outputs": [],
   "source": [
    "typedict_matt = {'PID' : 'nominal',\n",
    "            'SalePrice' : 'continuous', \n",
    "            'LotFrontage' : 'continuous', \n",
    "            'LotArea' : 'continuous',\n",
    "            'maybe_LotShape' : 'nominal',\n",
    "            'LandSlope' : 'nominal', \n",
    "            'LandContour' : 'nominal', \n",
    "            'maybe_MSZoning' : 'nominal', \n",
    "            'Street_paved' : 'nominal', \n",
    "            'Alley' : 'nominal',\n",
    "            'Neighborhood' : 'nominal', \n",
    "            'drop_LotConfig' : 'nominal', \n",
    "            'drop_Condition1' : 'nominal', \n",
    "            'drop_Condition2' : 'nominal',\n",
    "            'Foundation' : 'nominal',\n",
    "            'Utilities' : 'nominal',\n",
    "            'Heating' : 'nominal',\n",
    "            'HeatingQC_nom' : 'ordinal',\n",
    "            'CentralAir' : 'nominal',\n",
    "            'Electrical' : 'nominal',\n",
    "            'HeatingQC_ord' : 'ordinal',\n",
    "            'LotShape_com' : 'nominal',\n",
    "            'MSZoning_com' : 'nominal',\n",
    "            'LF_Normal' : 'nominal',\n",
    "            'LF_Near_NS_RR' : 'nominal',\n",
    "            'LF_Near_Positive_Feature' : 'nominal',\n",
    "            'LF_Adjacent_Arterial_St' : 'nominal',\n",
    "            'LF_Near_EW_RR' : 'nominal',\n",
    "            'LF_Adjacent_Feeder_St' : 'nominal',\n",
    "            'LF_Near_Postive_Feature' : 'nominal',\n",
    "            'Heating_com' : 'nominal',\n",
    "            'Electrical_com' : 'nominal',\n",
    "            'LotConfig_com' : 'nominal', \n",
    "            'LotFrontage_log' : 'continuous',\n",
    "            'LotArea_log' : 'continuous'\n",
    "}"
   ]
  },
  {
   "cell_type": "markdown",
   "id": "a4c82a57",
   "metadata": {},
   "source": [
    "# Matt"
   ]
  },
  {
   "cell_type": "code",
   "execution_count": null,
   "id": "8c4f4b70",
   "metadata": {},
   "outputs": [],
   "source": [
    "# ordinalize heating quality ratings\n",
    "HousingQC_dict={\n",
    "       'Ex':5,\n",
    "       'Gd':4,\n",
    "       'TA':3,\n",
    "       'Fa':2,\n",
    "       'Po':1,\n",
    "}\n",
    "\n",
    "df.loc[df['HeatingQC'].isna(),'HeatingQC']='0'\n",
    "df['HeatingQC_ord']=df['HeatingQC'].map(lambda x: HousingQC_dict[x])\n",
    "df.rename(columns={'HeatingQC':'HeatingQC_nom'}, inplace=True)"
   ]
  },
  {
   "cell_type": "code",
   "execution_count": null,
   "id": "f4a63eec",
   "metadata": {},
   "outputs": [],
   "source": [
    "# LotShape: combine IR2 (moderately irregular) and IR3 (irregular) into 'Irregular' due to small sample sizes\n",
    "lot_shape_dict = {\n",
    "    'Reg':'Regular',\n",
    "    'IR1':'Slightly irregular',\n",
    "    'IR2':'Irregular',\n",
    "    'IR3': 'Irregular'\n",
    "}\n",
    "df['LotShape_com'] = df['LotShape'].map(lambda x: lot_shape_dict[x] if x in lot_shape_dict else x)\n",
    "df.rename(columns={'LotShape':'maybe_LotShape'}, inplace=True)"
   ]
  },
  {
   "cell_type": "code",
   "execution_count": null,
   "id": "5fbb2082",
   "metadata": {},
   "outputs": [],
   "source": [
    "# LandSlope: combine Mod (moderate) and Sev (severe) into 'Moderate-severe' due to small sample sizes\n",
    "land_slope_dict = {\n",
    "    'Gtl':'Gentle',\n",
    "    'Mod':'Moderate-severe',\n",
    "    'Sev':'Moderate-severe'\n",
    "}\n",
    "df['LandSlope'] = df['LandSlope'].map(lambda x: land_slope_dict[x] if x in land_slope_dict else x)"
   ]
  },
  {
   "cell_type": "code",
   "execution_count": null,
   "id": "99dd383c",
   "metadata": {},
   "outputs": [],
   "source": [
    "# rename missing values in Alley column to 'No alley access'\n",
    "alley_dict = {\n",
    "    'Pave':'Paved',\n",
    "    'Grvl':'Gravel',\n",
    "    'No alley access' : 'No alley access'\n",
    "}\n",
    "df.loc[df['Alley'].isna(),'Alley'] = 'No alley access'\n",
    "df['Alley'] = df['Alley'].map(lambda x: alley_dict[x] if x in alley_dict else x)"
   ]
  },
  {
   "cell_type": "code",
   "execution_count": null,
   "id": "28e7f8b0",
   "metadata": {},
   "outputs": [],
   "source": [
    "# simple renaming LandContour values for clarity\n",
    "LandContour_dict = {\n",
    "    'Lvl':'Level',\n",
    "    'Bnk':'Banked (rise from street level to building)',\n",
    "    'HLS' : 'Hillside (downward slope on both sides)',\n",
    "    'Low' : 'Depression (upward slope on both sides)'\n",
    "}\n",
    "\n",
    "df['LandContour'] = df['LandContour'].map(lambda x: LandContour_dict[x] if x in LandContour_dict else x)"
   ]
  },
  {
   "cell_type": "code",
   "execution_count": null,
   "id": "5b3ab91d",
   "metadata": {},
   "outputs": [],
   "source": [
    "# Combine C(all) (commercial), I(all) (industrial), and A(agr) (agricultural) zoning types into 'Nonresidential' due to\n",
    "# small sample sizes and the fact that we are focusing on residential sales\n",
    "MSZoning_dict = {\n",
    "    'RL':'Residential, low-density',\n",
    "    'RM':'Residential, medium-density',\n",
    "    'FV' : 'Residential, village',\n",
    "    'RH' : 'Residential, high-density',\n",
    "    'C (all)' : 'Nonresidential',\n",
    "    'I (all)' : 'Nonresidential',\n",
    "    'A (agr)' : 'Nonresidential'\n",
    "}\n",
    "\n",
    "df['MSZoning_com'] = df['MSZoning'].map(lambda x: MSZoning_dict[x] if x in MSZoning_dict else x)\n",
    "df.rename(columns={'MSZoning':'maybe_MSZoning'}, inplace=True)"
   ]
  },
  {
   "cell_type": "code",
   "execution_count": null,
   "id": "ce801e62",
   "metadata": {},
   "outputs": [],
   "source": [
    "# combine 'Near (within 200 ft)' and 'Adjacent to' into 'Near' for North-South RR, East-West RR, and positive features (parks, greenways, etc)\n",
    "# renaming them LF_<factor> for Location Factor instead of condition to avoid confusion, as condition is also used to describe\n",
    "# state of maintenance of various other features in the dataset\n",
    "Condition_dict = {\n",
    "    'Norm' : 'LF_Normal',\n",
    "    'RRAn' : 'LF_Near_NS_RR',\n",
    "    'PosN' : 'LF_Near_Positive_Feature',\n",
    "    'Artery' : 'LF_Adjacent_Arterial_St',\n",
    "    'RRAe' : 'LF_Near_EW_RR',\n",
    "    'Feedr' : 'LF_Adjacent_Feeder_St',\n",
    "    'PosA' : 'LF_Near_Postive_Feature',\n",
    "    'RRNn' : 'LF_Near_NS_RR',\n",
    "    'RRNe' : 'LF_Near_EW_RR'\n",
    "}\n",
    "\n",
    "df['Condition1'] = df['Condition1'].map(lambda x: Condition_dict[x] if x in Condition_dict else x)\n",
    "df['Condition2'] = df['Condition2'].map(lambda x: Condition_dict[x] if x in Condition_dict else x)"
   ]
  },
  {
   "cell_type": "code",
   "execution_count": null,
   "id": "b1afd1f8",
   "metadata": {},
   "outputs": [],
   "source": [
    "def combine_condition_columns(df, factors):\n",
    "    '''\n",
    "    combines the \"Condition1_com\" and \"Condition2_com\" columns into a set of dummies for the values in those 2 columns\n",
    "    '''\n",
    "    for i in range(0, df.shape[0]):\n",
    "        for factor in factors:\n",
    "            if df.loc[i, 'Condition1'] == factor or df.loc[i, 'Condition2'] == factor:\n",
    "                df.loc[i, f'{factor}'] = '1'\n",
    "            else:\n",
    "                df.loc[i, f'{factor}'] = '0'\n",
    "    return df"
   ]
  },
  {
   "cell_type": "code",
   "execution_count": null,
   "id": "f4451209",
   "metadata": {},
   "outputs": [],
   "source": [
    "loc_factors = Condition_dict.values()\n",
    "df = combine_condition_columns(df, loc_factors)"
   ]
  },
  {
   "cell_type": "code",
   "execution_count": null,
   "id": "0aca1831",
   "metadata": {},
   "outputs": [],
   "source": [
    "# recommend drop condition columns\n",
    "df.rename(columns={'Condition1':'drop_Condition1'}, inplace=True)\n",
    "df.rename(columns={'Condition2':'drop_Condition2'}, inplace=True)"
   ]
  },
  {
   "cell_type": "code",
   "execution_count": null,
   "id": "fbf5b0b3",
   "metadata": {},
   "outputs": [],
   "source": [
    "df.rename(columns={'Street':'Street_paved'}, inplace=True) # renaming 'Street' to 'Street_paved'"
   ]
  },
  {
   "cell_type": "code",
   "execution_count": null,
   "id": "f4cad4bd",
   "metadata": {},
   "outputs": [],
   "source": [
    "# Utilities: simple renaming for clarity\n",
    "Utilities_dict = {\n",
    "    'AllPub':'EGWS',\n",
    "    'NoSewr':'EGW with septic tank'\n",
    "}\n",
    "\n",
    "df['Utilities'] = df['Utilities'].map(lambda x: Utilities_dict[x] if x in Utilities_dict else x)"
   ]
  },
  {
   "cell_type": "code",
   "execution_count": null,
   "id": "409ffe77",
   "metadata": {},
   "outputs": [],
   "source": [
    "# combine 'Gravity furnace', 'Other water/steam heating', 'Floor furnace', and 'Wall furnace' into 'Other' due to\n",
    "# small sample size\n",
    "Heating_dict = {\n",
    "    'GasA':'Gas-powered forced-air heating',\n",
    "    'GasW':'Gas-powered water/steam heating',\n",
    "    'Grav' : 'Other',\n",
    "    'OthW' : 'Other',\n",
    "    'Floor' : 'Other',\n",
    "    'Wall' : 'Other'\n",
    "}\n",
    "\n",
    "df['Heating_com'] = df['Heating'].map(lambda x: Heating_dict[x] if x in Heating_dict else x)"
   ]
  },
  {
   "cell_type": "code",
   "execution_count": null,
   "id": "765ececf",
   "metadata": {},
   "outputs": [],
   "source": [
    "# renaming for clarity and combining FuseP and FuseF categories due to small sample size\n",
    "# they are also the 2 most undesirable electrical setups as reported by the data dictionary\n",
    "Electrical_dict = {\n",
    "    'SBrkr': 'Standard circuit breakers, all Romex wiring',\n",
    "    'FuseA': '>60 Amp fuse box, all Romex wiring',\n",
    "    'FuseF' : '60 Amp fuse box, Romex or older wiring',\n",
    "    'FuseP' : '60 Amp fuse box, Romex or older wiring'\n",
    "}\n",
    "\n",
    "df['Electrical_com'] = df['Electrical'].map(lambda x: Electrical_dict[x] if x in Electrical_dict else x)"
   ]
  },
  {
   "cell_type": "code",
   "execution_count": null,
   "id": "02094601",
   "metadata": {},
   "outputs": [],
   "source": [
    "# combined FR2 (2 sides frontage) and FR3 (3 sides frontage) into 2+ sides frontage due to small sample size\n",
    "LotConfig_dict = {\n",
    "    'Inside': 'Inside lot (1 side frontage)',\n",
    "    'Corner': 'Corner lot',\n",
    "    'CulDSac' : 'Cul-de-sac lot',\n",
    "    'FR2' : '2+ sides frontage',\n",
    "    'FR3' : '2+ sides frontage'\n",
    "}\n",
    "\n",
    "df['LotConfig_com'] = df['LotConfig'].map(lambda x: LotConfig_dict[x] if x in LotConfig_dict else x)\n",
    "df.rename(columns={'LotConfig':'drop_LotConfig'}, inplace=True)"
   ]
  },
  {
   "cell_type": "code",
   "execution_count": null,
   "id": "e87fdfe0",
   "metadata": {},
   "outputs": [],
   "source": [
    "df['LotFrontage_log'] = np.log(df['LotFrontage'])"
   ]
  },
  {
   "cell_type": "code",
   "execution_count": null,
   "id": "3c95db9d",
   "metadata": {},
   "outputs": [],
   "source": [
    "df['LotArea_log'] = np.log(df['LotArea'])"
   ]
  },
  {
   "cell_type": "markdown",
   "id": "16e61826",
   "metadata": {},
   "source": [
    "# Oren"
   ]
  },
  {
   "cell_type": "markdown",
   "id": "5642e96f",
   "metadata": {},
   "source": [
    "# Hao-Wei"
   ]
  },
  {
   "cell_type": "markdown",
   "id": "ae51325a",
   "metadata": {},
   "source": [
    "# Mo"
   ]
  },
  {
   "cell_type": "code",
   "execution_count": null,
   "id": "899cd380-7a9b-47f2-8b77-b4e937d54e84",
   "metadata": {},
   "outputs": [],
   "source": [
    "Cond_dict={\n",
    "       'Ex':5,\n",
    "       'Gd':4,\n",
    "       'TA':3,\n",
    "       'Fa':2,\n",
    "       'Po':1,\n",
    "       'NA':0,\n",
    "        '0':0\n",
    "}"
   ]
  },
  {
   "cell_type": "code",
   "execution_count": null,
   "id": "c34f4818-3b13-4675-bc6d-b1b6e829ed19",
   "metadata": {},
   "outputs": [],
   "source": [
    "df.loc[df['ExterQual'].isna(),'ExterQual']='0'\n",
    "df['ExterQual']=df['ExterQual'].map(lambda x: Cond_dict[x])\n",
    "\n",
    "df.loc[df['ExterCond'].isna(),'ExterCond']='0'\n",
    "df['ExterCond']=df['ExterCond'].map(lambda x: Cond_dict[x])\n",
    "\n",
    "df.loc[df['KitchenQual'].isna(),'KitchenQual']='0'\n",
    "df['KitchenQual']=df['KitchenQual'].map(lambda x: Cond_dict[x])\n",
    "\n",
    "df.loc[df['FireplaceQu'].isna(),'FireplaceQu']='0'\n",
    "df['FireplaceQu']=df['FireplaceQu'].map(lambda x: Cond_dict[x])"
   ]
  },
  {
   "cell_type": "code",
   "execution_count": null,
   "id": "d4a10a09",
   "metadata": {},
   "outputs": [],
   "source": []
  }
 ],
 "metadata": {
  "kernelspec": {
   "display_name": "Python 3",
   "language": "python",
   "name": "python3"
  },
  "language_info": {
   "codemirror_mode": {
    "name": "ipython",
    "version": 3
   },
   "file_extension": ".py",
   "mimetype": "text/x-python",
   "name": "python",
   "nbconvert_exporter": "python",
   "pygments_lexer": "ipython3",
   "version": "3.8.8"
  }
 },
 "nbformat": 4,
 "nbformat_minor": 5
}
