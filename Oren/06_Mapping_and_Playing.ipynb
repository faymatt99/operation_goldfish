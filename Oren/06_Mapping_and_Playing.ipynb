{
 "cells": [
  {
   "cell_type": "code",
   "execution_count": null,
   "id": "43cdb90e-3bbd-4a87-bc91-3f8a229b1c95",
   "metadata": {},
   "outputs": [],
   "source": [
    "import numpy as np\n",
    "import pandas as pd\n",
    "import plotly.express as px\n",
    "from scipy import stats\n",
    "from statsmodels.formula.api import ols\n",
    "from statsmodels.stats.anova import anova_lm as anova\n",
    "import itertools\n",
    "from sklearn import linear_model\n",
    "from numpy import ones,vstack\n",
    "from numpy.linalg import lstsq\n",
    "from mpl_toolkits.axes_grid1 import make_axes_locatable\n",
    "import osmnx as ox\n",
    "import contextily as cx\n",
    "import folium\n",
    "from geopy.geocoders import Nominatim\n",
    "import geopandas as gpd\n",
    "import fiona\n",
    "from arcgis.gis import GIS\n",
    "from folium.plugins import MarkerCluster"
   ]
  },
  {
   "cell_type": "code",
   "execution_count": null,
   "id": "e7b14f77-a977-45f7-9f39-c10390067b65",
   "metadata": {},
   "outputs": [],
   "source": [
    "gpd.io.file.fiona.drvsupport.supported_drivers['KML'] = 'rw'\n",
    "schools = gpd.read_file('../GeoJsonFiles/schools_gmaps.kml', driver='KML')"
   ]
  },
  {
   "cell_type": "code",
   "execution_count": null,
   "id": "ada32841-324e-41e4-a59d-a0395f2ee771",
   "metadata": {},
   "outputs": [],
   "source": [
    "schools"
   ]
  },
  {
   "cell_type": "markdown",
   "id": "2bd92dfe-0817-46a1-a4b2-dc7f23f8ab6f",
   "metadata": {},
   "source": [
    "https://geopandas.readthedocs.io/en/latest/gallery/plotting_basemap_background.html\n"
   ]
  },
  {
   "cell_type": "code",
   "execution_count": null,
   "id": "e0864848-4c5b-4744-9c73-da71afde4369",
   "metadata": {
    "tags": []
   },
   "outputs": [],
   "source": [
    "landuse_polygon = gpd.read_file('../GeoJsonFiles/landuse_polygon.geojson')\n",
    "ames_shape = gpd.read_file('../GeoJsonFiles/shape/natural.shp')\n"
   ]
  },
  {
   "cell_type": "code",
   "execution_count": null,
   "id": "e7099344-7261-4554-ace7-1bda0701225b",
   "metadata": {},
   "outputs": [],
   "source": []
  },
  {
   "cell_type": "code",
   "execution_count": null,
   "id": "50e92a8a-abe2-4423-a79b-1ebd5d54f227",
   "metadata": {
    "tags": []
   },
   "outputs": [],
   "source": [
    "### ALL THE BUILDINGS!!!\n",
    "gis_buildings = gpd.read_file('../GeoJsonFiles/iowa-latest-free/gis_osm_buildings_a_free_1.shp')\n",
    "gis_buildings"
   ]
  },
  {
   "cell_type": "code",
   "execution_count": null,
   "id": "35e435bb-031e-4767-8a66-1a31d26fbe78",
   "metadata": {},
   "outputs": [],
   "source": [
    "gis_osm_poi = gpd.read_file('../GeoJsonFiles/iowa-latest-free/gis_osm_pois_free_1.shp')\n",
    "poi_crs = gis_osm_poi.to_crs(epsg=3857)\n"
   ]
  },
  {
   "cell_type": "code",
   "execution_count": null,
   "id": "304740f1-89b0-4b0d-900d-f5f1756df217",
   "metadata": {},
   "outputs": [],
   "source": [
    "poi_crs\n",
    "poi_crs['fclass'].unique()"
   ]
  },
  {
   "cell_type": "code",
   "execution_count": null,
   "id": "d6e8bca7-d19f-4a41-9bde-3227856ff615",
   "metadata": {
    "tags": []
   },
   "outputs": [],
   "source": [
    "### CHURCHES\n",
    "# gis_osm_pofw = gpd.read_file('../GeoJsonFiles/iowa-latest-free/gis_osm_pofw_free_1.shp')\n",
    "# pofw_crs = gis_osm_pofw.to_crs(epsg=3857)\n",
    "gis_osm_pofw\n",
    "\n",
    "# data (list of list with values) – List of list of shape [[lat, lon], [lat, lon], etc.] \n",
    "# When you use a custom callback you could add more values after the lat and lon. \n",
    "# E.g. [[lat, lon, ‘red’], [lat, lon, ‘blue’]]"
   ]
  },
  {
   "cell_type": "code",
   "execution_count": null,
   "id": "3b96f1f8-7bda-4e5f-8f15-3e5558038f55",
   "metadata": {
    "jupyter": {
     "source_hidden": true
    },
    "tags": []
   },
   "outputs": [],
   "source": [
    "bus_route  = gpd.read_file('../GeoJsonFiles/bus_route.geojson', driver='ESRIJSON')"
   ]
  },
  {
   "cell_type": "code",
   "execution_count": null,
   "id": "c29a5ae4-4687-4a1f-a68d-3c2df8d90e42",
   "metadata": {},
   "outputs": [],
   "source": [
    "landuse_polygon['landuse'].unique()"
   ]
  },
  {
   "cell_type": "code",
   "execution_count": null,
   "id": "6576da76-1c41-4bbb-a3a7-698e9317c53a",
   "metadata": {},
   "outputs": [],
   "source": [
    "landuse_polygon[landuse_polygon['landuse']=='retail'].plot()"
   ]
  },
  {
   "cell_type": "code",
   "execution_count": null,
   "id": "44fa5250-76dd-4e05-a168-a33247c074f3",
   "metadata": {},
   "outputs": [],
   "source": [
    "ames_shape"
   ]
  },
  {
   "cell_type": "code",
   "execution_count": null,
   "id": "4404d3d1-ffe7-448a-a9af-7183c4041e68",
   "metadata": {},
   "outputs": [],
   "source": [
    "ames_school_polygon = gpd.read_file('../GeoJsonFiles/school_polygon.geojson')"
   ]
  },
  {
   "cell_type": "code",
   "execution_count": null,
   "id": "608698ab-1ac5-43a0-b4d4-a92f4f7f6d0c",
   "metadata": {},
   "outputs": [],
   "source": [
    "ames_school_polygon.plot()"
   ]
  },
  {
   "cell_type": "code",
   "execution_count": null,
   "id": "8e81042a-92c2-4d3e-b26d-715f4f89b5ea",
   "metadata": {},
   "outputs": [],
   "source": [
    "ames_school_polygon.crs"
   ]
  },
  {
   "cell_type": "code",
   "execution_count": null,
   "id": "bf50e479-7f29-4f5d-80eb-e29fad24e7c5",
   "metadata": {},
   "outputs": [],
   "source": [
    "iowa-latest.osm.pbf"
   ]
  },
  {
   "cell_type": "code",
   "execution_count": null,
   "id": "f7f659c4-8fe2-4e0f-9b31-778c4e7999a9",
   "metadata": {},
   "outputs": [],
   "source": [
    "G = ox.graph_from_place('Los Angeles, California', network_type='drive')\n",
    "ox.plot_graph(G)"
   ]
  },
  {
   "cell_type": "code",
   "execution_count": null,
   "id": "763708e6-6b2d-4d3a-85d3-cdf1028d1a7c",
   "metadata": {},
   "outputs": [],
   "source": [
    "city = ox.geocode_to_gdf('Ames, Iowa')\n",
    "ax = ox.project_gdf(city).plot()\n",
    "_ = ax.axis('off')"
   ]
  },
  {
   "cell_type": "code",
   "execution_count": null,
   "id": "11d25349-d947-410e-924a-10b943b38500",
   "metadata": {},
   "outputs": [],
   "source": [
    "G = ox.graph_from_place('Ames, Iowa', network_type='drive')\n",
    "ox.plot_graph(G)"
   ]
  },
  {
   "cell_type": "code",
   "execution_count": null,
   "id": "b506738a-b487-47ae-acd5-e69560ae9eec",
   "metadata": {},
   "outputs": [],
   "source": [
    "city.crs"
   ]
  },
  {
   "cell_type": "code",
   "execution_count": null,
   "id": "ebbbc9a6-467f-4379-b708-39f56f8b78c8",
   "metadata": {},
   "outputs": [],
   "source": [
    "city_wm = city.to_crs(epsg=3857)\n",
    "landuse_crs = landuse_polygon.to_crs(epsg=3857)\n",
    "schools_crs = schools.to_crs(epsg=3857)"
   ]
  },
  {
   "cell_type": "code",
   "execution_count": null,
   "id": "0e46100b-87c4-40bf-a758-00361185ab8f",
   "metadata": {},
   "outputs": [],
   "source": [
    "\n",
    "ax = landuse_crs.plot(figsize=(10, 10), alpha=0.5, edgecolor='k')\n",
    "cx.add_basemap(ax)"
   ]
  },
  {
   "cell_type": "code",
   "execution_count": null,
   "id": "0cd10327-500a-486d-8e3d-a0eab91ded1d",
   "metadata": {},
   "outputs": [],
   "source": [
    "ames_school = ames_school_polygon.to_crs(epsg=3857)\n",
    "\n",
    "ax = ames_school.plot(figsize=(10, 10), alpha=0.5, edgecolor='k')\n",
    "cx.add_basemap(ax)"
   ]
  },
  {
   "cell_type": "markdown",
   "id": "dbbeb580-e3b1-4dbf-9342-749f9da99c40",
   "metadata": {},
   "source": [
    "https://geopandas.readthedocs.io/en/latest/gallery/plotting_with_folium.html\n",
    "\n",
    "https://python-visualization.github.io/folium/modules.html\n",
    "\n",
    "https://www.earthdatascience.org/tutorials/introduction-to-leaflet-animated-maps/\n",
    "\n",
    "https://autogis-site.readthedocs.io/en/latest/notebooks/L5/02_interactive-map-folium.html\n",
    "\n",
    "https://github.com/mapbox/geojson-vt\n",
    "\n",
    "for including in dash\n",
    "https://medium.com/@shachiakyaagba_41915/integrating-folium-with-dash-5338604e7c56\n",
    "\n",
    "https://community.plotly.com/t/how-to-render-map-created-by-folium-dynamically-and-get-the-clicked-data-information/40885/9\n",
    "\n",
    "https://dash-leaflet.herokuapp.com/#map_click\n",
    "\n",
    "https://medium.com/analytics-vidhya/brick-by-brick-build-a-multi-page-dashboard-dash-filters-dbec58d429d2\n",
    "\n",
    "https://medium.com/analytics-vidhya/brick-by-brick-build-a-multi-page-dashboard-37912dd7d9e6"
   ]
  },
  {
   "cell_type": "code",
   "execution_count": null,
   "id": "3a18d59a-7c70-4137-9a67-a0945017799e",
   "metadata": {},
   "outputs": [],
   "source": [
    "map = folium.Map(location = [42.0219, -93.6227], tiles='OpenStreetMap' , zoom_start = 12)\n",
    "tooltip = \"Click me!\"\n",
    "# folium.Marker(\n",
    "#     [42.03047530489075, -93.60682804611989], popup=\"<i>That outlier</i>\", tooltip=tooltip, \n",
    "#     icon=folium.Icon(icon=\"home\"),\n",
    "# ).add_to(map)"
   ]
  },
  {
   "cell_type": "code",
   "execution_count": null,
   "id": "f9bc4eb8-f5e2-4a87-8c22-48297aff4c14",
   "metadata": {
    "tags": []
   },
   "outputs": [],
   "source": [
    "\n",
    "# style_function = lambda x: {'fillColor': '#0000ff' if\n",
    "#                            x['properties']['landuse']=='retail' else\n",
    "#                             '#00ff00'}\n",
    "# folium.GeoJson(landuse_polygon, name=\"Land Use\", style_function= style_function, show=False).add_to(map)\n",
    "# folium.GeoJson(schools_crs, name=\"Schools\", show=False).add_to(map)\n",
    "folium.GeoJson(pofw_crs, name=\"Churches\", show=False).add_to(map)\n",
    "# folium.GeoJson(poi_crs, name=\"Point of Interest\", show=False).add_to(map)\n",
    "\n",
    "# folium.plugins.FastMarkerCluster(gis_osm_pofw['geometry'], name=\"Churches\").add_to(map)\n",
    "\n",
    "#folium.Marker(pofw_crs, name=\"Churches\", show=False).add_to(map)\n",
    "\n",
    "\n",
    "# test = folium.GeoJson(pofw_crs, name=\"Churches\", show=False,\n",
    "#                     marker = Marker(radius = 3, # Radius in metres\n",
    "#                                            weight = 0, #outline weight\n",
    "#                                            fill_color = '#000000', \n",
    "#                                            fill_opacity = 1)\n",
    "# #                ,\n",
    "# #                     tooltip = folium.GeoJsonTooltip(fields = ['feeder'],\n",
    "# #                                                     aliases=['Feeder: '],\n",
    "# #                                                     style = (\"background-color: white; color: #333333; font-family: arial; font-size: 12px; padding: 10px;\"),\n",
    "# #                                                     sticky = True)\n",
    "#                     ).add_to(map)\n",
    "# # fillcolor: lambda x: {fillColor':'red' if x['properties']'Post_Cod_1'] == 'High' else 'green','fillOpacity':0.75}\n",
    "\n",
    "\n",
    "\n",
    "# marker_cluster = folium.plugins.MarkerCluster(test)\n",
    "# marker_cluster.add_to(map)\n",
    "\n",
    "# folium.FeatureGroup(name=churches, show=False)\n",
    "\n",
    "folium.LayerControl().add_to(map)\n",
    "\n",
    "\n",
    "map"
   ]
  },
  {
   "cell_type": "code",
   "execution_count": null,
   "id": "c7bed3c1-685e-4854-9158-4d9286a3ae28",
   "metadata": {},
   "outputs": [],
   "source": []
  },
  {
   "cell_type": "code",
   "execution_count": null,
   "id": "edb99726-05a8-46fe-bd45-e4389f92e536",
   "metadata": {},
   "outputs": [],
   "source": [
    "import os\n",
    "import folium\n",
    "import pandas as pd\n",
    " \n",
    "# Load map centred on Colchester\n",
    "uk = folium.Map(location=[51.8860942,0.8336077], zoom_start=10, control_scale=True)\n",
    " \n",
    "# Load locally stored colchester public toilets data\n",
    "toilets = pd.read_csv(\"public-toilets.csv\")\n",
    " \n",
    "# create a marker cluster called \"Public toilet cluster\"\n",
    "marker_cluster = folium.MarkerCluster(\"Public toilet cluster\").add_to(uk)\n",
    " \n",
    "#add a marker for each toilet, add it to the cluster, not the map\n",
    "for each in toilets.iterrows():\n",
    "    popup = 'Add <b>test</b>'\n",
    "    print(list([each[1].GeoY,each[1].GeoX]))\n",
    "    print(list(OSGB36toWGS84(each[1]['GeoX'],each[1]['GeoY'])))\n",
    "    folium.Marker(list(OSGB36toWGS84(each[1]['GeoX'],each[1]['GeoY'])), popup=popup).add_to(marker_cluster)\n",
    " \n",
    "# # we can also add a marker directly to the map, outside of the clustering\n",
    "# folium.Marker([51.8860942,0.8336077], popup=\"not included in marker cluster\",icon=folium.Icon(color='red',icon='info-sign')).add_to(uk)\n",
    " \n",
    "# Save map\n",
    "uk.save(\"./colch_toilets_clusters.html\")"
   ]
  },
  {
   "cell_type": "code",
   "execution_count": null,
   "id": "95c63917-094e-4a8b-b738-ff1500f08954",
   "metadata": {},
   "outputs": [],
   "source": [
    "\n",
    "\n",
    "address='931 Maxwell ave, Ames Iowa'\n",
    "geolocator = Nominatim(user_agent=\"ORoss_goldfish\")\n",
    "location = geolocator.geocode(address)\n",
    "print(location.address)\n",
    "print((location.latitude, location.longitude))"
   ]
  },
  {
   "cell_type": "code",
   "execution_count": null,
   "id": "5889ca73-c43a-432b-bd81-705ee2fcfac9",
   "metadata": {},
   "outputs": [],
   "source": []
  }
 ],
 "metadata": {
  "kernelspec": {
   "display_name": "Python 3",
   "language": "python",
   "name": "python3"
  },
  "language_info": {
   "codemirror_mode": {
    "name": "ipython",
    "version": 3
   },
   "file_extension": ".py",
   "mimetype": "text/x-python",
   "name": "python",
   "nbconvert_exporter": "python",
   "pygments_lexer": "ipython3",
   "version": "3.8.8"
  }
 },
 "nbformat": 4,
 "nbformat_minor": 5
}
