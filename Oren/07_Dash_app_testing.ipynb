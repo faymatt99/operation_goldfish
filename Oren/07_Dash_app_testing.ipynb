{
 "cells": [
  {
   "cell_type": "code",
   "execution_count": null,
   "id": "5c4eb515-7b35-4c6d-808f-7cfd05d94b45",
   "metadata": {
    "tags": []
   },
   "outputs": [],
   "source": [
    "import plotly.express as px\n",
    "from jupyter_dash import JupyterDash\n",
    "import dash_core_components as dcc\n",
    "import dash_html_components as html\n",
    "from dash.dependencies import Input, Output\n",
    "# # Load Data\n",
    "# df = px.data.tips()\n",
    "# # Build App\n",
    "# app = JupyterDash(__name__)\n",
    "# app.layout = html.Div([\n",
    "#     html.H1(\"JupyterDash Demo\"),\n",
    "#     dcc.Graph(id='graph'),\n",
    "#     html.Label([\n",
    "#         \"colorscale\",\n",
    "#         dcc.Dropdown(\n",
    "#             id='colorscale-dropdown', clearable=False,\n",
    "#             value='plasma', options=[\n",
    "#                 {'label': c, 'value': c}\n",
    "#                 for c in px.colors.named_colorscales()\n",
    "#             ])\n",
    "#     ]),\n",
    "# ])\n",
    "# # Define callback to update graph\n",
    "# @app.callback(\n",
    "#     Output('graph', 'figure'),\n",
    "#     [Input(\"colorscale-dropdown\", \"value\")]\n",
    "# )\n",
    "# def update_figure(colorscale):\n",
    "#     return px.scatter(\n",
    "#         df, x=\"total_bill\", y=\"tip\", color=\"size\",\n",
    "#         color_continuous_scale=colorscale,\n",
    "#         render_mode=\"webgl\", title=\"Tips\"\n",
    "#     )\n",
    "# # Run app and display result inline in the notebook\n",
    "# app.run_server(mode='inline')\n",
    "# app.run_server(mode='external')\n",
    "# app.run_server(mode='jupyterlab')"
   ]
  },
  {
   "cell_type": "code",
   "execution_count": null,
   "id": "f8a6c76e-6b28-4474-b608-44d0f7618e7b",
   "metadata": {},
   "outputs": [],
   "source": []
  }
 ],
 "metadata": {
  "kernelspec": {
   "display_name": "Python 3",
   "language": "python",
   "name": "python3"
  },
  "language_info": {
   "codemirror_mode": {
    "name": "ipython",
    "version": 3
   },
   "file_extension": ".py",
   "mimetype": "text/x-python",
   "name": "python",
   "nbconvert_exporter": "python",
   "pygments_lexer": "ipython3",
   "version": "3.8.8"
  }
 },
 "nbformat": 4,
 "nbformat_minor": 5
}
