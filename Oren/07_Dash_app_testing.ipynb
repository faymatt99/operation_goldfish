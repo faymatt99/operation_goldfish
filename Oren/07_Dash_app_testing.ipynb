{
 "cells": [
  {
   "cell_type": "code",
   "execution_count": null,
   "id": "5c4eb515-7b35-4c6d-808f-7cfd05d94b45",
   "metadata": {
    "tags": []
   },
   "outputs": [],
   "source": [
    "import plotly.express as px\n",
    "from jupyter_dash import JupyterDash\n",
    "import dash_core_components as dcc\n",
    "import dash_html_components as html\n",
    "from dash.dependencies import Input, Output\n",
    "import json\n",
    "\n",
    "import folium\n",
    "from geopy.geocoders import Nominatim\n",
    "import geopandas as gpd\n",
    "import fiona\n",
    "from arcgis.gis import GIS\n",
    "from folium.plugins import MarkerCluster\n",
    "from geopy.distance import geodesic\n",
    "import shapely.geometry\n",
    "\n",
    "\n",
    "import dash_html_components as html\n",
    "import dash_leaflet as dl\n",
    "import dash_leaflet.express as dlx\n",
    "import pandas as pd\n",
    "from dash_extensions.javascript import assign\n",
    "from dash import Dash\n",
    "from dash_extensions.javascript import arrow_function"
   ]
  },
  {
   "cell_type": "code",
   "execution_count": null,
   "id": "37be6917-fdb0-4231-aa52-f95d9aaa96a9",
   "metadata": {},
   "outputs": [],
   "source": [
    "\n",
    "housing = pd.read_csv('../Data/house_coordinates.csv')\n",
    "housing = housing.head(100)"
   ]
  },
  {
   "cell_type": "code",
   "execution_count": null,
   "id": "c92b0850-fccc-4f66-8611-33bb3e050d26",
   "metadata": {},
   "outputs": [],
   "source": [
    "housing.longitude.max()"
   ]
  },
  {
   "cell_type": "code",
   "execution_count": null,
   "id": "65097548-34c1-4680-9096-10f762284e7c",
   "metadata": {
    "tags": []
   },
   "outputs": [],
   "source": [
    "housing_geo = gpd.GeoDataFrame(\n",
    "    housing, geometry=gpd.points_from_xy(housing.longitude, housing.latitude))"
   ]
  },
  {
   "cell_type": "code",
   "execution_count": null,
   "id": "2ee4f7a1-95c0-4718-aacd-1baff1502959",
   "metadata": {
    "tags": []
   },
   "outputs": [],
   "source": [
    "housing_geo"
   ]
  },
  {
   "cell_type": "code",
   "execution_count": null,
   "id": "aed7ff87-e3c0-47cc-a948-5215064a96bc",
   "metadata": {
    "jupyter": {
     "source_hidden": true
    },
    "tags": []
   },
   "outputs": [],
   "source": [
    "housing_geo.to_file('housing_geo.geojson', driver='GeoJSON')"
   ]
  },
  {
   "cell_type": "code",
   "execution_count": null,
   "id": "2f2013ec-7822-4c40-b9e0-c2862f8a674a",
   "metadata": {},
   "outputs": [],
   "source": [
    "housing_json = housing_geo.to_json()"
   ]
  },
  {
   "cell_type": "code",
   "execution_count": null,
   "id": "1f701417-f07f-4c6c-8f4c-83354bfa17ba",
   "metadata": {},
   "outputs": [],
   "source": [
    "import json\n",
    "housing_json = json.loads(housing_json)"
   ]
  },
  {
   "cell_type": "code",
   "execution_count": null,
   "id": "b30dae27-90c5-4f0e-b487-390f70b76cfb",
   "metadata": {
    "tags": []
   },
   "outputs": [],
   "source": [
    "pbf = geobuf.encode(housing_json) # GeoJSON or TopoJSON -> Geobuf string\n",
    "my_json = geobuf.decode(pbf) # Geobuf string -> GeoJSON or TopoJSON\n",
    "my_json"
   ]
  },
  {
   "cell_type": "code",
   "execution_count": null,
   "id": "6598da1d-e9bb-4ed7-b965-130d4c47c774",
   "metadata": {
    "tags": []
   },
   "outputs": [],
   "source": [
    "gpd.GeoSeries([housing_geo]).to_json()"
   ]
  },
  {
   "cell_type": "code",
   "execution_count": null,
   "id": "e78ddc26-a6ad-4d93-8669-9f3abfffb552",
   "metadata": {},
   "outputs": [],
   "source": [
    "json.dumps(shapely.geometry.mapping(housing_geo))"
   ]
  },
  {
   "cell_type": "code",
   "execution_count": null,
   "id": "29e74eac-ea66-4a1a-b5ca-aed5594e2e02",
   "metadata": {
    "tags": []
   },
   "outputs": [],
   "source": [
    "gis_osm_pofw = gpd.read_file('../GeoJsonFiles/iowa-latest-free/gis_osm_pofw_free_1.shp')\n"
   ]
  },
  {
   "cell_type": "code",
   "execution_count": null,
   "id": "467abb87-4c6a-4279-8436-3bd21516b58f",
   "metadata": {},
   "outputs": [],
   "source": [
    "churches = gis_osm_pofw.to_dict('records')"
   ]
  },
  {
   "cell_type": "code",
   "execution_count": null,
   "id": "3744203f-5d1c-4cc0-bebc-301279a9949e",
   "metadata": {
    "tags": []
   },
   "outputs": [],
   "source": [
    "gis_osm_pofw.head()"
   ]
  },
  {
   "cell_type": "markdown",
   "id": "a9697656-c3bb-45e3-aba0-b74f87b2444f",
   "metadata": {},
   "source": [
    "THIS ONE WORKS!!"
   ]
  },
  {
   "cell_type": "code",
   "execution_count": null,
   "id": "890d51a5-2783-4912-9f31-1710b59545de",
   "metadata": {
    "tags": []
   },
   "outputs": [],
   "source": [
    "app = JupyterDash(__name__)\n",
    "\n",
    "markers = [dl.Marker(position=[41.75245, -92.00558]), dl.CircleMarker(center=[55, 10])]\n",
    "\n",
    "markers = gis_osm_pofw.apply(\n",
    "    lambda row: dl.Marker(position=[row['lat'], row['lon']]),\n",
    "    axis=1\n",
    ")\n",
    "\n",
    "app.layout = html.Div(dl.Map([\n",
    "    dl.TileLayer(),\n",
    "    dl.LayersControl(\n",
    "        [dl.Overlay(dl.LayerGroup(markers), name=\"markers\", checked=True)]\n",
    "    )\n",
    "], \n",
    "    center=[41.978, -93.576], zoom=12, \n",
    "    style={'width': '100%', 'height': '50vh', 'margin': \"auto\", \"display\": \"block\"}\n",
    "))\n",
    "\n",
    "app.run_server(mode='inline')\n"
   ]
  },
  {
   "cell_type": "code",
   "execution_count": null,
   "id": "706122cd-06b3-4be7-89ca-8fb56f3cd010",
   "metadata": {
    "jupyter": {
     "source_hidden": true
    },
    "tags": []
   },
   "outputs": [],
   "source": [
    "app = JupyterDash(__name__)\n",
    "\n",
    "app.layout = html.Div( children=[\n",
    "    dl.Map([\n",
    "    dl.TileLayer(),\n",
    "      \n",
    "    dl.GeoJSON(data=housing_json, id=\"hous\")\n",
    "\n",
    "], \n",
    "         center=[42.03, -93.64], zoom=12,\n",
    "    style={'width': '100%', 'height': '50vh', 'margin': \"auto\", \"display\": \"block\"}\n",
    "),\n",
    "    html.Div(id=\"state\"), html.Div(id=\"PID\")\n",
    "])\n",
    "\n",
    "@app.callback(Output(\"PID\", \"children\"), [Input(\"hous\", \"click_feature\")])\n",
    "def capital_click(feature):\n",
    "    if feature is not None:\n",
    "        return f\"You clicked {feature['properties']['PID']}\"\n",
    "\n",
    "app.run_server(mode='inline')"
   ]
  },
  {
   "cell_type": "code",
   "execution_count": null,
   "id": "25738772-9efa-4115-a08e-430560a4a6e5",
   "metadata": {
    "tags": []
   },
   "outputs": [],
   "source": [
    "app = JupyterDash(__name__)\n",
    "\n",
    "\n",
    "geojson_filter = assign(\n",
    "    \"function(feature, context){{return ['909176150'].includes(feature.properties.pid);}}\")\n",
    "app.layout = html.Div(children=[\n",
    "    dl.Map([\n",
    "    dl.TileLayer(),\n",
    "    dl.LayersControl(\n",
    "        [dl.Overlay(\n",
    "            dl.LayerGroup(\n",
    "                dl.GeoJSON(\n",
    "                    data=housing_json, id=\"hous\", cluster=True, zoomToBoundsOnClick=True)\n",
    "            ), name = \"Housing\", checked = \"True\"\n",
    "        ) #,\n",
    "#          dl.Overlay(\n",
    "#             dl.LayerGroup(\n",
    "#                 dl.GeoJSON(\n",
    "#                     data=housing_json, id=\"hous\", cluster=True, zoomToBoundsOnClick=True)\n",
    "#             ), name = \"Housing\", checked = \"True\"\n",
    "#         )\n",
    "        ]\n",
    "     )\n",
    "    ],\n",
    "        center=[42.03, -93.64], zoom=12,\n",
    "        style={'width': '100%', 'height': '50vh', 'margin': \"auto\", \"display\": \"block\"}\n",
    "    ),\n",
    "    html.Div(id=\"PIDs\")\n",
    "])\n",
    "\n",
    "\n",
    "            \n",
    "            #             dl.GeoJSON(\n",
    "#                 data=housing, options=dict(\n",
    "#                 filter=geojson_filter),\n",
    "#                        id=\"housing\")),\n",
    "#                     name=\"Housing\", checked=True)]\n",
    "#          ])\n",
    "\n",
    "@app.callback(Output(\"PIDs\", \"children\"), [Input(\"hous\", \"click_feature\")])\n",
    "def house_click(feature):\n",
    "    if feature is not None:\n",
    "        return f\"You clicked {feature['properties']['PID']}\"\n",
    "\n",
    "\n",
    "app.run_server(mode='inline')\n"
   ]
  },
  {
   "cell_type": "code",
   "execution_count": null,
   "id": "b1a71f60-2423-4c66-b605-f6c242b47dca",
   "metadata": {},
   "outputs": [],
   "source": [
    "\n",
    "# Generate some in-memory data.\n",
    "bermuda = dlx.dicts_to_geojson([dict(lat=32.299507, lon=-64.790337)])\n",
    "biosfera = dlx.geojson_to_geobuf(dlx.dicts_to_geojson([dict(lat=29.015, lon=-118.271)]))\n",
    "# Create example app.\n",
    "app = Dash()\n",
    "app.layout = html.Div([\n",
    "    dl.Map(center=[39, -98], zoom=4, children=[\n",
    "        dl.TileLayer(),\n",
    "        dl.GeoJSON(data=bermuda),  # in-memory geojson (slowest option)\n",
    "        dl.GeoJSON(data=biosfera, format=\"geobuf\"),  # in-memory geobuf (smaller payload than geojson)\n",
    "        dl.GeoJSON(url=\"/assets/us-state-capitals.json\", id=\"capitals\"),  # geojson resource (faster than in-memory)\n",
    "        dl.GeoJSON(url=\"/assets/us-states.pbf\", format=\"geobuf\", id=\"states\",\n",
    "                   hoverStyle=arrow_function(dict(weight=5, color='#666', dashArray=''))),  # geobuf resource (fastest option)\n",
    "    ], style={'width': '100%', 'height': '50vh', 'margin': \"auto\", \"display\": \"block\"}, id=\"map\"),\n",
    "    html.Div(id=\"state\"), html.Div(id=\"capital\")\n",
    "])\n",
    "\n",
    "\n",
    "@app.callback(Output(\"capital\", \"children\"), [Input(\"capitals\", \"click_feature\")])\n",
    "def capital_click(feature):\n",
    "    if feature is not None:\n",
    "        return f\"You clicked {feature['properties']['name']}\"\n",
    "\n",
    "\n",
    "@app.callback(Output(\"state\", \"children\"), [Input(\"states\", \"hover_feature\")])\n",
    "def state_hover(feature):\n",
    "    if feature is not None:\n",
    "        return f\"{feature['properties']['name']}\"\n",
    "\n",
    "\n",
    "\n",
    "app.run_server(mode='inline')"
   ]
  },
  {
   "cell_type": "code",
   "execution_count": null,
   "id": "5d9ebfda-a4b7-4b62-8fba-9f349e63a7af",
   "metadata": {},
   "outputs": [],
   "source": [
    "geojson"
   ]
  },
  {
   "cell_type": "code",
   "execution_count": null,
   "id": "5ac44532-de87-45e1-b7cd-aae739dba146",
   "metadata": {},
   "outputs": [],
   "source": [
    "    \n",
    "    #### Some HTLM for controls\n",
    "#     html.Label([\n",
    "#         \"Religion\",\n",
    "#         dcc.Dropdown(\n",
    "#             id='religion', clearable=False,\n",
    "#             value='plasma', options=[\n",
    "#                 {'label': c, 'value': c}\n",
    "#                 for c in gis_osm_pofw.fclass.unique()\n",
    "#             ])\n",
    "#     ]),\n",
    "#     html.Label([\n",
    "#         \"Code\",\n",
    "#         dcc.RangeSlider(\n",
    "#             id='code',\n",
    "#             min=gis_osm_pofw.code.min(),\n",
    "#             max=gis_osm_pofw.code.max(),\n",
    "#             step=0.5,\n",
    "#             value=[3200, 3300]\n",
    "#         ),\n",
    "#     html.Div(id='output-container-range-slider')\n",
    "#     ])\n"
   ]
  },
  {
   "cell_type": "code",
   "execution_count": null,
   "id": "82f5fb55-a57a-498a-a339-ec6d26b45fe1",
   "metadata": {
    "jupyter": {
     "source_hidden": true
    },
    "tags": []
   },
   "outputs": [],
   "source": [
    "app = JupyterDash(__name__)\n",
    "\n",
    "app.layout = dl.Map(dl.TileLayer(), style={'width': '1000px', 'height': '500px'})\n",
    "app.run_server(mode='inline')"
   ]
  },
  {
   "cell_type": "code",
   "execution_count": null,
   "id": "c7c573b9-2165-4c41-96e3-f57b04986afc",
   "metadata": {},
   "outputs": [],
   "source": [
    "@app.callback(\n",
    "[Output(component_id=\"out\")])\n",
    "\n",
    "\n",
    "\n",
    "### RANGE SLIDER\n",
    "#### FOR HTML\n",
    "#     html.Label([\n",
    "#         \"Price Range\",\n",
    "#         dcc.RangeSlider(\n",
    "#             id='price',\n",
    "#             min=gis_osm_pofw.price.min(),\n",
    "#             max=gis_osm_pofw.price.max(),\n",
    "#             step=0.5,\n",
    "#             value=[100000, 150000]\n",
    "#         ),\n",
    "#     html.Div(id='price-range-slider')\n",
    "#     ])\n",
    "\n",
    "#### For callback\n",
    "@app.callback(\n",
    "    dash.dependencies.Output('price-range-slider', 'children'),\n",
    "    [dash.dependencies.Input('pricer', 'value')])\n",
    "def update_output(value):\n",
    "    return 'You have selected \"{}\"'.format(value)\n"
   ]
  },
  {
   "cell_type": "code",
   "execution_count": null,
   "id": "41468304-f019-49d8-a56d-83df58408fe8",
   "metadata": {},
   "outputs": [],
   "source": [
    "cities = [dict(name=\"Aalborg\", lat=57.0268172, lon=9.837735),\n",
    "          dict(name=\"Aarhus\", lat=56.1780842, lon=10.1119354),\n",
    "          dict(name=\"Copenhagen\", lat=55.6712474, lon=12.5237848)]\n",
    "\n",
    "\n",
    "# Generate geojson with a marker for each city and name as tooltip.\n",
    "geojson = dlx.dicts_to_geojson([{**c, **dict(tooltip=c['name'])} for c in churches])\n",
    "# Create javascript function that filters out all cities but Aarhus.\n",
    "geojson_filter = assign(\"function(feature, context){{return ['Aarhus'].includes(feature.properties.name);}}\")\n",
    "# Create example app.\n",
    "app = Dash()\n",
    "app.layout = html.Div([\n",
    "    dl.Map(children=[\n",
    "        dl.TileLayer(),\n",
    "        dl.GeoJSON(data=geojson, options=dict(filter=geojson_filter), id=\"geojson\")\n",
    "    ], style={'width': '100%', 'height': '50vh', 'margin': \"auto\", \"display\": \"block\"}, id=\"map\"),\n",
    "])\n"
   ]
  },
  {
   "cell_type": "code",
   "execution_count": null,
   "id": "cf2bdfef-6b07-4cc9-988e-6b2c1b7067ef",
   "metadata": {
    "jupyter": {
     "source_hidden": true
    },
    "tags": []
   },
   "outputs": [],
   "source": [
    "map = folium.Map(location = [42.0219, -93.6227], tiles='OpenStreetMap' , zoom_start = 12)\n",
    "# Create a folium marker cluster\n",
    "marker_cluster = MarkerCluster(locations = gis_osm_pofw['locations'],\n",
    "                               popups=list(gis_osm_pofw['name']), \n",
    "                               name=\"Churches\", show=False)\n",
    "\n",
    "# Add marker cluster to map\n",
    "marker_cluster.add_to(map)\n",
    "\n",
    "folium.LayerControl().add_to(map)\n",
    "\n",
    "\n",
    "# Show map\n",
    "map"
   ]
  },
  {
   "cell_type": "code",
   "execution_count": null,
   "id": "7d06bfee-8b06-4a47-a287-c757ceb3a5af",
   "metadata": {},
   "outputs": [],
   "source": []
  },
  {
   "cell_type": "markdown",
   "id": "5cf99ec3-8f22-4ad1-b80e-334cbf829046",
   "metadata": {},
   "source": [
    "gis_osm_pofw"
   ]
  },
  {
   "cell_type": "markdown",
   "id": "c9937d4f-6862-4611-84c9-5c77703b1a6d",
   "metadata": {},
   "source": []
  },
  {
   "cell_type": "code",
   "execution_count": null,
   "id": "f8a6c76e-6b28-4474-b608-44d0f7618e7b",
   "metadata": {},
   "outputs": [],
   "source": [
    "# Build App\n",
    "app = JupyterDash(__name__)\n",
    "app.layout = html.Div([\n",
    "    html.H1(\"JupyterDash Demo\"),\n",
    "    dcc.Graph(id='graph'),\n",
    "    html.Label([\n",
    "        \"colorscale\",\n",
    "        dcc.Dropdown(\n",
    "            id='colorscale-dropdown', clearable=False,\n",
    "            value='plasma', options=[\n",
    "                {'label': c, 'value': c}\n",
    "                for c in px.colors.named_colorscales()\n",
    "            ])\n",
    "    ]),\n",
    "])"
   ]
  },
  {
   "cell_type": "code",
   "execution_count": null,
   "id": "a60ff893-b2c6-4af6-a7af-1eeabfa31c44",
   "metadata": {
    "tags": []
   },
   "outputs": [],
   "source": [
    "df = px.data.tips()\n",
    "# Define callback to update graph\n",
    "@app.callback(\n",
    "    Output('graph', 'figure'),\n",
    "    [Input(\"colorscale-dropdown\", \"value\")]\n",
    ")\n",
    "def update_figure(colorscale):\n",
    "    return px.scatter(\n",
    "        df, x=\"total_bill\", y=\"tip\", color=\"size\",\n",
    "        color_continuous_scale=colorscale,\n",
    "        render_mode=\"webgl\", title=\"Tips\"\n",
    "    )\n",
    "# Run app and display result inline in the notebook\n",
    "app.run_server(mode='inline')"
   ]
  },
  {
   "cell_type": "code",
   "execution_count": null,
   "id": "a3688f33-9c20-4ec5-99b3-bd6a0e5dfea4",
   "metadata": {
    "tags": []
   },
   "outputs": [],
   "source": [
    "# df = gpd.read_file('../GeoJsonFiles/iowa-latest-free/gis_osm_pofw_free_1.shp')\n",
    "# df['lon'] = df['geometry'].x\n",
    "# df['lat'] = df['geometry'].y\n",
    "df "
   ]
  },
  {
   "cell_type": "code",
   "execution_count": null,
   "id": "342c5e9a-3ae2-4be0-96ca-045e3514dd9e",
   "metadata": {},
   "outputs": [],
   "source": [
    "\n",
    "colorscale = ['red', 'yellow', 'green', 'blue', 'purple']  # rainbow\n",
    "chroma = \"https://cdnjs.cloudflare.com/ajax/libs/chroma-js/2.1.0/chroma.min.js\"  # js lib used for colors\n",
    "color_prop = 'code'\n",
    "\n",
    "# Pre process the data into geobuf.\n",
    "  # drop irrelevant columns\n",
    "\n",
    "dicts = df.to_dict('rows')\n",
    "for item in dicts:\n",
    "    item[\"tooltip\"] = \"{} ({:.1f})\".format(item['name'], item[color_prop])  # bind tooltip\n",
    "\n",
    "geojson = dlx.dicts_to_geojson(dicts, lon=\"lon\")  # convert to geojson\n",
    "geobuf = dlx.geojson_to_geobuf(geojson)  # convert to geobuf\n",
    "# Create a colorbar.\n",
    "vmax = df[color_prop].max()\n",
    "colorbar = dl.Colorbar(colorscale=colorscale, width=20, height=150, min=0, max=vmax, unit='/km2')\n",
    "# Geojson rendering logic, must be JavaScript as it is executed in clientside.\n",
    "point_to_layer = assign(\"\"\"function(feature, latlng, context){\n",
    "    const {min, max, colorscale, circleOptions, colorProp} = context.props.hideout;\n",
    "    const csc = chroma.scale(colorscale).domain([min, max]);  // chroma lib to construct colorscale\n",
    "    circleOptions.fillColor = csc(feature.properties[colorProp]);  // set color based on color prop.\n",
    "    return L.circleMarker(latlng, circleOptions);  // sender a simple circle marker.\n",
    "}\"\"\")\n",
    "cluster_to_layer = assign(\"\"\"function(feature, latlng, index, context){\n",
    "    const {min, max, colorscale, circleOptions, colorProp} = context.props.hideout;\n",
    "    const csc = chroma.scale(colorscale).domain([min, max]);\n",
    "    // Set color based on mean value of leaves.\n",
    "    const leaves = index.getLeaves(feature.properties.cluster_id);\n",
    "    let valueSum = 0;\n",
    "    for (let i = 0; i < leaves.length; ++i) {\n",
    "        valueSum += leaves[i].properties[colorProp]\n",
    "    }\n",
    "    const valueMean = valueSum / leaves.length;\n",
    "    // Render a circle with the number of leaves written in the center.\n",
    "    const icon = L.divIcon.scatter({\n",
    "        html: '<div style=\"background-color:white;\"><span>' + feature.properties.point_count_abbreviated + '</span></div>',\n",
    "        className: \"marker-cluster\",\n",
    "        iconSize: L.point(40, 40),\n",
    "        color: csc(valueMean)\n",
    "    });\n",
    "    return L.marker(latlng, {icon : icon})\n",
    "}\"\"\")\n",
    "# Create geojson.\n",
    "geojson = dl.GeoJSON(data=geobuf, id=\"geojson\", format=\"geobuf\",\n",
    "                     zoomToBounds=True,  # when true, zooms to bounds when data changes\n",
    "                     cluster=True,  # when true, data are clustered\n",
    "                     clusterToLayer=cluster_to_layer,  # how to draw clusters\n",
    "                     zoomToBoundsOnClick=True,  # when true, zooms to bounds of feature (e.g. cluster) on click\n",
    "                     options=dict(pointToLayer=point_to_layer),  # how to draw points\n",
    "                     superClusterOptions=dict(radius=150),   # adjust cluster size\n",
    "                     hideout=dict(colorProp=color_prop, circleOptions=dict(fillOpacity=1, stroke=False, radius=5),\n",
    "                                  min=0, max=vmax, colorscale=colorscale))\n",
    "# Create the app.\n",
    "app = Dash(external_scripts=[chroma], prevent_initial_callbacks=True)\n",
    "app.layout = html.Div([\n",
    "    dl.Map([dl.TileLayer(), geojson, colorbar]),\n",
    "], style={'width': '100%', 'height': '50vh', 'margin': \"auto\", \"display\": \"block\", \"position\": \"relative\"})\n",
    "\n",
    "if __name__ == '__main__':\n",
    "    app.run_server(mode='inline')"
   ]
  },
  {
   "cell_type": "code",
   "execution_count": null,
   "id": "8491d964-13f0-44ed-a18f-85d2bc8b67b7",
   "metadata": {},
   "outputs": [],
   "source": []
  }
 ],
 "metadata": {
  "kernelspec": {
   "display_name": "Python 3",
   "language": "python",
   "name": "python3"
  },
  "language_info": {
   "codemirror_mode": {
    "name": "ipython",
    "version": 3
   },
   "file_extension": ".py",
   "mimetype": "text/x-python",
   "name": "python",
   "nbconvert_exporter": "python",
   "pygments_lexer": "ipython3",
   "version": "3.8.8"
  }
 },
 "nbformat": 4,
 "nbformat_minor": 5
}
