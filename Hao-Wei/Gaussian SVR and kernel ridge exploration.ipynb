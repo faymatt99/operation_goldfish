{
 "cells": [
  {
   "cell_type": "code",
   "execution_count": 50,
   "id": "d649443c",
   "metadata": {},
   "outputs": [],
   "source": [
    "import numpy as np\n",
    "import pandas as pd\n",
    "from scipy import stats\n",
    "from sklearn.linear_model import Ridge, Lasso, ElasticNet, LinearRegression\n",
    "import plotly.express as px\n",
    "import matplotlib.pyplot as plt\n",
    "import plotly.graph_objects as go\n",
    "from sklearn.model_selection import train_test_split\n",
    "from sklearn.model_selection import GridSearchCV\n",
    "from sklearn.model_selection import KFold, StratifiedKFold\n",
    "from sklearn.model_selection import cross_val_score\n",
    "\n",
    "from sklearn import ensemble\n",
    "from sklearn.model_selection import train_test_split\n",
    "from sklearn.model_selection import GridSearchCV\n",
    "\n",
    "import time\n",
    "\n",
    "from catboost import CatBoostRegressor\n",
    "\n",
    "import re\n",
    "\n",
    "from statsmodels.stats.outliers_influence import variance_inflation_factor\n",
    "from xgboost import XGBRegressor\n",
    "from sklearn.preprocessing import MinMaxScaler, StandardScaler\n",
    "from sklearn.svm import SVR\n",
    "\n",
    "import pickle\n",
    "\n",
    "pd.set_option('display.max_columns', 100)"
   ]
  },
  {
   "cell_type": "code",
   "execution_count": null,
   "id": "27b96919",
   "metadata": {},
   "outputs": [],
   "source": []
  },
  {
   "cell_type": "code",
   "execution_count": 2,
   "id": "060b502d",
   "metadata": {},
   "outputs": [],
   "source": [
    "def dummify(df, non_dummies, dummies):\n",
    "    for dummified in dummies:\n",
    "        for original in non_dummies:\n",
    "            if original in dummified:\n",
    "                orig_name = f'{original}_'\n",
    "                value = dummified.replace(orig_name, '')\n",
    "                df[dummified] = df[original].map(lambda x: 1 if x == value else 0)\n",
    "    df=df.drop(non_dummies,axis=1)\n",
    "    return df"
   ]
  },
  {
   "cell_type": "code",
   "execution_count": 17,
   "id": "74aa678a",
   "metadata": {},
   "outputs": [],
   "source": [
    "dummies_linear = [   \n",
    "    'Neighborhood_Blueste',\n",
    "    'Neighborhood_BrDale',\n",
    "    'Neighborhood_BrkSide',\n",
    "    'Neighborhood_ClearCr',\n",
    "    'Neighborhood_CollgCr',\n",
    "    'Neighborhood_Crawfor',\n",
    "    'Neighborhood_Edwards',\n",
    "    'Neighborhood_Gilbert', \n",
    "    'Neighborhood_Greens', \n",
    "    'Neighborhood_GrnHill',\n",
    "    'Neighborhood_IDOTRR',\n",
    "    'Neighborhood_Landmrk',\n",
    "    'Neighborhood_MeadowV',\n",
    "    'Neighborhood_Mitchel',\n",
    "    'Neighborhood_NAmes',\n",
    "    'Neighborhood_NPkVill',\n",
    "    'Neighborhood_NWAmes',\n",
    "    'Neighborhood_NoRidge',\n",
    "    'Neighborhood_NridgHt',\n",
    "    'Neighborhood_OldTown',\n",
    "    'Neighborhood_SWISU',\n",
    "    'Neighborhood_Sawyer',\n",
    "    'Neighborhood_SawyerW',\n",
    "    'Neighborhood_Somerst',\n",
    "    'Neighborhood_StoneBr',\n",
    "    'Neighborhood_Timber',\n",
    "    'Neighborhood_Veenker',\n",
    "    'BldgType_2fmCon',\n",
    "    'BldgType_Duplex',\n",
    "    'BldgType_Twnhs',\n",
    "    'BldgType_TwnhsE',\n",
    "    'MasVnrType_None',\n",
    "    'MasVnrType_Stone',\n",
    "    'BSMT_HighQual_bin_500-1000',\n",
    "    'BSMT_HighQual_bin_0-500',\n",
    "    'BSMT_HighQual_bin_1000-1500',\n",
    "    'BSMT_HighQual_bin_1500+',\n",
    "    'BSMT_LowQual_bin_0-500',\n",
    "    'BSMT_LowQual_bin_500-1000',\n",
    "    'BSMT_LowQual_bin_1000-1500',\n",
    "    'BSMT_LowQual_bin_1500+'\n",
    "    ]\n",
    "\n",
    "non_dummies_linear = ['Neighborhood', 'BldgType', 'MasVnrType', 'BSMT_HighQual_bin', 'BSMT_LowQual_bin']"
   ]
  },
  {
   "cell_type": "code",
   "execution_count": 43,
   "id": "fd7997e4",
   "metadata": {},
   "outputs": [],
   "source": [
    "back_end_linear = front_end.copy()\n",
    "back_end_linear.drop(columns = ['PID', 'SalePrice'], axis =1, inplace = True)\n",
    "back_end_linear['GrLivArea_log'] = np.log10(back_end_linear['GrLivArea'])\n",
    "back_end_linear['LotArea_log'] = np.log10(back_end_linear['LotArea'])\n",
    "back_end_linear['ExterQualDisc'] = back_end_linear['ExterQual'] - back_end_linear['OverallQual']\n",
    "back_end_linear['OverallCondDisc'] = back_end_linear['OverallCond'] - back_end_linear['OverallQual']\n",
    "back_end_linear['KitchenQualDisc'] = back_end_linear['KitchenQual'] - back_end_linear['OverallQual']\n",
    "back_end_linear = back_end_linear.drop(['ExterQual','OverallCond','KitchenQual'], axis=1)\n",
    "\n",
    "back_end_linear['BSMT_LowQual_bin'] = pd.cut(back_end_linear['BSMT_LowQual'], [-1, 1, 500, 1000, 1500, 2500], labels = ['No basement', '0-500', '500-1000', '1000-1500', '1500+']) \n",
    "back_end_linear['BSMT_HighQual_bin'] = pd.cut(back_end_linear['BSMT_HighQual'], [-1, 1, 500, 1000, 1500, 2500], labels = ['No basement', '0-500', '500-1000', '1000-1500', '1500+']) \n",
    "back_end_linear.drop(['BSMT_HighQual', 'BSMT_LowQual', 'GrLivArea', 'LotArea'], axis = 1, inplace = True)\n",
    "\n",
    "back_end_linear = dummify(back_end_linear, non_dummies_linear, dummies_linear)\n",
    "\n",
    "back_end_svr = back_end_linear.copy()\n"
   ]
  },
  {
   "cell_type": "code",
   "execution_count": 44,
   "id": "39bf5044",
   "metadata": {},
   "outputs": [],
   "source": [
    "back_end_svr = pd.DataFrame(svr_backend_scaler.fit_transform(back_end_svr), columns = back_end_linear.columns)\n"
   ]
  },
  {
   "cell_type": "code",
   "execution_count": 21,
   "id": "9b901728",
   "metadata": {
    "scrolled": true
   },
   "outputs": [
    {
     "name": "stderr",
     "output_type": "stream",
     "text": [
      "/opt/anaconda3/envs/geo_env/lib/python3.9/site-packages/sklearn/base.py:310: UserWarning: Trying to unpickle estimator SVR from version 0.24.1 when using version 0.24.2. This might lead to breaking code or invalid results. Use at your own risk.\n",
      "  warnings.warn(\n"
     ]
    }
   ],
   "source": [
    "with open('../Matt/SVR_model.pickle', mode = 'rb') as file:\n",
    "    svr = pickle.load(file)"
   ]
  },
  {
   "cell_type": "code",
   "execution_count": 46,
   "id": "ff832282",
   "metadata": {},
   "outputs": [
    {
     "data": {
      "text/plain": [
       "{'C': 100,\n",
       " 'cache_size': 200,\n",
       " 'coef0': 0.0,\n",
       " 'degree': 3,\n",
       " 'epsilon': 0.1,\n",
       " 'gamma': 'scale',\n",
       " 'kernel': 'linear',\n",
       " 'max_iter': -1,\n",
       " 'shrinking': True,\n",
       " 'tol': 0.001,\n",
       " 'verbose': False}"
      ]
     },
     "execution_count": 46,
     "metadata": {},
     "output_type": "execute_result"
    }
   ],
   "source": [
    "svr.get_params()"
   ]
  },
  {
   "cell_type": "code",
   "execution_count": 6,
   "id": "82e7408f",
   "metadata": {},
   "outputs": [],
   "source": [
    "svr_backend_scaler = StandardScaler()\n",
    "svr_price_scaler = StandardScaler()"
   ]
  },
  {
   "cell_type": "code",
   "execution_count": 42,
   "id": "ef77aaa8",
   "metadata": {},
   "outputs": [],
   "source": [
    "housing_coords = pd.read_csv('../data/ames_housing_price_data_v6.csv', index_col = 0);\n",
    "housing_coords.drop(\"SalePrice.1\", axis = 1, inplace = True);\n",
    "\n",
    "y = housing_coords[\"SalePrice\"]\n",
    "y_std = svr_price_scaler.fit_transform(np.array(np.log10(y)).reshape(-1,1));\n",
    "front_end = housing_coords.copy();\n",
    "front_end.reset_index(inplace = True)"
   ]
  },
  {
   "cell_type": "code",
   "execution_count": 45,
   "id": "bcaba740",
   "metadata": {},
   "outputs": [
    {
     "data": {
      "text/plain": [
       "0.9387299448505945"
      ]
     },
     "execution_count": 45,
     "metadata": {},
     "output_type": "execute_result"
    }
   ],
   "source": [
    "svr.score(back_end_svr, y_std)"
   ]
  },
  {
   "cell_type": "markdown",
   "id": "6203dc98",
   "metadata": {},
   "source": [
    "### What do I want to do on SVR Gaussian kernel?\n",
    "- Nominal: dummify \n",
    "- Ordinal: keep\n",
    "- Discrete: keep\n",
    "- Continuous: keep\n",
    "- Then, StandardScaler it.\n",
    "\n",
    "Parameters to be tuned:\n",
    "- gamma: large=overfit, small=underfit\n",
    "- C: large=overfit, small=underfit\n",
    "- epsilon: large=underfit, small=overfit"
   ]
  },
  {
   "cell_type": "code",
   "execution_count": 51,
   "id": "f25f09bb",
   "metadata": {
    "scrolled": true
   },
   "outputs": [
    {
     "data": {
      "text/html": [
       "<div>\n",
       "<style scoped>\n",
       "    .dataframe tbody tr th:only-of-type {\n",
       "        vertical-align: middle;\n",
       "    }\n",
       "\n",
       "    .dataframe tbody tr th {\n",
       "        vertical-align: top;\n",
       "    }\n",
       "\n",
       "    .dataframe thead th {\n",
       "        text-align: right;\n",
       "    }\n",
       "</style>\n",
       "<table border=\"1\" class=\"dataframe\">\n",
       "  <thead>\n",
       "    <tr style=\"text-align: right;\">\n",
       "      <th></th>\n",
       "      <th>OverallQual</th>\n",
       "      <th>house_age_years</th>\n",
       "      <th>GarageCars</th>\n",
       "      <th>FullBath</th>\n",
       "      <th>HalfBath</th>\n",
       "      <th>BsmtExposure_ord</th>\n",
       "      <th>SaleTypeNew</th>\n",
       "      <th>PorchSF</th>\n",
       "      <th>Fireplaces</th>\n",
       "      <th>Pool</th>\n",
       "      <th>BedroomAbvGr</th>\n",
       "      <th>water_tower</th>\n",
       "      <th>graveyard</th>\n",
       "      <th>police</th>\n",
       "      <th>optician</th>\n",
       "      <th>slipway</th>\n",
       "      <th>bar</th>\n",
       "      <th>cinema</th>\n",
       "      <th>supermarket</th>\n",
       "      <th>hotel</th>\n",
       "      <th>stop</th>\n",
       "      <th>farmyard</th>\n",
       "      <th>christian_catholic</th>\n",
       "      <th>jewish</th>\n",
       "      <th>muslim</th>\n",
       "      <th>garden_centre</th>\n",
       "      <th>christian_lutheran</th>\n",
       "      <th>GrLivArea_log</th>\n",
       "      <th>LotArea_log</th>\n",
       "      <th>ExterQualDisc</th>\n",
       "      <th>OverallCondDisc</th>\n",
       "      <th>KitchenQualDisc</th>\n",
       "      <th>Neighborhood_Blueste</th>\n",
       "      <th>Neighborhood_BrDale</th>\n",
       "      <th>Neighborhood_BrkSide</th>\n",
       "      <th>Neighborhood_ClearCr</th>\n",
       "      <th>Neighborhood_CollgCr</th>\n",
       "      <th>Neighborhood_Crawfor</th>\n",
       "      <th>Neighborhood_Edwards</th>\n",
       "      <th>Neighborhood_Gilbert</th>\n",
       "      <th>Neighborhood_Greens</th>\n",
       "      <th>Neighborhood_GrnHill</th>\n",
       "      <th>Neighborhood_IDOTRR</th>\n",
       "      <th>Neighborhood_Landmrk</th>\n",
       "      <th>Neighborhood_MeadowV</th>\n",
       "      <th>Neighborhood_Mitchel</th>\n",
       "      <th>Neighborhood_NAmes</th>\n",
       "      <th>Neighborhood_NPkVill</th>\n",
       "      <th>Neighborhood_NWAmes</th>\n",
       "      <th>Neighborhood_NoRidge</th>\n",
       "      <th>Neighborhood_NridgHt</th>\n",
       "      <th>Neighborhood_OldTown</th>\n",
       "      <th>Neighborhood_SWISU</th>\n",
       "      <th>Neighborhood_Sawyer</th>\n",
       "      <th>Neighborhood_SawyerW</th>\n",
       "      <th>Neighborhood_Somerst</th>\n",
       "      <th>Neighborhood_StoneBr</th>\n",
       "      <th>Neighborhood_Timber</th>\n",
       "      <th>Neighborhood_Veenker</th>\n",
       "      <th>BldgType_2fmCon</th>\n",
       "      <th>BldgType_Duplex</th>\n",
       "      <th>BldgType_Twnhs</th>\n",
       "      <th>BldgType_TwnhsE</th>\n",
       "      <th>MasVnrType_None</th>\n",
       "      <th>MasVnrType_Stone</th>\n",
       "      <th>BSMT_HighQual_bin_500-1000</th>\n",
       "      <th>BSMT_HighQual_bin_0-500</th>\n",
       "      <th>BSMT_HighQual_bin_1000-1500</th>\n",
       "      <th>BSMT_HighQual_bin_1500+</th>\n",
       "      <th>BSMT_LowQual_bin_0-500</th>\n",
       "      <th>BSMT_LowQual_bin_500-1000</th>\n",
       "      <th>BSMT_LowQual_bin_1000-1500</th>\n",
       "      <th>BSMT_LowQual_bin_1500+</th>\n",
       "    </tr>\n",
       "  </thead>\n",
       "  <tbody>\n",
       "    <tr>\n",
       "      <th>0</th>\n",
       "      <td>0.428571</td>\n",
       "      <td>71.210959</td>\n",
       "      <td>2.0</td>\n",
       "      <td>1</td>\n",
       "      <td>0</td>\n",
       "      <td>1</td>\n",
       "      <td>0</td>\n",
       "      <td>166</td>\n",
       "      <td>1</td>\n",
       "      <td>0</td>\n",
       "      <td>2</td>\n",
       "      <td>2</td>\n",
       "      <td>1</td>\n",
       "      <td>1</td>\n",
       "      <td>1</td>\n",
       "      <td>0</td>\n",
       "      <td>11</td>\n",
       "      <td>0</td>\n",
       "      <td>4</td>\n",
       "      <td>0</td>\n",
       "      <td>0</td>\n",
       "      <td>0</td>\n",
       "      <td>1</td>\n",
       "      <td>0</td>\n",
       "      <td>0</td>\n",
       "      <td>0</td>\n",
       "      <td>3</td>\n",
       "      <td>2.932474</td>\n",
       "      <td>3.897077</td>\n",
       "      <td>-0.095238</td>\n",
       "      <td>0.071429</td>\n",
       "      <td>-0.095238</td>\n",
       "      <td>0</td>\n",
       "      <td>0</td>\n",
       "      <td>0</td>\n",
       "      <td>0</td>\n",
       "      <td>0</td>\n",
       "      <td>0</td>\n",
       "      <td>0</td>\n",
       "      <td>0</td>\n",
       "      <td>0</td>\n",
       "      <td>0</td>\n",
       "      <td>0</td>\n",
       "      <td>0</td>\n",
       "      <td>0</td>\n",
       "      <td>0</td>\n",
       "      <td>0</td>\n",
       "      <td>0</td>\n",
       "      <td>0</td>\n",
       "      <td>0</td>\n",
       "      <td>0</td>\n",
       "      <td>0</td>\n",
       "      <td>1</td>\n",
       "      <td>0</td>\n",
       "      <td>0</td>\n",
       "      <td>0</td>\n",
       "      <td>0</td>\n",
       "      <td>0</td>\n",
       "      <td>0</td>\n",
       "      <td>0</td>\n",
       "      <td>0</td>\n",
       "      <td>0</td>\n",
       "      <td>0</td>\n",
       "      <td>1</td>\n",
       "      <td>0</td>\n",
       "      <td>0</td>\n",
       "      <td>0</td>\n",
       "      <td>0</td>\n",
       "      <td>0</td>\n",
       "      <td>0</td>\n",
       "      <td>1</td>\n",
       "      <td>0</td>\n",
       "      <td>0</td>\n",
       "    </tr>\n",
       "    <tr>\n",
       "      <th>1</th>\n",
       "      <td>0.285714</td>\n",
       "      <td>25.104110</td>\n",
       "      <td>1.0</td>\n",
       "      <td>2</td>\n",
       "      <td>0</td>\n",
       "      <td>2</td>\n",
       "      <td>0</td>\n",
       "      <td>105</td>\n",
       "      <td>0</td>\n",
       "      <td>0</td>\n",
       "      <td>2</td>\n",
       "      <td>1</td>\n",
       "      <td>1</td>\n",
       "      <td>1</td>\n",
       "      <td>1</td>\n",
       "      <td>0</td>\n",
       "      <td>11</td>\n",
       "      <td>0</td>\n",
       "      <td>4</td>\n",
       "      <td>0</td>\n",
       "      <td>0</td>\n",
       "      <td>0</td>\n",
       "      <td>1</td>\n",
       "      <td>0</td>\n",
       "      <td>1</td>\n",
       "      <td>0</td>\n",
       "      <td>2</td>\n",
       "      <td>3.020775</td>\n",
       "      <td>3.626853</td>\n",
       "      <td>0.380952</td>\n",
       "      <td>0.047619</td>\n",
       "      <td>0.380952</td>\n",
       "      <td>0</td>\n",
       "      <td>0</td>\n",
       "      <td>0</td>\n",
       "      <td>0</td>\n",
       "      <td>0</td>\n",
       "      <td>0</td>\n",
       "      <td>1</td>\n",
       "      <td>0</td>\n",
       "      <td>0</td>\n",
       "      <td>0</td>\n",
       "      <td>0</td>\n",
       "      <td>0</td>\n",
       "      <td>0</td>\n",
       "      <td>0</td>\n",
       "      <td>0</td>\n",
       "      <td>0</td>\n",
       "      <td>0</td>\n",
       "      <td>0</td>\n",
       "      <td>0</td>\n",
       "      <td>0</td>\n",
       "      <td>0</td>\n",
       "      <td>0</td>\n",
       "      <td>0</td>\n",
       "      <td>0</td>\n",
       "      <td>0</td>\n",
       "      <td>0</td>\n",
       "      <td>0</td>\n",
       "      <td>0</td>\n",
       "      <td>0</td>\n",
       "      <td>0</td>\n",
       "      <td>1</td>\n",
       "      <td>0</td>\n",
       "      <td>0</td>\n",
       "      <td>1</td>\n",
       "      <td>0</td>\n",
       "      <td>0</td>\n",
       "      <td>0</td>\n",
       "      <td>1</td>\n",
       "      <td>0</td>\n",
       "      <td>0</td>\n",
       "      <td>0</td>\n",
       "    </tr>\n",
       "    <tr>\n",
       "      <th>2</th>\n",
       "      <td>0.142857</td>\n",
       "      <td>109.402740</td>\n",
       "      <td>1.0</td>\n",
       "      <td>1</td>\n",
       "      <td>0</td>\n",
       "      <td>1</td>\n",
       "      <td>0</td>\n",
       "      <td>279</td>\n",
       "      <td>0</td>\n",
       "      <td>0</td>\n",
       "      <td>2</td>\n",
       "      <td>0</td>\n",
       "      <td>1</td>\n",
       "      <td>1</td>\n",
       "      <td>1</td>\n",
       "      <td>0</td>\n",
       "      <td>4</td>\n",
       "      <td>1</td>\n",
       "      <td>1</td>\n",
       "      <td>0</td>\n",
       "      <td>0</td>\n",
       "      <td>1</td>\n",
       "      <td>0</td>\n",
       "      <td>0</td>\n",
       "      <td>0</td>\n",
       "      <td>0</td>\n",
       "      <td>3</td>\n",
       "      <td>3.016616</td>\n",
       "      <td>3.910944</td>\n",
       "      <td>0.523810</td>\n",
       "      <td>0.690476</td>\n",
       "      <td>0.190476</td>\n",
       "      <td>0</td>\n",
       "      <td>0</td>\n",
       "      <td>0</td>\n",
       "      <td>0</td>\n",
       "      <td>0</td>\n",
       "      <td>0</td>\n",
       "      <td>0</td>\n",
       "      <td>0</td>\n",
       "      <td>0</td>\n",
       "      <td>0</td>\n",
       "      <td>0</td>\n",
       "      <td>0</td>\n",
       "      <td>0</td>\n",
       "      <td>0</td>\n",
       "      <td>0</td>\n",
       "      <td>0</td>\n",
       "      <td>0</td>\n",
       "      <td>0</td>\n",
       "      <td>0</td>\n",
       "      <td>1</td>\n",
       "      <td>0</td>\n",
       "      <td>0</td>\n",
       "      <td>0</td>\n",
       "      <td>0</td>\n",
       "      <td>0</td>\n",
       "      <td>0</td>\n",
       "      <td>0</td>\n",
       "      <td>0</td>\n",
       "      <td>0</td>\n",
       "      <td>0</td>\n",
       "      <td>0</td>\n",
       "      <td>1</td>\n",
       "      <td>0</td>\n",
       "      <td>0</td>\n",
       "      <td>0</td>\n",
       "      <td>0</td>\n",
       "      <td>0</td>\n",
       "      <td>1</td>\n",
       "      <td>0</td>\n",
       "      <td>0</td>\n",
       "      <td>0</td>\n",
       "    </tr>\n",
       "    <tr>\n",
       "      <th>3</th>\n",
       "      <td>0.714286</td>\n",
       "      <td>8.838356</td>\n",
       "      <td>2.0</td>\n",
       "      <td>2</td>\n",
       "      <td>1</td>\n",
       "      <td>1</td>\n",
       "      <td>0</td>\n",
       "      <td>45</td>\n",
       "      <td>0</td>\n",
       "      <td>0</td>\n",
       "      <td>3</td>\n",
       "      <td>0</td>\n",
       "      <td>0</td>\n",
       "      <td>0</td>\n",
       "      <td>0</td>\n",
       "      <td>0</td>\n",
       "      <td>0</td>\n",
       "      <td>1</td>\n",
       "      <td>1</td>\n",
       "      <td>0</td>\n",
       "      <td>0</td>\n",
       "      <td>0</td>\n",
       "      <td>0</td>\n",
       "      <td>1</td>\n",
       "      <td>0</td>\n",
       "      <td>0</td>\n",
       "      <td>3</td>\n",
       "      <td>3.221414</td>\n",
       "      <td>3.924279</td>\n",
       "      <td>-0.047619</td>\n",
       "      <td>-0.214286</td>\n",
       "      <td>-0.047619</td>\n",
       "      <td>0</td>\n",
       "      <td>0</td>\n",
       "      <td>0</td>\n",
       "      <td>0</td>\n",
       "      <td>0</td>\n",
       "      <td>0</td>\n",
       "      <td>0</td>\n",
       "      <td>0</td>\n",
       "      <td>0</td>\n",
       "      <td>0</td>\n",
       "      <td>0</td>\n",
       "      <td>0</td>\n",
       "      <td>0</td>\n",
       "      <td>0</td>\n",
       "      <td>0</td>\n",
       "      <td>0</td>\n",
       "      <td>1</td>\n",
       "      <td>0</td>\n",
       "      <td>0</td>\n",
       "      <td>0</td>\n",
       "      <td>0</td>\n",
       "      <td>0</td>\n",
       "      <td>0</td>\n",
       "      <td>0</td>\n",
       "      <td>0</td>\n",
       "      <td>0</td>\n",
       "      <td>0</td>\n",
       "      <td>0</td>\n",
       "      <td>0</td>\n",
       "      <td>0</td>\n",
       "      <td>0</td>\n",
       "      <td>1</td>\n",
       "      <td>0</td>\n",
       "      <td>1</td>\n",
       "      <td>0</td>\n",
       "      <td>0</td>\n",
       "      <td>0</td>\n",
       "      <td>1</td>\n",
       "      <td>0</td>\n",
       "      <td>0</td>\n",
       "      <td>0</td>\n",
       "    </tr>\n",
       "    <tr>\n",
       "      <th>4</th>\n",
       "      <td>0.571429</td>\n",
       "      <td>6.501370</td>\n",
       "      <td>2.0</td>\n",
       "      <td>3</td>\n",
       "      <td>0</td>\n",
       "      <td>0</td>\n",
       "      <td>0</td>\n",
       "      <td>177</td>\n",
       "      <td>1</td>\n",
       "      <td>0</td>\n",
       "      <td>4</td>\n",
       "      <td>1</td>\n",
       "      <td>0</td>\n",
       "      <td>0</td>\n",
       "      <td>1</td>\n",
       "      <td>0</td>\n",
       "      <td>2</td>\n",
       "      <td>0</td>\n",
       "      <td>4</td>\n",
       "      <td>3</td>\n",
       "      <td>1</td>\n",
       "      <td>0</td>\n",
       "      <td>0</td>\n",
       "      <td>0</td>\n",
       "      <td>0</td>\n",
       "      <td>0</td>\n",
       "      <td>1</td>\n",
       "      <td>3.283753</td>\n",
       "      <td>3.863382</td>\n",
       "      <td>0.095238</td>\n",
       "      <td>-0.238095</td>\n",
       "      <td>0.095238</td>\n",
       "      <td>0</td>\n",
       "      <td>0</td>\n",
       "      <td>0</td>\n",
       "      <td>0</td>\n",
       "      <td>0</td>\n",
       "      <td>0</td>\n",
       "      <td>1</td>\n",
       "      <td>0</td>\n",
       "      <td>0</td>\n",
       "      <td>0</td>\n",
       "      <td>0</td>\n",
       "      <td>0</td>\n",
       "      <td>0</td>\n",
       "      <td>0</td>\n",
       "      <td>0</td>\n",
       "      <td>0</td>\n",
       "      <td>0</td>\n",
       "      <td>0</td>\n",
       "      <td>0</td>\n",
       "      <td>0</td>\n",
       "      <td>0</td>\n",
       "      <td>0</td>\n",
       "      <td>0</td>\n",
       "      <td>0</td>\n",
       "      <td>0</td>\n",
       "      <td>0</td>\n",
       "      <td>0</td>\n",
       "      <td>0</td>\n",
       "      <td>0</td>\n",
       "      <td>0</td>\n",
       "      <td>0</td>\n",
       "      <td>0</td>\n",
       "      <td>0</td>\n",
       "      <td>0</td>\n",
       "      <td>0</td>\n",
       "      <td>0</td>\n",
       "      <td>0</td>\n",
       "      <td>0</td>\n",
       "      <td>0</td>\n",
       "      <td>0</td>\n",
       "      <td>0</td>\n",
       "    </tr>\n",
       "  </tbody>\n",
       "</table>\n",
       "</div>"
      ],
      "text/plain": [
       "   OverallQual  house_age_years  GarageCars  FullBath  HalfBath  \\\n",
       "0     0.428571        71.210959         2.0         1         0   \n",
       "1     0.285714        25.104110         1.0         2         0   \n",
       "2     0.142857       109.402740         1.0         1         0   \n",
       "3     0.714286         8.838356         2.0         2         1   \n",
       "4     0.571429         6.501370         2.0         3         0   \n",
       "\n",
       "   BsmtExposure_ord  SaleTypeNew  PorchSF  Fireplaces  Pool  BedroomAbvGr  \\\n",
       "0                 1            0      166           1     0             2   \n",
       "1                 2            0      105           0     0             2   \n",
       "2                 1            0      279           0     0             2   \n",
       "3                 1            0       45           0     0             3   \n",
       "4                 0            0      177           1     0             4   \n",
       "\n",
       "   water_tower  graveyard  police  optician  slipway  bar  cinema  \\\n",
       "0            2          1       1         1        0   11       0   \n",
       "1            1          1       1         1        0   11       0   \n",
       "2            0          1       1         1        0    4       1   \n",
       "3            0          0       0         0        0    0       1   \n",
       "4            1          0       0         1        0    2       0   \n",
       "\n",
       "   supermarket  hotel  stop  farmyard  christian_catholic  jewish  muslim  \\\n",
       "0            4      0     0         0                   1       0       0   \n",
       "1            4      0     0         0                   1       0       1   \n",
       "2            1      0     0         1                   0       0       0   \n",
       "3            1      0     0         0                   0       1       0   \n",
       "4            4      3     1         0                   0       0       0   \n",
       "\n",
       "   garden_centre  christian_lutheran  GrLivArea_log  LotArea_log  \\\n",
       "0              0                   3       2.932474     3.897077   \n",
       "1              0                   2       3.020775     3.626853   \n",
       "2              0                   3       3.016616     3.910944   \n",
       "3              0                   3       3.221414     3.924279   \n",
       "4              0                   1       3.283753     3.863382   \n",
       "\n",
       "   ExterQualDisc  OverallCondDisc  KitchenQualDisc  Neighborhood_Blueste  \\\n",
       "0      -0.095238         0.071429        -0.095238                     0   \n",
       "1       0.380952         0.047619         0.380952                     0   \n",
       "2       0.523810         0.690476         0.190476                     0   \n",
       "3      -0.047619        -0.214286        -0.047619                     0   \n",
       "4       0.095238        -0.238095         0.095238                     0   \n",
       "\n",
       "   Neighborhood_BrDale  Neighborhood_BrkSide  Neighborhood_ClearCr  \\\n",
       "0                    0                     0                     0   \n",
       "1                    0                     0                     0   \n",
       "2                    0                     0                     0   \n",
       "3                    0                     0                     0   \n",
       "4                    0                     0                     0   \n",
       "\n",
       "   Neighborhood_CollgCr  Neighborhood_Crawfor  Neighborhood_Edwards  \\\n",
       "0                     0                     0                     0   \n",
       "1                     0                     0                     1   \n",
       "2                     0                     0                     0   \n",
       "3                     0                     0                     0   \n",
       "4                     0                     0                     1   \n",
       "\n",
       "   Neighborhood_Gilbert  Neighborhood_Greens  Neighborhood_GrnHill  \\\n",
       "0                     0                    0                     0   \n",
       "1                     0                    0                     0   \n",
       "2                     0                    0                     0   \n",
       "3                     0                    0                     0   \n",
       "4                     0                    0                     0   \n",
       "\n",
       "   Neighborhood_IDOTRR  Neighborhood_Landmrk  Neighborhood_MeadowV  \\\n",
       "0                    0                     0                     0   \n",
       "1                    0                     0                     0   \n",
       "2                    0                     0                     0   \n",
       "3                    0                     0                     0   \n",
       "4                    0                     0                     0   \n",
       "\n",
       "   Neighborhood_Mitchel  Neighborhood_NAmes  Neighborhood_NPkVill  \\\n",
       "0                     0                   0                     0   \n",
       "1                     0                   0                     0   \n",
       "2                     0                   0                     0   \n",
       "3                     0                   0                     0   \n",
       "4                     0                   0                     0   \n",
       "\n",
       "   Neighborhood_NWAmes  Neighborhood_NoRidge  Neighborhood_NridgHt  \\\n",
       "0                    0                     0                     0   \n",
       "1                    0                     0                     0   \n",
       "2                    0                     0                     0   \n",
       "3                    1                     0                     0   \n",
       "4                    0                     0                     0   \n",
       "\n",
       "   Neighborhood_OldTown  Neighborhood_SWISU  Neighborhood_Sawyer  \\\n",
       "0                     0                   1                    0   \n",
       "1                     0                   0                    0   \n",
       "2                     1                   0                    0   \n",
       "3                     0                   0                    0   \n",
       "4                     0                   0                    0   \n",
       "\n",
       "   Neighborhood_SawyerW  Neighborhood_Somerst  Neighborhood_StoneBr  \\\n",
       "0                     0                     0                     0   \n",
       "1                     0                     0                     0   \n",
       "2                     0                     0                     0   \n",
       "3                     0                     0                     0   \n",
       "4                     0                     0                     0   \n",
       "\n",
       "   Neighborhood_Timber  Neighborhood_Veenker  BldgType_2fmCon  \\\n",
       "0                    0                     0                0   \n",
       "1                    0                     0                0   \n",
       "2                    0                     0                0   \n",
       "3                    0                     0                0   \n",
       "4                    0                     0                0   \n",
       "\n",
       "   BldgType_Duplex  BldgType_Twnhs  BldgType_TwnhsE  MasVnrType_None  \\\n",
       "0                0               0                0                1   \n",
       "1                0               0                1                0   \n",
       "2                0               0                0                1   \n",
       "3                0               0                0                1   \n",
       "4                0               0                0                0   \n",
       "\n",
       "   MasVnrType_Stone  BSMT_HighQual_bin_500-1000  BSMT_HighQual_bin_0-500  \\\n",
       "0                 0                           0                        0   \n",
       "1                 0                           1                        0   \n",
       "2                 0                           0                        0   \n",
       "3                 0                           1                        0   \n",
       "4                 0                           0                        0   \n",
       "\n",
       "   BSMT_HighQual_bin_1000-1500  BSMT_HighQual_bin_1500+  \\\n",
       "0                            0                        0   \n",
       "1                            0                        0   \n",
       "2                            0                        0   \n",
       "3                            0                        0   \n",
       "4                            0                        0   \n",
       "\n",
       "   BSMT_LowQual_bin_0-500  BSMT_LowQual_bin_500-1000  \\\n",
       "0                       0                          1   \n",
       "1                       1                          0   \n",
       "2                       1                          0   \n",
       "3                       1                          0   \n",
       "4                       0                          0   \n",
       "\n",
       "   BSMT_LowQual_bin_1000-1500  BSMT_LowQual_bin_1500+  \n",
       "0                           0                       0  \n",
       "1                           0                       0  \n",
       "2                           0                       0  \n",
       "3                           0                       0  \n",
       "4                           0                       0  "
      ]
     },
     "execution_count": 51,
     "metadata": {},
     "output_type": "execute_result"
    }
   ],
   "source": [
    "back_end_linear.head() # BSMT: no bin"
   ]
  },
  {
   "cell_type": "code",
   "execution_count": 52,
   "id": "34ec09ba",
   "metadata": {},
   "outputs": [],
   "source": [
    "#function and dictionaries required to transform front-end to back-end\n",
    "dummies = [   \n",
    "    'Neighborhood_Blueste',\n",
    "    'Neighborhood_BrDale',\n",
    "    'Neighborhood_BrkSide',\n",
    "    'Neighborhood_ClearCr',\n",
    "    'Neighborhood_CollgCr',\n",
    "    'Neighborhood_Crawfor',\n",
    "    'Neighborhood_Edwards',\n",
    "    'Neighborhood_Gilbert', \n",
    "    'Neighborhood_Greens', \n",
    "    'Neighborhood_GrnHill',\n",
    "    'Neighborhood_IDOTRR',\n",
    "    'Neighborhood_Landmrk',\n",
    "    'Neighborhood_MeadowV',\n",
    "    'Neighborhood_Mitchel',\n",
    "    'Neighborhood_NAmes',\n",
    "    'Neighborhood_NPkVill',\n",
    "    'Neighborhood_NWAmes',\n",
    "    'Neighborhood_NoRidge',\n",
    "    'Neighborhood_NridgHt',\n",
    "    'Neighborhood_OldTown',\n",
    "    'Neighborhood_SWISU',\n",
    "    'Neighborhood_Sawyer',\n",
    "    'Neighborhood_SawyerW',\n",
    "    'Neighborhood_Somerst',\n",
    "    'Neighborhood_StoneBr',\n",
    "    'Neighborhood_Timber',\n",
    "    'Neighborhood_Veenker',\n",
    "    'BldgType_2fmCon',\n",
    "    'BldgType_Duplex',\n",
    "    'BldgType_Twnhs',\n",
    "    'BldgType_TwnhsE',\n",
    "    'MasVnrType_None',\n",
    "    'MasVnrType_Stone'\n",
    "    ]\n",
    "\n",
    "non_dummies=['Neighborhood', 'BldgType', 'MasVnrType']"
   ]
  },
  {
   "cell_type": "code",
   "execution_count": 54,
   "id": "2861fc9c",
   "metadata": {},
   "outputs": [],
   "source": [
    "svrg_backend_scaler = StandardScaler()"
   ]
  },
  {
   "cell_type": "code",
   "execution_count": 55,
   "id": "50490948",
   "metadata": {},
   "outputs": [],
   "source": [
    "#transformation of front-end to back-end, and catboost application\n",
    "back_end = front_end.copy()\n",
    "back_end.drop(columns = ['PID', 'SalePrice'], axis =1, inplace = True)\n",
    "back_end['ExterQualDisc']=back_end['ExterQual']-back_end['OverallQual']\n",
    "back_end['OverallCondDisc']=back_end['OverallCond']-back_end['OverallQual']\n",
    "back_end['KitchenQualDisc']=back_end['KitchenQual']-back_end['OverallQual']\n",
    "back_end=back_end.drop(['ExterQual','OverallCond','KitchenQual'],axis=1)\n",
    "\n",
    "back_end = dummify(back_end, non_dummies, dummies)\n",
    "\n",
    "back_end['GrLivArea_log'] = np.log10(back_end['GrLivArea'])\n",
    "back_end['LotArea_log'] = np.log10(back_end['LotArea'])\n",
    "back_end.drop(['BSMT_HighQual', 'BSMT_LowQual', 'GrLivArea', 'LotArea'], axis = 1, inplace = True)\n",
    "\n",
    "# Standardize\n",
    "back_end_svr = pd.DataFrame(svrg_backend_scaler.fit_transform(back_end_svr), columns = back_end_linear.columns)\n"
   ]
  },
  {
   "cell_type": "code",
   "execution_count": 58,
   "id": "c95edfc6",
   "metadata": {},
   "outputs": [
    {
     "data": {
      "text/plain": [
       "(2455, 1)"
      ]
     },
     "execution_count": 58,
     "metadata": {},
     "output_type": "execute_result"
    }
   ],
   "source": [
    "back_end_svr.shape\n",
    "y_std.shape"
   ]
  },
  {
   "cell_type": "code",
   "execution_count": 98,
   "id": "53e5c595",
   "metadata": {},
   "outputs": [
    {
     "name": "stdout",
     "output_type": "stream",
     "text": [
      "CPU times: user 4.12 s, sys: 364 ms, total: 4.49 s\n",
      "Wall time: 9min 36s\n"
     ]
    },
    {
     "data": {
      "text/plain": [
       "GridSearchCV(cv=KFold(n_splits=5, random_state=None, shuffle=True),\n",
       "             estimator=SVR(), n_jobs=-1,\n",
       "             param_grid={'C': array([ 0.31622777,  0.56234133,  1.        ,  1.77827941,  3.16227766,\n",
       "        5.62341325, 10.        , 17.7827941 , 31.6227766 ]),\n",
       "                         'epsilon': array([0.01      , 0.01778279, 0.03162278, 0.05623413, 0.1       ]),\n",
       "                         'gamma': array([0.00031623, 0.00056234, 0.001     , 0.00177828, 0.00316228,\n",
       "       0.00562341, 0.01      ])},\n",
       "             return_train_score=True)"
      ]
     },
     "execution_count": 98,
     "metadata": {},
     "output_type": "execute_result"
    }
   ],
   "source": [
    "kfold = KFold(n_splits=5, shuffle = True)\n",
    "params = {\n",
    "    'C': np.logspace(-0.5,1.5,9),\n",
    "    'epsilon': np.logspace(-2,-1,5),\n",
    "    'gamma' : np.logspace(-3.5,-2,7)\n",
    "          }\n",
    "svr = SVR(kernel = 'rbf')\n",
    "svr_tuner = GridSearchCV(svr, params, cv=kfold, return_train_score = True, n_jobs = -1)\n",
    "%time svr_tuner.fit(back_end_svr, y_std.ravel())\n",
    "# Maybe: C: 0.1-1000, better: 1-5, best:2\n",
    "# Maybe: epsilon: 0.01-0.1\n",
    "# Maybe: gamma: 0.0003-0.01"
   ]
  },
  {
   "cell_type": "code",
   "execution_count": 99,
   "id": "2fad105b",
   "metadata": {},
   "outputs": [
    {
     "data": {
      "text/plain": [
       "0.9402227548289458"
      ]
     },
     "execution_count": 99,
     "metadata": {},
     "output_type": "execute_result"
    }
   ],
   "source": [
    "svr_tuner.best_score_\n",
    "# 0.9404, 1.5, -1, -3\n",
    "# 0.9402, 1.25, -1.25, -3"
   ]
  },
  {
   "cell_type": "code",
   "execution_count": 106,
   "id": "6ad97df1",
   "metadata": {},
   "outputs": [
    {
     "ename": "KeyError",
     "evalue": "('C', 'gamma')",
     "output_type": "error",
     "traceback": [
      "\u001b[0;31m---------------------------------------------------------------------------\u001b[0m",
      "\u001b[0;31mKeyError\u001b[0m                                  Traceback (most recent call last)",
      "\u001b[0;32m/var/folders/64/r5kqzypd1z7gq7t322k8mn680000gn/T/ipykernel_781/718618511.py\u001b[0m in \u001b[0;36m<module>\u001b[0;34m\u001b[0m\n\u001b[0;32m----> 1\u001b[0;31m \u001b[0msvr_tuner\u001b[0m\u001b[0;34m.\u001b[0m\u001b[0mbest_estimator_\u001b[0m\u001b[0;34m.\u001b[0m\u001b[0mget_params\u001b[0m\u001b[0;34m(\u001b[0m\u001b[0;34m)\u001b[0m\u001b[0;34m[\u001b[0m\u001b[0;34m\"C\"\u001b[0m\u001b[0;34m,\u001b[0m \u001b[0;34m\"gamma\"\u001b[0m\u001b[0;34m]\u001b[0m\u001b[0;34m\u001b[0m\u001b[0;34m\u001b[0m\u001b[0m\n\u001b[0m",
      "\u001b[0;31mKeyError\u001b[0m: ('C', 'gamma')"
     ]
    }
   ],
   "source": [
    "svr_tuner.best_estimator_.get_params()[\"C\"]"
   ]
  },
  {
   "cell_type": "markdown",
   "id": "72c0308c",
   "metadata": {},
   "source": [
    "### An iterative test\n",
    "1. Set an accuracy goal: Say 0.9450.\n",
    "2. Pick a suitable start, and try to approach the goal, by adjusting the step size each time.\n",
    "3. The closer to the goal, the smaller the step size."
   ]
  },
  {
   "cell_type": "code",
   "execution_count": 110,
   "id": "9f509654",
   "metadata": {},
   "outputs": [],
   "source": [
    "C, gamma, epsilon = (18, 0.001, 0.06);\n",
    "goal = 0.9450;\n",
    "parameters = [];"
   ]
  },
  {
   "cell_type": "code",
   "execution_count": 112,
   "id": "70290443",
   "metadata": {},
   "outputs": [
    {
     "name": "stdout",
     "output_type": "stream",
     "text": [
      "CPU times: user 2.11 s, sys: 124 ms, total: 2.23 s\n",
      "Wall time: 3min 51s\n",
      "21.78 0.059399999999999994 0.0008549999999999999 0.9399893109463889\n",
      "CPU times: user 2.87 s, sys: 142 ms, total: 3.01 s\n",
      "Wall time: 4min 59s\n",
      "23.96265615175296 0.06535269859568989 0.0009406827828167482 0.940767691487656\n",
      "CPU times: user 2.8 s, sys: 139 ms, total: 2.94 s\n",
      "Wall time: 7min 44s\n",
      "25.991003223941643 0.07088455424711357 0.0009406827828167482 0.9400462465471495\n",
      "CPU times: user 2.79 s, sys: 139 ms, total: 2.93 s\n",
      "Wall time: 7min 32s\n",
      "24.703473004305167 0.06386166214000552 0.0008474845711484399 0.9403302737790508\n",
      "CPU times: user 2.23 s, sys: 132 ms, total: 2.36 s\n",
      "Wall time: 6min 17s\n",
      "27.010642117039453 0.0608794973579197 0.000768334152673605 0.9400729642686223\n",
      "CPU times: user 2.05 s, sys: 124 ms, total: 2.17 s\n",
      "Wall time: 5min 45s\n",
      "29.6722900938016 0.06387905194582752 0.000768334152673605 0.9395050088120002\n",
      "CPU times: user 2.41 s, sys: 136 ms, total: 2.55 s\n",
      "Wall time: 7min 21s\n",
      "32.933269545665866 0.07089934849662957 0.0008105540466574123 0.9409306143639113\n",
      "CPU times: user 2.85 s, sys: 136 ms, total: 2.98 s\n",
      "Wall time: 7min 29s\n",
      "35.613633026437206 0.07666968430423407 0.0007775694767100006 0.9398961275202167\n",
      "CPU times: user 2.76 s, sys: 131 ms, total: 2.89 s\n",
      "Wall time: 7min 11s\n",
      "39.24898185661188 0.08449593013931511 0.000737883322177004 0.9410296795364024\n",
      "CPU times: user 2.72 s, sys: 135 ms, total: 2.86 s\n",
      "Wall time: 6min 53s\n",
      "42.3656025734254 0.09120544854977179 0.0007085869896391367 0.9410687690179875\n",
      "CPU times: user 2.7 s, sys: 131 ms, total: 2.84 s\n",
      "Wall time: 6min 40s\n",
      "45.6965819615909 0.09837644225111584 0.0006528746070967309 0.940535399624635\n",
      "CPU times: user 2.69 s, sys: 132 ms, total: 2.83 s\n",
      "Wall time: 6min 23s\n",
      "49.77692150116323 0.10716067227114395 0.0006820228492558343 0.940156743953558\n",
      "CPU times: user 2.62 s, sys: 133 ms, total: 2.75 s\n",
      "Wall time: 6min 11s\n",
      "49.77692150116323 0.112350738010324 0.0006159586234864362 0.9401998755641496\n",
      "CPU times: user 2.57 s, sys: 129 ms, total: 2.7 s\n",
      "Wall time: 5min 57s\n",
      "54.555629845945965 0.11774371323941574 0.0006159586234864362 0.9411304226880297\n",
      "CPU times: user 2.68 s, sys: 129 ms, total: 2.81 s\n",
      "Wall time: 5min 48s\n",
      "58.77777439578835 0.11318752922563201 0.0005682886331953255 0.9407275025103946\n",
      "CPU times: user 2.58 s, sys: 129 ms, total: 2.71 s\n",
      "Wall time: 5min 58s\n",
      "63.80033226680025 0.11318752922563201 0.0005440085156083427 0.9412860877233611\n",
      "CPU times: user 2.62 s, sys: 128 ms, total: 2.74 s\n",
      "Wall time: 6min 1s\n",
      "68.5393090119864 0.12159490031270191 0.0005440085156083427 0.9421573659834817\n",
      "CPU times: user 2.68 s, sys: 130 ms, total: 2.81 s\n",
      "Wall time: 5min 44s\n",
      "72.43595243730904 0.11468190431542116 0.0005440085156083427 0.940171496792171\n",
      "CPU times: user 2.74 s, sys: 130 ms, total: 2.87 s\n",
      "Wall time: 6min 3s\n",
      "79.43109701142282 0.11468190431542116 0.0005177410469813315 0.9419560745722491\n",
      "CPU times: user 2.66 s, sys: 129 ms, total: 2.79 s\n",
      "Wall time: 6min 5s\n",
      "81.848920370895 0.12166356760839327 0.0004862217442233946 0.9405599031688185\n",
      "CPU times: user 2.63 s, sys: 130 ms, total: 2.76 s\n",
      "Wall time: 5min 50s\n",
      "89.11726301038361 0.1324675280285583 0.00046463302796561674 0.9401013317481539\n",
      "CPU times: user 2.72 s, sys: 129 ms, total: 2.85 s\n",
      "Wall time: 5min 31s\n",
      "93.48282208038741 0.11948923854947782 0.0004646330279656167 0.9403759837880734\n",
      "CPU times: user 2.74 s, sys: 131 ms, total: 2.87 s\n",
      "Wall time: 5min 59s\n",
      "97.80548292875096 0.11948923854947782 0.0004216636148874261 0.9408251178793863\n",
      "CPU times: user 2.63 s, sys: 130 ms, total: 2.76 s\n",
      "Wall time: 5min 54s\n",
      "105.97201016829554 0.12946630826199698 0.0004040596560203576 0.9410349148022001\n",
      "CPU times: user 2.66 s, sys: 130 ms, total: 2.79 s\n",
      "Wall time: 5min 38s\n",
      "114.37577114628354 0.11919940941192834 0.00037201703679806957 0.9411579413395984\n",
      "CPU times: user 2.75 s, sys: 127 ms, total: 2.88 s\n",
      "Wall time: 5min 56s\n",
      "123.16453958773722 0.12377912064438684 0.00040060326235900846 0.9418128879953962\n",
      "CPU times: user 2.84 s, sys: 128 ms, total: 2.97 s\n",
      "Wall time: 6min\n",
      "131.01532324096866 0.11588916221788641 0.00038783558769353024 0.9409294366329073\n",
      "CPU times: user 2.87 s, sys: 130 ms, total: 3 s\n",
      "Wall time: 6min 18s\n",
      "141.68144674721847 0.12060650400155828 0.00038783558769353024 0.9409710322274842\n",
      "CPU times: user 3.08 s, sys: 129 ms, total: 3.21 s\n",
      "Wall time: 6min 16s\n",
      "153.09804640537735 0.11088810964599698 0.00040346135853204946 0.9408056476771636\n",
      "CPU times: user 2.95 s, sys: 129 ms, total: 3.08 s\n",
      "Wall time: 6min 48s\n",
      "146.67657493975628 0.10623707164331075 0.000369616176805377 0.941553925221117\n",
      "CPU times: user 3.07 s, sys: 132 ms, total: 3.2 s\n",
      "Wall time: 6min 42s\n",
      "156.7857438508128 0.10257606271158684 0.00034414167711025416 0.9416360701569595\n",
      "CPU times: user 3.11 s, sys: 127 ms, total: 3.23 s\n",
      "Wall time: 6min 54s\n",
      "167.33406870487372 0.10947723628232878 0.0003672950462675577 0.941201186892858\n",
      "CPU times: user 3.05 s, sys: 129 ms, total: 3.18 s\n",
      "Wall time: 6min 52s\n",
      "173.6907772395483 0.11363607188355862 0.0003393893415485678 0.9412488761952555\n",
      "CPU times: user 3.16 s, sys: 131 ms, total: 3.3 s\n",
      "Wall time: 6min 36s\n",
      "186.72148942290485 0.10937344214035799 0.0003393893415485678 0.9405108558942071\n",
      "CPU times: user 3.04 s, sys: 127 ms, total: 3.17 s\n",
      "Wall time: 6min 54s\n",
      "195.10368615958174 0.10937344214035799 0.0003089179883049346 0.9403497277852295\n",
      "CPU times: user 3.16 s, sys: 128 ms, total: 3.29 s\n",
      "Wall time: 6min 45s\n",
      "213.2493911745256 0.10937344214035799 0.0003089179883049346 0.9415854362026741\n",
      "CPU times: user 3.14 s, sys: 129 ms, total: 3.27 s\n",
      "Wall time: 6min 56s\n",
      "227.8124641926519 0.1168426940587856 0.000298369786512847 0.9423625480071808\n",
      "CPU times: user 2.93 s, sys: 130 ms, total: 3.06 s\n",
      "Wall time: 6min 41s\n",
      "221.80401981591234 0.12300603398461969 0.0002826310667521402 0.9411037703631016\n",
      "CPU times: user 3.11 s, sys: 127 ms, total: 3.24 s\n",
      "Wall time: 6min 18s\n",
      "230.44601377181192 0.11342083888205556 0.0002826310667521402 0.941562088752308\n",
      "CPU times: user 3.25 s, sys: 132 ms, total: 3.38 s\n",
      "Wall time: 7min 1s\n",
      "222.52348434449294 0.10562222332774995 0.0003020642772188276 0.9396025743305241\n",
      "CPU times: user 3.14 s, sys: 135 ms, total: 3.28 s\n",
      "Wall time: 7min 23s\n",
      "246.54456367373652 0.11132310432231307 0.00026945688754497605 0.9405086377582312\n",
      "CPU times: user 3.26 s, sys: 133 ms, total: 3.39 s\n",
      "Wall time: 7min 13s\n",
      "257.61777311571217 0.11132310432231307 0.00026945688754497605 0.9408820424753515\n",
      "CPU times: user 3.27 s, sys: 131 ms, total: 3.4 s\n",
      "Wall time: 7min 9s\n",
      "268.2263635885625 0.11132310432231307 0.00026945688754497605 0.941391377217208\n",
      "CPU times: user 3.26 s, sys: 131 ms, total: 3.39 s\n",
      "Wall time: 7min 6s\n",
      "287.58491892038495 0.11534033522739931 0.00025000952227747586 0.9412367462638332\n",
      "CPU times: user 3.01 s, sys: 130 ms, total: 3.14 s\n",
      "Wall time: 6min 48s\n",
      "287.58491892038495 0.12402143417690392 0.00024060102958959622 0.9411510569201113\n",
      "CPU times: user 3.02 s, sys: 128 ms, total: 3.14 s\n",
      "Wall time: 6min 23s\n",
      "309.7228785915643 0.12402143417690392 0.00022207983623253677 0.9393327369818643\n",
      "CPU times: user 3.5 s, sys: 129 ms, total: 3.63 s\n",
      "Wall time: 6min 25s\n",
      "344.8284989058144 0.10996419242956557 0.00024725153309162253 0.9411228796546041\n",
      "CPU times: user 3.21 s, sys: 133 ms, total: 3.34 s\n",
      "Wall time: 7min 32s\n",
      "318.08966713021323 0.11849108058423952 0.00022807905410402544 0.9411441529442909\n",
      "CPU times: user 3.37 s, sys: 135 ms, total: 3.51 s\n",
      "Wall time: 7min 5s\n",
      "342.61976925932345 0.11392224574225426 0.0002104902951193071 0.9404877508513018\n",
      "CPU times: user 3.72 s, sys: 137 ms, total: 3.85 s\n",
      "Wall time: 7min 27s\n",
      "373.5394845026745 0.11392224574225426 0.0002294859882185336 0.9414909879077056\n"
     ]
    }
   ],
   "source": [
    "kfold = KFold(n_splits=5, shuffle = True);\n",
    "svr = SVR(kernel = 'rbf');\n",
    "\n",
    "round_best = 0.94\n",
    "for i in range(50):\n",
    "    step_size = 20*max(0.0005, goal-round_best);\n",
    "    params = {\n",
    "    'C': np.linspace((1-step_size)*C, (1+step_size)*C, 5),\n",
    "    'epsilon': np.linspace((1-step_size)*epsilon, (1+step_size)*epsilon, 5),\n",
    "    'gamma' : np.linspace((1-step_size)*gamma, (1+step_size)*gamma, 5)\n",
    "          };\n",
    "    svr_tuner = GridSearchCV(svr, params, cv=kfold, return_train_score = True, n_jobs = -1)\n",
    "    %time svr_tuner.fit(back_end_svr, y_std.ravel())\n",
    "    \n",
    "    C = svr_tuner.best_estimator_.get_params()[\"C\"]\n",
    "    epsilon = svr_tuner.best_estimator_.get_params()[\"epsilon\"]\n",
    "    gamma = svr_tuner.best_estimator_.get_params()[\"gamma\"]\n",
    "    round_best = svr_tuner.best_score_;\n",
    "    \n",
    "    print(C, epsilon, gamma, round_best);\n",
    "    parameters.append([C, epsilon, gamma, round_best]);\n"
   ]
  },
  {
   "cell_type": "code",
   "execution_count": 117,
   "id": "8abde0e2",
   "metadata": {},
   "outputs": [
    {
     "data": {
      "application/vnd.plotly.v1+json": {
       "config": {
        "plotlyServerURL": "https://plot.ly"
       },
       "data": [
        {
         "type": "scatter",
         "x": [
          0,
          1,
          2,
          3,
          4,
          5,
          6,
          7,
          8,
          9,
          10,
          11,
          12,
          13,
          14,
          15,
          16,
          17,
          18,
          19,
          20,
          21,
          22,
          23,
          24,
          25,
          26,
          27,
          28,
          29,
          30,
          31,
          32,
          33,
          34,
          35,
          36,
          37,
          38,
          39,
          40,
          41,
          42,
          43,
          44,
          45,
          46,
          47,
          48,
          49
         ],
         "y": [
          0.9399893109463889,
          0.940767691487656,
          0.9400462465471495,
          0.9403302737790508,
          0.9400729642686223,
          0.9395050088120002,
          0.9409306143639113,
          0.9398961275202167,
          0.9410296795364024,
          0.9410687690179875,
          0.940535399624635,
          0.940156743953558,
          0.9401998755641496,
          0.9411304226880297,
          0.9407275025103946,
          0.9412860877233611,
          0.9421573659834817,
          0.940171496792171,
          0.9419560745722491,
          0.9405599031688185,
          0.9401013317481539,
          0.9403759837880734,
          0.9408251178793863,
          0.9410349148022001,
          0.9411579413395984,
          0.9418128879953962,
          0.9409294366329073,
          0.9409710322274842,
          0.9408056476771636,
          0.941553925221117,
          0.9416360701569595,
          0.941201186892858,
          0.9412488761952555,
          0.9405108558942071,
          0.9403497277852295,
          0.9415854362026741,
          0.9423625480071808,
          0.9411037703631016,
          0.941562088752308,
          0.9396025743305241,
          0.9405086377582312,
          0.9408820424753515,
          0.941391377217208,
          0.9412367462638332,
          0.9411510569201113,
          0.9393327369818643,
          0.9411228796546041,
          0.9411441529442909,
          0.9404877508513018,
          0.9414909879077056
         ]
        }
       ],
       "layout": {
        "legend": {
         "tracegroupgap": 0
        },
        "margin": {
         "t": 60
        },
        "template": {
         "data": {
          "bar": [
           {
            "error_x": {
             "color": "#2a3f5f"
            },
            "error_y": {
             "color": "#2a3f5f"
            },
            "marker": {
             "line": {
              "color": "#E5ECF6",
              "width": 0.5
             },
             "pattern": {
              "fillmode": "overlay",
              "size": 10,
              "solidity": 0.2
             }
            },
            "type": "bar"
           }
          ],
          "barpolar": [
           {
            "marker": {
             "line": {
              "color": "#E5ECF6",
              "width": 0.5
             },
             "pattern": {
              "fillmode": "overlay",
              "size": 10,
              "solidity": 0.2
             }
            },
            "type": "barpolar"
           }
          ],
          "carpet": [
           {
            "aaxis": {
             "endlinecolor": "#2a3f5f",
             "gridcolor": "white",
             "linecolor": "white",
             "minorgridcolor": "white",
             "startlinecolor": "#2a3f5f"
            },
            "baxis": {
             "endlinecolor": "#2a3f5f",
             "gridcolor": "white",
             "linecolor": "white",
             "minorgridcolor": "white",
             "startlinecolor": "#2a3f5f"
            },
            "type": "carpet"
           }
          ],
          "choropleth": [
           {
            "colorbar": {
             "outlinewidth": 0,
             "ticks": ""
            },
            "type": "choropleth"
           }
          ],
          "contour": [
           {
            "colorbar": {
             "outlinewidth": 0,
             "ticks": ""
            },
            "colorscale": [
             [
              0,
              "#0d0887"
             ],
             [
              0.1111111111111111,
              "#46039f"
             ],
             [
              0.2222222222222222,
              "#7201a8"
             ],
             [
              0.3333333333333333,
              "#9c179e"
             ],
             [
              0.4444444444444444,
              "#bd3786"
             ],
             [
              0.5555555555555556,
              "#d8576b"
             ],
             [
              0.6666666666666666,
              "#ed7953"
             ],
             [
              0.7777777777777778,
              "#fb9f3a"
             ],
             [
              0.8888888888888888,
              "#fdca26"
             ],
             [
              1,
              "#f0f921"
             ]
            ],
            "type": "contour"
           }
          ],
          "contourcarpet": [
           {
            "colorbar": {
             "outlinewidth": 0,
             "ticks": ""
            },
            "type": "contourcarpet"
           }
          ],
          "heatmap": [
           {
            "colorbar": {
             "outlinewidth": 0,
             "ticks": ""
            },
            "colorscale": [
             [
              0,
              "#0d0887"
             ],
             [
              0.1111111111111111,
              "#46039f"
             ],
             [
              0.2222222222222222,
              "#7201a8"
             ],
             [
              0.3333333333333333,
              "#9c179e"
             ],
             [
              0.4444444444444444,
              "#bd3786"
             ],
             [
              0.5555555555555556,
              "#d8576b"
             ],
             [
              0.6666666666666666,
              "#ed7953"
             ],
             [
              0.7777777777777778,
              "#fb9f3a"
             ],
             [
              0.8888888888888888,
              "#fdca26"
             ],
             [
              1,
              "#f0f921"
             ]
            ],
            "type": "heatmap"
           }
          ],
          "heatmapgl": [
           {
            "colorbar": {
             "outlinewidth": 0,
             "ticks": ""
            },
            "colorscale": [
             [
              0,
              "#0d0887"
             ],
             [
              0.1111111111111111,
              "#46039f"
             ],
             [
              0.2222222222222222,
              "#7201a8"
             ],
             [
              0.3333333333333333,
              "#9c179e"
             ],
             [
              0.4444444444444444,
              "#bd3786"
             ],
             [
              0.5555555555555556,
              "#d8576b"
             ],
             [
              0.6666666666666666,
              "#ed7953"
             ],
             [
              0.7777777777777778,
              "#fb9f3a"
             ],
             [
              0.8888888888888888,
              "#fdca26"
             ],
             [
              1,
              "#f0f921"
             ]
            ],
            "type": "heatmapgl"
           }
          ],
          "histogram": [
           {
            "marker": {
             "pattern": {
              "fillmode": "overlay",
              "size": 10,
              "solidity": 0.2
             }
            },
            "type": "histogram"
           }
          ],
          "histogram2d": [
           {
            "colorbar": {
             "outlinewidth": 0,
             "ticks": ""
            },
            "colorscale": [
             [
              0,
              "#0d0887"
             ],
             [
              0.1111111111111111,
              "#46039f"
             ],
             [
              0.2222222222222222,
              "#7201a8"
             ],
             [
              0.3333333333333333,
              "#9c179e"
             ],
             [
              0.4444444444444444,
              "#bd3786"
             ],
             [
              0.5555555555555556,
              "#d8576b"
             ],
             [
              0.6666666666666666,
              "#ed7953"
             ],
             [
              0.7777777777777778,
              "#fb9f3a"
             ],
             [
              0.8888888888888888,
              "#fdca26"
             ],
             [
              1,
              "#f0f921"
             ]
            ],
            "type": "histogram2d"
           }
          ],
          "histogram2dcontour": [
           {
            "colorbar": {
             "outlinewidth": 0,
             "ticks": ""
            },
            "colorscale": [
             [
              0,
              "#0d0887"
             ],
             [
              0.1111111111111111,
              "#46039f"
             ],
             [
              0.2222222222222222,
              "#7201a8"
             ],
             [
              0.3333333333333333,
              "#9c179e"
             ],
             [
              0.4444444444444444,
              "#bd3786"
             ],
             [
              0.5555555555555556,
              "#d8576b"
             ],
             [
              0.6666666666666666,
              "#ed7953"
             ],
             [
              0.7777777777777778,
              "#fb9f3a"
             ],
             [
              0.8888888888888888,
              "#fdca26"
             ],
             [
              1,
              "#f0f921"
             ]
            ],
            "type": "histogram2dcontour"
           }
          ],
          "mesh3d": [
           {
            "colorbar": {
             "outlinewidth": 0,
             "ticks": ""
            },
            "type": "mesh3d"
           }
          ],
          "parcoords": [
           {
            "line": {
             "colorbar": {
              "outlinewidth": 0,
              "ticks": ""
             }
            },
            "type": "parcoords"
           }
          ],
          "pie": [
           {
            "automargin": true,
            "type": "pie"
           }
          ],
          "scatter": [
           {
            "marker": {
             "colorbar": {
              "outlinewidth": 0,
              "ticks": ""
             }
            },
            "type": "scatter"
           }
          ],
          "scatter3d": [
           {
            "line": {
             "colorbar": {
              "outlinewidth": 0,
              "ticks": ""
             }
            },
            "marker": {
             "colorbar": {
              "outlinewidth": 0,
              "ticks": ""
             }
            },
            "type": "scatter3d"
           }
          ],
          "scattercarpet": [
           {
            "marker": {
             "colorbar": {
              "outlinewidth": 0,
              "ticks": ""
             }
            },
            "type": "scattercarpet"
           }
          ],
          "scattergeo": [
           {
            "marker": {
             "colorbar": {
              "outlinewidth": 0,
              "ticks": ""
             }
            },
            "type": "scattergeo"
           }
          ],
          "scattergl": [
           {
            "marker": {
             "colorbar": {
              "outlinewidth": 0,
              "ticks": ""
             }
            },
            "type": "scattergl"
           }
          ],
          "scattermapbox": [
           {
            "marker": {
             "colorbar": {
              "outlinewidth": 0,
              "ticks": ""
             }
            },
            "type": "scattermapbox"
           }
          ],
          "scatterpolar": [
           {
            "marker": {
             "colorbar": {
              "outlinewidth": 0,
              "ticks": ""
             }
            },
            "type": "scatterpolar"
           }
          ],
          "scatterpolargl": [
           {
            "marker": {
             "colorbar": {
              "outlinewidth": 0,
              "ticks": ""
             }
            },
            "type": "scatterpolargl"
           }
          ],
          "scatterternary": [
           {
            "marker": {
             "colorbar": {
              "outlinewidth": 0,
              "ticks": ""
             }
            },
            "type": "scatterternary"
           }
          ],
          "surface": [
           {
            "colorbar": {
             "outlinewidth": 0,
             "ticks": ""
            },
            "colorscale": [
             [
              0,
              "#0d0887"
             ],
             [
              0.1111111111111111,
              "#46039f"
             ],
             [
              0.2222222222222222,
              "#7201a8"
             ],
             [
              0.3333333333333333,
              "#9c179e"
             ],
             [
              0.4444444444444444,
              "#bd3786"
             ],
             [
              0.5555555555555556,
              "#d8576b"
             ],
             [
              0.6666666666666666,
              "#ed7953"
             ],
             [
              0.7777777777777778,
              "#fb9f3a"
             ],
             [
              0.8888888888888888,
              "#fdca26"
             ],
             [
              1,
              "#f0f921"
             ]
            ],
            "type": "surface"
           }
          ],
          "table": [
           {
            "cells": {
             "fill": {
              "color": "#EBF0F8"
             },
             "line": {
              "color": "white"
             }
            },
            "header": {
             "fill": {
              "color": "#C8D4E3"
             },
             "line": {
              "color": "white"
             }
            },
            "type": "table"
           }
          ]
         },
         "layout": {
          "annotationdefaults": {
           "arrowcolor": "#2a3f5f",
           "arrowhead": 0,
           "arrowwidth": 1
          },
          "autotypenumbers": "strict",
          "coloraxis": {
           "colorbar": {
            "outlinewidth": 0,
            "ticks": ""
           }
          },
          "colorscale": {
           "diverging": [
            [
             0,
             "#8e0152"
            ],
            [
             0.1,
             "#c51b7d"
            ],
            [
             0.2,
             "#de77ae"
            ],
            [
             0.3,
             "#f1b6da"
            ],
            [
             0.4,
             "#fde0ef"
            ],
            [
             0.5,
             "#f7f7f7"
            ],
            [
             0.6,
             "#e6f5d0"
            ],
            [
             0.7,
             "#b8e186"
            ],
            [
             0.8,
             "#7fbc41"
            ],
            [
             0.9,
             "#4d9221"
            ],
            [
             1,
             "#276419"
            ]
           ],
           "sequential": [
            [
             0,
             "#0d0887"
            ],
            [
             0.1111111111111111,
             "#46039f"
            ],
            [
             0.2222222222222222,
             "#7201a8"
            ],
            [
             0.3333333333333333,
             "#9c179e"
            ],
            [
             0.4444444444444444,
             "#bd3786"
            ],
            [
             0.5555555555555556,
             "#d8576b"
            ],
            [
             0.6666666666666666,
             "#ed7953"
            ],
            [
             0.7777777777777778,
             "#fb9f3a"
            ],
            [
             0.8888888888888888,
             "#fdca26"
            ],
            [
             1,
             "#f0f921"
            ]
           ],
           "sequentialminus": [
            [
             0,
             "#0d0887"
            ],
            [
             0.1111111111111111,
             "#46039f"
            ],
            [
             0.2222222222222222,
             "#7201a8"
            ],
            [
             0.3333333333333333,
             "#9c179e"
            ],
            [
             0.4444444444444444,
             "#bd3786"
            ],
            [
             0.5555555555555556,
             "#d8576b"
            ],
            [
             0.6666666666666666,
             "#ed7953"
            ],
            [
             0.7777777777777778,
             "#fb9f3a"
            ],
            [
             0.8888888888888888,
             "#fdca26"
            ],
            [
             1,
             "#f0f921"
            ]
           ]
          },
          "colorway": [
           "#636efa",
           "#EF553B",
           "#00cc96",
           "#ab63fa",
           "#FFA15A",
           "#19d3f3",
           "#FF6692",
           "#B6E880",
           "#FF97FF",
           "#FECB52"
          ],
          "font": {
           "color": "#2a3f5f"
          },
          "geo": {
           "bgcolor": "white",
           "lakecolor": "white",
           "landcolor": "#E5ECF6",
           "showlakes": true,
           "showland": true,
           "subunitcolor": "white"
          },
          "hoverlabel": {
           "align": "left"
          },
          "hovermode": "closest",
          "mapbox": {
           "style": "light"
          },
          "paper_bgcolor": "white",
          "plot_bgcolor": "#E5ECF6",
          "polar": {
           "angularaxis": {
            "gridcolor": "white",
            "linecolor": "white",
            "ticks": ""
           },
           "bgcolor": "#E5ECF6",
           "radialaxis": {
            "gridcolor": "white",
            "linecolor": "white",
            "ticks": ""
           }
          },
          "scene": {
           "xaxis": {
            "backgroundcolor": "#E5ECF6",
            "gridcolor": "white",
            "gridwidth": 2,
            "linecolor": "white",
            "showbackground": true,
            "ticks": "",
            "zerolinecolor": "white"
           },
           "yaxis": {
            "backgroundcolor": "#E5ECF6",
            "gridcolor": "white",
            "gridwidth": 2,
            "linecolor": "white",
            "showbackground": true,
            "ticks": "",
            "zerolinecolor": "white"
           },
           "zaxis": {
            "backgroundcolor": "#E5ECF6",
            "gridcolor": "white",
            "gridwidth": 2,
            "linecolor": "white",
            "showbackground": true,
            "ticks": "",
            "zerolinecolor": "white"
           }
          },
          "shapedefaults": {
           "line": {
            "color": "#2a3f5f"
           }
          },
          "ternary": {
           "aaxis": {
            "gridcolor": "white",
            "linecolor": "white",
            "ticks": ""
           },
           "baxis": {
            "gridcolor": "white",
            "linecolor": "white",
            "ticks": ""
           },
           "bgcolor": "#E5ECF6",
           "caxis": {
            "gridcolor": "white",
            "linecolor": "white",
            "ticks": ""
           }
          },
          "title": {
           "x": 0.05
          },
          "xaxis": {
           "automargin": true,
           "gridcolor": "white",
           "linecolor": "white",
           "ticks": "",
           "title": {
            "standoff": 15
           },
           "zerolinecolor": "white",
           "zerolinewidth": 2
          },
          "yaxis": {
           "automargin": true,
           "gridcolor": "white",
           "linecolor": "white",
           "ticks": "",
           "title": {
            "standoff": 15
           },
           "zerolinecolor": "white",
           "zerolinewidth": 2
          }
         }
        },
        "xaxis": {
         "anchor": "y",
         "domain": [
          0,
          1
         ]
        },
        "yaxis": {
         "anchor": "x",
         "domain": [
          0,
          1
         ]
        }
       }
      },
      "text/html": [
       "<div>                            <div id=\"e57dbede-9cc8-4af8-b5ae-f53eaaedc3e7\" class=\"plotly-graph-div\" style=\"height:525px; width:100%;\"></div>            <script type=\"text/javascript\">                require([\"plotly\"], function(Plotly) {                    window.PLOTLYENV=window.PLOTLYENV || {};                                    if (document.getElementById(\"e57dbede-9cc8-4af8-b5ae-f53eaaedc3e7\")) {                    Plotly.newPlot(                        \"e57dbede-9cc8-4af8-b5ae-f53eaaedc3e7\",                        [{\"type\":\"scatter\",\"x\":[0,1,2,3,4,5,6,7,8,9,10,11,12,13,14,15,16,17,18,19,20,21,22,23,24,25,26,27,28,29,30,31,32,33,34,35,36,37,38,39,40,41,42,43,44,45,46,47,48,49],\"y\":[0.9399893109463889,0.940767691487656,0.9400462465471495,0.9403302737790508,0.9400729642686223,0.9395050088120002,0.9409306143639113,0.9398961275202167,0.9410296795364024,0.9410687690179875,0.940535399624635,0.940156743953558,0.9401998755641496,0.9411304226880297,0.9407275025103946,0.9412860877233611,0.9421573659834817,0.940171496792171,0.9419560745722491,0.9405599031688185,0.9401013317481539,0.9403759837880734,0.9408251178793863,0.9410349148022001,0.9411579413395984,0.9418128879953962,0.9409294366329073,0.9409710322274842,0.9408056476771636,0.941553925221117,0.9416360701569595,0.941201186892858,0.9412488761952555,0.9405108558942071,0.9403497277852295,0.9415854362026741,0.9423625480071808,0.9411037703631016,0.941562088752308,0.9396025743305241,0.9405086377582312,0.9408820424753515,0.941391377217208,0.9412367462638332,0.9411510569201113,0.9393327369818643,0.9411228796546041,0.9411441529442909,0.9404877508513018,0.9414909879077056]}],                        {\"legend\":{\"tracegroupgap\":0},\"margin\":{\"t\":60},\"template\":{\"data\":{\"bar\":[{\"error_x\":{\"color\":\"#2a3f5f\"},\"error_y\":{\"color\":\"#2a3f5f\"},\"marker\":{\"line\":{\"color\":\"#E5ECF6\",\"width\":0.5},\"pattern\":{\"fillmode\":\"overlay\",\"size\":10,\"solidity\":0.2}},\"type\":\"bar\"}],\"barpolar\":[{\"marker\":{\"line\":{\"color\":\"#E5ECF6\",\"width\":0.5},\"pattern\":{\"fillmode\":\"overlay\",\"size\":10,\"solidity\":0.2}},\"type\":\"barpolar\"}],\"carpet\":[{\"aaxis\":{\"endlinecolor\":\"#2a3f5f\",\"gridcolor\":\"white\",\"linecolor\":\"white\",\"minorgridcolor\":\"white\",\"startlinecolor\":\"#2a3f5f\"},\"baxis\":{\"endlinecolor\":\"#2a3f5f\",\"gridcolor\":\"white\",\"linecolor\":\"white\",\"minorgridcolor\":\"white\",\"startlinecolor\":\"#2a3f5f\"},\"type\":\"carpet\"}],\"choropleth\":[{\"colorbar\":{\"outlinewidth\":0,\"ticks\":\"\"},\"type\":\"choropleth\"}],\"contour\":[{\"colorbar\":{\"outlinewidth\":0,\"ticks\":\"\"},\"colorscale\":[[0.0,\"#0d0887\"],[0.1111111111111111,\"#46039f\"],[0.2222222222222222,\"#7201a8\"],[0.3333333333333333,\"#9c179e\"],[0.4444444444444444,\"#bd3786\"],[0.5555555555555556,\"#d8576b\"],[0.6666666666666666,\"#ed7953\"],[0.7777777777777778,\"#fb9f3a\"],[0.8888888888888888,\"#fdca26\"],[1.0,\"#f0f921\"]],\"type\":\"contour\"}],\"contourcarpet\":[{\"colorbar\":{\"outlinewidth\":0,\"ticks\":\"\"},\"type\":\"contourcarpet\"}],\"heatmap\":[{\"colorbar\":{\"outlinewidth\":0,\"ticks\":\"\"},\"colorscale\":[[0.0,\"#0d0887\"],[0.1111111111111111,\"#46039f\"],[0.2222222222222222,\"#7201a8\"],[0.3333333333333333,\"#9c179e\"],[0.4444444444444444,\"#bd3786\"],[0.5555555555555556,\"#d8576b\"],[0.6666666666666666,\"#ed7953\"],[0.7777777777777778,\"#fb9f3a\"],[0.8888888888888888,\"#fdca26\"],[1.0,\"#f0f921\"]],\"type\":\"heatmap\"}],\"heatmapgl\":[{\"colorbar\":{\"outlinewidth\":0,\"ticks\":\"\"},\"colorscale\":[[0.0,\"#0d0887\"],[0.1111111111111111,\"#46039f\"],[0.2222222222222222,\"#7201a8\"],[0.3333333333333333,\"#9c179e\"],[0.4444444444444444,\"#bd3786\"],[0.5555555555555556,\"#d8576b\"],[0.6666666666666666,\"#ed7953\"],[0.7777777777777778,\"#fb9f3a\"],[0.8888888888888888,\"#fdca26\"],[1.0,\"#f0f921\"]],\"type\":\"heatmapgl\"}],\"histogram\":[{\"marker\":{\"pattern\":{\"fillmode\":\"overlay\",\"size\":10,\"solidity\":0.2}},\"type\":\"histogram\"}],\"histogram2d\":[{\"colorbar\":{\"outlinewidth\":0,\"ticks\":\"\"},\"colorscale\":[[0.0,\"#0d0887\"],[0.1111111111111111,\"#46039f\"],[0.2222222222222222,\"#7201a8\"],[0.3333333333333333,\"#9c179e\"],[0.4444444444444444,\"#bd3786\"],[0.5555555555555556,\"#d8576b\"],[0.6666666666666666,\"#ed7953\"],[0.7777777777777778,\"#fb9f3a\"],[0.8888888888888888,\"#fdca26\"],[1.0,\"#f0f921\"]],\"type\":\"histogram2d\"}],\"histogram2dcontour\":[{\"colorbar\":{\"outlinewidth\":0,\"ticks\":\"\"},\"colorscale\":[[0.0,\"#0d0887\"],[0.1111111111111111,\"#46039f\"],[0.2222222222222222,\"#7201a8\"],[0.3333333333333333,\"#9c179e\"],[0.4444444444444444,\"#bd3786\"],[0.5555555555555556,\"#d8576b\"],[0.6666666666666666,\"#ed7953\"],[0.7777777777777778,\"#fb9f3a\"],[0.8888888888888888,\"#fdca26\"],[1.0,\"#f0f921\"]],\"type\":\"histogram2dcontour\"}],\"mesh3d\":[{\"colorbar\":{\"outlinewidth\":0,\"ticks\":\"\"},\"type\":\"mesh3d\"}],\"parcoords\":[{\"line\":{\"colorbar\":{\"outlinewidth\":0,\"ticks\":\"\"}},\"type\":\"parcoords\"}],\"pie\":[{\"automargin\":true,\"type\":\"pie\"}],\"scatter\":[{\"marker\":{\"colorbar\":{\"outlinewidth\":0,\"ticks\":\"\"}},\"type\":\"scatter\"}],\"scatter3d\":[{\"line\":{\"colorbar\":{\"outlinewidth\":0,\"ticks\":\"\"}},\"marker\":{\"colorbar\":{\"outlinewidth\":0,\"ticks\":\"\"}},\"type\":\"scatter3d\"}],\"scattercarpet\":[{\"marker\":{\"colorbar\":{\"outlinewidth\":0,\"ticks\":\"\"}},\"type\":\"scattercarpet\"}],\"scattergeo\":[{\"marker\":{\"colorbar\":{\"outlinewidth\":0,\"ticks\":\"\"}},\"type\":\"scattergeo\"}],\"scattergl\":[{\"marker\":{\"colorbar\":{\"outlinewidth\":0,\"ticks\":\"\"}},\"type\":\"scattergl\"}],\"scattermapbox\":[{\"marker\":{\"colorbar\":{\"outlinewidth\":0,\"ticks\":\"\"}},\"type\":\"scattermapbox\"}],\"scatterpolar\":[{\"marker\":{\"colorbar\":{\"outlinewidth\":0,\"ticks\":\"\"}},\"type\":\"scatterpolar\"}],\"scatterpolargl\":[{\"marker\":{\"colorbar\":{\"outlinewidth\":0,\"ticks\":\"\"}},\"type\":\"scatterpolargl\"}],\"scatterternary\":[{\"marker\":{\"colorbar\":{\"outlinewidth\":0,\"ticks\":\"\"}},\"type\":\"scatterternary\"}],\"surface\":[{\"colorbar\":{\"outlinewidth\":0,\"ticks\":\"\"},\"colorscale\":[[0.0,\"#0d0887\"],[0.1111111111111111,\"#46039f\"],[0.2222222222222222,\"#7201a8\"],[0.3333333333333333,\"#9c179e\"],[0.4444444444444444,\"#bd3786\"],[0.5555555555555556,\"#d8576b\"],[0.6666666666666666,\"#ed7953\"],[0.7777777777777778,\"#fb9f3a\"],[0.8888888888888888,\"#fdca26\"],[1.0,\"#f0f921\"]],\"type\":\"surface\"}],\"table\":[{\"cells\":{\"fill\":{\"color\":\"#EBF0F8\"},\"line\":{\"color\":\"white\"}},\"header\":{\"fill\":{\"color\":\"#C8D4E3\"},\"line\":{\"color\":\"white\"}},\"type\":\"table\"}]},\"layout\":{\"annotationdefaults\":{\"arrowcolor\":\"#2a3f5f\",\"arrowhead\":0,\"arrowwidth\":1},\"autotypenumbers\":\"strict\",\"coloraxis\":{\"colorbar\":{\"outlinewidth\":0,\"ticks\":\"\"}},\"colorscale\":{\"diverging\":[[0,\"#8e0152\"],[0.1,\"#c51b7d\"],[0.2,\"#de77ae\"],[0.3,\"#f1b6da\"],[0.4,\"#fde0ef\"],[0.5,\"#f7f7f7\"],[0.6,\"#e6f5d0\"],[0.7,\"#b8e186\"],[0.8,\"#7fbc41\"],[0.9,\"#4d9221\"],[1,\"#276419\"]],\"sequential\":[[0.0,\"#0d0887\"],[0.1111111111111111,\"#46039f\"],[0.2222222222222222,\"#7201a8\"],[0.3333333333333333,\"#9c179e\"],[0.4444444444444444,\"#bd3786\"],[0.5555555555555556,\"#d8576b\"],[0.6666666666666666,\"#ed7953\"],[0.7777777777777778,\"#fb9f3a\"],[0.8888888888888888,\"#fdca26\"],[1.0,\"#f0f921\"]],\"sequentialminus\":[[0.0,\"#0d0887\"],[0.1111111111111111,\"#46039f\"],[0.2222222222222222,\"#7201a8\"],[0.3333333333333333,\"#9c179e\"],[0.4444444444444444,\"#bd3786\"],[0.5555555555555556,\"#d8576b\"],[0.6666666666666666,\"#ed7953\"],[0.7777777777777778,\"#fb9f3a\"],[0.8888888888888888,\"#fdca26\"],[1.0,\"#f0f921\"]]},\"colorway\":[\"#636efa\",\"#EF553B\",\"#00cc96\",\"#ab63fa\",\"#FFA15A\",\"#19d3f3\",\"#FF6692\",\"#B6E880\",\"#FF97FF\",\"#FECB52\"],\"font\":{\"color\":\"#2a3f5f\"},\"geo\":{\"bgcolor\":\"white\",\"lakecolor\":\"white\",\"landcolor\":\"#E5ECF6\",\"showlakes\":true,\"showland\":true,\"subunitcolor\":\"white\"},\"hoverlabel\":{\"align\":\"left\"},\"hovermode\":\"closest\",\"mapbox\":{\"style\":\"light\"},\"paper_bgcolor\":\"white\",\"plot_bgcolor\":\"#E5ECF6\",\"polar\":{\"angularaxis\":{\"gridcolor\":\"white\",\"linecolor\":\"white\",\"ticks\":\"\"},\"bgcolor\":\"#E5ECF6\",\"radialaxis\":{\"gridcolor\":\"white\",\"linecolor\":\"white\",\"ticks\":\"\"}},\"scene\":{\"xaxis\":{\"backgroundcolor\":\"#E5ECF6\",\"gridcolor\":\"white\",\"gridwidth\":2,\"linecolor\":\"white\",\"showbackground\":true,\"ticks\":\"\",\"zerolinecolor\":\"white\"},\"yaxis\":{\"backgroundcolor\":\"#E5ECF6\",\"gridcolor\":\"white\",\"gridwidth\":2,\"linecolor\":\"white\",\"showbackground\":true,\"ticks\":\"\",\"zerolinecolor\":\"white\"},\"zaxis\":{\"backgroundcolor\":\"#E5ECF6\",\"gridcolor\":\"white\",\"gridwidth\":2,\"linecolor\":\"white\",\"showbackground\":true,\"ticks\":\"\",\"zerolinecolor\":\"white\"}},\"shapedefaults\":{\"line\":{\"color\":\"#2a3f5f\"}},\"ternary\":{\"aaxis\":{\"gridcolor\":\"white\",\"linecolor\":\"white\",\"ticks\":\"\"},\"baxis\":{\"gridcolor\":\"white\",\"linecolor\":\"white\",\"ticks\":\"\"},\"bgcolor\":\"#E5ECF6\",\"caxis\":{\"gridcolor\":\"white\",\"linecolor\":\"white\",\"ticks\":\"\"}},\"title\":{\"x\":0.05},\"xaxis\":{\"automargin\":true,\"gridcolor\":\"white\",\"linecolor\":\"white\",\"ticks\":\"\",\"title\":{\"standoff\":15},\"zerolinecolor\":\"white\",\"zerolinewidth\":2},\"yaxis\":{\"automargin\":true,\"gridcolor\":\"white\",\"linecolor\":\"white\",\"ticks\":\"\",\"title\":{\"standoff\":15},\"zerolinecolor\":\"white\",\"zerolinewidth\":2}}},\"xaxis\":{\"anchor\":\"y\",\"domain\":[0.0,1.0]},\"yaxis\":{\"anchor\":\"x\",\"domain\":[0.0,1.0]}},                        {\"responsive\": true}                    ).then(function(){\n",
       "                            \n",
       "var gd = document.getElementById('e57dbede-9cc8-4af8-b5ae-f53eaaedc3e7');\n",
       "var x = new MutationObserver(function (mutations, observer) {{\n",
       "        var display = window.getComputedStyle(gd).display;\n",
       "        if (!display || display === 'none') {{\n",
       "            console.log([gd, 'removed!']);\n",
       "            Plotly.purge(gd);\n",
       "            observer.disconnect();\n",
       "        }}\n",
       "}});\n",
       "\n",
       "// Listen for the removal of the full notebook cells\n",
       "var notebookContainer = gd.closest('#notebook-container');\n",
       "if (notebookContainer) {{\n",
       "    x.observe(notebookContainer, {childList: true});\n",
       "}}\n",
       "\n",
       "// Listen for the clearing of the current output cell\n",
       "var outputEl = gd.closest('.output');\n",
       "if (outputEl) {{\n",
       "    x.observe(outputEl, {childList: true});\n",
       "}}\n",
       "\n",
       "                        })                };                });            </script>        </div>"
      ]
     },
     "metadata": {},
     "output_type": "display_data"
    }
   ],
   "source": [
    "fig = px.scatter();\n",
    "for i in [3]:\n",
    "    param = [p[i] for p in parameters];\n",
    "    fig.add_trace(go.Scatter(x = list(range(50)), y=param));\n",
    "fig.show();"
   ]
  },
  {
   "cell_type": "code",
   "execution_count": 131,
   "id": "1f40f9f7",
   "metadata": {},
   "outputs": [
    {
     "ename": "AttributeError",
     "evalue": "'GridSearchCV' object has no attribute 'cv_results_'",
     "output_type": "error",
     "traceback": [
      "\u001b[0;31m---------------------------------------------------------------------------\u001b[0m",
      "\u001b[0;31mAttributeError\u001b[0m                            Traceback (most recent call last)",
      "\u001b[0;32m/var/folders/64/r5kqzypd1z7gq7t322k8mn680000gn/T/ipykernel_781/1364053156.py\u001b[0m in \u001b[0;36m<module>\u001b[0;34m\u001b[0m\n\u001b[0;32m----> 1\u001b[0;31m \u001b[0msvr_tuner\u001b[0m\u001b[0;34m.\u001b[0m\u001b[0mcv_results_\u001b[0m\u001b[0;34m[\u001b[0m\u001b[0;34m\"mean_test_score\"\u001b[0m\u001b[0;34m]\u001b[0m\u001b[0;34m.\u001b[0m\u001b[0mmean\u001b[0m\u001b[0;34m(\u001b[0m\u001b[0;34m)\u001b[0m\u001b[0;34m\u001b[0m\u001b[0;34m\u001b[0m\u001b[0m\n\u001b[0m",
      "\u001b[0;31mAttributeError\u001b[0m: 'GridSearchCV' object has no attribute 'cv_results_'"
     ]
    }
   ],
   "source": [
    "svr_tuner.cv_results_[\"mean_test_score\"].mean()"
   ]
  },
  {
   "cell_type": "code",
   "execution_count": 129,
   "id": "40aaaa27",
   "metadata": {},
   "outputs": [],
   "source": [
    "parameters2 = [];"
   ]
  },
  {
   "cell_type": "code",
   "execution_count": 132,
   "id": "fa523f79",
   "metadata": {},
   "outputs": [
    {
     "name": "stdout",
     "output_type": "stream",
     "text": [
      "CPU times: user 1.58 s, sys: 107 ms, total: 1.68 s\n",
      "Wall time: 1min 32s\n",
      "519.7801926854717 0.00019517783297986278 0.941856035365374 0.9417340282201507\n",
      "CPU times: user 1.59 s, sys: 48.9 ms, total: 1.64 s\n",
      "Wall time: 1min 34s\n",
      "568.8053089929374 0.00017676886684931414 0.9412391142734009 0.9411613307750539\n",
      "CPU times: user 1.69 s, sys: 50.2 ms, total: 1.74 s\n",
      "Wall time: 1min 40s\n",
      "632.9816620270964 0.00015682464160209392 0.9412512148530847 0.9412117671663148\n",
      "CPU times: user 1.94 s, sys: 49.9 ms, total: 1.98 s\n",
      "Wall time: 1min 44s\n",
      "704.1690296134033 0.00017446169821534095 0.9412130187545775 0.941081825519729\n",
      "CPU times: user 1.81 s, sys: 51.5 ms, total: 1.86 s\n",
      "Wall time: 1min 51s\n",
      "730.835778700936 0.00015464120283975965 0.9413844769584495 0.9412959805726611\n",
      "CPU times: user 1.74 s, sys: 52.7 ms, total: 1.79 s\n",
      "Wall time: 1min 48s\n",
      "677.9887067512822 0.00015464120283975965 0.9413743009956208 0.941326087291858\n",
      "CPU times: user 1.87 s, sys: 51.1 ms, total: 1.92 s\n",
      "Wall time: 1min 45s\n",
      "751.734196122735 0.00015464120283975965 0.942235092774492 0.9421542366539821\n",
      "CPU times: user 1.96 s, sys: 51 ms, total: 2.01 s\n",
      "Wall time: 1min 50s\n",
      "814.0884554383694 0.0001674682602125463 0.9423505606409369 0.9421706279193672\n",
      "CPU times: user 1.87 s, sys: 52.1 ms, total: 1.92 s\n",
      "Wall time: 1min 57s\n",
      "814.0884554383694 0.0001541573502125184 0.9402236061229783 0.9401139681632866\n",
      "CPU times: user 2.02 s, sys: 49.9 ms, total: 2.07 s\n",
      "Wall time: 1min 54s\n",
      "930.7406688556649 0.0001541573502125184 0.9408423403845984 0.9407781209261097\n",
      "CPU times: user 1.9 s, sys: 51.5 ms, total: 1.95 s\n",
      "Wall time: 2min\n",
      "853.3466110294034 0.0001477480123185593 0.9410955089948174 0.9410051477607955\n",
      "CPU times: user 2.09 s, sys: 50.9 ms, total: 2.14 s\n",
      "Wall time: 1min 53s\n",
      "953.3031360414225 0.00015928562802118755 0.9421758994083149 0.9420506650900051\n",
      "CPU times: user 1.94 s, sys: 51.7 ms, total: 1.99 s\n",
      "Wall time: 2min 5s\n",
      "872.5364175249292 0.00015028885529435638 0.9410516082530815 0.9408692454150435\n",
      "CPU times: user 1.98 s, sys: 51.2 ms, total: 2.03 s\n",
      "Wall time: 1min 55s\n",
      "975.8898852201648 0.00014435486253537585 0.9407727490737493 0.940709304252296\n",
      "CPU times: user 3.32 s, sys: 60 ms, total: 3.38 s\n",
      "Wall time: 3min 33s\n",
      "934.6365710080091 0.00015045710479899037 0.9419154723511726 0.9418019405482377\n",
      "CPU times: user 3.35 s, sys: 58.4 ms, total: 3.41 s\n",
      "Wall time: 4min\n",
      "848.1492006616264 0.00014117532280469026 0.9406896479716153 0.940599593116795\n",
      "CPU times: user 3.5 s, sys: 58.5 ms, total: 3.56 s\n",
      "Wall time: 3min 44s\n",
      "811.5909843871793 0.0001533456295848715 0.941586414990606 0.9414264690987286\n",
      "CPU times: user 3.72 s, sys: 58 ms, total: 3.78 s\n",
      "Wall time: 3min 40s\n",
      "811.5909843871793 0.0001638147964330113 0.9411027991658927 0.9409752585164641\n",
      "CPU times: user 2.2 s, sys: 53.8 ms, total: 2.26 s\n",
      "Wall time: 3min 45s\n",
      "811.5909843871793 0.0001638147964330113 0.9419289309533581 0.9418499613151133\n",
      "CPU times: user 3.91 s, sys: 56.8 ms, total: 3.97 s\n",
      "Wall time: 3min 47s\n",
      "861.4400234008812 0.0001638147964330113 0.9419538421324448 0.9419154850657643\n",
      "CPU times: user 3.21 s, sys: 55.8 ms, total: 3.27 s\n",
      "Wall time: 3min 52s\n",
      "782.717554259597 0.00014884462450372052 0.9391824056324852 0.9391202840544028\n",
      "CPU times: user 3.45 s, sys: 55.6 ms, total: 3.51 s\n",
      "Wall time: 3min 31s\n",
      "919.323551310063 0.00014018544801224362 0.9410268387982137 0.9408582210656536\n",
      "CPU times: user 3.6 s, sys: 57.5 ms, total: 3.66 s\n",
      "Wall time: 3min 41s\n",
      "955.8497579695979 0.00014018544801224362 0.940484568483219 0.9404040694532205\n",
      "CPU times: user 4.13 s, sys: 56.9 ms, total: 4.18 s\n",
      "Wall time: 3min 47s\n",
      "1085.3319816428977 0.00014651542591372898 0.9417776434038767 0.9415645844221212\n",
      "CPU times: user 3.73 s, sys: 55.3 ms, total: 3.78 s\n",
      "Wall time: 4min\n",
      "1050.3587149425928 0.00013707292693119076 0.9404618655431056 0.9403752818192966\n",
      "CPU times: user 3.78 s, sys: 54.5 ms, total: 3.84 s\n",
      "Wall time: 3min 52s\n",
      "1098.0254057063948 0.0001308523732030528 0.9412488214825163 0.9411122515265851\n",
      "CPU times: user 2.87 s, sys: 57 ms, total: 2.92 s\n",
      "Wall time: 48min 29s\n",
      "1015.6476194356533 0.0001308523732030528 0.9410085133038688 0.9409282573690597\n",
      "CPU times: user 3.26 s, sys: 52.9 ms, total: 3.31 s\n",
      "Wall time: 3min 18s\n",
      "894.029300607613 0.00014652123840696798 0.9413752809830729 0.9412724023622374\n",
      "CPU times: user 3.43 s, sys: 52.5 ms, total: 3.48 s\n",
      "Wall time: 3min 29s\n",
      "991.2474508356856 0.00013589927202221916 0.9416980961478025 0.9416424335289016\n",
      "CPU times: user 3.32 s, sys: 56.3 ms, total: 3.38 s\n",
      "Wall time: 3min 31s\n",
      "925.7873753077813 0.00014487379861823896 0.9410467455350752 0.940970729415747\n",
      "CPU times: user 3.9 s, sys: 66.9 ms, total: 3.96 s\n",
      "Wall time: 3min 40s\n",
      "998.984836807911 0.0001391465687058573 0.9412460317737674 0.9411618724036552\n",
      "CPU times: user 3.21 s, sys: 52.9 ms, total: 3.27 s\n",
      "Wall time: 3min 46s\n",
      "886.4801167319614 0.0001391465687058573 0.9409344376611906 0.9408367752088295\n",
      "CPU times: user 3.83 s, sys: 57.9 ms, total: 3.89 s\n",
      "Wall time: 3min 39s\n",
      "958.5609202657376 0.0001561178401850099 0.9417006987137864 0.9414626913744714\n",
      "CPU times: user 3.29 s, sys: 56.8 ms, total: 3.35 s\n",
      "Wall time: 4min 14s\n",
      "863.6834819513329 0.00014066544645731122 0.9408788289078766 0.9406623028906134\n",
      "CPU times: user 3.69 s, sys: 57.5 ms, total: 3.75 s\n",
      "Wall time: 3min 38s\n",
      "970.4651039082023 0.00014066544645731122 0.9414942892189847 0.9413937068286954\n",
      "CPU times: user 3.91 s, sys: 57.9 ms, total: 3.97 s\n",
      "Wall time: 3min 55s\n",
      "1072.5302032293043 0.00014066544645731122 0.9403033393316148 0.9402458839277615\n",
      "CPU times: user 4.48 s, sys: 65.3 ms, total: 4.54 s\n",
      "Wall time: 4min 4s\n",
      "1072.5302032293043 0.0001604851825506179 0.9420702855909399 0.9419209702581021\n",
      "CPU times: user 3.94 s, sys: 68.4 ms, total: 4.01 s\n",
      "Wall time: 4min 42s\n",
      "978.2639875127131 0.00014637990999784238 0.9410897735233474 0.9407823866891651\n",
      "CPU times: user 3.25 s, sys: 56.6 ms, total: 3.31 s\n",
      "Wall time: 3min 49s\n",
      "863.5069751588769 0.00014065612400060662 0.9405516806829975 0.9404201820115298\n",
      "CPU times: user 3.34 s, sys: 56.3 ms, total: 3.39 s\n",
      "Wall time: 3min 36s\n",
      "825.0954275792215 0.00014691295753507246 0.9403608334721651 0.9402543809566722\n",
      "CPU times: user 3.62 s, sys: 54.7 ms, total: 3.68 s\n",
      "Wall time: 3min 33s\n",
      "939.9280802760735 0.00014691295753507246 0.9404332751331339 0.9403275858304483\n",
      "CPU times: user 3.5 s, sys: 55.2 ms, total: 3.55 s\n",
      "Wall time: 3min 45s\n",
      "1068.6998683939457 0.00012678562584186493 0.9406145749281472 0.9404881565992146\n",
      "CPU times: user 3.66 s, sys: 56.8 ms, total: 3.72 s\n",
      "Wall time: 3min 42s\n",
      "1068.6998683939457 0.00013234571446503956 0.9398981570464349 0.9397392511883755\n",
      "CPU times: user 4.03 s, sys: 60.1 ms, total: 4.09 s\n",
      "Wall time: 3min 47s\n",
      "1123.2232573243616 0.00013909778497281955 0.9414420506462491 0.9413401550723777\n",
      "CPU times: user 3.6 s, sys: 58.2 ms, total: 3.66 s\n",
      "Wall time: 4min 3s\n",
      "1123.2232573243616 0.00012425069874825293 0.9406675657469601 0.9405394470529059\n",
      "CPU times: user 3.6 s, sys: 57.8 ms, total: 3.66 s\n",
      "Wall time: 3min 47s\n",
      "1269.2119847396539 0.00011348453908383156 0.9421245694011333 0.9420471342252847\n",
      "CPU times: user 4.19 s, sys: 59.8 ms, total: 4.25 s\n",
      "Wall time: 3min 52s\n",
      "1378.6979140607134 0.00011674770824563082 0.941966341629428 0.9418782708889151\n",
      "CPU times: user 3.51 s, sys: 58.5 ms, total: 3.57 s\n",
      "Wall time: 4min 7s\n",
      "1253.2229600363044 0.0001061225283746975 0.9397801493494727 0.9397269698408501\n",
      "CPU times: user 3.49 s, sys: 58.4 ms, total: 3.55 s\n",
      "Wall time: 3min 42s\n",
      "1122.3902263722814 0.00011720140335014264 0.9406964984180494 0.940598387644214\n",
      "CPU times: user 3.79 s, sys: 57.6 ms, total: 3.84 s\n",
      "Wall time: 3min 46s\n",
      "1218.9943886674612 0.00012224516759738431 0.9405681872363887 0.9404755373291697\n"
     ]
    }
   ],
   "source": [
    "kfold = KFold(n_splits=5, shuffle = True);\n",
    "svr = SVR(kernel = 'rbf', epsilon = 0.1);\n",
    "\n",
    "round_best = 0.94\n",
    "for i in range(50):\n",
    "    step_size = 30*max(0.0005, goal-round_best);\n",
    "    params = {\n",
    "    'C': np.linspace((1-step_size)*C, (1+step_size)*C, 7),\n",
    "    # 'epsilon': np.linspace((1-step_size)*epsilon, (1+step_size)*epsilon, 5),\n",
    "    'gamma' : np.linspace((1-step_size)*gamma, (1+step_size)*gamma, 7)\n",
    "          };\n",
    "    svr_tuner = GridSearchCV(svr, params, cv=kfold, return_train_score = True, n_jobs = -1)\n",
    "    %time svr_tuner.fit(back_end_svr, y_std.ravel())\n",
    "    \n",
    "    C = svr_tuner.best_estimator_.get_params()[\"C\"]\n",
    "    gamma = svr_tuner.best_estimator_.get_params()[\"gamma\"]\n",
    "    round_best = svr_tuner.best_score_;\n",
    "    round_mean = svr_tuner.cv_results_[\"mean_test_score\"].mean();\n",
    "    \n",
    "    print(C, gamma, round_best, round_mean);\n",
    "    parameters2.append([C, gamma, round_best, round_mean]);\n"
   ]
  },
  {
   "cell_type": "code",
   "execution_count": 133,
   "id": "50ee6315",
   "metadata": {},
   "outputs": [],
   "source": [
    "temp = parameters2\n",
    "temp.sort(key = lambda x: x[3], reverse = True)"
   ]
  },
  {
   "cell_type": "code",
   "execution_count": 145,
   "id": "967b2c3b",
   "metadata": {},
   "outputs": [
    {
     "data": {
      "text/plain": [
       "0.00014967910984191868"
      ]
     },
     "execution_count": 145,
     "metadata": {},
     "output_type": "execute_result"
    }
   ],
   "source": [
    "(temp[0][1]*temp[1][1]*temp[2][1]*temp[3][1]*temp[4][1])**0.2 # C about 950, gamma about 1.5e-4"
   ]
  },
  {
   "cell_type": "code",
   "execution_count": 154,
   "id": "f616e773",
   "metadata": {},
   "outputs": [
    {
     "data": {
      "text/plain": [
       "GridSearchCV(cv=KFold(n_splits=5, random_state=None, shuffle=True),\n",
       "             estimator=SVR(),\n",
       "             param_grid={'C': [950], 'epsilon': [0.1], 'gamma': [0.00015]},\n",
       "             return_train_score=True)"
      ]
     },
     "execution_count": 154,
     "metadata": {},
     "output_type": "execute_result"
    }
   ],
   "source": [
    "kfold = KFold(n_splits=5, shuffle = True)\n",
    "params = {\n",
    "    'C': [950],\n",
    "    'epsilon': [0.1],\n",
    "    'gamma' : [1.5e-4]\n",
    "          }\n",
    "svr = SVR(kernel = 'rbf')\n",
    "svr_tuner = GridSearchCV(svr, params, cv=kfold, return_train_score = True)\n",
    "svr_tuner.fit(back_end_svr, y_std.ravel())"
   ]
  },
  {
   "cell_type": "code",
   "execution_count": 155,
   "id": "4a632c50",
   "metadata": {},
   "outputs": [
    {
     "data": {
      "text/plain": [
       "0.9405229936873749"
      ]
     },
     "execution_count": 155,
     "metadata": {},
     "output_type": "execute_result"
    }
   ],
   "source": [
    "svr_tuner.best_score_"
   ]
  },
  {
   "cell_type": "code",
   "execution_count": 156,
   "id": "adbf8e5d",
   "metadata": {},
   "outputs": [],
   "source": [
    "with open('SVR_model_kernel.pickle', mode = 'wb') as file:\n",
    "     pickle.dump(svr_tuner.best_estimator_, file)"
   ]
  }
 ],
 "metadata": {
  "kernelspec": {
   "display_name": "Python 3 (ipykernel)",
   "language": "python",
   "name": "python3"
  },
  "language_info": {
   "codemirror_mode": {
    "name": "ipython",
    "version": 3
   },
   "file_extension": ".py",
   "mimetype": "text/x-python",
   "name": "python",
   "nbconvert_exporter": "python",
   "pygments_lexer": "ipython3",
   "version": "3.9.6"
  }
 },
 "nbformat": 4,
 "nbformat_minor": 5
}
