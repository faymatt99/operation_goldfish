{
 "cells": [
  {
   "cell_type": "code",
   "execution_count": 1,
   "id": "8270b409",
   "metadata": {},
   "outputs": [],
   "source": [
    "import pandas as pd"
   ]
  },
  {
   "cell_type": "code",
   "execution_count": 2,
   "id": "f30d0741",
   "metadata": {},
   "outputs": [
    {
     "data": {
      "text/html": [
       "<div>\n",
       "<style scoped>\n",
       "    .dataframe tbody tr th:only-of-type {\n",
       "        vertical-align: middle;\n",
       "    }\n",
       "\n",
       "    .dataframe tbody tr th {\n",
       "        vertical-align: top;\n",
       "    }\n",
       "\n",
       "    .dataframe thead th {\n",
       "        text-align: right;\n",
       "    }\n",
       "</style>\n",
       "<table border=\"1\" class=\"dataframe\">\n",
       "  <thead>\n",
       "    <tr style=\"text-align: right;\">\n",
       "      <th></th>\n",
       "      <th>PID</th>\n",
       "      <th>Address</th>\n",
       "      <th>Coords4</th>\n",
       "      <th>latitude</th>\n",
       "      <th>longitude</th>\n",
       "      <th>gps</th>\n",
       "      <th>SalePrice</th>\n",
       "      <th>AvgPrice-0.25</th>\n",
       "      <th>AvgPrice-0.5</th>\n",
       "    </tr>\n",
       "  </thead>\n",
       "  <tbody>\n",
       "    <tr>\n",
       "      <th>0</th>\n",
       "      <td>909176150</td>\n",
       "      <td>436 HAYWARD AVE, Ames, Iowa, USA</td>\n",
       "      <td>436 Hayward Ave, Ames, IA 50014, USA</td>\n",
       "      <td>42.017780</td>\n",
       "      <td>-93.651452</td>\n",
       "      <td>(42.0177796, -93.6514517)</td>\n",
       "      <td>126000</td>\n",
       "      <td>141078.805556</td>\n",
       "      <td>153816.163043</td>\n",
       "    </tr>\n",
       "    <tr>\n",
       "      <th>1</th>\n",
       "      <td>905476230</td>\n",
       "      <td>3416 WEST ST, Ames, Iowa, USA</td>\n",
       "      <td>3416 West St, Ames, IA 50014, USA</td>\n",
       "      <td>42.024697</td>\n",
       "      <td>-93.664186</td>\n",
       "      <td>(42.0246969, -93.6641856)</td>\n",
       "      <td>139500</td>\n",
       "      <td>140452.954545</td>\n",
       "      <td>133264.817518</td>\n",
       "    </tr>\n",
       "    <tr>\n",
       "      <th>2</th>\n",
       "      <td>911128020</td>\n",
       "      <td>320 S 2ND ST, Ames, Iowa, USA</td>\n",
       "      <td>320 S 2nd St, Ames, IA 50010, USA</td>\n",
       "      <td>42.021389</td>\n",
       "      <td>-93.614855</td>\n",
       "      <td>(42.0213891, -93.6148547)</td>\n",
       "      <td>124900</td>\n",
       "      <td>77901.375000</td>\n",
       "      <td>104173.653846</td>\n",
       "    </tr>\n",
       "    <tr>\n",
       "      <th>3</th>\n",
       "      <td>535377150</td>\n",
       "      <td>1524 DOUGLAS AVE, Ames, Iowa, USA</td>\n",
       "      <td>1524 Douglas Ave, Ames, IA 50010, USA</td>\n",
       "      <td>42.038070</td>\n",
       "      <td>-93.612065</td>\n",
       "      <td>(42.0380697, -93.6120649)</td>\n",
       "      <td>114000</td>\n",
       "      <td>124054.761905</td>\n",
       "      <td>133868.249097</td>\n",
       "    </tr>\n",
       "    <tr>\n",
       "      <th>4</th>\n",
       "      <td>534177230</td>\n",
       "      <td>2304 FILLMORE AVE, Ames, Iowa, USA</td>\n",
       "      <td>2304 Fillmore Ave, Ames, IA 50010, USA</td>\n",
       "      <td>42.044900</td>\n",
       "      <td>-93.631893</td>\n",
       "      <td>(42.0449, -93.6318933)</td>\n",
       "      <td>227000</td>\n",
       "      <td>178830.454545</td>\n",
       "      <td>164427.171429</td>\n",
       "    </tr>\n",
       "  </tbody>\n",
       "</table>\n",
       "</div>"
      ],
      "text/plain": [
       "         PID                             Address  \\\n",
       "0  909176150    436 HAYWARD AVE, Ames, Iowa, USA   \n",
       "1  905476230       3416 WEST ST, Ames, Iowa, USA   \n",
       "2  911128020       320 S 2ND ST, Ames, Iowa, USA   \n",
       "3  535377150   1524 DOUGLAS AVE, Ames, Iowa, USA   \n",
       "4  534177230  2304 FILLMORE AVE, Ames, Iowa, USA   \n",
       "\n",
       "                                  Coords4   latitude  longitude  \\\n",
       "0    436 Hayward Ave, Ames, IA 50014, USA  42.017780 -93.651452   \n",
       "1       3416 West St, Ames, IA 50014, USA  42.024697 -93.664186   \n",
       "2       320 S 2nd St, Ames, IA 50010, USA  42.021389 -93.614855   \n",
       "3   1524 Douglas Ave, Ames, IA 50010, USA  42.038070 -93.612065   \n",
       "4  2304 Fillmore Ave, Ames, IA 50010, USA  42.044900 -93.631893   \n",
       "\n",
       "                         gps  SalePrice  AvgPrice-0.25   AvgPrice-0.5  \n",
       "0  (42.0177796, -93.6514517)     126000  141078.805556  153816.163043  \n",
       "1  (42.0246969, -93.6641856)     139500  140452.954545  133264.817518  \n",
       "2  (42.0213891, -93.6148547)     124900   77901.375000  104173.653846  \n",
       "3  (42.0380697, -93.6120649)     114000  124054.761905  133868.249097  \n",
       "4     (42.0449, -93.6318933)     227000  178830.454545  164427.171429  "
      ]
     },
     "execution_count": 2,
     "metadata": {},
     "output_type": "execute_result"
    }
   ],
   "source": [
    "housing_coords = pd.read_csv('../data/house_surrounding_avg_prices.csv', index_col = 0);\n",
    "housing_coords.head()\n",
    "\n",
    "# housing_coords[\"Address\"] = housing_coords[\"Coords4\"].apply(lambda x: x[-21])"
   ]
  },
  {
   "cell_type": "code",
   "execution_count": 3,
   "id": "f268281a",
   "metadata": {},
   "outputs": [],
   "source": [
    "housing_coords[\"Address\"] = housing_coords[\"Coords4\"].apply(lambda x: x[:-21] if len(x) > 15 else \"Address missing\");"
   ]
  },
  {
   "cell_type": "code",
   "execution_count": 4,
   "id": "d9f62d5a",
   "metadata": {},
   "outputs": [],
   "source": [
    "housing_coords = housing_coords[[\"PID\", \"Address\", \"longitude\", \"latitude\"]];\n",
    "housing_coords.to_csv('../data/house_coordinates_address.csv', index = False)"
   ]
  }
 ],
 "metadata": {
  "kernelspec": {
   "display_name": "Python 3 (ipykernel)",
   "language": "python",
   "name": "python3"
  },
  "language_info": {
   "codemirror_mode": {
    "name": "ipython",
    "version": 3
   },
   "file_extension": ".py",
   "mimetype": "text/x-python",
   "name": "python",
   "nbconvert_exporter": "python",
   "pygments_lexer": "ipython3",
   "version": "3.9.6"
  }
 },
 "nbformat": 4,
 "nbformat_minor": 5
}
