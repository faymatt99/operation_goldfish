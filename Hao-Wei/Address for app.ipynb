{
 "cells": [
  {
   "cell_type": "code",
   "execution_count": 2,
   "id": "8270b409",
   "metadata": {},
   "outputs": [],
   "source": [
    "import pandas as pd"
   ]
  },
  {
   "cell_type": "code",
   "execution_count": 60,
   "id": "f30d0741",
   "metadata": {},
   "outputs": [
    {
     "data": {
      "text/html": [
       "<div>\n",
       "<style scoped>\n",
       "    .dataframe tbody tr th:only-of-type {\n",
       "        vertical-align: middle;\n",
       "    }\n",
       "\n",
       "    .dataframe tbody tr th {\n",
       "        vertical-align: top;\n",
       "    }\n",
       "\n",
       "    .dataframe thead th {\n",
       "        text-align: right;\n",
       "    }\n",
       "</style>\n",
       "<table border=\"1\" class=\"dataframe\">\n",
       "  <thead>\n",
       "    <tr style=\"text-align: right;\">\n",
       "      <th></th>\n",
       "      <th>longitude</th>\n",
       "      <th>latitude</th>\n",
       "    </tr>\n",
       "    <tr>\n",
       "      <th>Address</th>\n",
       "      <th></th>\n",
       "      <th></th>\n",
       "    </tr>\n",
       "  </thead>\n",
       "  <tbody>\n",
       "    <tr>\n",
       "      <th>Address missing</th>\n",
       "      <td>-93.631913</td>\n",
       "      <td>42.030781</td>\n",
       "    </tr>\n",
       "    <tr>\n",
       "      <th>Address missing</th>\n",
       "      <td>-93.631913</td>\n",
       "      <td>42.030781</td>\n",
       "    </tr>\n",
       "    <tr>\n",
       "      <th>Address missing</th>\n",
       "      <td>-93.631913</td>\n",
       "      <td>42.030781</td>\n",
       "    </tr>\n",
       "    <tr>\n",
       "      <th>Address missing</th>\n",
       "      <td>-93.631913</td>\n",
       "      <td>42.030781</td>\n",
       "    </tr>\n",
       "    <tr>\n",
       "      <th>Address missing</th>\n",
       "      <td>-93.631913</td>\n",
       "      <td>42.030781</td>\n",
       "    </tr>\n",
       "  </tbody>\n",
       "</table>\n",
       "</div>"
      ],
      "text/plain": [
       "                 longitude   latitude\n",
       "Address                              \n",
       "Address missing -93.631913  42.030781\n",
       "Address missing -93.631913  42.030781\n",
       "Address missing -93.631913  42.030781\n",
       "Address missing -93.631913  42.030781\n",
       "Address missing -93.631913  42.030781"
      ]
     },
     "execution_count": 60,
     "metadata": {},
     "output_type": "execute_result"
    }
   ],
   "source": [
    "housing_coords = pd.read_csv('../data/house_coordinates_0.25.csv', index_col = 0);\n",
    "housing_coords.head()\n",
    "\n",
    "# housing_coords[\"Address\"] = housing_coords[\"Coords4\"].apply(lambda x: x[-21])"
   ]
  },
  {
   "cell_type": "code",
   "execution_count": 24,
   "id": "9eb5abd8",
   "metadata": {},
   "outputs": [
    {
     "data": {
      "text/plain": [
       "'1001 Kennedy St'"
      ]
     },
     "execution_count": 24,
     "metadata": {},
     "output_type": "execute_result"
    }
   ],
   "source": [
    "temp = housing_coords[\"Coords4\"].iloc[1719]\n",
    "temp[:-21]"
   ]
  },
  {
   "cell_type": "code",
   "execution_count": 33,
   "id": "a8538fcd",
   "metadata": {},
   "outputs": [],
   "source": [
    "temp = housing_coords"
   ]
  },
  {
   "cell_type": "code",
   "execution_count": 39,
   "id": "39332ab2",
   "metadata": {},
   "outputs": [],
   "source": [
    "temp[\"len\"] = housing_coords[\"Coords4\"].apply(len);\n",
    "temp.sort_values(\"len\", ascending = True, inplace = True); # 21 housings had missing value in address."
   ]
  },
  {
   "cell_type": "code",
   "execution_count": 52,
   "id": "bd9be476",
   "metadata": {},
   "outputs": [],
   "source": [
    "temp2 = housing_coords[\"Coords4\"].apply(lambda x: x[-21:] if len(x) > 13 else '')"
   ]
  },
  {
   "cell_type": "code",
   "execution_count": 54,
   "id": "f268281a",
   "metadata": {},
   "outputs": [],
   "source": [
    "housing_coords[\"Address\"] = housing_coords[\"Coords4\"].apply(lambda x: x[:-21] if len(x) > 15 else \"Address missing\");"
   ]
  },
  {
   "cell_type": "code",
   "execution_count": 58,
   "id": "d9f62d5a",
   "metadata": {},
   "outputs": [],
   "source": [
    "housing_coords = housing_coords[[\"Address\", \"longitude\", \"latitude\"]];\n",
    "housing_coords.to_csv('../data/house_coordinates_address.csv', index = False)"
   ]
  }
 ],
 "metadata": {
  "kernelspec": {
   "display_name": "Python 3 (ipykernel)",
   "language": "python",
   "name": "python3"
  },
  "language_info": {
   "codemirror_mode": {
    "name": "ipython",
    "version": 3
   },
   "file_extension": ".py",
   "mimetype": "text/x-python",
   "name": "python",
   "nbconvert_exporter": "python",
   "pygments_lexer": "ipython3",
   "version": "3.9.6"
  }
 },
 "nbformat": 4,
 "nbformat_minor": 5
}
