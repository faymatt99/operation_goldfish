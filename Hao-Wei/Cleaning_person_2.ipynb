{
 "cells": [
  {
   "cell_type": "markdown",
   "id": "034f3f4c",
   "metadata": {},
   "source": [
    "## Data cleaning"
   ]
  },
  {
   "cell_type": "code",
   "execution_count": 3,
   "id": "7d33af0b",
   "metadata": {},
   "outputs": [],
   "source": [
    "import numpy as np\n",
    "import pandas as pd\n",
    "%matplotlib inline \n",
    "\n",
    "import numpy as np\n",
    "import pandas as pd\n",
    "import plotly.express as px\n",
    "from scipy import stats\n",
    "import seaborn as sns\n",
    "from matplotlib import pyplot as plt\n",
    "\n",
    "import statsmodels.api as sm\n",
    "from statsmodels.formula.api import ols\n",
    "from statsmodels.stats.anova import anova_lm as anova\n",
    "\n",
    "from sklearn.linear_model import LinearRegression;\n",
    "\n",
    "# from EDA_plots import EDA_plots\n",
    "\n",
    "# housing = pd.read_csv(\"C:/Users/kiwym/operation_goldfish/data\", index_col=0)\n",
    "# housing = pd.read_csv(\"C:/Users/kiwym/operation_goldfish/data/Ames_Housing_Price_Data_raw.csv\", index_col=0);\n",
    "housing = pd.read_csv(\"../data/person2data.csv\", index_col=0);\n",
    "# mask = housing[\"BsmtFullBath\"].isnull();\n",
    "# housing = housing.fillna(0);\n"
   ]
  },
  {
   "cell_type": "code",
   "execution_count": 6,
   "id": "de7b86e4",
   "metadata": {},
   "outputs": [
    {
     "name": "stderr",
     "output_type": "stream",
     "text": [
      "C:\\Users\\kiwym\\anaconda3\\lib\\site-packages\\pandas\\core\\arraylike.py:358: RuntimeWarning: divide by zero encountered in log10\n",
      "  result = getattr(ufunc, method)(*inputs, **kwargs)\n"
     ]
    },
    {
     "data": {
      "text/plain": [
       "(2580, 42)"
      ]
     },
     "execution_count": 6,
     "metadata": {},
     "output_type": "execute_result"
    }
   ],
   "source": [
    "df = data_cleaning_part_2(housing);\n",
    "df.shape"
   ]
  },
  {
   "cell_type": "code",
   "execution_count": null,
   "id": "3a948833",
   "metadata": {},
   "outputs": [],
   "source": [
    "# PIDs 903230120 and 908154080 had no basement room info.\n",
    "# Let's just assume that they do not have basement at all.\n",
    "\n",
    "df = housing.drop(\"PID\", axis = 1);\n",
    "# df = housing[[\"SalePrice\", \"MSSubClass\", \"BldgType\", \"HouseStyle\", \"1stFlrSF\", \"2ndFlrSF\", \"LowQualFinSF\", \"GrLivArea\",\\\n",
    "#              \"BsmtFullBath\", \"BsmtHalfBath\", \"FullBath\", \"HalfBath\", \"BedroomAbvGr\", \"KitchenAbvGr\", \"TotRmsAbvGrd\",\\\n",
    "#              \"Functional\", \"SaleCondition\", \"SaleType\", \"MoSold\", \"YrSold\"]];\n",
    "df = df.reset_index(drop= True)\n",
    "df.shape"
   ]
  },
  {
   "cell_type": "markdown",
   "id": "c188792a",
   "metadata": {},
   "source": [
    "## Brief classification of the columns in my part:\n",
    "\n",
    "#### Nominal:\n",
    "- MSSubClass: Type of dwelling\n",
    "- HouseStyle: Style of dwelling\n",
    "- SaleCondition: Condition of sale (like how is it sold)\n",
    "- SaleType: Type of sale\n",
    "\n",
    "#### Ordinal:\n",
    "Functional: Home functionality (Assume typical unless deductions are warranted) <- Typ (Good) ... Sal (Bad)\n",
    "\n",
    "\n",
    "#### Continuous:\n",
    "- 1stFlrSF: First Floor square feet\n",
    "- 2ndFlrSF: Second floor square feet <- Should ignore zeros when regression\n",
    "- LowQualFinSF: Low quality finished square feet (all floors) <- Should ignore zeros when regression\n",
    "- GrLivArea: Above grade (ground) living area square feet <- Might be extraneous, = 1stFlrSF + 2ndFlrSF\n",
    "\n",
    "#### Discrete:\n",
    "- BsmtFullBath: Basement full bathrooms\n",
    "- BsmtHalfBath: Basement half bathrooms\n",
    "- FullBath: Full bathrooms above grade\n",
    "- HalfBath: Half baths above grade\n",
    "- BedroomAbvGr: Bedrooms above grade (does NOT include basement bedrooms)\n",
    "- KitchenAbvGr: Kitchens above grade\n",
    "- TotRmsAbvGrd: Total rooms above grade (does not include bathrooms)\n",
    "\n",
    "- MoSold: Month Sold (MM)\n",
    "\n",
    "- YrSold: Year Sold (YYYY)\n"
   ]
  },
  {
   "cell_type": "code",
   "execution_count": null,
   "id": "1206a670",
   "metadata": {},
   "outputs": [],
   "source": [
    "# Ordinal variable handling\n",
    "functionality_dict={\n",
    "    \"Typ\": 7, # Typical Functionality\n",
    "    \"Min1\": 6, # Minor Deductions 1\n",
    "    \"Min2\": 5, # Minor Deductions 2\n",
    "    \"Mod\": 4, # Moderate Deductions\n",
    "    \"Maj1\": 3, # Major Deductions 1\n",
    "    \"Maj2\": 2, # Major Deductions 2\n",
    "    \"Sev\": 1, # Severely Damaged\n",
    "    \"Sal\": 0, # Salvage only\n",
    "};\n",
    "df.loc[df[\"Functional\"].isna(), \"Functional\"]='0';\n",
    "df[\"Functional_dis\"]=df[\"Functional\"].map(lambda x: functionality_dict[x]);\n",
    "df = df.rename(columns = {\"Functional\": \"Functional_ord\"});"
   ]
  },
  {
   "cell_type": "code",
   "execution_count": null,
   "id": "133e466e",
   "metadata": {},
   "outputs": [],
   "source": [
    "# Create a dictionary which describes the data type of each columns.\n",
    "type_dict_person_2={\n",
    "    \"MSSubClass\": \"Nominal\",\n",
    "    \"HouseStyle\": \"Nominal\",\n",
    "    \"SaleCondition\": \"Nominal\",\n",
    "    \"SaleType\": \"Nominal\",\n",
    "    \"Functional_ord\": \"Ordinal\", # Changed from \"Functional\"\n",
    "    \"1stFlrSF\": \"Continuous\",\n",
    "    \"2ndFlrSF\": \"Continuous\",\n",
    "    \"LowQualFinSF\": \"Continuous\", # Rejectable p-value\n",
    "    \"GrLivArea\": \"Continuous\",\n",
    "    \"BsmtFullBath\": \"Discrete\",\n",
    "    \"BsmtHalfBath\": \"Discrete\", # Rejectable p-value\n",
    "    \"FullBath\": \"Discrete\",\n",
    "    \"HalfBath\": \"Discrete\",\n",
    "    \"BedroomAbvGr\": \"Discrete\",\n",
    "    \"KitchenAbvGr\": \"Discrete\",\n",
    "    \"TotRmsAbvGrd\": \"Discrete\",\n",
    "    \"MoSold\": \"Discrete\", # Rejectable p-value\n",
    "    \"YrSold\": \"Discrete\", # Rejectable p-value\n",
    "    ####### Below are columns created by myself #######\n",
    "    \"Functional_dis\": \"Discrete\", # Functional in a (Salvage) 0-7 (Full) scale.\n",
    "    \"1stFlrSF_log\": \"Continuous\",\n",
    "    \"2ndFlrSF_log\": \"Continuous\",\n",
    "    \"GrLivArea_log\": \"Continuous\",\n",
    "    \"BsmtEqBath_0.3\": \"Continuous\", # Equivalent number of bathrooms in basement, treating half as 0.3\n",
    "    \"EqBath_0.3\": \"Continuous\", # Equivalent number of bathrooms in basement, treating half as 0.5\n",
    "    \"BsmtEqBath_0.5\": \"Continuous\", # Equivalent number of bathrooms over ground, treating half as 0.3\n",
    "    \"EqBath_0.5\": \"Continuous\", # Equivalent number of bathrooms over ground, treating half as 0.5\n",
    "    \"1-Story\": \"Nominal\",\n",
    "    \"1.5-Story\": \"Nominal\",\n",
    "    \"2-Story\": \"Nominal\",\n",
    "    \"2.5-Story\": \"Nominal\",\n",
    "    \"SplitMulti\": \"Nominal\",\n",
    "    \"2FamConv\": \"Nominal\",\n",
    "    \"SptFoyer\": \"Nominal\",\n",
    "    \"Duplex\": \"Nominal\", # These 7 attributes are exclusive\n",
    "    \"Unfinished\": \"Nominal\",\n",
    "    \"PUD\": \"Nominal\",\n",
    "    \"1Fam\": \"Nominal\",\n",
    "    \"TwnhsE\": \"Nominal\",\n",
    "    \"TwnhsI\": \"Nominal\" # These 5 tags can coexist with the 7 attributes in the top.\n",
    "};"
   ]
  },
  {
   "cell_type": "markdown",
   "id": "11ffb06d",
   "metadata": {},
   "source": [
    "## The all-in-one pack:\n",
    "Just include this function and it should do the thing."
   ]
  },
  {
   "cell_type": "code",
   "execution_count": 5,
   "id": "efeb3020",
   "metadata": {},
   "outputs": [],
   "source": [
    "def data_cleaning_part_2(housing):\n",
    "    '''\n",
    "    Input variable:\n",
    "    housing: a compatible dataframe.\n",
    "    \n",
    "    Description:\n",
    "    Assume that housing is the dataframe directly imported from person2.csv,\n",
    "    the function fills up the NA values and add some columns Hao-Wei felt necessary.\n",
    "    For an explanation of the columns, see the dictionary above and the original description file.\n",
    "    '''\n",
    "    df = housing.fillna(0);\n",
    "    # df = df.drop(\"PID\", axis = 1);\n",
    "    df = df.reset_index(drop= True);\n",
    "    \n",
    "    # Ordinal variable handling\n",
    "    functionality_dict={\n",
    "        \"Typ\": 7, # Typical Functionality\n",
    "        \"Min1\": 6, # Minor Deductions 1\n",
    "        \"Min2\": 5, # Minor Deductions 2\n",
    "        \"Mod\": 4, # Moderate Deductions\n",
    "        \"Maj1\": 3, # Major Deductions 1\n",
    "        \"Maj2\": 2, # Major Deductions 2\n",
    "        \"Sev\": 1, # Severely Damaged\n",
    "        \"Sal\": 0, # Salvage only\n",
    "    };\n",
    "    df.loc[df[\"Functional\"].isna(), \"Functional\"]='0';\n",
    "    df[\"Functional_dis\"]=df[\"Functional\"].map(lambda x: functionality_dict[x]);\n",
    "    df = df.rename(columns = {\"Functional\": \"Functional_ord\"}); # 21\n",
    "    \n",
    "    # Adding columns with log scales\n",
    "\n",
    "    temp = pd.DataFrame({\"1stFlrSF_log\": np.log10(df[\"1stFlrSF\"]),\n",
    "                        \"2ndFlrSF_log\": np.log10(df[\"2ndFlrSF\"]),\n",
    "                        \"GrLivArea_log\": np.log10(df[\"GrLivArea\"])});\n",
    "    df = pd.concat([df, temp], axis = 1); # 24\n",
    "    \n",
    "    # Add weight columns for bathrooms\n",
    "    half_equiv = [0.3, 0.5];\n",
    "\n",
    "    temp_dict = {};\n",
    "    for eq in half_equiv:\n",
    "        temp_dict[\"BsmtEqBath_\"+\"{:.1f}\".format(eq)] = df[\"BsmtFullBath\"] + eq*df[\"BsmtHalfBath\"];\n",
    "        temp_dict[\"EqBath_\"+\"{:.1f}\".format(eq)] =  df[\"FullBath\"] + eq*df[\"HalfBath\"];\n",
    "\n",
    "    temp = pd.DataFrame(temp_dict);\n",
    "    df = pd.concat([df, temp], axis = 1); # 28\n",
    "\n",
    "    # Extract nominal columns for better interpretation.\n",
    "    temp_dict = {};\n",
    "    temp_dict[\"1-Story\"]    = df.apply(lambda x: x[\"MSSubClass\"] in [20, 30, 40, 120], axis=1);\n",
    "    temp_dict[\"1.5-Story\"]  = df.apply(lambda x: x[\"MSSubClass\"] in [45, 50, 150], axis=1);\n",
    "    temp_dict[\"2-Story\"]    = df.apply(lambda x: x[\"MSSubClass\"] in [60, 70, 160], axis=1);\n",
    "    temp_dict[\"2.5-Story\"]  = df.apply(lambda x: x[\"MSSubClass\"] == 75, axis=1);\n",
    "    temp_dict[\"SplitMulti\"] = df.apply(lambda x: x[\"MSSubClass\"] in [80, 180], axis=1);\n",
    "    temp_dict[\"2FamConv\"]   = df.apply(lambda x: x[\"MSSubClass\"] == 190, axis=1);\n",
    "    temp_dict[\"SptFoyer\"]   = df.apply(lambda x: x[\"MSSubClass\"] == 85, axis=1);\n",
    "    temp_dict[\"Duplex\"]     = df.apply(lambda x: x[\"MSSubClass\"] == 90, axis=1);\n",
    "    temp_dict[\"Unfinished\"] = df.apply(lambda x: x[\"MSSubClass\"] == 190, axis=1) | df.apply(lambda x: x[\"HouseStyle\"] in [\"1.5Unf\", \"2.5Unf\"], axis=1);\n",
    "    temp_dict[\"PUD\"]        = df.apply(lambda x: x[\"MSSubClass\"] in [120, 150, 160, 180], axis=1);\n",
    "    temp_dict[\"1Fam\"]       = df.apply(lambda x: x[\"BldgType\"] == \"1Fam\", axis=1);\n",
    "    temp_dict[\"TwnhsE\"]     = df.apply(lambda x: x[\"BldgType\"] == \"TwnhsE\", axis=1);\n",
    "    temp_dict[\"TwnhsI\"]     = df.apply(lambda x: x[\"BldgType\"] == \"TwnhsI\", axis=1);\n",
    "\n",
    "    temp = pd.DataFrame(temp_dict).astype(int);\n",
    "    df = pd.concat([df, temp], axis = 1); # 41, 42 if PID not dropped\n",
    "    \n",
    "    # Some of my personal selection\n",
    "    delete = [\"MSSubClass\", \"BldgType\", \"HouseStyle\"];\n",
    "    \n",
    "    return df;"
   ]
  },
  {
   "cell_type": "code",
   "execution_count": 12,
   "id": "ac399f99",
   "metadata": {},
   "outputs": [
    {
     "data": {
      "text/plain": [
       "Index(['PID', 'SalePrice', 'MSSubClass', 'BldgType', 'HouseStyle', '1stFlrSF',\n",
       "       '2ndFlrSF', 'LowQualFinSF', 'GrLivArea', 'BsmtFullBath', 'BsmtHalfBath',\n",
       "       'FullBath', 'HalfBath', 'BedroomAbvGr', 'KitchenAbvGr', 'TotRmsAbvGrd',\n",
       "       'Functional_ord', 'SaleCondition', 'SaleType', 'MoSold', 'YrSold',\n",
       "       'Functional_dis', '1stFlrSF_log', '2ndFlrSF_log', 'GrLivArea_log',\n",
       "       'BsmtEqBath_0.3', 'EqBath_0.3', 'BsmtEqBath_0.5', 'EqBath_0.5',\n",
       "       '1-Story', '1.5-Story', '2-Story', '2.5-Story', 'SplitMulti',\n",
       "       '2FamConv', 'SptFoyer', 'Duplex', 'Unfinished', 'PUD', '1Fam', 'TwnhsE',\n",
       "       'TwnhsI'],\n",
       "      dtype='object')"
      ]
     },
     "execution_count": 12,
     "metadata": {},
     "output_type": "execute_result"
    }
   ],
   "source": [
    "df.columns"
   ]
  },
  {
   "cell_type": "markdown",
   "id": "9214c168",
   "metadata": {},
   "source": [
    "## House class and sell price\n",
    "\n",
    "Here are some ideas to generate meaningful columns\n",
    "\n",
    "From the column `MSSubClass`\n",
    "- Stories: 1/2/1.5/2.5/Spli\n",
    "- Unfinished?\n",
    "- Split foyer/multileveled?\n",
    "- PUD?"
   ]
  },
  {
   "cell_type": "markdown",
   "id": "108b2814",
   "metadata": {},
   "source": [
    "## House area and sale price"
   ]
  },
  {
   "cell_type": "code",
   "execution_count": null,
   "id": "eeac643f",
   "metadata": {},
   "outputs": [],
   "source": [
    "# Adding columns with log scales\n",
    "\n",
    "temp = pd.DataFrame({\"1stFlrSF_log\": np.log10(df[\"1stFlrSF\"]),\n",
    "                    \"2ndFlrSF_log\": np.log10(df[\"2ndFlrSF\"]),\n",
    "                    \"GrLivArea_log\": np.log10(df[\"GrLivArea\"])});\n",
    "df = pd.concat([df, temp], axis = 1)"
   ]
  },
  {
   "cell_type": "markdown",
   "id": "9a4bfb46",
   "metadata": {},
   "source": [
    "## Room issues and sale price"
   ]
  },
  {
   "cell_type": "code",
   "execution_count": null,
   "id": "1531ca89",
   "metadata": {},
   "outputs": [],
   "source": [
    "# Add weight columns for bathrooms\n",
    "half_equiv = [0.3, 0.5];\n",
    "\n",
    "temp_dict = {};\n",
    "for eq in half_equiv:\n",
    "    temp_dict[\"BsmtEqBath_\"+\"{:.1f}\".format(eq)] = df[\"BsmtFullBath\"] + eq*df[\"BsmtHalfBath\"];\n",
    "    temp_dict[\"EqBath_\"+\"{:.1f}\".format(eq)] =  df[\"FullBath\"] + eq*df[\"HalfBath\"];\n",
    "\n",
    "temp = pd.DataFrame(temp_dict);\n",
    "df = pd.concat([df, temp], axis = 1);\n",
    "\n"
   ]
  },
  {
   "cell_type": "code",
   "execution_count": null,
   "id": "8668d316",
   "metadata": {},
   "outputs": [],
   "source": [
    "# Extract nominal columns for better interpretation.\n",
    "temp_dict = {};\n",
    "temp_dict[\"1-Story\"]    = df.apply(lambda x: x[\"MSSubClass\"] in [20, 30, 40, 120], axis=1);\n",
    "temp_dict[\"1.5-Story\"]  = df.apply(lambda x: x[\"MSSubClass\"] in [45, 50, 150], axis=1);\n",
    "temp_dict[\"2-Story\"]    = df.apply(lambda x: x[\"MSSubClass\"] in [60, 70, 160], axis=1);\n",
    "temp_dict[\"2.5-Story\"]  = df.apply(lambda x: x[\"MSSubClass\"] == 75, axis=1);\n",
    "temp_dict[\"SplitMulti\"] = df.apply(lambda x: x[\"MSSubClass\"] in [80, 180], axis=1);\n",
    "temp_dict[\"2FamConv\"]   = df.apply(lambda x: x[\"MSSubClass\"] == 190, axis=1);\n",
    "temp_dict[\"SptFoyer\"]   = df.apply(lambda x: x[\"MSSubClass\"] == 85, axis=1);\n",
    "temp_dict[\"Duplex\"]     = df.apply(lambda x: x[\"MSSubClass\"] == 90, axis=1);\n",
    "temp_dict[\"Unfinished\"] = df.apply(lambda x: x[\"MSSubClass\"] == 190, axis=1) | df.apply(lambda x: x[\"HouseStyle\"] in [\"1.5Unf\", \"2.5Unf\"], axis=1);\n",
    "temp_dict[\"PUD\"]        = df.apply(lambda x: x[\"MSSubClass\"] in [120, 150, 160, 180], axis=1);\n",
    "temp_dict[\"1Fam\"]       = df.apply(lambda x: x[\"BldgType\"] == \"1Fam\", axis=1);\n",
    "temp_dict[\"TwnhsE\"]     = df.apply(lambda x: x[\"BldgType\"] == \"TwnhsE\", axis=1);\n",
    "temp_dict[\"TwnhsI\"]     = df.apply(lambda x: x[\"BldgType\"] == \"TwnhsI\", axis=1);\n",
    "\n",
    "temp = pd.DataFrame(temp_dict).astype(int);\n",
    "df = pd.concat([df, temp], axis = 1);"
   ]
  },
  {
   "cell_type": "code",
   "execution_count": null,
   "id": "3cd88c04",
   "metadata": {},
   "outputs": [],
   "source": [
    "df.head()"
   ]
  }
 ],
 "metadata": {
  "kernelspec": {
   "display_name": "Python 3",
   "language": "python",
   "name": "python3"
  },
  "language_info": {
   "codemirror_mode": {
    "name": "ipython",
    "version": 3
   },
   "file_extension": ".py",
   "mimetype": "text/x-python",
   "name": "python",
   "nbconvert_exporter": "python",
   "pygments_lexer": "ipython3",
   "version": "3.8.8"
  }
 },
 "nbformat": 4,
 "nbformat_minor": 5
}
