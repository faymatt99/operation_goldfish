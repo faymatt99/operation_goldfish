{
 "cells": [
  {
   "cell_type": "code",
   "execution_count": 1,
   "id": "849fef37",
   "metadata": {},
   "outputs": [],
   "source": [
    "import geopandas as gpd;\n",
    "import geopy.distance;\n",
    "import pandas as pd;\n",
    "import numpy as np;\n",
    "\n",
    "import warnings;\n",
    "warnings.filterwarnings(\"ignore\");\n",
    "\n",
    "pd.options.display.max_columns = 250;"
   ]
  },
  {
   "cell_type": "code",
   "execution_count": 70,
   "id": "fd20840e",
   "metadata": {},
   "outputs": [],
   "source": [
    "housing_coords = pd.read_csv('../data/house_coordinates_1.0.csv', index_col = 0);\n",
    "temp = housing_coords.drop([\"Address\", \"Coords4\", \"latitude\", \"longitude\"], axis = 1);"
   ]
  },
  {
   "cell_type": "code",
   "execution_count": 38,
   "id": "6c6c00bd",
   "metadata": {},
   "outputs": [],
   "source": [
    "place_dict = {};\n",
    "code_list = [];\n",
    "\n",
    "for col in temp.columns:\n",
    "    place_dict[col[5:]] = int(col[:4]);\n",
    "    code_list.append(int(col[:4]));\n",
    "    \n",
    "place_cat_dict = {\n",
    "    \"public\": [w for w in code_list if (w>=2000) & (w <= 2099)],\n",
    "    \"health\": [w for w in code_list if (w>=2100) & (w <= 2199)],\n",
    "    \"leisure\": [w for w in code_list if (w>=2200) & (w <= 2299)],\n",
    "    \"catering\": [w for w in code_list if (w>=2300) & (w <= 2399)],\n",
    "    \"accommodation_indoor\": [w for w in code_list if (w>=2400) & (w <= 2419)],\n",
    "    \"accommodation_outdoor\": [w for w in code_list if (w>=2420) & (w <= 2499)],\n",
    "    \"shopping\": [w for w in code_list if (w>=2500) & (w <= 2599)],\n",
    "    \"money\": [w for w in code_list if (w>=2600) & (w <= 2699)],\n",
    "    # \"tourism_information\": [w for w in code_list if (w>=2700) & (w <= 2709)], # only had one type of tourism info\n",
    "    \"tourism_destination\": [w for w in code_list if (w>=2710) & (w <= 2799)],\n",
    "    \"miscellaneous\": [w for w in code_list if (w>=2900) & (w <= 2999)],\n",
    "    \"worship\": [w for w in code_list if (w>=3000) & (w <= 3999)],\n",
    "    \"christian_all\": [w for w in code_list if (w>=3100) & (w <= 3199)],\n",
    "    # \"muslim_all\": [w for w in code_list if (w>=3300) & (w <= 3399)], # only had one type of muslin temple.\n",
    "    \"natural\": [w for w in code_list if (w>=4000) & (w <= 4999)],\n",
    "    \"traffic\": [w for w in code_list if (w>=5000) & (w <= 5999)],\n",
    "    \"traffic_fuel_and_parking\": [w for w in code_list if (w>=5250) & (w <= 5299)],\n",
    "    \"traffic_water\": [w for w in code_list if (w>=5300) & (w <= 5399)],\n",
    "    \"transport_air\": [w for w in code_list if (w>=5650) & (w <= 5659)],\n",
    "    \"landuse_leisure\": [7202, 7210, 7211],\n",
    "    \"waterway\": [w for w in code_list if (w>=8200) & (w <= 8299)]\n",
    "};"
   ]
  },
  {
   "cell_type": "code",
   "execution_count": 71,
   "id": "616c8973",
   "metadata": {},
   "outputs": [],
   "source": [
    "for cat in place_cat_dict.keys():\n",
    "    housing_coords[\"__\" + cat] = temp[[w for w in temp.columns if (int(w[:4]) in place_cat_dict[cat])]].apply(lambda x: sum(x),axis = 1);"
   ]
  },
  {
   "cell_type": "code",
   "execution_count": 72,
   "id": "e3bfee36",
   "metadata": {},
   "outputs": [],
   "source": [
    "housing_coords.to_csv(\"../data/house_coordinates_1.0_.csv\");"
   ]
  }
 ],
 "metadata": {
  "kernelspec": {
   "display_name": "Python 3 (ipykernel)",
   "language": "python",
   "name": "python3"
  },
  "language_info": {
   "codemirror_mode": {
    "name": "ipython",
    "version": 3
   },
   "file_extension": ".py",
   "mimetype": "text/x-python",
   "name": "python",
   "nbconvert_exporter": "python",
   "pygments_lexer": "ipython3",
   "version": "3.9.6"
  }
 },
 "nbformat": 4,
 "nbformat_minor": 5
}
