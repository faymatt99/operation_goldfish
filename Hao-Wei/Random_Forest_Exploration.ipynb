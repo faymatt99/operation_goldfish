{
 "cells": [
  {
   "cell_type": "code",
   "execution_count": 23,
   "id": "b1250159",
   "metadata": {},
   "outputs": [],
   "source": [
    "import numpy as np\n",
    "import pandas as pd\n",
    "\n",
    "from scipy import stats\n",
    "import itertools\n",
    "from sklearn import linear_model\n",
    "from numpy import ones,vstack\n",
    "from numpy.linalg import lstsq\n",
    "import matplotlib.pyplot as plt\n",
    "from sklearn.model_selection import train_test_split\n",
    "\n",
    "import statsmodels.api as sm;\n",
    "\n",
    "pd.options.display.max_columns = 150;\n",
    "\n",
    "Ture = True;"
   ]
  },
  {
   "cell_type": "code",
   "execution_count": 2,
   "id": "6e54daee",
   "metadata": {},
   "outputs": [],
   "source": [
    "from sklearn import ensemble;\n",
    "from sklearn.preprocessing import LabelEncoder"
   ]
  },
  {
   "cell_type": "code",
   "execution_count": 3,
   "id": "bb0aa9d0",
   "metadata": {},
   "outputs": [],
   "source": [
    "typedict = {#'PID' : 'nominal',\n",
    "            'SalePrice' : 'Continuous',\n",
    "            #Matt\n",
    "            'LotFrontage' : 'Continuous', \n",
    "            'LotArea' : 'Continuous',\n",
    "            'maybe_LotShape' : 'Nominal',\n",
    "            'LandSlope' : 'Nominal', \n",
    "            'LandContour' : 'Nominal', \n",
    "            'maybe_MSZoning' : 'Nominal', \n",
    "            'Street_paved' : 'Nominal', \n",
    "            'Alley' : 'Nominal',\n",
    "            'Neighborhood' : 'Nominal', \n",
    "            'Foundation' : 'Nominal',\n",
    "            'Utilities' : 'Nominal',\n",
    "            'Heating' : 'Nominal',\n",
    "            'HeatingQC_nom' : 'Ordinal',\n",
    "            'CentralAir' : 'Nominal',\n",
    "            'Electrical' : 'Nominal',\n",
    "            'HeatingQC_ord' : 'Ordinal',\n",
    "            'LotShape_com' : 'Nominal',\n",
    "            'MSZoning_com' : 'Nominal',\n",
    "            'LF_Near_NS_RR' : 'Nominal',\n",
    "            'LF_Near_Positive_Feature' : 'Nominal',\n",
    "            'LF_Adjacent_Arterial_St' : 'Nominal',\n",
    "            'LF_Near_EW_RR' : 'Nominal',\n",
    "            'LF_Adjacent_Feeder_St' : 'Nominal',\n",
    "            'LF_Near_Postive_Feature' : 'Nominal',\n",
    "            'Heating_com' : 'Nominal',\n",
    "            'Electrical_com' : 'Nominal',\n",
    "            'LotConfig_com' : 'Nominal', \n",
    "            'LotFrontage_log' : 'Continuous',\n",
    "            'LotArea_log' : 'Continuous',\n",
    "            #Oren \n",
    "            'MiscFeature': 'Nominal',\n",
    "            'Fireplaces': 'Discrete',\n",
    "            'FireplaceQu': 'Ordinal',\n",
    "            'PoolQC': 'Ordinal',\n",
    "            'PoolArea': 'Continuous',\n",
    "            'PavedDrive': 'Nominal',\n",
    "            'ExterQual': 'Ordinal',\n",
    "            'OverallQual': 'Ordinal',\n",
    "            'maybe_OverallCond': 'Ordinal',\n",
    "            'MiscVal': 'Continuous',\n",
    "            'YearBuilt': 'Discrete',\n",
    "            'YearRemodAdd': 'Discrete',\n",
    "            'KitchenQual': 'Ordinal',\n",
    "            'Fence': 'Ordinal',\n",
    "            'RoofStyle': 'Nominal',\n",
    "            'RoofMatl': 'Nominal',\n",
    "            'maybe_ExterCond': 'Ordinal',\n",
    "            'maybe_MasVnrType': 'Nominal',\n",
    "            'MasVnrArea': 'Continuous',\n",
    "            #Mo\n",
    "            'BsmtQual_ord': 'Ordinal',\n",
    "            'BsmtCond_ord': 'Ordinal',\n",
    "            'BsmtExposure_ord': 'Ordinal',\n",
    "            'TotalBsmtSF': 'Continuous',\n",
    "            'BSMT_GLQ':'Continuous', \n",
    "            'BSMT_Rec':'Continuous',\n",
    "            'maybe_BsmtUnfSF': 'Continuous',\n",
    "            'maybe_BSMT_ALQ':'Continuous',\n",
    "            'maybe_BSMT_BLQ':'Continuous', \n",
    "            'maybe_BSMT_LwQ':'Continuous', \n",
    "            #Deck\n",
    "            'WoodDeckSF':'Continuous', \n",
    "            'OpenPorchSF':'Continuous', \n",
    "            'ScreenPorch':'Continuous',\n",
    "            'maybe_EnclosedPorch':'Continuous',\n",
    "            'maybe_3SsnPorch':'Continuous',\n",
    "            #Garage\n",
    "            'GarageFinish':'Nominal', \n",
    "            'GarageYrBlt':'Continuous',\n",
    "            'GarageCars':'Ordinal',\n",
    "            'GarageArea':'Continuous',\n",
    "            'GarageType_con':'Nominal',\n",
    "            'maybe_GarageQual':'Nominal', \n",
    "            'maybe_GarageCond':'Nominal',\n",
    "\n",
    "            # Hao-Wei\n",
    "            \"SaleType\": \"Nominal\",\n",
    "            \"BldgType\": \"Nominal\",\n",
    "            \"Functional_ord\": \"Ordinal\", # Changed from \"Functional\"\n",
    "            \"1stFlrSF\": \"Continuous\",\n",
    "            \"2ndFlrSF\": \"Continuous\",\n",
    "            \"maybe_LowQualFinSF\": \"Continuous\", # Rejectable p-value\n",
    "            \"GrLivArea\": \"Continuous\",\n",
    "            \"BsmtFullBath\": \"Discrete\",\n",
    "            \"maybe_BsmtHalfBath\": \"Discrete\", # Rejectable p-value\n",
    "            \"FullBath\": \"Discrete\",\n",
    "            \"maybe_HalfBath\": \"Discrete\",\n",
    "            \"BedroomAbvGr\": \"Discrete\",\n",
    "            \"KitchenAbvGr\": \"Discrete\",\n",
    "            \"TotRmsAbvGrd\": \"Discrete\",\n",
    "            \"MoSold\": \"Discrete\", # Rejectable p-value\n",
    "            \"YrSold\": \"Discrete\", # Rejectable p-value\n",
    "            \"1stFlrSF_log\": \"Continuous\",\n",
    "            \"2ndFlrSF_log\": \"Continuous\",\n",
    "            \"GrLivArea_log\": \"Continuous\",\n",
    "            \"number_floors\": \"Discrete\",\n",
    "            \"attic\": \"Ordinal\",\n",
    "            \"PUD\": \"Nominal\",\n",
    "            #### Whose?\n",
    "            \"SaleCondition\": \"Nominal\",\n",
    "            \"SalePrice_log\": \"Continuous\",\n",
    "            \"MS_coded\": \"Nominal\",\n",
    "            \"sold_datetime\": \"Discrete\",\n",
    "    \n",
    "            # Used locally in this notebook\n",
    "            \"Months_Elapsed\": \"Discrete\"\n",
    "}"
   ]
  },
  {
   "cell_type": "code",
   "execution_count": 4,
   "id": "dcec5884",
   "metadata": {},
   "outputs": [],
   "source": [
    "attic_dict = {\"No attic\": 0, \"Finished\": 2, \"Unfinished\": 1};\n",
    "fence_dict = {\"No Fence\": 0, \"Minimum Privacy\": 3, \"Good Privacy\": 4, \"Good Wood\": 2 , \"Minimum Wood/Wire\": 1};\n",
    "PoolQC_dict = {0:0, \"0\":0, \"Fa\": 1, \"TA\":2, \"Gd\":3, \"Ex\":4};"
   ]
  },
  {
   "cell_type": "code",
   "execution_count": 5,
   "id": "647d2db4",
   "metadata": {},
   "outputs": [],
   "source": [
    "housing = pd.read_csv('../data/ames_housing_price_data_v2.csv', index_col = 0);"
   ]
  },
  {
   "cell_type": "code",
   "execution_count": 6,
   "id": "31b0521d",
   "metadata": {},
   "outputs": [],
   "source": [
    "y = housing[\"SalePrice\"];\n",
    "ylog = housing[\"SalePrice_log\"];\n",
    "\n",
    "x = housing.drop([\"SalePrice\", \"SalePrice_log\"], axis = 1);\n",
    "x = x.fillna(0);"
   ]
  },
  {
   "cell_type": "code",
   "execution_count": 7,
   "id": "8792bba0",
   "metadata": {},
   "outputs": [],
   "source": [
    "# Drop the column sold_datetime and replace with a column which computes the time elapsed since 2006-01.\n",
    "# I don't like sold_datetime much, and sklearn often have difficulty understanding it.\n",
    "\n",
    "x.drop(\"sold_datetime\", axis = 1, inplace = True);\n",
    "x[\"Months_Elapsed\"] = 12*(x[\"YrSold\"]-2006) + x[\"MoSold\"];\n",
    "x[\"attic\"] = x.apply(lambda t: attic_dict[t[\"attic\"]], axis = 1);\n",
    "x[\"Fence\"] = x.apply(lambda t: fence_dict[t[\"Fence\"]], axis = 1);\n",
    "x[\"PoolQC\"] = x.apply(lambda t: PoolQC_dict[t[\"PoolQC\"]], axis = 1);\n",
    "\n",
    "x.drop(\"HeatingQC_nom\", axis = 1, inplace = True);"
   ]
  },
  {
   "cell_type": "code",
   "execution_count": 8,
   "id": "b317fd1c",
   "metadata": {},
   "outputs": [],
   "source": [
    "col_num = [w for w in x.columns if typedict[w] in [\"Continuous\", \"Discrete\", \"Ordinal\"]];\n",
    "col_nom = [w for w in x.columns if typedict[w] == \"Nominal\"];\n",
    "# TODO: Not avery ordinal variables are in the machine understandable way.\n",
    "# Fix: HeatingQC_nom, Fence, attic\n",
    "\n",
    "x_num = x[col_num];\n",
    "x_nom = x[col_nom];"
   ]
  },
  {
   "cell_type": "code",
   "execution_count": 9,
   "id": "3deaa676",
   "metadata": {},
   "outputs": [],
   "source": [
    "# Encode all nominal and ordinal variables.\n",
    "\n",
    "lencoder = LabelEncoder();\n",
    "\n",
    "temp = pd.DataFrame({\"SalePrice\": y});\n",
    "for col_name in col_nom:\n",
    "    # temp = lencoder.fit_transform(np.array(str(x[[col_name]])).reshape(-1,1));\n",
    "    temp[col_name] = np.array(lencoder.fit_transform(x[col_name].astype(str))).reshape(-1,1);\n",
    "    \n",
    "temp.drop(\"SalePrice\", axis = 1, inplace = True);"
   ]
  },
  {
   "cell_type": "code",
   "execution_count": 10,
   "id": "6923b9c1",
   "metadata": {},
   "outputs": [],
   "source": [
    "x = pd.concat([x_num, temp], axis = 1);"
   ]
  },
  {
   "cell_type": "code",
   "execution_count": 33,
   "id": "2d958b33",
   "metadata": {},
   "outputs": [],
   "source": [
    "# Setting up random forest regression\n",
    "randomForest = ensemble.RandomForestRegressor();\n",
    "randomForest.set_params(random_state=0);\n",
    "\n",
    "randomForest.fit(x, ylog);"
   ]
  },
  {
   "cell_type": "code",
   "execution_count": 34,
   "id": "2a3027e6",
   "metadata": {
    "scrolled": true
   },
   "outputs": [
    {
     "data": {
      "text/plain": [
       "0.9851485868321548"
      ]
     },
     "execution_count": 34,
     "metadata": {},
     "output_type": "execute_result"
    }
   ],
   "source": [
    "randomForest.score(x, ylog)"
   ]
  },
  {
   "cell_type": "code",
   "execution_count": 35,
   "id": "dbdf3d20",
   "metadata": {},
   "outputs": [],
   "source": [
    "feature_importance = pd.DataFrame({\"Features\": x.columns, \"Importance\":randomForest.feature_importances_});"
   ]
  },
  {
   "cell_type": "code",
   "execution_count": 40,
   "id": "5f0b8184",
   "metadata": {},
   "outputs": [
    {
     "data": {
      "text/html": [
       "<div>\n",
       "<style scoped>\n",
       "    .dataframe tbody tr th:only-of-type {\n",
       "        vertical-align: middle;\n",
       "    }\n",
       "\n",
       "    .dataframe tbody tr th {\n",
       "        vertical-align: top;\n",
       "    }\n",
       "\n",
       "    .dataframe thead th {\n",
       "        text-align: right;\n",
       "    }\n",
       "</style>\n",
       "<table border=\"1\" class=\"dataframe\">\n",
       "  <thead>\n",
       "    <tr style=\"text-align: right;\">\n",
       "      <th></th>\n",
       "      <th>Features</th>\n",
       "      <th>Importance</th>\n",
       "    </tr>\n",
       "  </thead>\n",
       "  <tbody>\n",
       "    <tr>\n",
       "      <th>3</th>\n",
       "      <td>OverallQual</td>\n",
       "      <td>0.536559</td>\n",
       "    </tr>\n",
       "    <tr>\n",
       "      <th>27</th>\n",
       "      <td>GarageArea</td>\n",
       "      <td>0.083467</td>\n",
       "    </tr>\n",
       "    <tr>\n",
       "      <th>0</th>\n",
       "      <td>GrLivArea</td>\n",
       "      <td>0.048602</td>\n",
       "    </tr>\n",
       "    <tr>\n",
       "      <th>55</th>\n",
       "      <td>GrLivArea_log</td>\n",
       "      <td>0.046761</td>\n",
       "    </tr>\n",
       "    <tr>\n",
       "      <th>11</th>\n",
       "      <td>TotalBsmtSF</td>\n",
       "      <td>0.042522</td>\n",
       "    </tr>\n",
       "    <tr>\n",
       "      <th>26</th>\n",
       "      <td>GarageCars</td>\n",
       "      <td>0.031766</td>\n",
       "    </tr>\n",
       "    <tr>\n",
       "      <th>53</th>\n",
       "      <td>1stFlrSF_log</td>\n",
       "      <td>0.018844</td>\n",
       "    </tr>\n",
       "    <tr>\n",
       "      <th>12</th>\n",
       "      <td>1stFlrSF</td>\n",
       "      <td>0.016832</td>\n",
       "    </tr>\n",
       "    <tr>\n",
       "      <th>5</th>\n",
       "      <td>YearBuilt</td>\n",
       "      <td>0.012766</td>\n",
       "    </tr>\n",
       "    <tr>\n",
       "      <th>6</th>\n",
       "      <td>YearRemodAdd</td>\n",
       "      <td>0.009908</td>\n",
       "    </tr>\n",
       "    <tr>\n",
       "      <th>45</th>\n",
       "      <td>BSMT_GLQ</td>\n",
       "      <td>0.009570</td>\n",
       "    </tr>\n",
       "    <tr>\n",
       "      <th>4</th>\n",
       "      <td>maybe_OverallCond</td>\n",
       "      <td>0.009090</td>\n",
       "    </tr>\n",
       "    <tr>\n",
       "      <th>17</th>\n",
       "      <td>FullBath</td>\n",
       "      <td>0.008258</td>\n",
       "    </tr>\n",
       "    <tr>\n",
       "      <th>41</th>\n",
       "      <td>LotArea_log</td>\n",
       "      <td>0.007471</td>\n",
       "    </tr>\n",
       "    <tr>\n",
       "      <th>2</th>\n",
       "      <td>LotArea</td>\n",
       "      <td>0.007090</td>\n",
       "    </tr>\n",
       "    <tr>\n",
       "      <th>10</th>\n",
       "      <td>maybe_BsmtUnfSF</td>\n",
       "      <td>0.005856</td>\n",
       "    </tr>\n",
       "    <tr>\n",
       "      <th>25</th>\n",
       "      <td>GarageYrBlt</td>\n",
       "      <td>0.005726</td>\n",
       "    </tr>\n",
       "    <tr>\n",
       "      <th>57</th>\n",
       "      <td>maybe_MSZoning</td>\n",
       "      <td>0.005174</td>\n",
       "    </tr>\n",
       "    <tr>\n",
       "      <th>71</th>\n",
       "      <td>CentralAir</td>\n",
       "      <td>0.004540</td>\n",
       "    </tr>\n",
       "    <tr>\n",
       "      <th>43</th>\n",
       "      <td>BsmtQual_ord</td>\n",
       "      <td>0.004295</td>\n",
       "    </tr>\n",
       "    <tr>\n",
       "      <th>64</th>\n",
       "      <td>Neighborhood</td>\n",
       "      <td>0.004160</td>\n",
       "    </tr>\n",
       "    <tr>\n",
       "      <th>29</th>\n",
       "      <td>OpenPorchSF</td>\n",
       "      <td>0.003994</td>\n",
       "    </tr>\n",
       "    <tr>\n",
       "      <th>7</th>\n",
       "      <td>MasVnrArea</td>\n",
       "      <td>0.003978</td>\n",
       "    </tr>\n",
       "    <tr>\n",
       "      <th>24</th>\n",
       "      <td>FireplaceQu</td>\n",
       "      <td>0.003764</td>\n",
       "    </tr>\n",
       "    <tr>\n",
       "      <th>56</th>\n",
       "      <td>Months_Elapsed</td>\n",
       "      <td>0.003664</td>\n",
       "    </tr>\n",
       "  </tbody>\n",
       "</table>\n",
       "</div>"
      ],
      "text/plain": [
       "             Features  Importance\n",
       "3         OverallQual    0.536559\n",
       "27         GarageArea    0.083467\n",
       "0           GrLivArea    0.048602\n",
       "55      GrLivArea_log    0.046761\n",
       "11        TotalBsmtSF    0.042522\n",
       "26         GarageCars    0.031766\n",
       "53       1stFlrSF_log    0.018844\n",
       "12           1stFlrSF    0.016832\n",
       "5           YearBuilt    0.012766\n",
       "6        YearRemodAdd    0.009908\n",
       "45           BSMT_GLQ    0.009570\n",
       "4   maybe_OverallCond    0.009090\n",
       "17           FullBath    0.008258\n",
       "41        LotArea_log    0.007471\n",
       "2             LotArea    0.007090\n",
       "10    maybe_BsmtUnfSF    0.005856\n",
       "25        GarageYrBlt    0.005726\n",
       "57     maybe_MSZoning    0.005174\n",
       "71         CentralAir    0.004540\n",
       "43       BsmtQual_ord    0.004295\n",
       "64       Neighborhood    0.004160\n",
       "29        OpenPorchSF    0.003994\n",
       "7          MasVnrArea    0.003978\n",
       "24        FireplaceQu    0.003764\n",
       "56     Months_Elapsed    0.003664"
      ]
     },
     "execution_count": 40,
     "metadata": {},
     "output_type": "execute_result"
    }
   ],
   "source": [
    "feature_importance.sort_values(\"Importance\", ascending = False, inplace=True);\n",
    "feature_importance.head(25)"
   ]
  },
  {
   "cell_type": "code",
   "execution_count": 22,
   "id": "1a16ce7f",
   "metadata": {},
   "outputs": [
    {
     "data": {
      "image/png": "[encoded data removed]",
      "text/plain": [
       "<Figure size 432x288 with 1 Axes>"
      ]
     },
     "metadata": {
      "needs_background": "light"
     },
     "output_type": "display_data"
    }
   ],
   "source": [
    "temp = feature_importance.iloc[:20,]\n",
    "plt.barh(temp[\"Features\"], temp[\"Importance\"]);"
   ]
  },
  {
   "cell_type": "code",
   "execution_count": 31,
   "id": "0ddda059",
   "metadata": {},
   "outputs": [],
   "source": [
    "x_train, x_test, y_train, y_test = train_test_split(x, ylog, test_size=0.3, random_state=0);\n",
    "\n",
    "\n",
    "randomForest.fit(x_train, y_train);"
   ]
  },
  {
   "cell_type": "code",
   "execution_count": 32,
   "id": "b5b173ce",
   "metadata": {},
   "outputs": [
    {
     "name": "stdout",
     "output_type": "stream",
     "text": [
      "The super overfitting train score: 0.9840\n",
      "The super screwed up test score:   0.8805\n"
     ]
    }
   ],
   "source": [
    "print(\"The super overfitting train score: %.4f\" %randomForest.score(x_train, y_train));\n",
    "print(\"The super screwed up test score:   %.4f\" %randomForest.score(x_test, y_test));"
   ]
  }
 ],
 "metadata": {
  "kernelspec": {
   "display_name": "Python 3",
   "language": "python",
   "name": "python3"
  },
  "language_info": {
   "codemirror_mode": {
    "name": "ipython",
    "version": 3
   },
   "file_extension": ".py",
   "mimetype": "text/x-python",
   "name": "python",
   "nbconvert_exporter": "python",
   "pygments_lexer": "ipython3",
   "version": "3.8.8"
  }
 },
 "nbformat": 4,
 "nbformat_minor": 5
}
