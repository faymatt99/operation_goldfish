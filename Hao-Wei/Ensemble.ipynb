{
 "cells": [
  {
   "cell_type": "markdown",
   "id": "ce4cb9ce",
   "metadata": {},
   "source": [
    "### Putting all 4 dragon balls together, and summon the divine dragon..."
   ]
  },
  {
   "cell_type": "code",
   "execution_count": 1,
   "id": "7ea80015",
   "metadata": {},
   "outputs": [],
   "source": [
    "import numpy as np\n",
    "import pandas as pd\n",
    "from scipy import stats\n",
    "from sklearn.linear_model import Ridge, Lasso, ElasticNet, LinearRegression\n",
    "import plotly.express as px\n",
    "import matplotlib.pyplot as plt\n",
    "import plotly.graph_objects as go\n",
    "from sklearn.model_selection import train_test_split\n",
    "from sklearn.model_selection import GridSearchCV\n",
    "from sklearn.model_selection import KFold, StratifiedKFold\n",
    "from sklearn.model_selection import cross_val_score\n",
    "\n",
    "from sklearn import ensemble\n",
    "from sklearn.model_selection import train_test_split\n",
    "from sklearn.model_selection import GridSearchCV\n",
    "\n",
    "from sklearn.kernel_ridge import KernelRidge\n",
    "\n",
    "import time\n",
    "\n",
    "from catboost import CatBoostRegressor\n",
    "\n",
    "import re\n",
    "\n",
    "from statsmodels.stats.outliers_influence import variance_inflation_factor\n",
    "from xgboost import XGBRegressor\n",
    "from sklearn.preprocessing import MinMaxScaler, StandardScaler\n",
    "from sklearn.svm import SVR\n",
    "\n",
    "# We will write customized regressor classes which inherits the following base classes from sklearn.\n",
    "from sklearn.base import BaseEstimator, TransformerMixin, RegressorMixin, clone\n",
    "\n",
    "import pickle\n",
    "\n",
    "from dictionaries import *;\n",
    "from RegressorEncapsulation import *;\n",
    "\n",
    "pd.set_option('display.max_columns', 500)"
   ]
  },
  {
   "cell_type": "markdown",
   "id": "87b7ce0b",
   "metadata": {},
   "source": [
    "#### Preparation"
   ]
  },
  {
   "cell_type": "code",
   "execution_count": 2,
   "id": "73e995de",
   "metadata": {},
   "outputs": [],
   "source": [
    "housing_coords = pd.read_csv('../data/ames_housing_price_data_v6.csv', index_col = 0);\n",
    "if \"SalePrice.1\" in housing_coords.columns:\n",
    "    housing_coords.drop(\"SalePrice.1\", axis = 1, inplace = True);\n",
    "\n",
    "y = housing_coords[\"SalePrice\"]\n",
    "# y_std = svr_price_scaler.fit_transform(np.array(np.log10(y)).reshape(-1,1));\n",
    "front_end = housing_coords.copy();\n",
    "front_end.reset_index(inplace = True)"
   ]
  },
  {
   "cell_type": "code",
   "execution_count": 32,
   "id": "c4de06f9",
   "metadata": {},
   "outputs": [],
   "source": [
    "# Loading files and steal the parameters.\n",
    "cbl = CatBoostRegressor(subsample= 0.85, depth= 2, random_seed= 0, learning_rate= 0.04, iterations= 4000, verbose=False);\n",
    "lm = Lasso(alpha=1e-06, copy_X=True, fit_intercept= True, max_iter= 1000, normalize= True, positive= False, precompute= False, selection= 'cyclic', tol= 0.001);\n",
    "svrg = SVR(C= 6000, epsilon = 0.1, gamma = 6e-5, max_iter=-1, shrinking=True);\n",
    "\n",
    "# svrl = SVR(C= 100, cache_size=200, coef0 = 0.0, epsilon = 0.1, kernel = \"linear\", max_iter=-1, shrinking=True);\n",
    "svrl = KernelRidge(alpha=0.005, coef0 = 0.0, kernel = \"linear\");"
   ]
  },
  {
   "cell_type": "code",
   "execution_count": null,
   "id": "42bd9756",
   "metadata": {},
   "outputs": [],
   "source": [
    "# with open('../Matt/linearmodel.pickle', mode = 'rb') as file:\n",
    "#     lm = pickle.load(file);\n",
    "\n",
    "# with open('../Matt/SVR_model.pickle', mode = 'rb') as file:\n",
    "#     svrl = pickle.load(file);\n",
    "\n",
    "# with open('SVR_model_g.pickle', mode = 'rb') as file:\n",
    "#     svrg = pickle.load(file);\n"
   ]
  },
  {
   "cell_type": "code",
   "execution_count": 23,
   "id": "8d7dc71c",
   "metadata": {},
   "outputs": [],
   "source": [
    "svrl = SVR(C= 100, cache_size=200, coef0 = 0.0, epsilon = 0.1, kernel = \"linear\", max_iter=-1, shrinking=True);\n",
    "# svrl = KernelRidge(alpha=0.005, coef0 = 0.0, kernel = \"linear\");"
   ]
  },
  {
   "cell_type": "code",
   "execution_count": null,
   "id": "2a71f6a4",
   "metadata": {},
   "outputs": [],
   "source": []
  },
  {
   "cell_type": "code",
   "execution_count": 24,
   "id": "14eabece",
   "metadata": {},
   "outputs": [],
   "source": [
    "# from sklearn.base import BaseEstimator, TransformerMixin, RegressorMixin, clone\n",
    "class EncapsulatedModel(BaseEstimator, RegressorMixin, TransformerMixin):\n",
    "    def __init__(self, method=\"cat\", instance = CatBoostRegressor()):\n",
    "        self.method = method;\n",
    "        self.instance = instance;\n",
    "        self.x_scaler = StandardScaler();\n",
    "        self.y_scaler = StandardScaler();\n",
    "        self.fitted = False;\n",
    "        \n",
    "    # we define clones of the original models to fit the data in\n",
    "    def fit(self, X, y):\n",
    "        back_end = front_to_back(X, self.method, self.x_scaler, True);\n",
    "        y_proc = predictor_processing(y, self.method, self.y_scaler);\n",
    "        self.instance.fit(back_end, y_proc);\n",
    "        self.fitted = True;\n",
    "        return self;\n",
    "    #Now we do the predictions for cloned models and average them\n",
    "    def predict(self, X):\n",
    "        return predict_from_front(X, self.method, self.instance, self.x_scaler, self.y_scaler);\n"
   ]
  },
  {
   "cell_type": "code",
   "execution_count": 69,
   "id": "2927abf8",
   "metadata": {},
   "outputs": [
    {
     "data": {
      "text/plain": [
       "[1, 0, 0, 0]"
      ]
     },
     "execution_count": 69,
     "metadata": {},
     "output_type": "execute_result"
    }
   ],
   "source": [
    "[1] + [0]*3"
   ]
  },
  {
   "cell_type": "code",
   "execution_count": 56,
   "id": "d94d0f89",
   "metadata": {},
   "outputs": [],
   "source": [
    "a = np.array((1,2,3))\n",
    "b = np.array((2,3,4))\n",
    "c = np.column_stack((a,b))"
   ]
  },
  {
   "cell_type": "code",
   "execution_count": 68,
   "id": "4afe962c",
   "metadata": {},
   "outputs": [
    {
     "data": {
      "text/plain": [
       "array([ 7, 11, 15])"
      ]
     },
     "execution_count": 68,
     "metadata": {},
     "output_type": "execute_result"
    }
   ],
   "source": [
    "c\n",
    "np.matmul(c, np.array([1,3]))"
   ]
  },
  {
   "cell_type": "code",
   "execution_count": 90,
   "id": "f4e8ca5c",
   "metadata": {},
   "outputs": [],
   "source": [
    "class AveragingModels(BaseEstimator, RegressorMixin, TransformerMixin):\n",
    "    def __init__(self, models, weight=None):\n",
    "        self.models = models\n",
    "        if not weight:\n",
    "            self.weight= [1] + [0]*(len(models)-1);\n",
    "        else: self.weight = weight;\n",
    "    # we define clones of the original models to fit the data in\n",
    "    def fit(self, X, y):\n",
    "        print(self.weight)\n",
    "        self.models_ = [clone(x) for x in self.models]\n",
    "        # Train cloned base models\n",
    "        for model in self.models_:\n",
    "            model.fit(X, y)\n",
    "        return self\n",
    "    #Now we do the predictions for cloned models and average them\n",
    "    def predict(self, X):\n",
    "        predictions = np.column_stack([\n",
    "            model.predict(X) for model in self.models_\n",
    "        ])\n",
    "        return np.matmul(predictions, np.array(self.weight))\n",
    "        # return np.mean(predictions, axis=1)"
   ]
  },
  {
   "cell_type": "code",
   "execution_count": 25,
   "id": "73c12ab6",
   "metadata": {},
   "outputs": [],
   "source": [
    "x = EncapsulatedModel(\"svrl\", svrl);"
   ]
  },
  {
   "cell_type": "code",
   "execution_count": 26,
   "id": "cbba19ca",
   "metadata": {
    "scrolled": true
   },
   "outputs": [
    {
     "data": {
      "text/plain": [
       "EncapsulatedModel(instance=SVR(C=100, kernel='linear'), method='svrl')"
      ]
     },
     "execution_count": 26,
     "metadata": {},
     "output_type": "execute_result"
    }
   ],
   "source": [
    "x.fit(front_end, y)"
   ]
  },
  {
   "cell_type": "code",
   "execution_count": 27,
   "id": "50cca9c8",
   "metadata": {},
   "outputs": [],
   "source": [
    "y_pred = x.predict(front_end)"
   ]
  },
  {
   "cell_type": "code",
   "execution_count": 28,
   "id": "1335b01a",
   "metadata": {},
   "outputs": [
    {
     "data": {
      "text/plain": [
       "0.9364478042572866"
      ]
     },
     "execution_count": 28,
     "metadata": {},
     "output_type": "execute_result"
    }
   ],
   "source": [
    "x.score(front_end, y) # Kernel ridge: 0.9391"
   ]
  },
  {
   "cell_type": "code",
   "execution_count": 29,
   "id": "9ddc2ce4",
   "metadata": {},
   "outputs": [],
   "source": [
    "X_train, X_test, y_train, y_test = train_test_split(front_end, y, test_size=0.3, random_state=1);"
   ]
  },
  {
   "cell_type": "code",
   "execution_count": 30,
   "id": "76466152",
   "metadata": {},
   "outputs": [
    {
     "data": {
      "text/plain": [
       "0.9322521550355579"
      ]
     },
     "execution_count": 30,
     "metadata": {},
     "output_type": "execute_result"
    }
   ],
   "source": [
    "x.fit(X_train, y_train);\n",
    "x.score(X_test, y_test) # Kernel ridge: 0.9319"
   ]
  },
  {
   "cell_type": "code",
   "execution_count": 73,
   "id": "a8d3caf7",
   "metadata": {},
   "outputs": [
    {
     "name": "stdout",
     "output_type": "stream",
     "text": [
      "[0.25, 0.25, 0.25, 0.25]\n"
     ]
    },
    {
     "data": {
      "text/plain": [
       "AveragingModels(models=(EncapsulatedModel(instance=<catboost.core.CatBoostRegressor object at 0x16e691490>),\n",
       "                        EncapsulatedModel(instance=Lasso(alpha=1e-06,\n",
       "                                                         normalize=True,\n",
       "                                                         tol=0.001),\n",
       "                                          method='lm'),\n",
       "                        EncapsulatedModel(instance=KernelRidge(alpha=0.005,\n",
       "                                                               coef0=0.0),\n",
       "                                          method='svrl'),\n",
       "                        EncapsulatedModel(instance=SVR(C=6000, gamma=6e-05),\n",
       "                                          method='svrg')),\n",
       "                weight=[0.25, 0.25, 0.25, 0.25])"
      ]
     },
     "execution_count": 73,
     "metadata": {},
     "output_type": "execute_result"
    }
   ],
   "source": [
    "averaged_models = AveragingModels(models = (EncapsulatedModel(\"cat\", cbl), EncapsulatedModel(\"lm\", lm),\\\n",
    "                                           EncapsulatedModel(\"svrl\", svrl), EncapsulatedModel(\"svrg\", svrg)),\\\n",
    "                                 weight = [1/4, 1/4, 1/4, 1/4]);\n",
    "averaged_models.fit(front_end, y)"
   ]
  },
  {
   "cell_type": "code",
   "execution_count": 74,
   "id": "acc881cd",
   "metadata": {},
   "outputs": [
    {
     "data": {
      "text/plain": [
       "0.9619382830879044"
      ]
     },
     "execution_count": 74,
     "metadata": {},
     "output_type": "execute_result"
    }
   ],
   "source": [
    "averaged_models.score(front_end, y)"
   ]
  },
  {
   "cell_type": "code",
   "execution_count": 75,
   "id": "fe507022",
   "metadata": {},
   "outputs": [],
   "source": [
    "X_train, X_test, y_train, y_test = train_test_split(front_end, y, test_size=0.3, random_state=9);"
   ]
  },
  {
   "cell_type": "code",
   "execution_count": 76,
   "id": "4d075a74",
   "metadata": {
    "scrolled": true
   },
   "outputs": [
    {
     "name": "stdout",
     "output_type": "stream",
     "text": [
      "CPU times: user 9.4 s, sys: 3.24 s, total: 12.6 s\n",
      "Wall time: 3.45 s\n",
      "CPU times: user 1.82 s, sys: 187 ms, total: 2.01 s\n",
      "Wall time: 356 ms\n"
     ]
    },
    {
     "data": {
      "text/plain": [
       "0.9432789901860964"
      ]
     },
     "execution_count": 76,
     "metadata": {},
     "output_type": "execute_result"
    }
   ],
   "source": [
    "%time averaged_models.fit(X_train, y_train);\n",
    "%time averaged_models.score(X_test, y_test) # 0.9432789901860964"
   ]
  },
  {
   "cell_type": "markdown",
   "id": "d596b776",
   "metadata": {},
   "source": [
    "### Applying GridSearchCV to find the best weight."
   ]
  },
  {
   "cell_type": "code",
   "execution_count": 101,
   "id": "d1fe44fa",
   "metadata": {},
   "outputs": [
    {
     "name": "stdout",
     "output_type": "stream",
     "text": [
      "[0.0, 0.0, 0.0, 1.0]\n",
      "[0.0, 1.0, 0.0, 0.0]\n",
      "[1.0, 0.0, 0.0, 0.0]\n",
      "[0.0, 0.0, 0.0, 1.0]\n",
      "[0.0, 0.0, 0.5, 0.5]\n",
      "[0.0, 0.0, 1.0, 0.0]\n",
      "[0.0, 0.25, 0.0, 0.75]\n",
      "[0.0, 0.25, 0.5, 0.25]\n",
      "[0.0, 0.5, 0.0, 0.5]\n",
      "[0.0, 0.5, 0.25, 0.25]\n",
      "[0.0, 0.75, 0.0, 0.25]\n",
      "[0.0, 1.0, 0.0, 0.0]\n",
      "[0.25, 0.0, 0.0, 0.75]\n",
      "[0.25, 0.0, 0.5, 0.25]\n",
      "[0.25, 0.25, 0.0, 0.5]\n",
      "[0.25, 0.25, 0.25, 0.25]\n",
      "[0.25, 0.25, 0.5, 0.0]\n",
      "[0.25, 0.5, 0.25, 0.0]\n",
      "[0.5, 0.0, 0.0, 0.5]\n",
      "[0.5, 0.0, 0.25, 0.25]\n",
      "[0.5, 0.25, 0.0, 0.25]\n",
      "[0.5, 0.25, 0.25, 0.0]\n",
      "[0.75, 0.0, 0.0, 0.25]\n",
      "[0.75, 0.25, 0.0, 0.0]\n",
      "[0.0, 0.0, 1.0, 0.0]\n",
      "[1.0, 0.0, 0.0, 0.0]\n",
      "[0.0, 0.0, 0.25, 0.75]\n",
      "[0.0, 0.0, 0.5, 0.5]\n",
      "[0.0, 0.0, 0.75, 0.25]\n",
      "[0.0, 0.0, 1.0, 0.0]\n",
      "[0.0, 0.25, 0.25, 0.5]\n",
      "[0.0, 0.25, 0.75, 0.0]\n",
      "[0.0, 0.5, 0.0, 0.5]\n",
      "[0.0, 0.5, 0.5, 0.0]\n",
      "[0.0, 0.75, 0.0, 0.25]\n",
      "[0.0, 1.0, 0.0, 0.0]\n",
      "[0.25, 0.0, 0.25, 0.5]\n",
      "[0.25, 0.0, 0.5, 0.25]\n",
      "[0.25, 0.25, 0.0, 0.5]\n",
      "[0.25, 0.25, 0.25, 0.25]\n",
      "[0.25, 0.5, 0.0, 0.25]\n",
      "[0.25, 0.75, 0.0, 0.0]\n",
      "[0.5, 0.0, 0.0, 0.5]\n",
      "[0.5, 0.0, 0.5, 0.0]\n",
      "[0.5, 0.25, 0.0, 0.25]\n",
      "[0.5, 0.5, 0.0, 0.0]\n",
      "[0.75, 0.0, 0.25, 0.0]\n",
      "[0.75, 0.25, 0.0, 0.0]\n",
      "[0.0, 0.0, 0.0, 1.0]\n",
      "[0.0, 1.0, 0.0, 0.0]\n",
      "[1.0, 0.0, 0.0, 0.0]\n",
      "[0.0, 0.0, 0.0, 1.0]\n",
      "[0.0, 0.0, 0.5, 0.5]\n",
      "[0.0, 0.0, 0.75, 0.25]\n",
      "[0.0, 0.25, 0.0, 0.75]\n",
      "[0.0, 0.25, 0.5, 0.25]\n",
      "[0.0, 0.25, 0.75, 0.0]\n",
      "[0.0, 0.5, 0.0, 0.5]\n",
      "[0.0, 0.5, 0.5, 0.0]\n",
      "[0.0, 0.75, 0.25, 0.0]\n",
      "[0.0, 1.0, 0.0, 0.0]\n",
      "[0.25, 0.0, 0.25, 0.5]\n",
      "[0.25, 0.0, 0.5, 0.25]\n",
      "[0.25, 0.25, 0.0, 0.5]\n",
      "[0.25, 0.25, 0.5, 0.0]\n",
      "[0.25, 0.5, 0.0, 0.25]\n",
      "[0.25, 0.75, 0.0, 0.0]\n",
      "[0.5, 0.0, 0.0, 0.5]\n",
      "[0.5, 0.0, 0.5, 0.0]\n",
      "[0.5, 0.25, 0.25, 0.0]\n",
      "[0.5, 0.5, 0.0, 0.0]\n",
      "[0.75, 0.0, 0.25, 0.0]\n",
      "[0.75, 0.25, 0.0, 0.0]\n",
      "[0.0, 0.0, 0.0, 1.0]\n",
      "[0.0, 0.0, 1.0, 0.0]\n",
      "[1.0, 0.0, 0.0, 0.0]\n",
      "[0.0, 0.0, 0.25, 0.75]\n",
      "[0.0, 0.0, 0.25, 0.75]\n",
      "[0.0, 0.0, 0.75, 0.25]\n",
      "[0.0, 0.25, 0.0, 0.75]\n",
      "[0.0, 0.25, 0.25, 0.5]\n",
      "[0.0, 0.25, 0.75, 0.0]\n",
      "[0.0, 0.5, 0.25, 0.25]\n",
      "[0.0, 0.5, 0.5, 0.0]\n",
      "[0.0, 0.75, 0.25, 0.0]\n",
      "[0.0, 1.0, 0.0, 0.0]\n",
      "[0.25, 0.0, 0.25, 0.5]\n",
      "[0.25, 0.0, 0.75, 0.0]\n",
      "[0.25, 0.25, 0.0, 0.5]\n",
      "[0.25, 0.25, 0.5, 0.0]\n",
      "[0.25, 0.5, 0.0, 0.25]\n",
      "[0.25, 0.75, 0.0, 0.0]\n",
      "[0.5, 0.0, 0.25, 0.25]\n",
      "[0.5, 0.0, 0.5, 0.0]\n",
      "[0.5, 0.25, 0.25, 0.0]\n",
      "[0.5, 0.5, 0.0, 0.0]\n",
      "[0.75, 0.0, 0.25, 0.0]\n",
      "[1.0, 0.0, 0.0, 0.0]\n",
      "[0.0, 0.0, 0.0, 1.0]\n",
      "[0.0, 1.0, 0.0, 0.0]\n",
      "[0.0, 0.0, 0.0, 1.0]\n",
      "[0.0, 0.0, 0.25, 0.75]\n",
      "[0.0, 0.0, 0.75, 0.25]\n",
      "[0.0, 0.25, 0.0, 0.75]\n",
      "[0.0, 0.25, 0.25, 0.5]\n",
      "[0.0, 0.25, 0.75, 0.0]\n",
      "[0.0, 0.5, 0.25, 0.25]\n",
      "[0.0, 0.75, 0.0, 0.25]\n",
      "[0.0, 0.75, 0.25, 0.0]\n",
      "[0.25, 0.0, 0.0, 0.75]\n",
      "[0.25, 0.0, 0.25, 0.5]\n",
      "[0.25, 0.0, 0.75, 0.0]\n",
      "[0.25, 0.25, 0.0, 0.5]\n",
      "[0.25, 0.25, 0.5, 0.0]\n",
      "[0.25, 0.5, 0.25, 0.0]\n",
      "[0.25, 0.75, 0.0, 0.0]\n",
      "[0.5, 0.0, 0.25, 0.25]\n",
      "[0.5, 0.0, 0.5, 0.0]\n",
      "[0.5, 0.25, 0.25, 0.0]\n",
      "[0.75, 0.0, 0.0, 0.25]\n",
      "[0.75, 0.0, 0.25, 0.0]\n",
      "[1.0, 0.0, 0.0, 0.0]\n",
      "[0.0, 0.0, 0.0, 1.0]\n",
      "[0.0, 1.0, 0.0, 0.0]\n",
      "[0.0, 0.0, 0.25, 0.75]\n",
      "[0.0, 0.0, 0.5, 0.5]\n",
      "[0.0, 0.0, 1.0, 0.0]\n",
      "[0.0, 0.25, 0.25, 0.5]\n",
      "[0.0, 0.25, 0.5, 0.25]\n",
      "[0.0, 0.5, 0.0, 0.5]\n",
      "[0.0, 0.5, 0.25, 0.25]\n",
      "[0.0, 0.75, 0.0, 0.25]\n",
      "[0.0, 0.75, 0.25, 0.0]\n",
      "[0.25, 0.0, 0.0, 0.75]\n",
      "[0.25, 0.0, 0.5, 0.25]\n",
      "[0.25, 0.0, 0.75, 0.0]\n",
      "[0.25, 0.25, 0.25, 0.25]\n",
      "[0.25, 0.5, 0.0, 0.25]\n",
      "[0.25, 0.5, 0.25, 0.0]\n",
      "[0.5, 0.0, 0.0, 0.5]\n",
      "[0.5, 0.0, 0.25, 0.25]\n",
      "[0.5, 0.25, 0.0, 0.25]\n",
      "[0.5, 0.5, 0.0, 0.0]\n",
      "[0.75, 0.0, 0.0, 0.25]\n",
      "[0.75, 0.25, 0.0, 0.0]\n",
      "[1.0, 0.0, 0.0, 0.0]\n",
      "[0.0, 0.0, 1.0, 0.0]\n",
      "[0.0, 1.0, 0.0, 0.0]\n",
      "[0.0, 0.0, 0.0, 1.0]\n",
      "[0.0, 0.0, 0.75, 0.25]\n",
      "[0.0, 0.0, 1.0, 0.0]\n",
      "[0.0, 0.25, 0.0, 0.75]\n",
      "[0.0, 0.25, 0.5, 0.25]\n",
      "[0.0, 0.25, 0.75, 0.0]\n",
      "[0.0, 0.5, 0.25, 0.25]\n",
      "[0.0, 0.5, 0.5, 0.0]\n",
      "[0.0, 0.75, 0.25, 0.0]\n",
      "[0.25, 0.0, 0.0, 0.75]\n",
      "[0.25, 0.0, 0.25, 0.5]\n",
      "[0.25, 0.0, 0.75, 0.0]\n",
      "[0.25, 0.25, 0.25, 0.25]\n",
      "[0.25, 0.25, 0.5, 0.0]\n",
      "[0.25, 0.5, 0.25, 0.0]\n",
      "[0.5, 0.0, 0.0, 0.5]\n",
      "[0.5, 0.0, 0.5, 0.0]\n",
      "[0.5, 0.25, 0.0, 0.25]\n",
      "[0.5, 0.5, 0.0, 0.0]\n",
      "[0.75, 0.0, 0.0, 0.25]\n",
      "[0.75, 0.25, 0.0, 0.0]\n",
      "[1.0, 0.0, 0.0, 0.0]\n",
      "[0.0, 0.0, 1.0, 0.0]\n",
      "[0.0, 0.0, 1.0, 0.0]\n",
      "[1.0, 0.0, 0.0, 0.0]\n",
      "[0.0, 0.0, 0.0, 1.0]\n",
      "[0.0, 0.0, 0.5, 0.5]\n",
      "[0.0, 0.0, 1.0, 0.0]\n",
      "[0.0, 0.25, 0.25, 0.5]\n",
      "[0.0, 0.25, 0.5, 0.25]\n",
      "[0.0, 0.5, 0.0, 0.5]\n",
      "[0.0, 0.5, 0.5, 0.0]\n",
      "[0.0, 0.75, 0.0, 0.25]\n",
      "[0.0, 1.0, 0.0, 0.0]\n",
      "[0.25, 0.0, 0.0, 0.75]\n",
      "[0.25, 0.0, 0.5, 0.25]\n",
      "[0.25, 0.0, 0.75, 0.0]\n",
      "[0.25, 0.25, 0.25, 0.25]\n",
      "[0.25, 0.5, 0.0, 0.25]\n",
      "[0.25, 0.5, 0.25, 0.0]\n",
      "[0.25, 0.75, 0.0, 0.0]\n",
      "[0.5, 0.0, 0.25, 0.25]\n",
      "[0.5, 0.25, 0.0, 0.25]\n",
      "[0.5, 0.25, 0.25, 0.0]\n",
      "[0.75, 0.0, 0.0, 0.25]\n",
      "[0.75, 0.0, 0.25, 0.0]\n",
      "[1.0, 0.0, 0.0, 0.0]\n"
     ]
    }
   ],
   "source": [
    "from itertools import combinations;\n",
    "\n",
    "BINS = 20;\n",
    "weight_list = [];\n",
    "temp = list(range(BINS+3));\n",
    "for combo in combinations(temp, 3):\n",
    "    weight_list.append([combo[0]/BINS, (combo[1]-combo[0]-1)/BINS, (combo[2]-combo[1]-1)/BINS, (2+BINS-combo[2])/BINS]);\n"
   ]
  },
  {
   "cell_type": "code",
   "execution_count": 98,
   "id": "95e90da2",
   "metadata": {},
   "outputs": [
    {
     "name": "stdout",
     "output_type": "stream",
     "text": [
      "[0.25, 0.0, 0.0, 0.75]\n",
      "CPU times: user 15 s, sys: 5.25 s, total: 20.2 s\n",
      "Wall time: 4min 39s\n"
     ]
    },
    {
     "data": {
      "text/plain": [
       "GridSearchCV(cv=KFold(n_splits=5, random_state=None, shuffle=True),\n",
       "             estimator=AveragingModels(models=(EncapsulatedModel(instance=<catboost.core.CatBoostRegressor object at 0x16e691490>),\n",
       "                                               EncapsulatedModel(instance=Lasso(alpha=1e-06,\n",
       "                                                                                normalize=True,\n",
       "                                                                                tol=0.001),\n",
       "                                                                 method='lm'),\n",
       "                                               EncapsulatedModel(instance=KernelRidge(alpha=0.005,\n",
       "                                                                                      coef0=0.0),\n",
       "                                                                 method='svrl'),\n",
       "                                               Encapsula...\n",
       "                                    [0.0, 0.75, 0.25, 0.0],\n",
       "                                    [0.0, 1.0, 0.0, 0.0],\n",
       "                                    [0.25, 0.0, 0.0, 0.75],\n",
       "                                    [0.25, 0.0, 0.25, 0.5],\n",
       "                                    [0.25, 0.0, 0.5, 0.25],\n",
       "                                    [0.25, 0.0, 0.75, 0.0],\n",
       "                                    [0.25, 0.25, 0.0, 0.5],\n",
       "                                    [0.25, 0.25, 0.25, 0.25],\n",
       "                                    [0.25, 0.25, 0.5, 0.0],\n",
       "                                    [0.25, 0.5, 0.0, 0.25],\n",
       "                                    [0.25, 0.5, 0.25, 0.0],\n",
       "                                    [0.25, 0.75, 0.0, 0.0],\n",
       "                                    [0.5, 0.0, 0.0, 0.5],\n",
       "                                    [0.5, 0.0, 0.25, 0.25],\n",
       "                                    [0.5, 0.0, 0.5, 0.0],\n",
       "                                    [0.5, 0.25, 0.0, 0.25],\n",
       "                                    [0.5, 0.25, 0.25, 0.0], ...]},\n",
       "             return_train_score=True)"
      ]
     },
     "execution_count": 98,
     "metadata": {},
     "output_type": "execute_result"
    }
   ],
   "source": [
    "kfold = KFold(n_splits=5, shuffle = True);\n",
    "params = {'weight': weight_list};\n",
    "wavg = AveragingModels(models = (EncapsulatedModel(\"cat\", cbl), EncapsulatedModel(\"lm\", lm),\\\n",
    "                                           EncapsulatedModel(\"svrl\", svrl), EncapsulatedModel(\"svrg\", svrg)));\n",
    "wavg_tuner = GridSearchCV(wavg, params, cv=kfold, return_train_score = True, n_jobs = -1)\n",
    "%time wavg_tuner.fit(front_end, y)\n"
   ]
  },
  {
   "cell_type": "code",
   "execution_count": 99,
   "id": "6bb9136c",
   "metadata": {},
   "outputs": [
    {
     "data": {
      "text/plain": [
       "{'mean_fit_time': array([ 8.38133984,  8.789922  ,  9.3198369 ,  9.57622104,  9.70060158,\n",
       "         9.87131095, 10.01708851, 10.13733077, 10.22488747, 10.31730628,\n",
       "        10.57238808, 10.23775058, 10.24682584, 10.35411496, 10.17739801,\n",
       "        10.28980875, 10.26927161, 10.35892138, 10.33082938, 10.67098694,\n",
       "        10.84643402, 10.68781552, 10.77028394, 10.77516437, 10.36079597,\n",
       "        10.59023819, 10.61912374, 10.37661037, 10.51943655, 10.57576876,\n",
       "        10.45006042, 10.75243893, 10.47809024, 10.52670865,  8.42346668]),\n",
       " 'std_fit_time': array([0.12802281, 0.55608544, 0.11845347, 0.23128803, 0.16617674,\n",
       "        0.15157663, 0.29348415, 0.19045585, 0.1831248 , 0.16849196,\n",
       "        0.16182793, 0.14555943, 0.11703887, 0.14306474, 0.06280567,\n",
       "        0.08011212, 0.33425152, 0.19497848, 0.22478557, 0.50392973,\n",
       "        0.45493117, 0.27703711, 0.20070245, 0.13436062, 0.42149756,\n",
       "        0.22267414, 0.20863985, 0.22314149, 0.17936156, 0.32185996,\n",
       "        0.13729191, 0.14306306, 0.28474413, 0.26641903, 0.69630272]),\n",
       " 'mean_score_time': array([0.46364536, 0.46102891, 0.4716455 , 0.4914156 , 0.51118641,\n",
       "        0.51802459, 0.53442941, 0.53434525, 0.51963615, 0.56193848,\n",
       "        0.59057131, 0.55028515, 0.5680872 , 0.55152807, 0.56809301,\n",
       "        0.55715899, 0.59079728, 0.57634192, 0.58973827, 0.58887987,\n",
       "        0.59601507, 0.6232389 , 0.57594056, 0.56531687, 0.60315337,\n",
       "        0.59599223, 0.58096466, 0.59627757, 0.577457  , 0.58567061,\n",
       "        0.60014   , 0.5740119 , 0.5903204 , 0.5771379 , 0.31410322]),\n",
       " 'std_score_time': array([0.02655487, 0.02112606, 0.01786394, 0.01866096, 0.02719743,\n",
       "        0.0180592 , 0.03718787, 0.04029569, 0.02082984, 0.02536051,\n",
       "        0.03014035, 0.01533208, 0.01626129, 0.03130797, 0.01570387,\n",
       "        0.01924472, 0.02214125, 0.02775533, 0.03079598, 0.01784727,\n",
       "        0.03382003, 0.0266589 , 0.01072433, 0.0198165 , 0.02959224,\n",
       "        0.01144688, 0.01364167, 0.03352463, 0.01543247, 0.02316108,\n",
       "        0.03469464, 0.01093685, 0.02131386, 0.02871123, 0.05998303]),\n",
       " 'param_weight': masked_array(data=[list([0.0, 0.0, 0.0, 1.0]),\n",
       "                    list([0.0, 0.0, 0.25, 0.75]),\n",
       "                    list([0.0, 0.0, 0.5, 0.5]),\n",
       "                    list([0.0, 0.0, 0.75, 0.25]),\n",
       "                    list([0.0, 0.0, 1.0, 0.0]),\n",
       "                    list([0.0, 0.25, 0.0, 0.75]),\n",
       "                    list([0.0, 0.25, 0.25, 0.5]),\n",
       "                    list([0.0, 0.25, 0.5, 0.25]),\n",
       "                    list([0.0, 0.25, 0.75, 0.0]),\n",
       "                    list([0.0, 0.5, 0.0, 0.5]),\n",
       "                    list([0.0, 0.5, 0.25, 0.25]),\n",
       "                    list([0.0, 0.5, 0.5, 0.0]),\n",
       "                    list([0.0, 0.75, 0.0, 0.25]),\n",
       "                    list([0.0, 0.75, 0.25, 0.0]),\n",
       "                    list([0.0, 1.0, 0.0, 0.0]),\n",
       "                    list([0.25, 0.0, 0.0, 0.75]),\n",
       "                    list([0.25, 0.0, 0.25, 0.5]),\n",
       "                    list([0.25, 0.0, 0.5, 0.25]),\n",
       "                    list([0.25, 0.0, 0.75, 0.0]),\n",
       "                    list([0.25, 0.25, 0.0, 0.5]),\n",
       "                    list([0.25, 0.25, 0.25, 0.25]),\n",
       "                    list([0.25, 0.25, 0.5, 0.0]),\n",
       "                    list([0.25, 0.5, 0.0, 0.25]),\n",
       "                    list([0.25, 0.5, 0.25, 0.0]),\n",
       "                    list([0.25, 0.75, 0.0, 0.0]),\n",
       "                    list([0.5, 0.0, 0.0, 0.5]),\n",
       "                    list([0.5, 0.0, 0.25, 0.25]),\n",
       "                    list([0.5, 0.0, 0.5, 0.0]),\n",
       "                    list([0.5, 0.25, 0.0, 0.25]),\n",
       "                    list([0.5, 0.25, 0.25, 0.0]),\n",
       "                    list([0.5, 0.5, 0.0, 0.0]),\n",
       "                    list([0.75, 0.0, 0.0, 0.25]),\n",
       "                    list([0.75, 0.0, 0.25, 0.0]),\n",
       "                    list([0.75, 0.25, 0.0, 0.0]),\n",
       "                    list([1.0, 0.0, 0.0, 0.0])],\n",
       "              mask=[False, False, False, False, False, False, False, False,\n",
       "                    False, False, False, False, False, False, False, False,\n",
       "                    False, False, False, False, False, False, False, False,\n",
       "                    False, False, False, False, False, False, False, False,\n",
       "                    False, False, False],\n",
       "        fill_value='?',\n",
       "             dtype=object),\n",
       " 'params': [{'weight': [0.0, 0.0, 0.0, 1.0]},\n",
       "  {'weight': [0.0, 0.0, 0.25, 0.75]},\n",
       "  {'weight': [0.0, 0.0, 0.5, 0.5]},\n",
       "  {'weight': [0.0, 0.0, 0.75, 0.25]},\n",
       "  {'weight': [0.0, 0.0, 1.0, 0.0]},\n",
       "  {'weight': [0.0, 0.25, 0.0, 0.75]},\n",
       "  {'weight': [0.0, 0.25, 0.25, 0.5]},\n",
       "  {'weight': [0.0, 0.25, 0.5, 0.25]},\n",
       "  {'weight': [0.0, 0.25, 0.75, 0.0]},\n",
       "  {'weight': [0.0, 0.5, 0.0, 0.5]},\n",
       "  {'weight': [0.0, 0.5, 0.25, 0.25]},\n",
       "  {'weight': [0.0, 0.5, 0.5, 0.0]},\n",
       "  {'weight': [0.0, 0.75, 0.0, 0.25]},\n",
       "  {'weight': [0.0, 0.75, 0.25, 0.0]},\n",
       "  {'weight': [0.0, 1.0, 0.0, 0.0]},\n",
       "  {'weight': [0.25, 0.0, 0.0, 0.75]},\n",
       "  {'weight': [0.25, 0.0, 0.25, 0.5]},\n",
       "  {'weight': [0.25, 0.0, 0.5, 0.25]},\n",
       "  {'weight': [0.25, 0.0, 0.75, 0.0]},\n",
       "  {'weight': [0.25, 0.25, 0.0, 0.5]},\n",
       "  {'weight': [0.25, 0.25, 0.25, 0.25]},\n",
       "  {'weight': [0.25, 0.25, 0.5, 0.0]},\n",
       "  {'weight': [0.25, 0.5, 0.0, 0.25]},\n",
       "  {'weight': [0.25, 0.5, 0.25, 0.0]},\n",
       "  {'weight': [0.25, 0.75, 0.0, 0.0]},\n",
       "  {'weight': [0.5, 0.0, 0.0, 0.5]},\n",
       "  {'weight': [0.5, 0.0, 0.25, 0.25]},\n",
       "  {'weight': [0.5, 0.0, 0.5, 0.0]},\n",
       "  {'weight': [0.5, 0.25, 0.0, 0.25]},\n",
       "  {'weight': [0.5, 0.25, 0.25, 0.0]},\n",
       "  {'weight': [0.5, 0.5, 0.0, 0.0]},\n",
       "  {'weight': [0.75, 0.0, 0.0, 0.25]},\n",
       "  {'weight': [0.75, 0.0, 0.25, 0.0]},\n",
       "  {'weight': [0.75, 0.25, 0.0, 0.0]},\n",
       "  {'weight': [1.0, 0.0, 0.0, 0.0]}],\n",
       " 'split0_test_score': array([0.95872472, 0.95751622, 0.95447502, 0.94960111, 0.94289451,\n",
       "        0.95759929, 0.95455926, 0.94968653, 0.9429811 , 0.95463801,\n",
       "        0.94976645, 0.94306219, 0.94984088, 0.94313778, 0.94320788,\n",
       "        0.95938523, 0.95758894, 0.95395994, 0.94849824, 0.95765135,\n",
       "        0.95402352, 0.94856299, 0.95408161, 0.94862225, 0.94867601,\n",
       "        0.95812103, 0.95573694, 0.95152014, 0.95577869, 0.95156306,\n",
       "        0.95160048, 0.95493212, 0.95196022, 0.95198131, 0.94981849]),\n",
       " 'split1_test_score': array([0.94911527, 0.94792143, 0.94494522, 0.94018665, 0.93364573,\n",
       "        0.94799728, 0.94502955, 0.94027946, 0.93374702, 0.94510992,\n",
       "        0.94036831, 0.93384434, 0.94045319, 0.9339377 , 0.93402709,\n",
       "        0.95234724, 0.9509289 , 0.9477282 , 0.94274514, 0.95098194,\n",
       "        0.94778972, 0.94281514, 0.94784728, 0.94288118, 0.94294325,\n",
       "        0.95288209, 0.95123926, 0.94781407, 0.95126949, 0.94785278,\n",
       "        0.94788753, 0.95071983, 0.94885251, 0.94885994, 0.94586047]),\n",
       " 'split2_test_score': array([0.94748062, 0.94465711, 0.94008533, 0.9337653 , 0.92569701,\n",
       "        0.94471003, 0.94013968, 0.93382107, 0.9257542 , 0.94019124,\n",
       "        0.93387405, 0.9258086 , 0.93392424, 0.92586022, 0.92590904,\n",
       "        0.94904966, 0.94550086, 0.94020379, 0.93315847, 0.94552833,\n",
       "        0.94023269, 0.93318879, 0.9402588 , 0.93321632, 0.93324106,\n",
       "        0.947721  , 0.9434469 , 0.93742455, 0.94344893, 0.937428  ,\n",
       "        0.93742865, 0.94349463, 0.93849525, 0.93847182, 0.93637056]),\n",
       " 'split3_test_score': array([0.94995217, 0.94852435, 0.94441126, 0.93761291, 0.9281293 ,\n",
       "        0.9485272 , 0.94441914, 0.93762582, 0.92814724, 0.94442333,\n",
       "        0.93763504, 0.92816149, 0.93764057, 0.92817205, 0.92817891,\n",
       "        0.95228232, 0.95044694, 0.94592628, 0.93872037, 0.95042951,\n",
       "        0.94591389, 0.938713  , 0.9458978 , 0.93870195, 0.9386872 ,\n",
       "        0.95254559, 0.95030264, 0.94537442, 0.95026494, 0.94534175,\n",
       "        0.94530539, 0.95074197, 0.94809146, 0.94803348, 0.94687148]),\n",
       " 'split4_test_score': array([0.94896065, 0.9502983 , 0.94993794, 0.94787954, 0.94412313,\n",
       "        0.9503086 , 0.94994633, 0.94788603, 0.94412771, 0.94995064,\n",
       "        0.94788843, 0.94412821, 0.94788676, 0.94412463, 0.94411696,\n",
       "        0.9494963 , 0.95073362, 0.95027293, 0.94811421, 0.95072045,\n",
       "        0.95025784, 0.94809722, 0.95023868, 0.94807615, 0.94805099,\n",
       "        0.94760734, 0.94874434, 0.94818331, 0.94870769, 0.94814475,\n",
       "        0.94810211, 0.94329378, 0.94433045, 0.94427032, 0.93655562]),\n",
       " 'mean_test_score': array([0.95084669, 0.94978348, 0.94677095, 0.9418091 , 0.93489793,\n",
       "        0.94982848, 0.94681879, 0.94185978, 0.93495145, 0.94686263,\n",
       "        0.94190646, 0.93500097, 0.94194913, 0.93504647, 0.93508798,\n",
       "        0.95251215, 0.95103985, 0.94761823, 0.94224729, 0.95106231,\n",
       "        0.94764353, 0.94227543, 0.94766483, 0.94229957, 0.9423197 ,\n",
       "        0.95177541, 0.94989402, 0.9460633 , 0.94989395, 0.94606607,\n",
       "        0.94606483, 0.94863647, 0.94634598, 0.94632337, 0.94309532]),\n",
       " 'std_test_score': array([0.00401868, 0.00427534, 0.00495946, 0.00604167, 0.00749785,\n",
       "        0.00428629, 0.00496521, 0.00604348, 0.00749688, 0.00497035,\n",
       "        0.00604473, 0.00749541, 0.00604542, 0.00749342, 0.00749091,\n",
       "        0.00369874, 0.00384782, 0.00458505, 0.00581014, 0.00386171,\n",
       "        0.00459287, 0.00581336, 0.0046001 , 0.00581604, 0.00581818,\n",
       "        0.00389605, 0.00397501, 0.00474214, 0.00399012, 0.00475123,\n",
       "        0.00475976, 0.00454734, 0.00461618, 0.00463104, 0.0055695 ]),\n",
       " 'rank_test_score': array([ 5,  9, 16, 30, 35,  8, 15, 29, 34, 14, 28, 33, 27, 32, 31,  1,  4,\n",
       "        13, 26,  3, 12, 25, 11, 24, 23,  2,  6, 21,  7, 19, 20, 10, 17, 18,\n",
       "        22], dtype=int32),\n",
       " 'split0_train_score': array([0.96525855, 0.9613919 , 0.95555486, 0.94774743, 0.93796962,\n",
       "        0.96141053, 0.95557414, 0.94776737, 0.93799022, 0.95558917,\n",
       "        0.94778306, 0.93800656, 0.94779448, 0.93801863, 0.93802645,\n",
       "        0.97157   , 0.96800127, 0.96246217, 0.95495267, 0.968004  ,\n",
       "        0.96246555, 0.95495671, 0.96246467, 0.95495649, 0.95495201,\n",
       "        0.97629365, 0.97302286, 0.96778168, 0.97300968, 0.96776916,\n",
       "        0.96775238, 0.9794295 , 0.97645665, 0.97642757, 0.98097756]),\n",
       " 'split1_train_score': array([0.96600589, 0.96239142, 0.95678442, 0.94918488, 0.93959282,\n",
       "        0.96239218, 0.95678672, 0.94918873, 0.93959821, 0.9567854 ,\n",
       "        0.94918895, 0.93959997, 0.94918554, 0.93959811, 0.93959261,\n",
       "        0.97177105, 0.96837024, 0.96297689, 0.95559101, 0.9683614 ,\n",
       "        0.9629696 , 0.95558526, 0.96295868, 0.95557589, 0.95556289,\n",
       "        0.97608764, 0.97290048, 0.96772079, 0.97288206, 0.96770391,\n",
       "        0.9676834 , 0.97895567, 0.97598216, 0.97595415, 0.98037512]),\n",
       " 'split2_train_score': array([0.96686781, 0.96349995, 0.95810604, 0.95068608, 0.94124007,\n",
       "        0.96351232, 0.95812076, 0.95070315, 0.94125949, 0.95813246,\n",
       "        0.9507172 , 0.94127589, 0.95072823, 0.94128927, 0.94129963,\n",
       "        0.97247727, 0.9692377 , 0.96397207, 0.9566804 , 0.96923858,\n",
       "        0.9639753 , 0.95668598, 0.96397551, 0.95668854, 0.95668808,\n",
       "        0.97671479, 0.97360351, 0.96846617, 0.9735929 , 0.96845791,\n",
       "        0.96844663, 0.97958038, 0.97659738, 0.97657528, 0.98107403]),\n",
       " 'split3_train_score': array([0.96685317, 0.96335498, 0.95797441, 0.95071145, 0.94156612,\n",
       "        0.96336453, 0.95798474, 0.95072257, 0.94157802, 0.95799223,\n",
       "        0.95073084, 0.94158707, 0.95073627, 0.94159328, 0.94159665,\n",
       "        0.97250274, 0.96921116, 0.9640372 , 0.95698086, 0.9692093 ,\n",
       "        0.96403612, 0.95698056, 0.96403219, 0.95697741, 0.95697142,\n",
       "        0.97671843, 0.97363346, 0.96866612, 0.97362018, 0.96865361,\n",
       "        0.96863826, 0.97950024, 0.97662188, 0.97659717, 0.98084816]),\n",
       " 'split4_train_score': array([0.96760886, 0.96355376, 0.95723461, 0.94865141, 0.93780416,\n",
       "        0.96357918, 0.95726156, 0.94867989, 0.93783416, 0.95728461,\n",
       "        0.94870446, 0.93786027, 0.94872515, 0.93788249, 0.9379008 ,\n",
       "        0.97312748, 0.96935144, 0.96331136, 0.95500722, 0.96936084,\n",
       "        0.96332228, 0.95501967, 0.96332931, 0.95502823, 0.9550329 ,\n",
       "        0.97724676, 0.97374979, 0.96798877, 0.97374317, 0.96798368,\n",
       "        0.96797469, 0.97996672, 0.97674881, 0.97672617, 0.98128735]),\n",
       " 'mean_train_score': array([0.96651886, 0.9628384 , 0.95713087, 0.94939625, 0.93963456,\n",
       "        0.96285175, 0.95714558, 0.94941234, 0.93965202, 0.95715677,\n",
       "        0.9494249 , 0.93966595, 0.94943393, 0.93967636, 0.93968323,\n",
       "        0.97228971, 0.96883436, 0.96335194, 0.95584243, 0.96883482,\n",
       "        0.96335377, 0.95584564, 0.96335207, 0.95584531, 0.95584146,\n",
       "        0.97661226, 0.97338202, 0.96812471, 0.9733696 , 0.96811365,\n",
       "        0.96809907, 0.9794865 , 0.97648138, 0.97645607, 0.98091244]),\n",
       " 'std_train_score': array([0.00080909, 0.00083766, 0.00092489, 0.00115858, 0.00157688,\n",
       "        0.00083866, 0.00092378, 0.00115545, 0.00157242, 0.00092321,\n",
       "        0.0011529 , 0.0015685 , 0.00115093, 0.00156514, 0.00156231,\n",
       "        0.00056025, 0.00054433, 0.00059802, 0.0008427 , 0.00054669,\n",
       "        0.00059823, 0.00084076, 0.000599  , 0.00083939, 0.00083858,\n",
       "        0.00040028, 0.00034883, 0.00037657, 0.00035198, 0.00037776,\n",
       "        0.00037946, 0.00032393, 0.00026629, 0.00026826, 0.00030455])}"
      ]
     },
     "execution_count": 99,
     "metadata": {},
     "output_type": "execute_result"
    }
   ],
   "source": [
    "wavg_tuner.cv_results_"
   ]
  },
  {
   "cell_type": "code",
   "execution_count": 100,
   "id": "3062be80",
   "metadata": {},
   "outputs": [
    {
     "data": {
      "text/plain": [
       "0.952512149593192"
      ]
     },
     "execution_count": 100,
     "metadata": {},
     "output_type": "execute_result"
    }
   ],
   "source": [
    "wavg_tuner.best_score_"
   ]
  }
 ],
 "metadata": {
  "kernelspec": {
   "display_name": "Python 3 (ipykernel)",
   "language": "python",
   "name": "python3"
  },
  "language_info": {
   "codemirror_mode": {
    "name": "ipython",
    "version": 3
   },
   "file_extension": ".py",
   "mimetype": "text/x-python",
   "name": "python",
   "nbconvert_exporter": "python",
   "pygments_lexer": "ipython3",
   "version": "3.9.6"
  }
 },
 "nbformat": 4,
 "nbformat_minor": 5
}
